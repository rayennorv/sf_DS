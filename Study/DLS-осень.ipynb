{
 "cells": [
  {
   "cell_type": "code",
   "execution_count": 1,
   "id": "7aff41f2",
   "metadata": {},
   "outputs": [
    {
     "data": {
      "text/plain": [
       "5"
      ]
     },
     "execution_count": 1,
     "metadata": {},
     "output_type": "execute_result"
    }
   ],
   "source": [
    "True + 4"
   ]
  },
  {
   "cell_type": "code",
   "execution_count": 2,
   "id": "570da922",
   "metadata": {},
   "outputs": [
    {
     "ename": "IndexError",
     "evalue": "list index out of range",
     "output_type": "error",
     "traceback": [
      "\u001b[1;31m---------------------------------------------------------------------------\u001b[0m",
      "\u001b[1;31mIndexError\u001b[0m                                Traceback (most recent call last)",
      "Input \u001b[1;32mIn [2]\u001b[0m, in \u001b[0;36m<cell line: 1>\u001b[1;34m()\u001b[0m\n\u001b[1;32m----> 1\u001b[0m \u001b[38;5;28;43mlist\u001b[39;49m\u001b[43m(\u001b[49m\u001b[38;5;28;43mrange\u001b[39;49m\u001b[43m(\u001b[49m\u001b[38;5;241;43m3\u001b[39;49m\u001b[43m)\u001b[49m\u001b[43m)\u001b[49m\u001b[43m[\u001b[49m\u001b[38;5;241;43m3\u001b[39;49m\u001b[43m]\u001b[49m\n",
      "\u001b[1;31mIndexError\u001b[0m: list index out of range"
     ]
    }
   ],
   "source": [
    "list(range(3))[3]"
   ]
  },
  {
   "cell_type": "code",
   "execution_count": 3,
   "id": "9f1da27d",
   "metadata": {},
   "outputs": [
    {
     "name": "stdout",
     "output_type": "stream",
     "text": [
      "o\n"
     ]
    }
   ],
   "source": [
    "text = 'hello'\n",
    "print(text[4:100])"
   ]
  },
  {
   "cell_type": "code",
   "execution_count": 4,
   "id": "cfe79c2f",
   "metadata": {},
   "outputs": [
    {
     "name": "stdout",
     "output_type": "stream",
     "text": [
      "9\n"
     ]
    }
   ],
   "source": [
    "def square(x):\n",
    "    return x ** 2\n",
    "\n",
    "numbers = [1, 2, 3, 4]\n",
    "somthing = list(map(lambda x: square(x), numbers))\n",
    "print(somthing[2])"
   ]
  },
  {
   "cell_type": "markdown",
   "id": "bddb3549",
   "metadata": {},
   "source": [
    "Реализуйте функцию almost_double_factorial(n), вычисляющую произведение всех нечётных натуральных чисел, не превосходящих n.\n",
    "В качестве аргумента ей передаётся натуральное (ноль -- натуральное) число n ⩽100.\n",
    "\n",
    "Возвращаемое значение - вычисленное произведение.\n",
    "\n",
    "Комментарий. В случае, если n = 0, требуется вернуть 1."
   ]
  },
  {
   "cell_type": "code",
   "execution_count": 38,
   "id": "96cc69c4",
   "metadata": {},
   "outputs": [
    {
     "name": "stdout",
     "output_type": "stream",
     "text": [
      "7905853580625\n"
     ]
    }
   ],
   "source": [
    "def almost_double_factorial(n):\n",
    "    summ = 1\n",
    "    for i in list(range(n + 1)):\n",
    "        if i == 0:\n",
    "            i = 1\n",
    "        if i % 2 != 0 and i <= n:\n",
    "            summ *= i\n",
    "    return summ\n",
    "\n",
    "print(almost_double_factorial(25))"
   ]
  },
  {
   "cell_type": "code",
   "execution_count": 37,
   "id": "2ae90af6",
   "metadata": {},
   "outputs": [
    {
     "name": "stdout",
     "output_type": "stream",
     "text": [
      "15511210043330985984000000\n"
     ]
    }
   ],
   "source": [
    "n = 25\n",
    "sum_n = 1\n",
    "for i in list(range(n + 1)):\n",
    "    if i == 0:\n",
    "        i = 1\n",
    "    sum_n *= i\n",
    "print (sum_n)"
   ]
  },
  {
   "cell_type": "code",
   "execution_count": 55,
   "id": "8d32e95e",
   "metadata": {},
   "outputs": [
    {
     "name": "stdout",
     "output_type": "stream",
     "text": [
      "[-1, 2, -3, 4, -5]\n"
     ]
    }
   ],
   "source": [
    "x = [1, 2, 3, 4, 5]\n",
    "x[::2] = [-1, -3, -5]\n",
    "print (x)"
   ]
  },
  {
   "cell_type": "code",
   "execution_count": 60,
   "id": "9914c503",
   "metadata": {},
   "outputs": [
    {
     "data": {
      "text/plain": [
       "[5, 6, 15, 29]"
      ]
     },
     "execution_count": 60,
     "metadata": {},
     "output_type": "execute_result"
    }
   ],
   "source": [
    "def cumsum_and_erase(A, erase=1):\n",
    "    B = []\n",
    "    sum_a=0\n",
    "    for i in A:\n",
    "        sum_a += i\n",
    "        if sum_a != erase:\n",
    "            B.append(sum_a)\n",
    "    return B\n",
    "\n",
    "A = [5, 1, 4, 5, 14]\n",
    "cumsum_and_erase(A, erase=10)"
   ]
  },
  {
   "cell_type": "code",
   "execution_count": 73,
   "id": "ea5f498c",
   "metadata": {},
   "outputs": [
    {
     "data": {
      "text/plain": [
       "['thousand devils', 'My name is', 'Room costs']"
      ]
     },
     "execution_count": 73,
     "metadata": {},
     "output_type": "execute_result"
    }
   ],
   "source": [
    "sentences = ['1 thousand devils', 'My name is 9Pasha', 'Room #125 costs $100']\n",
    "\n",
    "def process(sentences):\n",
    "    result = []\n",
    "    for i in sentences:\n",
    "        s = i.split()\n",
    "        result.append(' '.join([x for x in s if x.isalpha()]))\n",
    "\n",
    "    return result\n",
    "\n",
    "process(sentences)"
   ]
  },
  {
   "cell_type": "code",
   "execution_count": 77,
   "id": "13380059",
   "metadata": {},
   "outputs": [
    {
     "name": "stdout",
     "output_type": "stream",
     "text": [
      "['1', 'thousand', 'devils']\n",
      "['My', 'name', 'is', '9Pasha']\n",
      "['Room', '#125', 'costs', '$100']\n",
      "\n"
     ]
    }
   ],
   "source": [
    "sentences = ['1 thousand devils', 'My name is 9Pasha', 'Room #125 costs $100']\n",
    "for i in sentences:\n",
    "    a = i.split()\n",
    "    print(a)\n",
    "\n",
    "print()"
   ]
  },
  {
   "cell_type": "code",
   "execution_count": null,
   "id": "0957db3c",
   "metadata": {},
   "outputs": [],
   "source": []
  }
 ],
 "metadata": {
  "kernelspec": {
   "display_name": "Python 3 (ipykernel)",
   "language": "python",
   "name": "python3"
  },
  "language_info": {
   "codemirror_mode": {
    "name": "ipython",
    "version": 3
   },
   "file_extension": ".py",
   "mimetype": "text/x-python",
   "name": "python",
   "nbconvert_exporter": "python",
   "pygments_lexer": "ipython3",
   "version": "3.10.6"
  }
 },
 "nbformat": 4,
 "nbformat_minor": 5
}
