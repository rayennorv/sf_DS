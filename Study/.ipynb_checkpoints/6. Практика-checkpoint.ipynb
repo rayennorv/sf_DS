{
 "cells": [
  {
   "cell_type": "markdown",
   "id": "953cf7a8",
   "metadata": {},
   "source": [
    "### Задание 1.5\n",
    "\n",
    "Посчитайте количество символов в следующей строке:\n",
    "\n",
    "python_string = 'Hello! My name is Python. I will help you to analyze some data'\n",
    "\n",
    "Возведите это число в третью степень. В качестве ответа запишите итоговое число."
   ]
  },
  {
   "cell_type": "code",
   "execution_count": 1,
   "id": "9b171e1c",
   "metadata": {},
   "outputs": [
    {
     "name": "stdout",
     "output_type": "stream",
     "text": [
      "238328\n"
     ]
    }
   ],
   "source": [
    "python_string = 'Hello! My name is Python. I will help you to analyze some data'\n",
    "a = len(python_string)\n",
    "a **= 3\n",
    "print(a)"
   ]
  },
  {
   "cell_type": "markdown",
   "id": "939581f7",
   "metadata": {},
   "source": [
    "### Задание 1.6\n",
    "\n",
    "С помощью среза выведите на экран слово Python из строки в задании 1.5. В ответ запишите получившуюся команду (без функции print())."
   ]
  },
  {
   "cell_type": "code",
   "execution_count": 2,
   "id": "848dde7d",
   "metadata": {},
   "outputs": [
    {
     "name": "stdout",
     "output_type": "stream",
     "text": [
      "Python\n"
     ]
    }
   ],
   "source": [
    "python_string = 'Hello! My name is Python. I will help you to analyze some data'\n",
    "print(python_string[18:24])"
   ]
  },
  {
   "cell_type": "markdown",
   "id": "efb47410",
   "metadata": {},
   "source": [
    "### Задание 1.7\n",
    "\n",
    "Возьмите строку python_string из задания 1.5, избавьтесь от знаков препинания в ней. Посчитайте количество слов в строке и запишите это число в ответ."
   ]
  },
  {
   "cell_type": "code",
   "execution_count": 9,
   "id": "e3a17f2b",
   "metadata": {},
   "outputs": [
    {
     "name": "stdout",
     "output_type": "stream",
     "text": [
      "['Hello', 'My', 'name', 'is', 'Python', 'I', 'will', 'help', 'you', 'to', 'analyze', 'some', 'data']\n",
      "13\n"
     ]
    }
   ],
   "source": [
    "python_string = 'Hello! My name is Python. I will help you to analyze some data'\n",
    "python_string = python_string.replace('!', '')\n",
    "python_string = python_string.replace('.', '')\n",
    "str_list = python_string.split()\n",
    "print(str_list)\n",
    "print(len(str_list))"
   ]
  },
  {
   "cell_type": "markdown",
   "id": "a12bf70d",
   "metadata": {},
   "source": [
    "### Задание 1.8\n",
    "\n",
    "Напишите функцию change_password, которая должна возвращать отформатированную строку в следующем виде:\n",
    "\n",
    "User user_name changed password to new_password\n",
    "\n",
    "Мы уже сделали заготовку функции — вам осталось только задать строку.\n",
    "\n",
    "Переменные, которые надо использовать, указаны в круглых скобках после имени функции (user_name — имя пользователя, new_password — новый пароль).\n",
    "\n",
    "Запишите форматированную строку вместо знаков вопроса.\n",
    "\n",
    "Обязательное условие: задача должна быть решена с использованием метода format."
   ]
  },
  {
   "cell_type": "code",
   "execution_count": 10,
   "id": "94074392",
   "metadata": {},
   "outputs": [
    {
     "name": "stdout",
     "output_type": "stream",
     "text": [
      "User Lena changed password to qwerty\n"
     ]
    }
   ],
   "source": [
    "def change_password(user_name, new_password):\n",
    "    return f'User {user_name} changed password to {new_password}'\n",
    "\n",
    "print(change_password(\"Lena\", \"qwerty\"))\n"
   ]
  },
  {
   "cell_type": "markdown",
   "id": "5a418c66",
   "metadata": {},
   "source": [
    "### Задание 2.5\n",
    "\n",
    "Напишите функцию get_unique_words(), которая избавляется от знаков препинания в тексте и возвращает упорядоченный список (слова расположены по алфавиту) из уникальных (неповторяющихся) слов. Учтите, что слова, написанные в разных регистрах считаются одним и тем же словом.\n",
    "\n",
    "Можно использовать готовый список со знаками препинания:\n",
    "\n",
    "punctuation_list = ['.', ',', ';', ':', '...', '!', '?', '-', '\"', '(', ')']\n",
    "Текст, который можно использовать в качестве примера:\n",
    "\n",
    "text_example = \"A beginning is the time for taking the most delicate care that the balances are correct. This every sister of the Bene Gesserit knows. To begin your study of the life of Muad'Dib, then take care that you first place him in his time: born in the 57th year of the Padishah Emperor, Shaddam IV. And take the most special care that you locate Muad'Dib in his place: the planet Arrakis. Do not be deceived by the fact that he was born on Caladan and lived his first fifteen years there. Arrakis, the planet known as Dune, is forever his place.\""
   ]
  },
  {
   "cell_type": "code",
   "execution_count": 5,
   "id": "bd08a153",
   "metadata": {},
   "outputs": [
    {
     "name": "stdout",
     "output_type": "stream",
     "text": [
      "['57th', 'a', 'and', 'are', 'arrakis', 'as', 'balances', 'be', 'begin', 'beginning', 'bene', 'born', 'by', 'caladan', 'care', 'correct', 'deceived', 'delicate', 'do', 'dune', 'emperor', 'every', 'fact', 'fifteen', 'first', 'for', 'forever', 'gesserit', 'he', 'him', 'his', 'in', 'is', 'iv', 'known', 'knows', 'life', 'lived', 'locate', 'most', \"muad'dib\", 'not', 'of', 'on', 'padishah', 'place', 'planet', 'shaddam', 'sister', 'special', 'study', 'take', 'taking', 'that', 'the', 'then', 'there', 'this', 'time', 'to', 'was', 'year', 'years', 'you', 'your']\n"
     ]
    }
   ],
   "source": [
    "punctuation_list = ['.', ',', ';', ':', '...', '!', '?', '-', '\"', '(', ')']\n",
    "text_example = \"A beginning is the time for taking the most delicate care that the balances are correct. This every sister of the Bene Gesserit knows. To begin your study of the life of Muad'Dib, then take care that you first place him in his time: born in the 57th year of the Padishah Emperor, Shaddam IV. And take the most special care that you locate Muad'Dib in his place: the planet Arrakis. Do not be deceived by the fact that he was born on Caladan and lived his first fifteen years there. Arrakis, the planet known as Dune, is forever his place.\"\n",
    "\n",
    "def get_unique_words(text):\n",
    "    clean_text = text.lower()\n",
    "    for mark in punctuation_list:\n",
    "        clean_text = clean_text.replace(mark, '')\n",
    "    w_list = clean_text.split()\n",
    "    w_set = list((set(w_list)))\n",
    "    w_set.sort()\n",
    "    return w_set\n",
    "\n",
    "print(get_unique_words(text_example))"
   ]
  },
  {
   "cell_type": "markdown",
   "id": "2abb31a6",
   "metadata": {},
   "source": [
    "### Задание 2.6\n",
    "\n",
    "Модифицируем предыдущее задание.\n",
    "\n",
    "Необходимо написать функцию get_most_frequent_word(), которая возвращает самое часто встречающееся слово в тексте. Не забудьте очистить тест от знаков пунктуации и привести текст к единому регистру (слова в верхнем и нижнем регистре считаются одним и тем же словом).\n",
    "\n",
    "Для решения можно использовать функцию из предыдущего задания."
   ]
  },
  {
   "cell_type": "code",
   "execution_count": 20,
   "id": "cee00c21",
   "metadata": {},
   "outputs": [
    {
     "name": "stdout",
     "output_type": "stream",
     "text": [
      "the\n"
     ]
    }
   ],
   "source": [
    "punctuation_list = ['.', ',', ';', ':', '...', '!', '?', '-', '\"', '(', ')']\n",
    "text_example = \"A beginning is the time for taking the most delicate care that the balances are correct. This every sister of the Bene Gesserit knows. To begin your study of the life of Muad'Dib, then take care that you first place him in his time: born in the 57th year of the Padishah Emperor, Shaddam IV. And take the most special care that you locate Muad'Dib in his place: the planet Arrakis. Do not be deceived by the fact that he was born on Caladan and lived his first fifteen years there. Arrakis, the planet known as Dune, is forever his place.\"\n",
    "\n",
    "def get_most_frequent_word(text):\n",
    "    def get_unique_words(text):\n",
    "        text = text.lower()\n",
    "        for mark in punctuation_list:\n",
    "            text = text.replace(mark, '')\n",
    "        text = text.split()\n",
    "        return text\n",
    "    count = {}\n",
    "    for e in get_unique_words(text):\n",
    "        if e in count:\n",
    "            count[e] += 1\n",
    "        else:\n",
    "            count[e] = 1\n",
    "    return max(count, key = count.get)\n",
    "\n",
    "print(get_most_frequent_word(text_example))"
   ]
  },
  {
   "cell_type": "markdown",
   "id": "8bbc8c59",
   "metadata": {},
   "source": [
    "### Задание 2.7\n",
    "\n",
    "Разработайте функцию holes_count(), которая подсчитывает количество отверстий в заданном числе. \n",
    "\n",
    "Например, в цифре 8 два отверстия, в цифре 9 — одно. В числе 146 два отверстия."
   ]
  },
  {
   "cell_type": "code",
   "execution_count": 21,
   "id": "6319b87f",
   "metadata": {},
   "outputs": [
    {
     "name": "stdout",
     "output_type": "stream",
     "text": [
      "0\n",
      "8\n"
     ]
    }
   ],
   "source": [
    "def holes_count(number):\n",
    "    dict_holes = {'0':1, '4': 1, '6':1, '8':2, '9':1}\n",
    "    str_number = str(number)\n",
    "    holes_count = 0\n",
    "    for i in str_number:\n",
    "        holes_count += dict_holes.get(i, 0)\n",
    "    return holes_count\n",
    "\n",
    "print(holes_count(123))\n",
    "print(holes_count(8888))"
   ]
  },
  {
   "cell_type": "markdown",
   "id": "9b11208e",
   "metadata": {},
   "source": [
    "### Задание 2.8\n",
    "\n",
    "Напишите программу, которая запрашивает у пользователя следующие данные : username, age, email о нескольких пользователях и собирает эти данные в структуру:\n",
    "\n",
    "[(1, {'username': user1, 'age': age1, 'email': email1}), \n",
    "(2, {'username': user2, 'age': age2, 'email': email2}), ... ]\n",
    "Первый элемент каждого кортежа — порядковый номер пользователя, второй элемент — словарь с данными.\n",
    "\n",
    "В итоге должен получиться список с кортежами.\n",
    "\n",
    "Далее необходимо провести аналитику (собрать данные о пользователях в словарь)\n",
    "\n",
    "{'username': [user1, user2, ...],\n",
    "'age': [age1, age2, ...],\n",
    "'email': [email1, email2, ...]}\n",
    "и вывести эту аналитику на экран."
   ]
  },
  {
   "cell_type": "code",
   "execution_count": 27,
   "id": "700e2d9e",
   "metadata": {},
   "outputs": [
    {
     "name": "stdout",
     "output_type": "stream",
     "text": [
      "Enter number of users: 2\n",
      "Enter username: kate\n",
      "Enter user age: 19\n",
      "Enter user email: kk\n",
      "Enter username: max\n",
      "Enter user age: 12\n",
      "Enter user email: mm\n",
      "[(1, {'username': 'kate', 'age': 19, 'email': 'kk'}), (2, {'username': 'max', 'age': 12, 'email': 'mm'})]\n",
      "{'username': ['kate', 'max'], 'age': [19, 12], 'email': ['kk', 'mm']}\n"
     ]
    }
   ],
   "source": [
    "num_users = int(input('Enter number of users: '))\n",
    "user_analytics = {'username': [], 'age':[], 'email':[]}\n",
    "user_list = []\n",
    "\n",
    "for i in range (num_users):\n",
    "    user = {}\n",
    "    user['username'] = input('Enter username: ')\n",
    "    user['age'] = int(input('Enter user age: '))\n",
    "    user['email'] = input('Enter user email: ')\n",
    "    user_analytics['username'].append(user['username'])\n",
    "    user_analytics['age'].append(user['age'])\n",
    "    user_analytics['email'].append(user['email'])\n",
    "    user_list.append((i + 1, user))\n",
    "    \n",
    "print(user_list)\n",
    "print(user_analytics)"
   ]
  },
  {
   "cell_type": "code",
   "execution_count": null,
   "id": "535e0961",
   "metadata": {},
   "outputs": [],
   "source": []
  }
 ],
 "metadata": {
  "kernelspec": {
   "display_name": "Python 3 (ipykernel)",
   "language": "python",
   "name": "python3"
  },
  "language_info": {
   "codemirror_mode": {
    "name": "ipython",
    "version": 3
   },
   "file_extension": ".py",
   "mimetype": "text/x-python",
   "name": "python",
   "nbconvert_exporter": "python",
   "pygments_lexer": "ipython3",
   "version": "3.9.12"
  }
 },
 "nbformat": 4,
 "nbformat_minor": 5
}
