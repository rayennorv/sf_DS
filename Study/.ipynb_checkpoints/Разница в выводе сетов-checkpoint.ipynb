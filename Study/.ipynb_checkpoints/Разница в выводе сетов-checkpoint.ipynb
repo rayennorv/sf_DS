{
 "cells": [
  {
   "cell_type": "code",
   "execution_count": 4,
   "id": "6c47d143",
   "metadata": {},
   "outputs": [
    {
     "name": "stdout",
     "output_type": "stream",
     "text": [
      "<class 'set'>\n",
      "{'hello'}\n"
     ]
    }
   ],
   "source": [
    "s1={'hello'}\n",
    "print(type(s1))\n",
    "print(s1)"
   ]
  },
  {
   "cell_type": "code",
   "execution_count": 5,
   "id": "f587fe71",
   "metadata": {},
   "outputs": [
    {
     "name": "stdout",
     "output_type": "stream",
     "text": [
      "<class 'set'>\n",
      "{'h', 'o', 'l', 'e'}\n"
     ]
    }
   ],
   "source": [
    "s1=set('hello')\n",
    "print(type(s1))\n",
    "print(s1)"
   ]
  },
  {
   "cell_type": "markdown",
   "id": "e73659c4",
   "metadata": {},
   "source": [
    "Фигурные скобки для создания множества вручную, а Set() для приведения к множеству уже имеющейся последовательности."
   ]
  }
 ],
 "metadata": {
  "kernelspec": {
   "display_name": "Python 3 (ipykernel)",
   "language": "python",
   "name": "python3"
  },
  "language_info": {
   "codemirror_mode": {
    "name": "ipython",
    "version": 3
   },
   "file_extension": ".py",
   "mimetype": "text/x-python",
   "name": "python",
   "nbconvert_exporter": "python",
   "pygments_lexer": "ipython3",
   "version": "3.9.7"
  }
 },
 "nbformat": 4,
 "nbformat_minor": 5
}
