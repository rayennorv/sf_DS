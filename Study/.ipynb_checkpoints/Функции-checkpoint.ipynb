{
 "cells": [
  {
   "cell_type": "code",
   "execution_count": 1,
   "id": "ae7660ae",
   "metadata": {},
   "outputs": [
    {
     "name": "stdout",
     "output_type": "stream",
     "text": [
      "Hello world!\n",
      "Hello world!\n"
     ]
    }
   ],
   "source": [
    "def first_function():\n",
    "    print(\"Hello world!\")\n",
    "first_function()\n",
    "first_function()"
   ]
  },
  {
   "cell_type": "markdown",
   "id": "0b098e01",
   "metadata": {},
   "source": [
    "### Вызвать ошибку, когда понимаем, что так быть не должно"
   ]
  },
  {
   "cell_type": "code",
   "execution_count": 8,
   "id": "63af623c",
   "metadata": {},
   "outputs": [
    {
     "data": {
      "text/plain": [
       "-0.25"
      ]
     },
     "execution_count": 8,
     "metadata": {},
     "output_type": "execute_result"
    }
   ],
   "source": [
    "def get_time(distance, speed):\n",
    "    result = distance / speed\n",
    "    return result\n",
    "\n",
    "get_time(-25, 100)"
   ]
  },
  {
   "cell_type": "code",
   "execution_count": 7,
   "id": "955aa6ad",
   "metadata": {},
   "outputs": [
    {
     "ename": "ValueError",
     "evalue": "Distance or speed cant be below 0!",
     "output_type": "error",
     "traceback": [
      "\u001b[1;31m---------------------------------------------------------------------------\u001b[0m",
      "\u001b[1;31mValueError\u001b[0m                                Traceback (most recent call last)",
      "Input \u001b[1;32mIn [7]\u001b[0m, in \u001b[0;36m<cell line: 7>\u001b[1;34m()\u001b[0m\n\u001b[0;32m      4\u001b[0m     result \u001b[38;5;241m=\u001b[39m distance \u001b[38;5;241m/\u001b[39m speed\n\u001b[0;32m      5\u001b[0m     \u001b[38;5;28;01mreturn\u001b[39;00m result\n\u001b[1;32m----> 7\u001b[0m \u001b[43mget_time\u001b[49m\u001b[43m(\u001b[49m\u001b[38;5;241;43m-\u001b[39;49m\u001b[38;5;241;43m25\u001b[39;49m\u001b[43m,\u001b[49m\u001b[43m \u001b[49m\u001b[38;5;241;43m100\u001b[39;49m\u001b[43m)\u001b[49m\n",
      "Input \u001b[1;32mIn [7]\u001b[0m, in \u001b[0;36mget_time\u001b[1;34m(distance, speed)\u001b[0m\n\u001b[0;32m      1\u001b[0m \u001b[38;5;28;01mdef\u001b[39;00m \u001b[38;5;21mget_time\u001b[39m(distance, speed):\n\u001b[0;32m      2\u001b[0m     \u001b[38;5;28;01mif\u001b[39;00m distance \u001b[38;5;241m<\u001b[39m \u001b[38;5;241m0\u001b[39m \u001b[38;5;129;01mor\u001b[39;00m speed \u001b[38;5;241m<\u001b[39m \u001b[38;5;241m0\u001b[39m:\n\u001b[1;32m----> 3\u001b[0m         \u001b[38;5;28;01mraise\u001b[39;00m \u001b[38;5;167;01mValueError\u001b[39;00m(\u001b[38;5;124m'\u001b[39m\u001b[38;5;124mDistance or speed cant be below 0!\u001b[39m\u001b[38;5;124m'\u001b[39m)\n\u001b[0;32m      4\u001b[0m     result \u001b[38;5;241m=\u001b[39m distance \u001b[38;5;241m/\u001b[39m speed\n\u001b[0;32m      5\u001b[0m     \u001b[38;5;28;01mreturn\u001b[39;00m result\n",
      "\u001b[1;31mValueError\u001b[0m: Distance or speed cant be below 0!"
     ]
    }
   ],
   "source": [
    "def get_time(distance, speed):\n",
    "    if distance < 0 or speed < 0:\n",
    "        raise ValueError('Distance or speed cant be below 0!')\n",
    "    result = distance / speed\n",
    "    return result\n",
    "\n",
    "get_time(-25, 100)"
   ]
  },
  {
   "cell_type": "markdown",
   "id": "2c1b10bd",
   "metadata": {},
   "source": [
    "Попробуйте добавить в новую функцию get_time из примера выше проверку скорости на равенство нулю. Если скорость равна нулю, верните ValueError с сообщением \"Speed cannot be equal to 0!\".\n",
    "\n",
    "Вы можете проверить своё решение, вызвав функцию get_time:"
   ]
  },
  {
   "cell_type": "code",
   "execution_count": 9,
   "id": "51c00a3f",
   "metadata": {},
   "outputs": [
    {
     "ename": "ValueError",
     "evalue": "Speed cant be equal to 0!",
     "output_type": "error",
     "traceback": [
      "\u001b[1;31m---------------------------------------------------------------------------\u001b[0m",
      "\u001b[1;31mValueError\u001b[0m                                Traceback (most recent call last)",
      "Input \u001b[1;32mIn [9]\u001b[0m, in \u001b[0;36m<cell line: 7>\u001b[1;34m()\u001b[0m\n\u001b[0;32m      4\u001b[0m     result \u001b[38;5;241m=\u001b[39m distance \u001b[38;5;241m/\u001b[39m speed\n\u001b[0;32m      5\u001b[0m     \u001b[38;5;28;01mreturn\u001b[39;00m result\n\u001b[1;32m----> 7\u001b[0m \u001b[43mget_time\u001b[49m\u001b[43m(\u001b[49m\u001b[38;5;241;43m100\u001b[39;49m\u001b[43m,\u001b[49m\u001b[43m \u001b[49m\u001b[38;5;241;43m0\u001b[39;49m\u001b[43m)\u001b[49m\n",
      "Input \u001b[1;32mIn [9]\u001b[0m, in \u001b[0;36mget_time\u001b[1;34m(distance, speed)\u001b[0m\n\u001b[0;32m      1\u001b[0m \u001b[38;5;28;01mdef\u001b[39;00m \u001b[38;5;21mget_time\u001b[39m(distance, speed):\n\u001b[0;32m      2\u001b[0m     \u001b[38;5;28;01mif\u001b[39;00m speed \u001b[38;5;241m==\u001b[39m \u001b[38;5;241m0\u001b[39m:\n\u001b[1;32m----> 3\u001b[0m         \u001b[38;5;28;01mraise\u001b[39;00m \u001b[38;5;167;01mValueError\u001b[39;00m(\u001b[38;5;124m'\u001b[39m\u001b[38;5;124mSpeed cant be equal to 0!\u001b[39m\u001b[38;5;124m'\u001b[39m)\n\u001b[0;32m      4\u001b[0m     result \u001b[38;5;241m=\u001b[39m distance \u001b[38;5;241m/\u001b[39m speed\n\u001b[0;32m      5\u001b[0m     \u001b[38;5;28;01mreturn\u001b[39;00m result\n",
      "\u001b[1;31mValueError\u001b[0m: Speed cant be equal to 0!"
     ]
    }
   ],
   "source": [
    "def get_time(distance, speed):\n",
    "    if speed == 0:\n",
    "        raise ValueError('Speed cant be equal to 0!')\n",
    "    result = distance / speed\n",
    "    return result\n",
    "\n",
    "get_time(100, 0)"
   ]
  },
  {
   "cell_type": "markdown",
   "id": "9b1cbf6c",
   "metadata": {},
   "source": [
    "### Аргументы по умолчанию"
   ]
  },
  {
   "cell_type": "code",
   "execution_count": 10,
   "id": "55f75213",
   "metadata": {},
   "outputs": [
    {
     "name": "stdout",
     "output_type": "stream",
     "text": [
      "9.0\n"
     ]
    }
   ],
   "source": [
    "def root(value, n = 2):\n",
    "    result = value ** (1/n)\n",
    "    return result\n",
    "\n",
    "print(root(81))"
   ]
  },
  {
   "cell_type": "code",
   "execution_count": 12,
   "id": "1f4c9898",
   "metadata": {},
   "outputs": [
    {
     "ename": "ValueError",
     "evalue": "Invalid Mark!",
     "output_type": "error",
     "traceback": [
      "\u001b[1;31m---------------------------------------------------------------------------\u001b[0m",
      "\u001b[1;31mValueError\u001b[0m                                Traceback (most recent call last)",
      "Input \u001b[1;32mIn [12]\u001b[0m, in \u001b[0;36m<cell line: 9>\u001b[1;34m()\u001b[0m\n\u001b[0;32m      6\u001b[0m     journal[name] \u001b[38;5;241m=\u001b[39m mark\n\u001b[0;32m      7\u001b[0m     \u001b[38;5;28;01mreturn\u001b[39;00m journal\n\u001b[1;32m----> 9\u001b[0m \u001b[43madd_mark\u001b[49m\u001b[43m(\u001b[49m\u001b[38;5;124;43m'\u001b[39;49m\u001b[38;5;124;43mIvanov\u001b[39;49m\u001b[38;5;124;43m'\u001b[39;49m\u001b[43m,\u001b[49m\u001b[43m \u001b[49m\u001b[38;5;241;43m6\u001b[39;49m\u001b[43m)\u001b[49m\n",
      "Input \u001b[1;32mIn [12]\u001b[0m, in \u001b[0;36madd_mark\u001b[1;34m(name, mark, journal)\u001b[0m\n\u001b[0;32m      1\u001b[0m \u001b[38;5;28;01mdef\u001b[39;00m \u001b[38;5;21madd_mark\u001b[39m(name, mark, journal\u001b[38;5;241m=\u001b[39m\u001b[38;5;28;01mNone\u001b[39;00m):\n\u001b[0;32m      2\u001b[0m     \u001b[38;5;28;01mif\u001b[39;00m mark \u001b[38;5;241m>\u001b[39m \u001b[38;5;241m5\u001b[39m \u001b[38;5;129;01mor\u001b[39;00m mark \u001b[38;5;241m<\u001b[39m \u001b[38;5;241m2\u001b[39m:\n\u001b[1;32m----> 3\u001b[0m         \u001b[38;5;28;01mraise\u001b[39;00m \u001b[38;5;167;01mValueError\u001b[39;00m(\u001b[38;5;124m'\u001b[39m\u001b[38;5;124mInvalid Mark!\u001b[39m\u001b[38;5;124m'\u001b[39m)\n\u001b[0;32m      4\u001b[0m     \u001b[38;5;28;01mif\u001b[39;00m journal \u001b[38;5;129;01mis\u001b[39;00m \u001b[38;5;28;01mNone\u001b[39;00m:\n\u001b[0;32m      5\u001b[0m         journal \u001b[38;5;241m=\u001b[39m {}\n",
      "\u001b[1;31mValueError\u001b[0m: Invalid Mark!"
     ]
    }
   ],
   "source": [
    "def add_mark(name, mark, journal=None):\n",
    "    if mark > 5 or mark < 2:\n",
    "        raise ValueError('Invalid Mark!')\n",
    "    if journal is None:\n",
    "        journal = {}\n",
    "    journal[name] = mark\n",
    "    return journal\n",
    "\n",
    "add_mark('Ivanov', 6)"
   ]
  },
  {
   "cell_type": "markdown",
   "id": "7de93eed",
   "metadata": {},
   "source": [
    "### Способы передачи аргументов"
   ]
  },
  {
   "cell_type": "code",
   "execution_count": 17,
   "id": "d5624696",
   "metadata": {},
   "outputs": [
    {
     "name": "stdout",
     "output_type": "stream",
     "text": [
      "5.0\n",
      "3.0\n",
      "Root of power 3 from 27 equals 3.0\n",
      "3.0\n",
      "\n",
      "\n",
      "Root of power 2 from 25 equals 5.0\n",
      "5.0\n"
     ]
    }
   ],
   "source": [
    "def root(value, n = 2, verbose = False):\n",
    "    result = value ** (1/n)\n",
    "    if verbose:\n",
    "        print('Root of power', n, 'from', value, 'equals', result)\n",
    "    return result\n",
    "\n",
    "print(root(25))\n",
    "print(root(27, 3))\n",
    "print(root(27, 3, True))\n",
    "print()\n",
    "print()\n",
    "print(root(25, verbose = True))"
   ]
  },
  {
   "cell_type": "code",
   "execution_count": 18,
   "id": "95d8fb2f",
   "metadata": {},
   "outputs": [
    {
     "ename": "SyntaxError",
     "evalue": "positional argument follows keyword argument (741305805.py, line 1)",
     "output_type": "error",
     "traceback": [
      "\u001b[1;36m  Input \u001b[1;32mIn [18]\u001b[1;36m\u001b[0m\n\u001b[1;33m    print(root(verbose = True, 25))\u001b[0m\n\u001b[1;37m                                 ^\u001b[0m\n\u001b[1;31mSyntaxError\u001b[0m\u001b[1;31m:\u001b[0m positional argument follows keyword argument\n"
     ]
    }
   ],
   "source": [
    "print(root(verbose = True, 25))"
   ]
  },
  {
   "cell_type": "code",
   "execution_count": 19,
   "id": "2b78b70d",
   "metadata": {},
   "outputs": [
    {
     "name": "stdout",
     "output_type": "stream",
     "text": [
      "Root of power 4 from 81 equals 3.0\n",
      "3.0\n"
     ]
    }
   ],
   "source": [
    "print(root(81, verbose = True, n = 4))"
   ]
  },
  {
   "cell_type": "markdown",
   "id": "664ad6fa",
   "metadata": {},
   "source": [
    "## АРГУМЕНТЫ ПО УМОЛЧАНИЮ В ФУНКЦИИ PRINT"
   ]
  },
  {
   "cell_type": "markdown",
   "id": "57523570",
   "metadata": {},
   "source": [
    "SEP\n",
    "\n",
    "Задает строку, которая будет разделять позиционные агрументы, переданные на печать."
   ]
  },
  {
   "cell_type": "code",
   "execution_count": 1,
   "id": "439ab668",
   "metadata": {},
   "outputs": [
    {
     "name": "stdout",
     "output_type": "stream",
     "text": [
      "25 125 625\n"
     ]
    }
   ],
   "source": [
    "print(25, 125, 625)"
   ]
  },
  {
   "cell_type": "code",
   "execution_count": 3,
   "id": "ca146c95",
   "metadata": {},
   "outputs": [
    {
     "name": "stdout",
     "output_type": "stream",
     "text": [
      "25, 125, 625\n"
     ]
    }
   ],
   "source": [
    "print(25, 125, 625, sep = ', ')"
   ]
  },
  {
   "cell_type": "markdown",
   "id": "651c486f",
   "metadata": {},
   "source": [
    "END\n",
    "\n",
    "Задает символ, которым заканчивается печатаемая строка (по умолчанию это перенос на новую строку - символ \\n)"
   ]
  },
  {
   "cell_type": "code",
   "execution_count": 5,
   "id": "d735ea28",
   "metadata": {},
   "outputs": [
    {
     "name": "stdout",
     "output_type": "stream",
     "text": [
      "Shopping list:\n",
      "bread butter eggs\n"
     ]
    }
   ],
   "source": [
    "print('Shopping list:')\n",
    "print('bread', 'butter', 'eggs')"
   ]
  },
  {
   "cell_type": "code",
   "execution_count": 7,
   "id": "93c87615",
   "metadata": {},
   "outputs": [
    {
     "name": "stdout",
     "output_type": "stream",
     "text": [
      "Shopping list: bread butter eggs\n"
     ]
    }
   ],
   "source": [
    "print('Shopping list:', end = ' ')\n",
    "print('bread', 'butter', 'eggs')"
   ]
  },
  {
   "cell_type": "code",
   "execution_count": 8,
   "id": "3676bfa6",
   "metadata": {},
   "outputs": [
    {
     "name": "stdout",
     "output_type": "stream",
     "text": [
      "Shopping list: bread, butter, eggs\n"
     ]
    }
   ],
   "source": [
    "print('Shopping list:', end = ' ')\n",
    "print('bread', 'butter', 'eggs', sep = ', ')"
   ]
  },
  {
   "cell_type": "markdown",
   "id": "c768173e",
   "metadata": {},
   "source": [
    "## ОБРАБОТКА НЕИЗВЕСТНОГО ЗАРАНЕЕ ЧИСЛА АРГУМЕНТОВ В PYTHON"
   ]
  },
  {
   "cell_type": "markdown",
   "id": "6e01f053",
   "metadata": {},
   "source": [
    "Сейчас мы напишем функцию, которая принимает неизвестное заранее число аргументов для обработки.\n",
    "\n",
    "Пусть функция mean (среднее значение) принимает на вход неограниченное количество чисел через запятую, а в конце возвращает их среднее значение. Она выглядит вот так:"
   ]
  },
  {
   "cell_type": "code",
   "execution_count": 9,
   "id": "d534f69f",
   "metadata": {},
   "outputs": [
    {
     "name": "stdout",
     "output_type": "stream",
     "text": [
      "4.0\n"
     ]
    }
   ],
   "source": [
    "#В массив args будут записаны все переданные порядковые аргументы\n",
    "def mean(*args):\n",
    "    #среднее значение - это сума всех значений, деленная на число этих значений\n",
    "    #функция sum - встроенная, она возвращает сумму чисел\n",
    "    result = sum(args) / len(args)\n",
    "    return result\n",
    "\n",
    "#передадим аргументы в функцию через запятую, чтобы посчитать их среднее\n",
    "print(mean(5,4,4,3))"
   ]
  },
  {
   "cell_type": "markdown",
   "id": "890c0957",
   "metadata": {},
   "source": [
    "Только что вы увидели в аргументах запись *args. Здесь * - это не символ умножения, а оператор распаковки (При использовании в сигнатуре функции он показывает интерпретатору, что тот должен ожидать не один порядковый аргумент, а несколько). Все порядковые аргументы будут записаны в переменную args. Args - это принятое в Python обозначение для порядковых аргументов, однако можно называть эту переменную любым другим подходящим образом. Например, конкретно для функции mean логично переименовать переменную args в numbers."
   ]
  },
  {
   "cell_type": "code",
   "execution_count": 10,
   "id": "31d46cc6",
   "metadata": {},
   "outputs": [
    {
     "name": "stdout",
     "output_type": "stream",
     "text": [
      "4.0\n"
     ]
    }
   ],
   "source": [
    "def mean(*numbers):\n",
    "    result = sum(numbers) / len(numbers)\n",
    "    return result\n",
    "\n",
    "print(mean(5,4,4,3))"
   ]
  },
  {
   "cell_type": "markdown",
   "id": "2e0d4dc6",
   "metadata": {},
   "source": [
    "За объектом numbers скрывается тип данных tuple"
   ]
  },
  {
   "cell_type": "code",
   "execution_count": 11,
   "id": "b67fbe02",
   "metadata": {},
   "outputs": [
    {
     "name": "stdout",
     "output_type": "stream",
     "text": [
      "True\n",
      "(5, 4, 4, 3)\n",
      "4.0\n"
     ]
    }
   ],
   "source": [
    "def mean(*numbers):\n",
    "    #С помощью встроенной функции isinstance проверим, что numbers - tuple\n",
    "    print(isinstance(numbers, tuple))\n",
    "    #Напечатаем содержимое объекта numbers\n",
    "    print(numbers)\n",
    "    result = sum(numbers) / len(numbers)\n",
    "    return result\n",
    "\n",
    "print(mean(5,4,4,3))"
   ]
  },
  {
   "cell_type": "markdown",
   "id": "c0816f00",
   "metadata": {},
   "source": [
    "Необзятаельно записывать все порядковые аргументы через * в args. Пусть функция mean_mark теперь печатает среднюю оценку для конкретного студента:"
   ]
  },
  {
   "cell_type": "code",
   "execution_count": 13,
   "id": "56f653dd",
   "metadata": {},
   "outputs": [
    {
     "name": "stdout",
     "output_type": "stream",
     "text": [
      "Ivanov: 4.75\n",
      "Petrov: 4.25\n"
     ]
    }
   ],
   "source": [
    "#В качестве первого аргумента принимаем фамилию\n",
    "#студента, а затем уже его оценки через запятую\n",
    "def mean_mark(name, *marks):\n",
    "    result = sum(marks) / len(marks)\n",
    "    #Не возвращаем результат, а печатаем его\n",
    "    print(name+':', result)\n",
    "    \n",
    "mean_mark('Ivanov', 5, 5, 5, 4)\n",
    "mean_mark('Petrov', 5, 3, 5, 4)"
   ]
  },
  {
   "cell_type": "markdown",
   "id": "efa12621",
   "metadata": {},
   "source": [
    "### После аргументов, записанных через *args, не могут идти другие порядковые аргументы:"
   ]
  },
  {
   "cell_type": "code",
   "execution_count": 14,
   "id": "e09a542b",
   "metadata": {},
   "outputs": [
    {
     "ename": "TypeError",
     "evalue": "mean_mark_wrong() missing 1 required keyword-only argument: 'name'",
     "output_type": "error",
     "traceback": [
      "\u001b[1;31m---------------------------------------------------------------------------\u001b[0m",
      "\u001b[1;31mTypeError\u001b[0m                                 Traceback (most recent call last)",
      "Input \u001b[1;32mIn [14]\u001b[0m, in \u001b[0;36m<cell line: 6>\u001b[1;34m()\u001b[0m\n\u001b[0;32m      3\u001b[0m     result \u001b[38;5;241m=\u001b[39m \u001b[38;5;28msum\u001b[39m(marks) \u001b[38;5;241m/\u001b[39m \u001b[38;5;28mlen\u001b[39m(marks)\n\u001b[0;32m      4\u001b[0m     \u001b[38;5;28mprint\u001b[39m(name\u001b[38;5;241m+\u001b[39m\u001b[38;5;124m'\u001b[39m\u001b[38;5;124m:\u001b[39m\u001b[38;5;124m'\u001b[39m, result)\n\u001b[1;32m----> 6\u001b[0m \u001b[43mmean_mark_wrong\u001b[49m\u001b[43m(\u001b[49m\u001b[38;5;241;43m5\u001b[39;49m\u001b[43m,\u001b[49m\u001b[43m \u001b[49m\u001b[38;5;241;43m5\u001b[39;49m\u001b[43m,\u001b[49m\u001b[43m \u001b[49m\u001b[38;5;241;43m5\u001b[39;49m\u001b[43m,\u001b[49m\u001b[43m \u001b[49m\u001b[38;5;241;43m4\u001b[39;49m\u001b[43m,\u001b[49m\u001b[43m \u001b[49m\u001b[38;5;124;43m'\u001b[39;49m\u001b[38;5;124;43mIvanov\u001b[39;49m\u001b[38;5;124;43m'\u001b[39;49m\u001b[43m)\u001b[49m\n",
      "\u001b[1;31mTypeError\u001b[0m: mean_mark_wrong() missing 1 required keyword-only argument: 'name'"
     ]
    }
   ],
   "source": [
    "#Поменяем местами *marks, name\n",
    "def mean_mark_wrong(*marks, name):\n",
    "    result = sum(marks) / len(marks)\n",
    "    print(name+':', result)\n",
    "    \n",
    "mean_mark_wrong(5, 5, 5, 4, 'Ivanov')"
   ]
  },
  {
   "cell_type": "markdown",
   "id": "0d64b5d8",
   "metadata": {},
   "source": [
    "Ошибка означает, что аргумент name автоматически стал именованным. К тому же он является обязательным, поскольку не имеет значения по умолчанию.\n",
    "\n",
    "Передать фамилию студента при таком порядке аргументов можно только вот так:"
   ]
  },
  {
   "cell_type": "code",
   "execution_count": 15,
   "id": "347b1a3b",
   "metadata": {},
   "outputs": [
    {
     "name": "stdout",
     "output_type": "stream",
     "text": [
      "Ivanov: 4.75\n"
     ]
    }
   ],
   "source": [
    "#Воспользуемся названием name, чтобы передать фамилию в этот аргумент\n",
    "mean_mark_wrong(5, 5, 5, 4, name = 'Ivanov')"
   ]
  },
  {
   "cell_type": "markdown",
   "id": "45c20d66",
   "metadata": {},
   "source": [
    "#### Все аргументы, следующие за конструкцией с оператором *, считаются именованными"
   ]
  },
  {
   "cell_type": "markdown",
   "id": "3573ba60",
   "metadata": {},
   "source": [
    "Напишите функцию mult, которая считает произведение переданных в нее чисел через запятую.\n",
    "\n",
    "Особое указание: посчитайте результат с использованием цикла for"
   ]
  },
  {
   "cell_type": "code",
   "execution_count": 17,
   "id": "e8b22de9",
   "metadata": {},
   "outputs": [
    {
     "name": "stdout",
     "output_type": "stream",
     "text": [
      "150\n"
     ]
    }
   ],
   "source": [
    "def mult(*numbers):\n",
    "    result = 1\n",
    "    for i in numbers:\n",
    "        result *= i\n",
    "    return result\n",
    "\n",
    "print(mult(3,5,10))"
   ]
  },
  {
   "cell_type": "markdown",
   "id": "e16d2dc8",
   "metadata": {},
   "source": [
    "оператор распактовки * можно использовать и для передачи значений из списка в функцию"
   ]
  },
  {
   "cell_type": "markdown",
   "id": "fd6b6e04",
   "metadata": {},
   "source": [
    "рассмотрим эту возможность на примере функции print. У нас есть список:"
   ]
  },
  {
   "cell_type": "code",
   "execution_count": 20,
   "id": "621a3bde",
   "metadata": {},
   "outputs": [
    {
     "name": "stdout",
     "output_type": "stream",
     "text": [
      "['Python', 'SQL', 'Machine Learning', 'Statistics']\n"
     ]
    }
   ],
   "source": [
    "langs = ['Python', 'SQL', 'Machine Learning', 'Statistics']\n",
    "print(langs)\n",
    "#в данном случае список был напечатан с характерными для него скобками\n",
    "#на границах и кавычками у строк. Так список превращается в строку по умолчанию"
   ]
  },
  {
   "cell_type": "markdown",
   "id": "35201b30",
   "metadata": {},
   "source": [
    "Чтобы напечатать слова в списке Langs через пробел, достаточно в функции print перед langs поставить * как оператор распаковки:"
   ]
  },
  {
   "cell_type": "code",
   "execution_count": 21,
   "id": "407cb5fc",
   "metadata": {},
   "outputs": [
    {
     "name": "stdout",
     "output_type": "stream",
     "text": [
      "Python SQL Machine Learning Statistics\n"
     ]
    }
   ],
   "source": [
    "langs = ['Python', 'SQL', 'Machine Learning', 'Statistics']\n",
    "print(*langs)"
   ]
  },
  {
   "cell_type": "markdown",
   "id": "28bb232a",
   "metadata": {},
   "source": [
    "Получается, что теперь функция print получила аргументы уже не в виде списка, а в виде перечисленных в функции нескольких порядковых аргументов.\n",
    "\n",
    "#### Оператор * удобно использовать для печати списков в более читабельном виде"
   ]
  },
  {
   "cell_type": "markdown",
   "id": "85f94b0d",
   "metadata": {},
   "source": [
    "### Задание 5.2\n",
    "\n",
    "Напечатайте список langs с использованием * , как в примере выше, но через запятую с пробелом."
   ]
  },
  {
   "cell_type": "code",
   "execution_count": 22,
   "id": "0d3cedbf",
   "metadata": {},
   "outputs": [
    {
     "name": "stdout",
     "output_type": "stream",
     "text": [
      "Python, SQL, Machine Learning, Statistics\n"
     ]
    }
   ],
   "source": [
    "langs = ['Python', 'SQL', 'Machine Learning', 'Statistics']\n",
    "print(*langs, sep = ', ')"
   ]
  },
  {
   "cell_type": "markdown",
   "id": "848d44ac",
   "metadata": {},
   "source": [
    "### Задание 5.3\n",
    "\n",
    "Создайте список оценок студента:\n",
    "\n",
    "marks = [4,5,5,5,5,3,4,4,5,4,5]\n",
    "\n",
    "Передайте в функцию mean_mark, которая была создана вначале данного подраздела юнита этот список, а также фамилию студента *Kuznetsov* с помощью оператора распаковки.\n",
    "\n",
    "Функция mean_mark продублирована:\n",
    "\n",
    "def mean_mark(name, *marks):\n",
    "    \n",
    "    result = sum(marks) / len(marks)\n",
    "    \n",
    "    # Не возвращаем результат, а печатаем его\n",
    "    \n",
    "    print(name+':', result)"
   ]
  },
  {
   "cell_type": "code",
   "execution_count": 28,
   "id": "5467e32b",
   "metadata": {},
   "outputs": [
    {
     "name": "stdout",
     "output_type": "stream",
     "text": [
      "Kuznetsov: 4.454545454545454\n"
     ]
    }
   ],
   "source": [
    "marks = [4,5,5,5,5,3,4,4,5,4,5]\n",
    "mean_mark('Kuznetsov', *marks)"
   ]
  },
  {
   "cell_type": "markdown",
   "id": "c03f29c8",
   "metadata": {},
   "source": [
    "Можно передавать разное число именованных аргументов с помощью еще одного оператора распаковки - двух звездочек подряд(**)\n",
    "\n",
    "Переменна **kwargs** - стандартное название для совокупности именнованых аргументов в Python (keyword arguments)\n",
    "\n",
    "Однако вместо *kwargs* можно использовать любое другое адекватное название переменной.\n",
    "\n",
    "Напишем функцию schedule, которая будет печатать расписание по дням. Для начала узнаем, что будет храниться в переменной kwargs после использования оператора **."
   ]
  },
  {
   "cell_type": "code",
   "execution_count": 29,
   "id": "3dc0047f",
   "metadata": {},
   "outputs": [
    {
     "name": "stdout",
     "output_type": "stream",
     "text": [
      "True\n",
      "{'monday': 'Python', 'tuesday': 'SQL', 'friday': 'ML'}\n"
     ]
    }
   ],
   "source": [
    "#В переменную kwargs будут записаны все именнованные аргументы\n",
    "def schedule(**kwargs):\n",
    "    #kwargs - словарь, проверим это с помощью isinstance\n",
    "    print(isinstance(kwargs, dict))\n",
    "    #Напечатаем объект kwargs\n",
    "    print(kwargs)\n",
    "    \n",
    "schedule(monday = 'Python', tuesday = 'SQL', friday = 'ML')"
   ]
  },
  {
   "cell_type": "markdown",
   "id": "0a57681b",
   "metadata": {},
   "source": [
    "Итак, kwargs является словарём, в котором ключами являются имена аргументов, а значениями — переданные аргументам значения.\n",
    "\n",
    "Следует понимать, что всё-таки изначально в функцию передаётся не словарь: те объекты, которые могли бы быть ключами словаря (например, числа), при передаче в качестве названия аргумента вызовут ошибку:"
   ]
  },
  {
   "cell_type": "code",
   "execution_count": 34,
   "id": "92ae623e",
   "metadata": {},
   "outputs": [
    {
     "ename": "SyntaxError",
     "evalue": "expression cannot contain assignment, perhaps you meant \"==\"? (1469067271.py, line 1)",
     "output_type": "error",
     "traceback": [
      "\u001b[1;36m  Input \u001b[1;32mIn [34]\u001b[1;36m\u001b[0m\n\u001b[1;33m    schedule(monday = 'Python', tuesday = 'SQL', 5 = 'ML')\u001b[0m\n\u001b[1;37m                                                 ^\u001b[0m\n\u001b[1;31mSyntaxError\u001b[0m\u001b[1;31m:\u001b[0m expression cannot contain assignment, perhaps you meant \"==\"?\n"
     ]
    }
   ],
   "source": [
    "schedule(monday = 'Python', tuesday = 'SQL', 5 = 'ML')"
   ]
  },
  {
   "cell_type": "markdown",
   "id": "f24beee2",
   "metadata": {},
   "source": [
    "Эта ошибка переводится так: *«Синтаксическая ошибка: ключевое слово не может быть выражением»*. То есть ключевое слово должно удовлетворять тем же требованиям, что и переменные. \n",
    "\n",
    "Обращаться к значениям в kwargs можно так же, как и к значениям в обычном словаре. Расширим функцию schedule так, чтобы она более презентабельно печатала переданные значения:"
   ]
  },
  {
   "cell_type": "code",
   "execution_count": 37,
   "id": "73ce5b2e",
   "metadata": {},
   "outputs": [
    {
     "name": "stdout",
     "output_type": "stream",
     "text": [
      "Week schedule:\n",
      "monday - Python\n",
      "tuesday - SQL\n",
      "friday - ML\n"
     ]
    }
   ],
   "source": [
    "def schedule(**kwargs):\n",
    "    print('Week schedule:')\n",
    "    for key in kwargs:\n",
    "        print(key, kwargs[key], sep = ' - ')\n",
    "        \n",
    "schedule(monday = 'Python', tuesday = 'SQL', friday = 'ML')"
   ]
  },
  {
   "cell_type": "markdown",
   "id": "792a1ec9",
   "metadata": {},
   "source": [
    "С помощью оператора ** можно передавать в функцию несколько аргументов. Он используется для передачи именованных аргументов с помощью словаря, который в дальнейшем будет распакован. Кроме того, оператор ** является оператором распакови только для словарей. \n",
    "\n",
    "**_Ключами словаря выступают названия аргуементов, а значениями - те значения аргументов, которые должны быть им присвоены._**"
   ]
  },
  {
   "cell_type": "markdown",
   "id": "5b8d822f",
   "metadata": {},
   "source": [
    "Создадим словарь lessons (уроки)  и передадим его в функцию schedule, описанную выше:"
   ]
  },
  {
   "cell_type": "code",
   "execution_count": 38,
   "id": "6f3f7844",
   "metadata": {},
   "outputs": [
    {
     "name": "stdout",
     "output_type": "stream",
     "text": [
      "Week schedule:\n",
      "Wednesday - Maths\n",
      "Thursday - SQL\n",
      "Friday - Statistics\n"
     ]
    }
   ],
   "source": [
    "lessons = {\n",
    "    'Wednesday' : 'Maths',\n",
    "    'Thursday' : 'SQL',\n",
    "    'Friday' : 'Statistics'\n",
    "}\n",
    "#Использовали оператор ** для распаковки словаря в набор значений\n",
    "#именованных аргументов\n",
    "schedule(**lessons)"
   ]
  },
  {
   "cell_type": "markdown",
   "id": "60640c9c",
   "metadata": {},
   "source": [
    "Принцип совместного использования * args и ** kwargs логично вытекает из принципа перечисления аргументов: сначала порядковые, затем - именованные."
   ]
  },
  {
   "cell_type": "markdown",
   "id": "3e950905",
   "metadata": {},
   "source": [
    "Вот функция, которая просто печатает все переданные в неё аргументы:"
   ]
  },
  {
   "cell_type": "code",
   "execution_count": 39,
   "id": "2089cfd1",
   "metadata": {},
   "outputs": [
    {
     "name": "stdout",
     "output_type": "stream",
     "text": [
      "(1, 4, 5, 7)\n",
      "{'name': 'Ivanov', 'age': 19, 'city': 'Moscow'}\n"
     ]
    }
   ],
   "source": [
    "def print_args(*args, **kwargs):\n",
    "    print(args)\n",
    "    print(kwargs)\n",
    "    \n",
    "print_args(1,4,5,7, name = 'Ivanov', age = 19, city = 'Moscow')"
   ]
  },
  {
   "cell_type": "markdown",
   "id": "df8e70ab",
   "metadata": {},
   "source": [
    "Если поменять местами * и **, возникнет ошибка:"
   ]
  },
  {
   "cell_type": "code",
   "execution_count": 40,
   "id": "21e8da61",
   "metadata": {},
   "outputs": [
    {
     "ename": "SyntaxError",
     "evalue": "invalid syntax (1192988398.py, line 1)",
     "output_type": "error",
     "traceback": [
      "\u001b[1;36m  Input \u001b[1;32mIn [40]\u001b[1;36m\u001b[0m\n\u001b[1;33m    def print_args(**kwargs, *args):\u001b[0m\n\u001b[1;37m                             ^\u001b[0m\n\u001b[1;31mSyntaxError\u001b[0m\u001b[1;31m:\u001b[0m invalid syntax\n"
     ]
    }
   ],
   "source": [
    "def print_args(**kwargs, *args):\n",
    "    print(args)\n",
    "    print(kwargs)\n",
    "    \n",
    "print_args(1,4,5,7, name = 'Ivanov', age = 19, city = 'Moscow')"
   ]
  },
  {
   "cell_type": "markdown",
   "id": "84dfb6d1",
   "metadata": {},
   "source": [
    "**Также в функцию можно одновременно передавать и порядковые, и именованные аргументы через операторы распаковки.**\n",
    "\n",
    "Напечатаем три списка с помощью print: значения внутри списка разделим запятой, а сами списки - точкой с запятой. Для этого один раз содадим словарь how, в котором будут храниться значения, присваиваемые в дальнейшем sep и end.\n",
    "\n",
    "Когда мы распакуем словарь в print, поведение функции будет аналогично тому, что мы бы получили при использовании функции print в виде:\n",
    "\n",
    "print(*list1, sep = ', ', end = '; ')"
   ]
  },
  {
   "cell_type": "code",
   "execution_count": 41,
   "id": "4a469b0c",
   "metadata": {},
   "outputs": [
    {
     "name": "stdout",
     "output_type": "stream",
     "text": [
      "1, 4, 6, 8; 12, 45, 56, 190, 111; Python, Functions; "
     ]
    }
   ],
   "source": [
    "list1 = [1,4,6,8]\n",
    "list2 = [12, 45, 56, 190, 111]\n",
    "list3 = ['Python', 'Functions']\n",
    "#Один раз запишем в словарь параметры для печати через print:\n",
    "#разделитель - запятая, окончание строки - точка с запятой\n",
    "how = {'sep' : ', ', 'end' : '; '}\n",
    "#распаковываем и список, и словарь how\n",
    "\n",
    "print(*list1, **how)\n",
    "print(*list2, **how)\n",
    "print(*list3, **how)"
   ]
  },
  {
   "cell_type": "markdown",
   "id": "bae6c0f2",
   "metadata": {},
   "source": [
    "# LAMBDA-ФУНКЦИИ"
   ]
  },
  {
   "cell_type": "markdown",
   "id": "26561c1f",
   "metadata": {},
   "source": [
    "В питоне есть особый класс временных или анонимных функций - lambda-функции. Он позволяет быстро создавать короткие однострочные функции, для которых нет необходимости прописывать целиком сигнатуру и оператор return."
   ]
  },
  {
   "cell_type": "markdown",
   "id": "ccd90154",
   "metadata": {},
   "source": [
    "Сразу разберём пример. Допустим, мы хотим создать функцию, считающую квадратный корень из числа. Можно сделать это классическим способом:"
   ]
  },
  {
   "cell_type": "code",
   "execution_count": 42,
   "id": "c9b98bd1",
   "metadata": {},
   "outputs": [],
   "source": [
    "def root(num):\n",
    "    return num ** (1/2)"
   ]
  },
  {
   "cell_type": "markdown",
   "id": "5023f761",
   "metadata": {},
   "source": [
    "А теперь запишем то же самое с помощью *lambda*-функции:"
   ]
  },
  {
   "cell_type": "code",
   "execution_count": 43,
   "id": "dc3db5ce",
   "metadata": {},
   "outputs": [],
   "source": [
    "root = lambda num: num ** (1/2)"
   ]
  },
  {
   "cell_type": "markdown",
   "id": "4013d5b8",
   "metadata": {},
   "source": [
    "В переменной root теперь хранится функция, которая выполняет то же самое действие, которое мы описали с помощью «классической» функции через def.\n",
    "\n",
    "Разберём особенности синтаксиса:\n",
    "    \n",
    "    1. Сначала пишется слово lambda, которое сообщает компьютеру, что далее следует lambda-функция.\n",
    "    2. Затем пишутся названия аргументов, которые функция будет обрабатывать (если аргументов несколько, они перечисляются через запятую).\n",
    "    3. Далее ставится двоеточие, и на той же строке записывается значение, которе возвращает функция в зависимости от условий.\n",
    "    \n",
    "    В данном случае функция возвращает результат возведения num в степень 1/2."
   ]
  },
  {
   "cell_type": "markdown",
   "id": "37fe021e",
   "metadata": {},
   "source": [
    "Обобщим нашу функцию на корень произвольной степени:"
   ]
  },
  {
   "cell_type": "code",
   "execution_count": 44,
   "id": "759fbf36",
   "metadata": {},
   "outputs": [
    {
     "name": "stdout",
     "output_type": "stream",
     "text": [
      "2.0\n"
     ]
    }
   ],
   "source": [
    "#Для получения корня произвольной степени от числа (например, корня степени 4)\n",
    "#необходимо возвести исходное число в степень, равную единице, деленной на\n",
    "#желаемую степень корня\n",
    "nth_root = lambda num, n: num ** (1/n)\n",
    "#чтобы воспользоваться этой функцией, можно написать, например:\n",
    "print(nth_root(16,4))"
   ]
  },
  {
   "cell_type": "markdown",
   "id": "88487d38",
   "metadata": {},
   "source": [
    "В *lambda*-функции можно использовать и условия."
   ]
  },
  {
   "cell_type": "markdown",
   "id": "179bba47",
   "metadata": {},
   "source": [
    "Например, напишем lambda-функцию, которая определяет, является ли число чётным (от англ. even — «чётный», odd — «нечётный»), и возвращает слова «чётное» или «нечётное»."
   ]
  },
  {
   "cell_type": "markdown",
   "id": "23230f5c",
   "metadata": {},
   "source": [
    "**Напоминание:** оператор % используется для получения остатка от деления.\n",
    "Если остаток от деления на 2 равен 0, то число является четным.\n",
    "\n",
    "*Обратный слэш (\\) используется в питоне для того, чтобы перенести одну строку кода на следующую строку.*\n",
    "\n",
    "Получается, что компьютер интерпретирует записанное ниже как одну строку"
   ]
  },
  {
   "cell_type": "code",
   "execution_count": 45,
   "id": "bd80f332",
   "metadata": {},
   "outputs": [],
   "source": [
    "is_even = lambda num: 'even' if num % 2 == 0\\\n",
    "    else 'odd'"
   ]
  },
  {
   "cell_type": "markdown",
   "id": "b539b290",
   "metadata": {},
   "source": [
    "Lambda-функции не лишены возможности применения операторов распаковки в своём коде."
   ]
  },
  {
   "cell_type": "markdown",
   "id": "04621458",
   "metadata": {},
   "source": [
    "Вот lambda-функция, которая принимает на вход переменное число порядковых аргументов и возвращает кортеж из них:"
   ]
  },
  {
   "cell_type": "code",
   "execution_count": 46,
   "id": "d2063dd8",
   "metadata": {},
   "outputs": [
    {
     "name": "stdout",
     "output_type": "stream",
     "text": [
      "(1, 4, 6, 7)\n"
     ]
    }
   ],
   "source": [
    "func_args = lambda *args: args\n",
    "\n",
    "print(func_args(1,4,6,7))"
   ]
  },
  {
   "cell_type": "markdown",
   "id": "c5b88534",
   "metadata": {},
   "source": [
    "Наконец, можно принимать и args, и kwargs одновременно, как и в обычной функции.\n",
    "\n",
    "Вот функция, принимающая полный набор аргументов:"
   ]
  },
  {
   "cell_type": "code",
   "execution_count": 47,
   "id": "99c126ae",
   "metadata": {},
   "outputs": [
    {
     "name": "stdout",
     "output_type": "stream",
     "text": [
      "((1, 5, 6, 7), {'name': 'Ivan', 'age': 25})\n"
     ]
    }
   ],
   "source": [
    "full_func = lambda *args, **kwargs: (args, kwargs)\n",
    "\n",
    "print(full_func(1,5,6,7, name = 'Ivan', age = 25))"
   ]
  },
  {
   "cell_type": "markdown",
   "id": "5a0e1226",
   "metadata": {},
   "source": [
    "**Однако не стоит использовать слишком сложные lambda-функции, так как это сделает код нечитаемым.**"
   ]
  },
  {
   "cell_type": "markdown",
   "id": "17379fec",
   "metadata": {},
   "source": [
    "Посмотрите, как будет выглядеть функция, которая определяет, делится ли число на 2 или на 3 *(не волнуйтесь, если не совсем понимаете, что в ней происходит — функция написана так специально, чтобы показать, что так лучше не делать)*:"
   ]
  },
  {
   "cell_type": "code",
   "execution_count": 48,
   "id": "74ad35db",
   "metadata": {},
   "outputs": [],
   "source": [
    "scary_func = lambda num: 'divided by 2 and 3' \\\n",
    "    if num % 6 == 0 \\\n",
    "    else 'divided by 2' if num % 2 == 0 \\\n",
    "    else 'divided by 3' if num % 3 == 0 \\\n",
    "    else 'not divided by 2 nor 3'"
   ]
  },
  {
   "cell_type": "markdown",
   "id": "5b645574",
   "metadata": {},
   "source": [
    "Данная функция записана синтаксически верно, однако человеку, впервые читающему ваш код, разобраться в ней будет непросто. Да и вы сами спустя некоторое время с трудом сможете снова понять, что здесь происходит. "
   ]
  },
  {
   "cell_type": "markdown",
   "id": "de5b1bf6",
   "metadata": {},
   "source": [
    "На самом деле использовать lambda-функцию удобно, если требуется передать простую функцию в качестве аргумента другой функции."
   ]
  },
  {
   "cell_type": "markdown",
   "id": "472fd832",
   "metadata": {},
   "source": [
    "Применим lambda-функцию для сортировки списка.\n",
    "\n",
    "Создадим список имен:\n",
    "\n",
    "names = ['Ivan', 'Kim', 'German', 'Margarita', 'Simon']\n",
    "\n",
    "Отсортируем список с помощью функции sort() и напечатаем его содержимое:"
   ]
  },
  {
   "cell_type": "code",
   "execution_count": 49,
   "id": "d12b0d14",
   "metadata": {},
   "outputs": [
    {
     "name": "stdout",
     "output_type": "stream",
     "text": [
      "['German', 'Ivan', 'Kim', 'Margarita', 'Simon']\n"
     ]
    }
   ],
   "source": [
    "names = ['Ivan', 'Kim', 'German', 'Margarita', 'Simon']\n",
    "names.sort()\n",
    "print(names)"
   ]
  },
  {
   "cell_type": "markdown",
   "id": "e5730fbe",
   "metadata": {},
   "source": [
    "А теперь представим, что мы хотим отсортировать слова в списке не по алфавиту, а по их длине. Для этого как раз будет удобно воспользоваться короткой lambda-функцией, которую мы передадим в качестве параметра key. Теперь функция сортировки уже будет сравнивать не слова в алфавитном порядке, а их длины:"
   ]
  },
  {
   "cell_type": "code",
   "execution_count": 50,
   "id": "f93af1de",
   "metadata": {},
   "outputs": [
    {
     "name": "stdout",
     "output_type": "stream",
     "text": [
      "['Kim', 'Ivan', 'Simon', 'German', 'Margarita']\n"
     ]
    }
   ],
   "source": [
    "names.sort(key = lambda name: len(name))\n",
    "print(names)"
   ]
  },
  {
   "cell_type": "markdown",
   "id": "ca273a33",
   "metadata": {},
   "source": [
    "### Задание 6.1\n",
    "\n",
    "В качестве упражнения попробуйте переписать использованную lambda-функцию в классический вид (с def). Назовите ее get_lenght\n",
    "\n",
    "Затем воспользуйтесь полученной фнукцией для сортировки списка:"
   ]
  },
  {
   "cell_type": "code",
   "execution_count": 51,
   "id": "a4591c90",
   "metadata": {},
   "outputs": [
    {
     "name": "stdout",
     "output_type": "stream",
     "text": [
      "['cc', 'bbb', 'aaa', 'ababa', 'aaaaa']\n"
     ]
    }
   ],
   "source": [
    "def get_lenght(name):\n",
    "    return len(name)\n",
    "\n",
    "new_list = ['bbb', 'ababa', 'aaa', 'aaaaa', 'cc']\n",
    "new_list.sort(key = get_lenght)\n",
    "print(new_list)"
   ]
  },
  {
   "cell_type": "markdown",
   "id": "0b8c3b4a",
   "metadata": {},
   "source": [
    "Что делать в случае, если мы хотим отсортировать список сразу по нескольким условиям: например, сначала по длине слова, а потом — для слов с одинаковой длиной — уже по алфавиту?"
   ]
  },
  {
   "cell_type": "markdown",
   "id": "929cc664",
   "metadata": {},
   "source": [
    "**Примечание.** Метод sort() в случае строк сортирует сначала заглавные буквы, а затем — строчные."
   ]
  },
  {
   "cell_type": "markdown",
   "id": "a6d68bdc",
   "metadata": {},
   "source": [
    "Для этого достаточно написать функцию, которая возвращает кортеж из нескольких элементов, которые будут сравниваться. Вначале будут сравниваться первые элементы кортежа, при их совпадении — вторые, и так далее. \n",
    "\n",
    "Создадим список:\n",
    "\n",
    "new_list = ['bbb', 'ababa','aaa', 'aaaaa',  'cc']\n",
    "\n",
    "Отсортируем его по длине слов:"
   ]
  },
  {
   "cell_type": "code",
   "execution_count": 52,
   "id": "789748d1",
   "metadata": {},
   "outputs": [
    {
     "name": "stdout",
     "output_type": "stream",
     "text": [
      "['cc', 'bbb', 'aaa', 'ababa', 'aaaaa']\n"
     ]
    }
   ],
   "source": [
    "new_list = ['bbb', 'ababa', 'aaa', 'aaaaa', 'cc']\n",
    "new_list.sort(key = lambda word: len(word))\n",
    "print(new_list)"
   ]
  },
  {
   "cell_type": "markdown",
   "id": "31a7187e",
   "metadata": {},
   "source": [
    "Слова отсортированы по длине, но слова одинаковой длины при этом не отсортированы по алфавиту, потому что мы прямо не указывали функции sort() это требование.\n",
    "\n",
    "Теперь отсортируем этот список с помощью lambda-функции, которая возвращает кортеж, где в качестве первого значения указана длина слова, а в качестве второго - само слово:"
   ]
  },
  {
   "cell_type": "code",
   "execution_count": 53,
   "id": "d8e5a25b",
   "metadata": {},
   "outputs": [
    {
     "name": "stdout",
     "output_type": "stream",
     "text": [
      "['cc', 'aaa', 'bbb', 'aaaaa', 'ababa']\n"
     ]
    }
   ],
   "source": [
    "new_list.sort(key = lambda word: (len(word), word))\n",
    "print(new_list)"
   ]
  },
  {
   "cell_type": "markdown",
   "id": "3dd59424",
   "metadata": {},
   "source": [
    "***Обратите внимание, что в случае с lambda-функцией при возврате нескольких значений круглые скобки для обозначения кортежа обязательны!***"
   ]
  },
  {
   "cell_type": "markdown",
   "id": "87276efb",
   "metadata": {},
   "source": [
    "### Задание 6.3\n",
    "\n",
    "Напишите lambda-функцию для расчёта гипотенузы прямоугольного треугольника: она принимает на вход длины двух катетов и возвращает длину гипотенузы (третьей, самой длинной стороны прямоугольного треугольника).\n",
    "\n",
    "Формула: c = (a ** 2 + b ** 2) ** (1/2), где a и b - длины катетов, c - длина гипотенузы.\n",
    "\n",
    "Сохраните эту функцию в переменную hyp."
   ]
  },
  {
   "cell_type": "code",
   "execution_count": 57,
   "id": "2dbe3e6f",
   "metadata": {},
   "outputs": [
    {
     "name": "stdout",
     "output_type": "stream",
     "text": [
      "5.0\n",
      "9.055385138137417\n"
     ]
    }
   ],
   "source": [
    "hyp = lambda a, b: (a ** 2 + b ** 2) ** (1/2)\n",
    "print(hyp(3,4))\n",
    "print(hyp(1,9))"
   ]
  },
  {
   "cell_type": "markdown",
   "id": "19cc622d",
   "metadata": {},
   "source": [
    "### Задание 6.4\n",
    "\n",
    "Напишите функцию sort_sides, которая сортирует переданный в неё список.\n",
    "\n",
    "Входной список состоит из кортежей с парами чисел — длинами катетов прямоугольных треугольников.\n",
    "\n",
    "Функция должна возвращать список, отсортированный по возрастанию длин гипотенуз треугольников.\n",
    "\n",
    "**Примечание:** вам пригодится lambda-функция из предыдущего задания. При этом вам потребуется заменить lambda от 2 аргументов на lambda от одного аргумента и обращаться к элементам кортежа уже при вычислении гипотенузы."
   ]
  },
  {
   "cell_type": "code",
   "execution_count": 69,
   "id": "73b3050a",
   "metadata": {},
   "outputs": [
    {
     "name": "stdout",
     "output_type": "stream",
     "text": [
      "[(1, 2), (3, 4), (10, 10)]\n"
     ]
    }
   ],
   "source": [
    "def sort_sides(l_in):\n",
    "    l_in.sort(key = lambda a: (a[0] **2 + a [1] ** 2) ** (1/2))\n",
    "    return l_in\n",
    "\n",
    "print(sort_sides([(3,4), (1,2), (10,10)]))\n"
   ]
  },
  {
   "cell_type": "markdown",
   "id": "77b8a9fb",
   "metadata": {},
   "source": [
    "### Задание 7.9\n",
    "\n",
    "Напишите функцию get_less, которая принимает на вход через запятую список, состоящий из чисел, и ещё одно число. \n",
    "\n",
    "Функция должна вернуть первое найденное число из списка, которое меньше переданного во втором аргументе. Если такого числа нет, необходимо вернуть None."
   ]
  },
  {
   "cell_type": "code",
   "execution_count": 79,
   "id": "3cce46c1",
   "metadata": {},
   "outputs": [
    {
     "name": "stdout",
     "output_type": "stream",
     "text": [
      "1\n",
      "None\n"
     ]
    }
   ],
   "source": [
    "def get_less(list_in, num):\n",
    "    for i in list_in:\n",
    "        if i < num:\n",
    "            return i\n",
    "\n",
    "list_in = [1,5,8,10]\n",
    "print(get_less(list_in, 8))\n",
    "print(get_less(list_in, 0))"
   ]
  },
  {
   "cell_type": "markdown",
   "id": "d9f57f7d",
   "metadata": {},
   "source": [
    "### Задание 7.10\n",
    "\n",
    "Напишите функцию split_date(date), которая принимает на вход строку, задающую дату, в формате ддммгггг без разделителей. Функция должна вернуть кортеж из чисел (int): день, месяц, год.\n",
    "\n",
    "**Примечание.** Здесь вам пригодятся срезы строк."
   ]
  },
  {
   "cell_type": "code",
   "execution_count": 85,
   "id": "61c68d0b",
   "metadata": {},
   "outputs": [
    {
     "name": "stdout",
     "output_type": "stream",
     "text": [
      "(31, 1, 2019)\n"
     ]
    }
   ],
   "source": [
    "def split_date(date):\n",
    "    return (int(date[0:2]), int(date[2:4]),int(date[4:8]))\n",
    "\n",
    "print(split_date('31012019'))"
   ]
  },
  {
   "cell_type": "markdown",
   "id": "a494cd5f",
   "metadata": {},
   "source": [
    "### Задание 7.11\n",
    "\n",
    "Напишите функцию is_prime(num), которая проверяет, является ли число простым.\n",
    "\n",
    "Функция должна вернуть True, если число простое, иначе — False.\n",
    "\n",
    "**Примечание.** Простым называют число, которое делится только на 1 или на само себя. Число 1 простым не является."
   ]
  },
  {
   "cell_type": "code",
   "execution_count": 100,
   "id": "57547e96",
   "metadata": {},
   "outputs": [
    {
     "name": "stdout",
     "output_type": "stream",
     "text": [
      "False\n",
      "False\n",
      "True\n"
     ]
    }
   ],
   "source": [
    "def is_prime(num):\n",
    "    if num == 1:\n",
    "        return False\n",
    "    for i in range(2,num):\n",
    "        if num % i == 0:\n",
    "            return False\n",
    "        return True\n",
    "\n",
    "print(is_prime(1))\n",
    "print(is_prime(10))\n",
    "print(is_prime(13))"
   ]
  },
  {
   "cell_type": "markdown",
   "id": "10e8c88c",
   "metadata": {},
   "source": [
    "### Задание 7.12\n",
    "\n",
    "Напишите функцию between_min_max(...), которая принимает на вход числа через запятую.\n",
    "\n",
    "Функция возвращает среднее арифметическое между максимальным и минимальным значением этих чисел, то есть (max + min)/2."
   ]
  },
  {
   "cell_type": "code",
   "execution_count": 102,
   "id": "9829a502",
   "metadata": {},
   "outputs": [
    {
     "name": "stdout",
     "output_type": "stream",
     "text": [
      "10.0\n",
      "3.0\n"
     ]
    }
   ],
   "source": [
    "def between_min_max(*nums):\n",
    "    mi = min(nums)\n",
    "    ma = max(nums)\n",
    "    return (ma + mi) / 2\n",
    "\n",
    "print(between_min_max(10))\n",
    "print(between_min_max(1,2,3,4,5))\n",
    "    "
   ]
  },
  {
   "cell_type": "markdown",
   "id": "91d37950",
   "metadata": {},
   "source": [
    "### Задание 7.13\n",
    "\n",
    "Напишите функцию best_student(...), которая принимает на вход в виде именованных аргументов фамилии студентов и их номера в рейтинге (нагляднее в примере).\n",
    "\n",
    "Необходимо вернуть фамилию студента с минимальным номером по рейтингу."
   ]
  },
  {
   "cell_type": "code",
   "execution_count": 111,
   "id": "3baac081",
   "metadata": {},
   "outputs": [
    {
     "name": "stdout",
     "output_type": "stream",
     "text": [
      "Mike\n",
      "Tom\n",
      "Jerry\n"
     ]
    }
   ],
   "source": [
    "def best_student(**students):\n",
    "    best_name = None\n",
    "    best_rating = None\n",
    "    for (student, rating) in students.items():\n",
    "        if best_name is None:\n",
    "            best_name = student\n",
    "            best_rating = rating\n",
    "        if rating < best_rating:\n",
    "            best_rating = rating\n",
    "            best_name = student\n",
    "    return best_name\n",
    "\n",
    "print(best_student(Tom=12, Mike=3))\n",
    "print(best_student(Tom=12))\n",
    "print(best_student(Tom=12, Jerry=1, Jane=2))\n",
    "    "
   ]
  },
  {
   "cell_type": "markdown",
   "id": "f408989b",
   "metadata": {},
   "source": [
    "### Задание 7.14\n",
    "\n",
    "Напишите lambda-функцию is_palindrom, которая принимает на вход одну строку и проверяет, является ли она палиндромом, то есть читается ли она слева-направо и справа-налево одинаково.\n",
    "\n",
    "Функция возвращает 'yes', если строка является палиндромом, иначе — 'no'.\n",
    "\n",
    "**Примечание.** Не пытайтесь схитрить — в тест включена проверка на то, что функция действительно является lambda."
   ]
  },
  {
   "cell_type": "code",
   "execution_count": 114,
   "id": "d5a73db3",
   "metadata": {},
   "outputs": [
    {
     "name": "stdout",
     "output_type": "stream",
     "text": [
      "no\n",
      "yes\n"
     ]
    }
   ],
   "source": [
    "is_palindrom = lambda s: 'yes' if s.lower() == s.lower()[::-1] else 'no'\n",
    "\n",
    "print(is_palindrom('1234'))\n",
    "print(is_palindrom('12321'))"
   ]
  },
  {
   "cell_type": "markdown",
   "id": "034b1fa6",
   "metadata": {},
   "source": [
    "### Задание 7.15\n",
    "\n",
    "Напишите lambda-функцию area, которая принимает на вход два числа — стороны прямоугольника — через запятую и возвращает площадь прямоугольника."
   ]
  },
  {
   "cell_type": "code",
   "execution_count": 116,
   "id": "921f6b4b",
   "metadata": {},
   "outputs": [
    {
     "name": "stdout",
     "output_type": "stream",
     "text": [
      "60\n"
     ]
    }
   ],
   "source": [
    "area = lambda a, b: a * b\n",
    "\n",
    "print(area(12,5))"
   ]
  },
  {
   "cell_type": "markdown",
   "id": "1e405120",
   "metadata": {},
   "source": [
    "### Задание 7.16\n",
    "\n",
    "Перепишите функцию between_min_max из задания 7.12 в lambda-функцию. Функция принимает на вход числа через запятую и возвращает одно число — среднее между максимумом и минимумом этих чисел."
   ]
  },
  {
   "cell_type": "code",
   "execution_count": 122,
   "id": "d445ef18",
   "metadata": {},
   "outputs": [
    {
     "name": "stdout",
     "output_type": "stream",
     "text": [
      "3.0\n"
     ]
    }
   ],
   "source": [
    "between_min_max = lambda *nums: (max(nums) + min(nums)) / 2\n",
    "\n",
    "print(between_min_max(1,2,3,4,5))"
   ]
  },
  {
   "cell_type": "markdown",
   "id": "86d7e8ba",
   "metadata": {},
   "source": [
    "### Задание 7.17\n",
    "\n",
    "Напишите функцию sort_ignore_case, которая принимает на вход список и сортирует его без учёта регистра по алфавиту.\n",
    "\n",
    "Функция возвращает отсортированный список."
   ]
  },
  {
   "cell_type": "code",
   "execution_count": 126,
   "id": "9487d82b",
   "metadata": {},
   "outputs": [
    {
     "name": "stdout",
     "output_type": "stream",
     "text": [
      "['abc', 'Acc']\n"
     ]
    }
   ],
   "source": [
    "def sort_ignore_case(ls):\n",
    "    ls.sort(key = lambda x: x.lower())\n",
    "    return ls\n",
    "\n",
    "print(sort_ignore_case(['Acc', 'abc']))"
   ]
  },
  {
   "cell_type": "markdown",
   "id": "2f023eac",
   "metadata": {},
   "source": [
    "### Задание 7.17\n",
    "\n",
    "Напишите функцию exchange(usd, rub, rate), которая может принимать на вход сумму в долларах (usd), сумму в рублях (rub) и обменный курс (rate). Обменный курс показывает, сколько стоит один доллар. Например, курс 85.46 означает, что один доллар стоит 85 рублей и 46 копеек.\n",
    "\n",
    "В функцию должно одновременно передавать два аргумента. Если передано менее двух аргументов, должна возникнуть ошибка ValueError('Not enough arguments'). Если же передано три аргумента, должна возникнуть ошибка: ValueError('Too many arguments').\n",
    "\n",
    "Функция должна находить третий аргумент по двум переданным. Например, если переданы суммы в разных валютах, должен возвращаться обменный курс. Если известны сумма в рублях и курс, должна быть получена эквивалентная сумма в долларах, аналогично — если передана сумма в долларах и обменный курс."
   ]
  },
  {
   "cell_type": "code",
   "execution_count": 130,
   "id": "4784a5b4",
   "metadata": {},
   "outputs": [
    {
     "name": "stdout",
     "output_type": "stream",
     "text": [
      "85.0\n",
      "8500\n",
      "11.764705882352942\n"
     ]
    },
    {
     "ename": "ValueError",
     "evalue": "Not enough arguments",
     "output_type": "error",
     "traceback": [
      "\u001b[1;31m---------------------------------------------------------------------------\u001b[0m",
      "\u001b[1;31mValueError\u001b[0m                                Traceback (most recent call last)",
      "Input \u001b[1;32mIn [130]\u001b[0m, in \u001b[0;36m<cell line: 20>\u001b[1;34m()\u001b[0m\n\u001b[0;32m     18\u001b[0m \u001b[38;5;28mprint\u001b[39m(exchange(usd\u001b[38;5;241m=\u001b[39m\u001b[38;5;241m100\u001b[39m, rate\u001b[38;5;241m=\u001b[39m\u001b[38;5;241m85\u001b[39m))\n\u001b[0;32m     19\u001b[0m \u001b[38;5;28mprint\u001b[39m(exchange(rub\u001b[38;5;241m=\u001b[39m\u001b[38;5;241m1000\u001b[39m, rate\u001b[38;5;241m=\u001b[39m\u001b[38;5;241m85\u001b[39m))\n\u001b[1;32m---> 20\u001b[0m \u001b[38;5;28mprint\u001b[39m(\u001b[43mexchange\u001b[49m\u001b[43m(\u001b[49m\u001b[43mrub\u001b[49m\u001b[38;5;241;43m=\u001b[39;49m\u001b[38;5;241;43m1000\u001b[39;49m\u001b[43m)\u001b[49m)\n",
      "Input \u001b[1;32mIn [130]\u001b[0m, in \u001b[0;36mexchange\u001b[1;34m(usd, rub, rate)\u001b[0m\n\u001b[0;32m      1\u001b[0m \u001b[38;5;28;01mdef\u001b[39;00m \u001b[38;5;21mexchange\u001b[39m(usd \u001b[38;5;241m=\u001b[39m \u001b[38;5;28;01mNone\u001b[39;00m, rub \u001b[38;5;241m=\u001b[39m \u001b[38;5;28;01mNone\u001b[39;00m, rate \u001b[38;5;241m=\u001b[39m \u001b[38;5;28;01mNone\u001b[39;00m):\n\u001b[0;32m      2\u001b[0m     \u001b[38;5;28;01mif\u001b[39;00m usd \u001b[38;5;129;01mis\u001b[39;00m \u001b[38;5;28;01mNone\u001b[39;00m \u001b[38;5;129;01mand\u001b[39;00m rub \u001b[38;5;129;01mis\u001b[39;00m \u001b[38;5;28;01mNone\u001b[39;00m \\\n\u001b[0;32m      3\u001b[0m     \u001b[38;5;129;01mor\u001b[39;00m rub \u001b[38;5;129;01mis\u001b[39;00m \u001b[38;5;28;01mNone\u001b[39;00m \u001b[38;5;129;01mand\u001b[39;00m rate \u001b[38;5;129;01mis\u001b[39;00m \u001b[38;5;28;01mNone\u001b[39;00m \\\n\u001b[0;32m      4\u001b[0m     \u001b[38;5;129;01mor\u001b[39;00m usd \u001b[38;5;129;01mis\u001b[39;00m \u001b[38;5;28;01mNone\u001b[39;00m \u001b[38;5;129;01mand\u001b[39;00m rate \u001b[38;5;129;01mis\u001b[39;00m \u001b[38;5;28;01mNone\u001b[39;00m:\n\u001b[1;32m----> 5\u001b[0m         \u001b[38;5;28;01mraise\u001b[39;00m \u001b[38;5;167;01mValueError\u001b[39;00m(\u001b[38;5;124m'\u001b[39m\u001b[38;5;124mNot enough arguments\u001b[39m\u001b[38;5;124m'\u001b[39m)\n\u001b[0;32m      6\u001b[0m     \u001b[38;5;28;01mif\u001b[39;00m usd \u001b[38;5;129;01mand\u001b[39;00m rub \u001b[38;5;129;01mand\u001b[39;00m rate \u001b[38;5;129;01mis\u001b[39;00m \u001b[38;5;129;01mnot\u001b[39;00m \u001b[38;5;28;01mNone\u001b[39;00m:\n\u001b[0;32m      7\u001b[0m         \u001b[38;5;28;01mraise\u001b[39;00m \u001b[38;5;167;01mValueError\u001b[39;00m(\u001b[38;5;124m'\u001b[39m\u001b[38;5;124mToo many arguments\u001b[39m\u001b[38;5;124m'\u001b[39m)\n",
      "\u001b[1;31mValueError\u001b[0m: Not enough arguments"
     ]
    }
   ],
   "source": [
    "def exchange(usd = None, rub = None, rate = None):\n",
    "    if usd is None and rub is None \\\n",
    "    or rub is None and rate is None \\\n",
    "    or usd is None and rate is None:\n",
    "        raise ValueError('Not enough arguments')\n",
    "    if usd and rub and rate is not None:\n",
    "        raise ValueError('Too many arguments')\n",
    "    if rate is None:\n",
    "        ex = rub / usd\n",
    "    else:\n",
    "        if rub is None:\n",
    "            ex = usd * rate\n",
    "        else:\n",
    "            ex = rub / rate\n",
    "    return ex\n",
    "\n",
    "print(exchange(usd=100, rub=8500))\n",
    "print(exchange(usd=100, rate=85))\n",
    "print(exchange(rub=1000, rate=85))\n",
    "print(exchange(rub=1000))\n",
    "                "
   ]
  },
  {
   "cell_type": "code",
   "execution_count": null,
   "id": "44132b35",
   "metadata": {},
   "outputs": [],
   "source": []
  }
 ],
 "metadata": {
  "kernelspec": {
   "display_name": "Python 3 (ipykernel)",
   "language": "python",
   "name": "python3"
  },
  "language_info": {
   "codemirror_mode": {
    "name": "ipython",
    "version": 3
   },
   "file_extension": ".py",
   "mimetype": "text/x-python",
   "name": "python",
   "nbconvert_exporter": "python",
   "pygments_lexer": "ipython3",
   "version": "3.9.12"
  }
 },
 "nbformat": 4,
 "nbformat_minor": 5
}
