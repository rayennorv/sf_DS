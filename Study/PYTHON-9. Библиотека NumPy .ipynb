{
 "cells": [
  {
   "cell_type": "markdown",
   "id": "eef8f61f",
   "metadata": {},
   "source": [
    "# ЦЕЛОЧИСЛЕННЫЕ ТИПЫ ДАННЫХ В NUMPY"
   ]
  },
  {
   "cell_type": "markdown",
   "id": "96ee0238",
   "metadata": {},
   "source": [
    "Это тип данных с общим корнем int. Int может быть со следующими окончаниями: int8, int16, int32 и int64. Окончание типа данных в NumPy показывает, сколько битов памяти должно быть выделено для хранения переменной.\n",
    "\n",
    "Преобразуем обычное целое число в NumPy-тип, например в int8. Для этого напишем выражение np.int8 и круглые скобки. В круглых скобках в качестве аргумента передадим тот объект, который должен быть преобразован:"
   ]
  },
  {
   "cell_type": "code",
   "execution_count": 4,
   "id": "9fd6c4b9",
   "metadata": {},
   "outputs": [
    {
     "name": "stdout",
     "output_type": "stream",
     "text": [
      "25\n"
     ]
    }
   ],
   "source": [
    "import numpy as np\n",
    "\n",
    "a = np.int8(25)\n",
    "print(a)"
   ]
  },
  {
   "cell_type": "markdown",
   "id": "b2cfa9a3",
   "metadata": {},
   "source": [
    "Как видите, при печати нет никакой разницы между встроенным int и np.int8. Как же понять, что в a теперь действительно NumPy-тип данных? Воспользуемся функцией type:"
   ]
  },
  {
   "cell_type": "code",
   "execution_count": 5,
   "id": "7738ffd2",
   "metadata": {},
   "outputs": [
    {
     "name": "stdout",
     "output_type": "stream",
     "text": [
      "<class 'numpy.int8'>\n"
     ]
    }
   ],
   "source": [
    "print(type(a))"
   ]
  },
  {
   "cell_type": "markdown",
   "id": "5679483f",
   "metadata": {},
   "source": [
    "В самом деле, переменная a теперь принадлежит к типу int8. \n",
    "\n",
    "Ранее вы изучили, как по заданному числу бит узнать, в каких границах может находиться целое число в памяти. На самом деле с NumPy вам не потребуется считать это вручную!\n",
    "\n",
    "Чтобы узнать границы int, можно воспользоваться функцией np.iinfo (int info):"
   ]
  },
  {
   "cell_type": "code",
   "execution_count": 7,
   "id": "9639ece4",
   "metadata": {},
   "outputs": [
    {
     "data": {
      "text/plain": [
       "iinfo(min=-128, max=127, dtype=int8)"
      ]
     },
     "execution_count": 7,
     "metadata": {},
     "output_type": "execute_result"
    }
   ],
   "source": [
    "#можно применить к самому названию типа данных\n",
    "np.iinfo(np.int8)"
   ]
  },
  {
   "cell_type": "code",
   "execution_count": 8,
   "id": "4f1335a5",
   "metadata": {},
   "outputs": [
    {
     "data": {
      "text/plain": [
       "iinfo(min=-128, max=127, dtype=int8)"
      ]
     },
     "execution_count": 8,
     "metadata": {},
     "output_type": "execute_result"
    }
   ],
   "source": [
    "#можно применить к существующему конкретному объекту\n",
    "np.iinfo(a)"
   ]
  },
  {
   "cell_type": "code",
   "execution_count": 9,
   "id": "562ffd00",
   "metadata": {},
   "outputs": [
    {
     "data": {
      "text/plain": [
       "iinfo(min=-32768, max=32767, dtype=int16)"
      ]
     },
     "execution_count": 9,
     "metadata": {},
     "output_type": "execute_result"
    }
   ],
   "source": [
    "np.iinfo(np.int16)"
   ]
  },
  {
   "cell_type": "code",
   "execution_count": 10,
   "id": "7221e244",
   "metadata": {},
   "outputs": [
    {
     "data": {
      "text/plain": [
       "iinfo(min=-2147483648, max=2147483647, dtype=int32)"
      ]
     },
     "execution_count": 10,
     "metadata": {},
     "output_type": "execute_result"
    }
   ],
   "source": [
    "np.iinfo(np.int32)"
   ]
  },
  {
   "cell_type": "code",
   "execution_count": 11,
   "id": "87e0cf38",
   "metadata": {},
   "outputs": [
    {
     "data": {
      "text/plain": [
       "iinfo(min=-9223372036854775808, max=9223372036854775807, dtype=int64)"
      ]
     },
     "execution_count": 11,
     "metadata": {},
     "output_type": "execute_result"
    }
   ],
   "source": [
    "np.iinfo(np.int64)"
   ]
  },
  {
   "cell_type": "markdown",
   "id": "72084349",
   "metadata": {},
   "source": [
    "В NumPy доступны и беззнаковые целочисленные типы данных. Они имеют корень uint (unsigned int — беззнаковое целое). uint доступны также с выделением памяти в 8, 16, 32 и 64 бита. При этом максимально возможное число оказывается в два раза больше, чем для соответствующего int, поскольку отрицательные числа исключены из типа данных uint."
   ]
  },
  {
   "cell_type": "markdown",
   "id": "f732a4a3",
   "metadata": {},
   "source": [
    "Преобразуем число 124 в uint8, а также узнаем пограничные значения полученной переменной:"
   ]
  },
  {
   "cell_type": "code",
   "execution_count": 12,
   "id": "b3fa34ef",
   "metadata": {},
   "outputs": [
    {
     "name": "stdout",
     "output_type": "stream",
     "text": [
      "124\n",
      "<class 'numpy.uint8'>\n"
     ]
    },
    {
     "data": {
      "text/plain": [
       "iinfo(min=0, max=255, dtype=uint8)"
      ]
     },
     "execution_count": 12,
     "metadata": {},
     "output_type": "execute_result"
    }
   ],
   "source": [
    "b = np.uint8(124)\n",
    "print(b)\n",
    "print(type(b))\n",
    "np.iinfo(b)"
   ]
  },
  {
   "cell_type": "markdown",
   "id": "29e4a0ce",
   "metadata": {},
   "source": [
    "# НЕСКОЛЬКО ЗАМЕЧАНИЙ О ПРИВЕДЕНИИ ТИПОВ"
   ]
  },
  {
   "cell_type": "markdown",
   "id": "30b8bd55",
   "metadata": {},
   "source": [
    "Как вы могли заметить на примере целочисленных типов, преобразовывать числа довольно просто: главное, не забыть написать np, указать новый тип данных, а в скобках передать то число или ту переменную, которую необходимо преобразовать. Однако следует учитывать несколько моментов.\n",
    "\n",
    "1. Тип данных не сохранится, если просто присвоить переменной с заданным NumPy-типом данных новое значение:"
   ]
  },
  {
   "cell_type": "code",
   "execution_count": 13,
   "id": "4157133b",
   "metadata": {},
   "outputs": [
    {
     "name": "stdout",
     "output_type": "stream",
     "text": [
      "1000\n",
      "<class 'numpy.int32'>\n",
      "2056\n",
      "<class 'int'>\n"
     ]
    }
   ],
   "source": [
    "a = np.int32(1000)\n",
    "print(a)\n",
    "print(type(a))\n",
    "a = 2056\n",
    "print(a)\n",
    "print(type(a))"
   ]
  },
  {
   "cell_type": "markdown",
   "id": "f03dbefb",
   "metadata": {},
   "source": [
    "Вместо этого следует снова указать нужный NumPy-тип данных:"
   ]
  },
  {
   "cell_type": "code",
   "execution_count": 14,
   "id": "0264cbd6",
   "metadata": {},
   "outputs": [
    {
     "name": "stdout",
     "output_type": "stream",
     "text": [
      "1000\n",
      "<class 'numpy.int32'>\n",
      "2056\n",
      "<class 'numpy.int32'>\n"
     ]
    }
   ],
   "source": [
    "a = np.int32(1000)\n",
    "print(a)\n",
    "print(type(a))\n",
    "a = np.int32(2056)\n",
    "print(a)\n",
    "print(type(a))"
   ]
  },
  {
   "cell_type": "markdown",
   "id": "192ec4f5",
   "metadata": {},
   "source": [
    "А вот арифметические операции сохраняют NumPy-тип данных:"
   ]
  },
  {
   "cell_type": "code",
   "execution_count": 15,
   "id": "8ae0d924",
   "metadata": {},
   "outputs": [
    {
     "name": "stdout",
     "output_type": "stream",
     "text": [
      "1025\n",
      "<class 'numpy.int32'>\n"
     ]
    }
   ],
   "source": [
    "a = np.int32(1000)\n",
    "b = a + 25\n",
    "print(b)\n",
    "print(type(b))"
   ]
  },
  {
   "cell_type": "markdown",
   "id": "47fd5f0d",
   "metadata": {},
   "source": [
    "**Примечание.** В некоторых более старых версиях NumPy тип данных может измениться на int64 вместо ожидаемого int32. Это связано с тем, что число 25 может быть сначала преобразовано в NumPy-тип данных int (по умолчанию int64) перед сложением. Скорее всего, на практике вам не особо помешает такая особенность, однако о ней следует помнить, когда требуется хранить числа максимально оптимальным способом.\n",
    "\n",
    "Если операция проводится с двумя NumPy-типами с фиксированным объёмом памяти, в результате сохраняется наиболее «старший» тип:"
   ]
  },
  {
   "cell_type": "code",
   "execution_count": 16,
   "id": "cc2d8434",
   "metadata": {},
   "outputs": [
    {
     "name": "stdout",
     "output_type": "stream",
     "text": [
      "1025\n",
      "<class 'numpy.int32'>\n"
     ]
    }
   ],
   "source": [
    "a = np.int32(1000)\n",
    "b = np.int8(25)\n",
    "c = a + b\n",
    "print(c)\n",
    "print(type(c))"
   ]
  },
  {
   "cell_type": "markdown",
   "id": "f054e7d2",
   "metadata": {},
   "source": [
    "2. Следует понимать, что произойдёт, если выделенной памяти для хранения переменной окажется недостаточно.\n",
    "\n",
    "Следует понимать, что произойдёт, если выделенной памяти для хранения переменной окажется недостаточно."
   ]
  },
  {
   "cell_type": "code",
   "execution_count": 17,
   "id": "1414c581",
   "metadata": {},
   "outputs": [
    {
     "name": "stdout",
     "output_type": "stream",
     "text": [
      "4\n"
     ]
    }
   ],
   "source": [
    "a = np.int8(260)\n",
    "print(a)"
   ]
  },
  {
   "cell_type": "markdown",
   "id": "ff9394a6",
   "metadata": {},
   "source": [
    "В переменной a теперь оказалось число 4, а не 260. По сути в переменную записался остаток от деления 260 на 256, а не само число. Ошибка при этом не возникла.\n",
    "\n",
    "Если же при арифметических операциях происходит переполнение максимально выделенной памяти для типа, возникает предупреждение.\n",
    "\n",
    "Например, выполним сложение двух очень больших чисел типа int32 (максимум для этого типа — 2147483647):"
   ]
  },
  {
   "cell_type": "code",
   "execution_count": 18,
   "id": "e0a532df",
   "metadata": {},
   "outputs": [
    {
     "name": "stdout",
     "output_type": "stream",
     "text": [
      "2147483610 2147483605\n",
      "-81\n"
     ]
    },
    {
     "name": "stderr",
     "output_type": "stream",
     "text": [
      "C:\\Users\\кролик\\AppData\\Local\\Temp\\ipykernel_11900\\1517369409.py:4: RuntimeWarning: overflow encountered in long_scalars\n",
      "  print(a + b)\n"
     ]
    }
   ],
   "source": [
    "a = np.int32(2147483610)\n",
    "b = np.int32(2147483605)\n",
    "print(a, b)\n",
    "print(a + b)"
   ]
  },
  {
   "cell_type": "markdown",
   "id": "a1cb0e6a",
   "metadata": {},
   "source": [
    "# ТИПЫ ДАННЫХ С ПЛАВАЮЩЕЙ ТОЧКОЙ В NUMPY"
   ]
  },
  {
   "cell_type": "markdown",
   "id": "edef8411",
   "metadata": {},
   "source": [
    "Помимо целых чисел, в NumPy, конечно, есть и дробные — float. Их названия строятся по тому же принципу: корень + объём памяти в битах. Беззнаковых float нет.\n",
    "\n",
    "Доступны следующие типы данных float: float16, float32, float64 (применяется по умолчанию, если объём памяти не задан дополнительно), float128.\n",
    "\n",
    "Чтобы узнать границы float и его точность, можно воспользоваться функцией np.finfo(<float тип данных>) (от англ. float info):"
   ]
  },
  {
   "cell_type": "code",
   "execution_count": 22,
   "id": "0f11e64a",
   "metadata": {},
   "outputs": [
    {
     "ename": "AttributeError",
     "evalue": "module 'numpy' has no attribute 'float128'",
     "output_type": "error",
     "traceback": [
      "\u001b[1;31m---------------------------------------------------------------------------\u001b[0m",
      "\u001b[1;31mAttributeError\u001b[0m                            Traceback (most recent call last)",
      "Input \u001b[1;32mIn [22]\u001b[0m, in \u001b[0;36m<cell line: 4>\u001b[1;34m()\u001b[0m\n\u001b[0;32m      2\u001b[0m np\u001b[38;5;241m.\u001b[39mfinfo(np\u001b[38;5;241m.\u001b[39mfloat32)\n\u001b[0;32m      3\u001b[0m np\u001b[38;5;241m.\u001b[39mfinfo(np\u001b[38;5;241m.\u001b[39mfloat64)\n\u001b[1;32m----> 4\u001b[0m np\u001b[38;5;241m.\u001b[39mfinfo(\u001b[43mnp\u001b[49m\u001b[38;5;241;43m.\u001b[39;49m\u001b[43mfloat128\u001b[49m)\n",
      "File \u001b[1;32mD:\\PROGRAMMS\\Python\\lib\\site-packages\\numpy\\__init__.py:311\u001b[0m, in \u001b[0;36m__getattr__\u001b[1;34m(attr)\u001b[0m\n\u001b[0;32m    308\u001b[0m     \u001b[38;5;28;01mfrom\u001b[39;00m \u001b[38;5;21;01m.\u001b[39;00m\u001b[38;5;21;01mtesting\u001b[39;00m \u001b[38;5;28;01mimport\u001b[39;00m Tester\n\u001b[0;32m    309\u001b[0m     \u001b[38;5;28;01mreturn\u001b[39;00m Tester\n\u001b[1;32m--> 311\u001b[0m \u001b[38;5;28;01mraise\u001b[39;00m \u001b[38;5;167;01mAttributeError\u001b[39;00m(\u001b[38;5;124m\"\u001b[39m\u001b[38;5;124mmodule \u001b[39m\u001b[38;5;132;01m{!r}\u001b[39;00m\u001b[38;5;124m has no attribute \u001b[39m\u001b[38;5;124m\"\u001b[39m\n\u001b[0;32m    312\u001b[0m                      \u001b[38;5;124m\"\u001b[39m\u001b[38;5;132;01m{!r}\u001b[39;00m\u001b[38;5;124m\"\u001b[39m\u001b[38;5;241m.\u001b[39mformat(\u001b[38;5;18m__name__\u001b[39m, attr))\n",
      "\u001b[1;31mAttributeError\u001b[0m: module 'numpy' has no attribute 'float128'"
     ]
    }
   ],
   "source": [
    "np.finfo(np.float16)\n",
    "np.finfo(np.float32)\n",
    "np.finfo(np.float64)\n",
    "np.finfo(np.float128)"
   ]
  },
  {
   "cell_type": "markdown",
   "id": "c7f70609",
   "metadata": {},
   "source": [
    "Рассмотрим вывод finfo для float16 внимательнее.\n",
    "\n",
    "Для начала посмотрим на значения min и max. Они указаны в стандартном виде x * 10 ** n числа. Это такой формат записи числа, при котором число записывается в виде , где n — целое число, а для x верно: 1 <= x < 10.\n",
    "\n",
    "Например, 2021 можно записать в виде 2.021 * 10 ** 3. При выводе числа в стандартном виде вместо умножения на 10 в степени n пишется буква e, знак степени (+ или -) и сама степень. Следовательно, число 2021 может быть представлено как 2.021e + 3.\n",
    "\n",
    "Таким образом, минимальным значением float16 является -6.55040e+04, или -65504.0. Максимальное значение — 6.55040e+04, или 65504.0.\n",
    "\n",
    "Resolution (от англ. «разрешение») в выводе finfo означает точность, с которой сохраняется десятичная часть числа в стандартном виде. Для float16 это 0.001, то есть числа 4.12 и 4.13 будут отличимы друг от друга, а вот 4.124 и 4.125 — нет. Третий знак числа float16 идёт уже с шагом 0.005:"
   ]
  },
  {
   "cell_type": "code",
   "execution_count": 23,
   "id": "72803593",
   "metadata": {},
   "outputs": [
    {
     "name": "stdout",
     "output_type": "stream",
     "text": [
      "4.12\n",
      "4.13\n",
      "4.12\n",
      "4.125\n",
      "4.125\n"
     ]
    }
   ],
   "source": [
    "print(np.float16(4.12))\n",
    "print(np.float16(4.13))\n",
    "print(np.float16(4.123))\n",
    "print(np.float16(4.124))\n",
    "print(np.float16(4.125))"
   ]
  },
  {
   "cell_type": "markdown",
   "id": "9c67f337",
   "metadata": {},
   "source": [
    "# ДОПОЛНИТЕЛЬНЫЕ ТИПЫ ДАННЫХ В NUMPY"
   ]
  },
  {
   "cell_type": "markdown",
   "id": "25913b1e",
   "metadata": {},
   "source": [
    "Полный список (а точнее, словарь) типов данных в NumPy можно получить с помощью атрибута sctypeDict. Вывод не приводится, поскольку в этом словаре содержится более 100 ключей (их число может варьироваться в зависимости от версии NumPy)! Однако основные названия типов данных в NumPy не меняются от версии к версии."
   ]
  },
  {
   "cell_type": "markdown",
   "id": "c166db90",
   "metadata": {},
   "source": [
    "print(np.sctypeDict)\n",
    "print(len(np.sctypeDict))"
   ]
  },
  {
   "cell_type": "markdown",
   "id": "dc61adfd",
   "metadata": {},
   "source": [
    "На самом деле реальных типов данных гораздо меньше, просто одни и те же типы данных могут иметь разные ярлыки. Получить список названий уникальных типов данных NumPy можно с помощью следующего выражения. Попробуйте вспомнить, что делают все функции, которые в нём использованы:"
   ]
  },
  {
   "cell_type": "code",
   "execution_count": 25,
   "id": "e4f3ce30",
   "metadata": {},
   "outputs": [
    {
     "name": "stdout",
     "output_type": "stream",
     "text": [
      "<class 'numpy.bool_'>\n",
      "<class 'numpy.bytes_'>\n",
      "<class 'numpy.clongdouble'>\n",
      "<class 'numpy.complex128'>\n",
      "<class 'numpy.complex64'>\n",
      "<class 'numpy.datetime64'>\n",
      "<class 'numpy.float16'>\n",
      "<class 'numpy.float32'>\n",
      "<class 'numpy.float64'>\n",
      "<class 'numpy.int16'>\n",
      "<class 'numpy.int32'>\n",
      "<class 'numpy.int64'>\n",
      "<class 'numpy.int8'>\n",
      "<class 'numpy.intc'>\n",
      "<class 'numpy.longdouble'>\n",
      "<class 'numpy.object_'>\n",
      "<class 'numpy.str_'>\n",
      "<class 'numpy.timedelta64'>\n",
      "<class 'numpy.uint16'>\n",
      "<class 'numpy.uint32'>\n",
      "<class 'numpy.uint64'>\n",
      "<class 'numpy.uint8'>\n",
      "<class 'numpy.uintc'>\n",
      "<class 'numpy.void'>\n"
     ]
    }
   ],
   "source": [
    "print(*sorted(map(str, set(np.sctypeDict.values()))), sep='\\n')"
   ]
  },
  {
   "cell_type": "markdown",
   "id": "b003b7e6",
   "metadata": {},
   "source": [
    "Всего в выдаче будет 24 строки. Int, uint и float мы уже изучили. Datetime и timedelta используются для хранения времени, complex используется для работы с комплéксными числами.\n",
    "\n",
    "Следует обратить внимание на типы данных bool_ и str_. Они аналогичны bool и str из встроенных в Python, однако записывать их необходимо именно с нижним подчёркиванием, иначе произойдёт приведение к стандартному типу данных, а не типу NumPy. В целом, существенной разницы между этими типами данных нет, однако о такой двойственности следует помнить при сравнении типов переменных: тип bool не является эквивалентным numpy.bool_, несмотря на то что оба типа данных хранят значения True или False.\n",
    "\n",
    "Примечание: в версиях NumPy 1.20 и выше появится предупреждение, если попытаться привести типы с помощью np.bool или np.str, а не np.bool_ или np.str_. Однако в более ранних версиях данное предупреждение не появляется.\n",
    "\n",
    "Пример с bool:"
   ]
  },
  {
   "cell_type": "code",
   "execution_count": 26,
   "id": "f0cbf770",
   "metadata": {},
   "outputs": [
    {
     "name": "stdout",
     "output_type": "stream",
     "text": [
      "<class 'bool'>\n",
      "<class 'bool'>\n",
      "<class 'numpy.bool_'>\n"
     ]
    },
    {
     "name": "stderr",
     "output_type": "stream",
     "text": [
      "C:\\Users\\кролик\\AppData\\Local\\Temp\\ipykernel_11900\\3010475633.py:3: DeprecationWarning: `np.bool` is a deprecated alias for the builtin `bool`. To silence this warning, use `bool` by itself. Doing this will not modify any behavior and is safe. If you specifically wanted the numpy scalar type, use `np.bool_` here.\n",
      "Deprecated in NumPy 1.20; for more details and guidance: https://numpy.org/devdocs/release/1.20.0-notes.html#deprecations\n",
      "  a = np.bool(a)\n"
     ]
    }
   ],
   "source": [
    "a = True\n",
    "print(type(a))\n",
    "a = np.bool(a)\n",
    "print(type(a))\n",
    "a = np.bool_(a)\n",
    "print(type(a))"
   ]
  },
  {
   "cell_type": "code",
   "execution_count": 28,
   "id": "e61ed8c2",
   "metadata": {},
   "outputs": [
    {
     "name": "stdout",
     "output_type": "stream",
     "text": [
      "True\n",
      "False\n"
     ]
    },
    {
     "name": "stderr",
     "output_type": "stream",
     "text": [
      "C:\\Users\\кролик\\AppData\\Local\\Temp\\ipykernel_11900\\1648346588.py:1: DeprecationWarning: `np.bool` is a deprecated alias for the builtin `bool`. To silence this warning, use `bool` by itself. Doing this will not modify any behavior and is safe. If you specifically wanted the numpy scalar type, use `np.bool_` here.\n",
      "Deprecated in NumPy 1.20; for more details and guidance: https://numpy.org/devdocs/release/1.20.0-notes.html#deprecations\n",
      "  print(np.bool(True) == np.bool_(True))\n",
      "C:\\Users\\кролик\\AppData\\Local\\Temp\\ipykernel_11900\\1648346588.py:2: DeprecationWarning: `np.bool` is a deprecated alias for the builtin `bool`. To silence this warning, use `bool` by itself. Doing this will not modify any behavior and is safe. If you specifically wanted the numpy scalar type, use `np.bool_` here.\n",
      "Deprecated in NumPy 1.20; for more details and guidance: https://numpy.org/devdocs/release/1.20.0-notes.html#deprecations\n",
      "  print(type(np.bool(True)) == type(np.bool_(True)))\n"
     ]
    }
   ],
   "source": [
    "print(np.bool(True) == np.bool_(True))\n",
    "print(type(np.bool(True)) == type(np.bool_(True)))"
   ]
  },
  {
   "cell_type": "markdown",
   "id": "ddfe1431",
   "metadata": {},
   "source": [
    "Небольшое замечание про bool: несмотря на то что для хранения значения истина/ложь было бы достаточно только одного бита, из-за особенностей работы с памятью компьютера булевая переменная всё равно занимает в памяти целый байт.\n",
    "\n"
   ]
  },
  {
   "cell_type": "code",
   "execution_count": 29,
   "id": "88ef7f58",
   "metadata": {
    "scrolled": true
   },
   "outputs": [
    {
     "name": "stdout",
     "output_type": "stream",
     "text": [
      "56\n"
     ]
    }
   ],
   "source": [
    "print(np.uint8(-456))"
   ]
  },
  {
   "cell_type": "markdown",
   "id": "d12d91ed",
   "metadata": {},
   "source": [
    "# МАССИВЫ"
   ]
  },
  {
   "cell_type": "markdown",
   "id": "64d3e2e2",
   "metadata": {},
   "source": [
    "![jupyter](https://lms.skillfactory.ru/assets/courseware/v1/67a714cee769f0e01d1f8ac250dbdf02/asset-v1:SkillFactory+DST-3.0+28FEB2021+type@asset+block/dst3-u1-md9_6_1.png)"
   ]
  },
  {
   "cell_type": "markdown",
   "id": "685ae768",
   "metadata": {},
   "source": [
    "→ Массив в программировании — это ещё одна структура данных. Она позволяет хранить элементы в заданном порядке точно так же, как это делают списки. \n",
    "\n",
    "Однако массивы обладают особым свойством: элемент по любому номеру из массива можно получить за одно и то же время. Другими словами, неважно, находится элемент в начале, в середине или в конце списка — на времени получения элемента из массива по индексу (номеру) это никак не скажется.\n",
    "\n",
    "Обычно такое быстродействие массивов достигается за счёт того, что все элементы в массиве приведены к одному и тому же типу данных. Как именно это позволяет ускорить работу с данными, будет показано немного позднее.\n",
    "\n",
    "Наконец, традиционные массивы обладают заданной программистом длиной (числом элементов), на которую компьютер выделяет память. Для сравнения — в списке длина изначально ничем не ограничена."
   ]
  },
  {
   "cell_type": "markdown",
   "id": "13bf6b6e",
   "metadata": {},
   "source": [
    "Итак, массив — это структура данных, в которой:\n",
    "\n",
    "1. Элементы хранятся в указанном порядке.\n",
    "\n",
    "2. Каждый элемент можно получить по индексу за одинаковое время.\n",
    "\n",
    "3. Все элементы приведены к одному и тому же типу данных.\n",
    "\n",
    "4. Максимальное число элементов и объём выделенной памяти заданы заранее.\n",
    "\n",
    "→ Обсудим подробнее, как достигается одинаковое время доступа к элементам.\n",
    "\n",
    "Представьте, что вы умеете телепортироваться. Вам необходимо переместиться на 10 кварталов вперёд. Проблема в том, что каждый квартал обладает разной длиной, и поэтому вы не сможете сразу попасть в нужное место. Вам придётся каждый раз проверять, в каком квартале вы находитесь и сколько кварталов осталось до нужного. А теперь допустим, что каждый квартал имеет длину 200 метров. Тогда, чтобы переместиться на 10 кварталов вперёд, достаточно телепортироваться на 2 000 метров.\n",
    "\n",
    "Именно это происходит при работе компьютера с массивами: чтобы получить десятый элемент массива, если известно, например, что каждый элемент занимает 64 бита, достаточно прочитать элемент в памяти длиной 64 бита, который находится через 640 бит от начала массива. Компьютер умеет выполнять эту операцию очень быстро.\n",
    "\n",
    "Также, поскольку элементы в массиве располагаются в памяти последовательно, рядом друг с другом, это позволяет быстрее выполнять операции сразу с совокупностью элементов.\n",
    "\n",
    "Представьте себе класс, который едет на экскурсию в другой город на поезде. Конечно, чаще всего билеты приобретают в один вагон, чтобы школьников было проще контролировать. Только представьте себе, каково бы пришлось учителям, если бы все школьники ехали по разным вагонам!\n",
    "\n",
    "Введём ещё два термина.\n",
    "\n",
    "**Размерностью массива** называют то число индексов, которое необходимо для однозначного получения элемента из массива.\n",
    "\n",
    "* Соответственно, чтобы найти элемент в массиве размерности 1 (строка из чисел) достаточно одного индекса.\n",
    "* В двумерном массиве (таблице из чисел) потребуется уже два индекса: номер строки и номер столбца.\n",
    "* Для трёхмерного массива (например, контейнеры на судне расположены по длине, ширине и высоте судна) потребуется уже три индекса.\n",
    "\n",
    "Максимальная размерность массива программно не ограничена, но с добавлением каждой размерности в несколько раз увеличивается объём требуемой для его хранения памяти. Поэтому в какой-то момент места для массива большой размерности может не хватить, однако фактическая максимальная размерность зависит от возможностей компьютера.\n",
    "\n",
    "**Форма (структура) массива** — это информация о количестве размерностей массива и протяжённости массива по каждой из размерностей. Например, можно задать двумерный массив размера 3x5 — у этой таблицы две размерности: 3 строки и 5 столбцов.\n",
    "\n",
    "Чем же всё это отличается от списка?\n",
    "\n",
    "* В списке не гарантируется получение любого элемента по индексу за одинаковое время (обычно чем больше индекс, тем дольше занимает время получения элемента).\n",
    "* Также с совокупностью элементов списка работать дольше, чем с элементами массива. На самом деле Python list является чем-то средним между классическим списком из теории структур данных и массивом, но по скорости он тоже проигрывает массивам.\n",
    "\n",
    "Зато к преимуществам списка можно отнести легко изменяющуюся длину, а также возможность хранения данных разных типов в одной структуре данных. С другой стороны, последнее может быть и недостатком: при работе с массивами одинаковых данных можно быть уверенным, что там не окажется «сюрпризов» в виде данных неподходящего типа."
   ]
  },
  {
   "cell_type": "markdown",
   "id": "045acc4b",
   "metadata": {},
   "source": [
    "# МАССИВЫ В NUMPY"
   ]
  },
  {
   "cell_type": "markdown",
   "id": "6f413262",
   "metadata": {},
   "source": [
    "В большинстве языков программирования, таких как Java или Pascal, массивы реализуются «из коробки», а вот для списков требуется подключение дополнительных библиотек. В Python всё наоборот, поэтому мы будем пользоваться массивами из модуля NumPy."
   ]
  },
  {
   "cell_type": "markdown",
   "id": "e130e49b",
   "metadata": {},
   "source": [
    "## СОЗДАНИЕ МАССИВА ИЗ СПИСКА"
   ]
  },
  {
   "cell_type": "markdown",
   "id": "d2e7881e",
   "metadata": {},
   "source": [
    "Создать массив из списка можно с помощью функции np.array(<объект>):"
   ]
  },
  {
   "cell_type": "code",
   "execution_count": 36,
   "id": "a8dc793f",
   "metadata": {},
   "outputs": [
    {
     "data": {
      "text/plain": [
       "array([ 1,  5,  2,  9, 10])"
      ]
     },
     "execution_count": 36,
     "metadata": {},
     "output_type": "execute_result"
    }
   ],
   "source": [
    "import numpy as np\n",
    "\n",
    "arr = np.array([1,5,2,9,10])\n",
    "arr"
   ]
  },
  {
   "cell_type": "markdown",
   "id": "448f9523",
   "metadata": {},
   "source": [
    "Функция np.array возвращает объекты типа numpy.ndarray:"
   ]
  },
  {
   "cell_type": "code",
   "execution_count": 37,
   "id": "cf722ffd",
   "metadata": {},
   "outputs": [
    {
     "name": "stdout",
     "output_type": "stream",
     "text": [
      "<class 'numpy.ndarray'>\n"
     ]
    }
   ],
   "source": [
    "print(type(arr))"
   ]
  },
  {
   "cell_type": "markdown",
   "id": "dd908d15",
   "metadata": {},
   "source": [
    "Название ndarray — это сокращение от n-dimensional array, n-мерный массив.\n",
    "\n",
    "Таким образом, массивы в NumPy, даже одномерные, на самом деле хранятся в объекте, который позволяет работать с многомерными массивами.\n",
    "\n",
    "Давайте теперь создадим двумерный массив из списка списков. Его также можно назвать таблицей чисел или матрицей. Сделаем это с помощью той же функции np.array():"
   ]
  },
  {
   "cell_type": "code",
   "execution_count": 38,
   "id": "cd4df1f0",
   "metadata": {},
   "outputs": [
    {
     "data": {
      "text/plain": [
       "array([[12, 45, 78],\n",
       "       [34, 56, 13],\n",
       "       [12, 98, 76]])"
      ]
     },
     "execution_count": 38,
     "metadata": {},
     "output_type": "execute_result"
    }
   ],
   "source": [
    "nd_arr = np.array([\n",
    "                 [12, 45, 78],\n",
    "                 [34, 56, 13],\n",
    "                 [12, 98, 76]\n",
    "                 ])\n",
    "nd_arr"
   ]
  },
  {
   "cell_type": "markdown",
   "id": "9727a27d",
   "metadata": {},
   "source": [
    "## ТИПЫ ДАННЫХ В МАССИВЕ\n",
    "\n",
    "Мы только что узнали, что массив — это набор однотипных данных, но не указали никакой тип. Какого типа данные хранятся теперь в массиве arr? Узнать это можно, напечатав свойство dtype:"
   ]
  },
  {
   "cell_type": "code",
   "execution_count": 39,
   "id": "fb9fd317",
   "metadata": {},
   "outputs": [
    {
     "data": {
      "text/plain": [
       "dtype('int32')"
      ]
     },
     "execution_count": 39,
     "metadata": {},
     "output_type": "execute_result"
    }
   ],
   "source": [
    "arr = np.array([1,5,2,9,10])\n",
    "arr.dtype"
   ]
  },
  {
   "cell_type": "markdown",
   "id": "6c00d9a9",
   "metadata": {},
   "source": [
    "Примечание: данный код выполнялся в Google Colab, где по умолчанию используется NumPy 1.19.5. В более новых версиях int-типом по умолчанию является int32. Не удивляйтесь, если в последней версии NumPy вы увидите отличающийся результат выполнения ячейки.\n",
    "\n",
    "NumPy автоматически определил наш набор чисел как числа типа int64. Если мы, например, не планируем хранить в этом массиве целые числа более 127, можно было сразу при создании массива задать тип данных int8.\n",
    "\n",
    "Также тип данных можно будет указать или изменить позднее, если окажется, что текущий тип избыточен или, наоборот, недостаточен для хранения чисел с требуемой точностью. Однако числа в массиве всё равно будут одного и того же типа данных, даже если разработчик этого явно не указал.\n",
    "\n",
    " Задать тип данных сразу при создании массива можно с помощью параметра dtype:"
   ]
  },
  {
   "cell_type": "code",
   "execution_count": 40,
   "id": "3259d5e0",
   "metadata": {},
   "outputs": [
    {
     "data": {
      "text/plain": [
       "array([ 1,  5,  2,  9, 10], dtype=int8)"
      ]
     },
     "execution_count": 40,
     "metadata": {},
     "output_type": "execute_result"
    }
   ],
   "source": [
    "arr = np.array([1,5,2,9,10], dtype=np.int8)\n",
    "arr"
   ]
  },
  {
   "cell_type": "markdown",
   "id": "6ff2ef45",
   "metadata": {},
   "source": [
    "При этом тип данных теперь выводится на экран при отображении массива средствами Jupyter Notebook. \n",
    "\n",
    "Теперь, если добавить в arr число больше 127 или меньше -128, оно потеряет исходное значение, как и при преобразовании к меньшему типу:"
   ]
  },
  {
   "cell_type": "code",
   "execution_count": 41,
   "id": "1b3fc1ef",
   "metadata": {},
   "outputs": [
    {
     "data": {
      "text/plain": [
       "array([  1,   5, -48,   9,  10], dtype=int8)"
      ]
     },
     "execution_count": 41,
     "metadata": {},
     "output_type": "execute_result"
    }
   ],
   "source": [
    "arr[2] = 2000\n",
    "arr"
   ]
  },
  {
   "cell_type": "markdown",
   "id": "fc8b83a3",
   "metadata": {},
   "source": [
    "Если добавить float в массив int, пропадёт десятичная часть:"
   ]
  },
  {
   "cell_type": "code",
   "execution_count": 42,
   "id": "171a07b8",
   "metadata": {},
   "outputs": [
    {
     "data": {
      "text/plain": [
       "array([  1,   5, 125,   9,  10], dtype=int8)"
      ]
     },
     "execution_count": 42,
     "metadata": {},
     "output_type": "execute_result"
    }
   ],
   "source": [
    "arr[2] = 125.5\n",
    "arr"
   ]
  },
  {
   "cell_type": "markdown",
   "id": "33af7863",
   "metadata": {},
   "source": [
    "Строку, которую можно преобразовать в число, можно сразу положить в массив. Она будет приведена к нужному типу автоматически:"
   ]
  },
  {
   "cell_type": "code",
   "execution_count": 43,
   "id": "f13243b3",
   "metadata": {},
   "outputs": [
    {
     "data": {
      "text/plain": [
       "array([ 1,  5, 12,  9, 10], dtype=int8)"
      ]
     },
     "execution_count": 43,
     "metadata": {},
     "output_type": "execute_result"
    }
   ],
   "source": [
    "arr[2] = '12'\n",
    "arr"
   ]
  },
  {
   "cell_type": "markdown",
   "id": "fc78bcc2",
   "metadata": {},
   "source": [
    "А вот при попытке положить в массив строку, которую нельзя преобразовать в число, возникнет ошибка:"
   ]
  },
  {
   "cell_type": "code",
   "execution_count": 44,
   "id": "83cb58d9",
   "metadata": {},
   "outputs": [
    {
     "ename": "ValueError",
     "evalue": "invalid literal for int() with base 10: 'test'",
     "output_type": "error",
     "traceback": [
      "\u001b[1;31m----------------------------------------------------------------\u001b[0m",
      "\u001b[1;31mValueError\u001b[0m                     Traceback (most recent call last)",
      "Input \u001b[1;32mIn [44]\u001b[0m, in \u001b[0;36m<cell line: 1>\u001b[1;34m()\u001b[0m\n\u001b[1;32m----> 1\u001b[0m \u001b[43marr\u001b[49m\u001b[43m[\u001b[49m\u001b[38;5;241;43m2\u001b[39;49m\u001b[43m]\u001b[49m \u001b[38;5;241m=\u001b[39m \u001b[38;5;124m'\u001b[39m\u001b[38;5;124mtest\u001b[39m\u001b[38;5;124m'\u001b[39m\n",
      "\u001b[1;31mValueError\u001b[0m: invalid literal for int() with base 10: 'test'"
     ]
    }
   ],
   "source": [
    "arr[2] = 'test'"
   ]
  },
  {
   "cell_type": "markdown",
   "id": "c8b4b4be",
   "metadata": {},
   "source": [
    "Поменять тип данных во всём массиве можно с помощью тех же функций, которыми мы пользовались для преобразования типов отдельных переменных в предыдущем юните (например, np.int32 или np.float128):"
   ]
  },
  {
   "cell_type": "code",
   "execution_count": 46,
   "id": "065f71c9",
   "metadata": {},
   "outputs": [
    {
     "data": {
      "text/plain": [
       "array([ 1.,  5., 12.,  9., 10.])"
      ]
     },
     "execution_count": 46,
     "metadata": {},
     "output_type": "execute_result"
    }
   ],
   "source": [
    "arr = np.float64(arr)\n",
    "arr"
   ]
  },
  {
   "cell_type": "markdown",
   "id": "835739e2",
   "metadata": {},
   "source": [
    "При преобразовании типов данных в массиве не забывайте о том, что часть чисел может потерять смысл, если менять тип данных с более ёмкого на менее ёмкий:"
   ]
  },
  {
   "cell_type": "code",
   "execution_count": 49,
   "id": "a3ae604d",
   "metadata": {},
   "outputs": [
    {
     "data": {
      "text/plain": [
       "array([12321, -1234,  3435,  -214,   100])"
      ]
     },
     "execution_count": 49,
     "metadata": {},
     "output_type": "execute_result"
    }
   ],
   "source": [
    "arr = np.array([12321, -1234, 3435, -214, 100], dtype=np.int32)\n",
    "arr"
   ]
  },
  {
   "cell_type": "code",
   "execution_count": 50,
   "id": "944737d6",
   "metadata": {},
   "outputs": [
    {
     "data": {
      "text/plain": [
       "array([ 33,  46, 107,  42, 100], dtype=uint8)"
      ]
     },
     "execution_count": 50,
     "metadata": {},
     "output_type": "execute_result"
    }
   ],
   "source": [
    "arr = np.uint8(arr)\n",
    "arr"
   ]
  },
  {
   "cell_type": "markdown",
   "id": "a12e3362",
   "metadata": {},
   "source": [
    "Все числа, кроме 100, не могли быть корректно представлены в формате uint8, поэтому они отличаются от того, что ожидалось."
   ]
  },
  {
   "cell_type": "markdown",
   "id": "1be8f3fd",
   "metadata": {},
   "source": [
    "## Задание 6.3\n",
    "\n",
    "Выберите все типы данных, которые подходят для хранения в одном массиве без потери точности всех следующих чисел: 345234, 876362.12, 0, -1000, 99999999.\n",
    "\n",
    "Создайте массив из этих чисел с предложенными типами данных и посмотрите на результаты."
   ]
  },
  {
   "cell_type": "code",
   "execution_count": 58,
   "id": "8a967b1e",
   "metadata": {},
   "outputs": [
    {
     "data": {
      "text/plain": [
       "array([   inf,    inf,     0., -1000.,    inf], dtype=float16)"
      ]
     },
     "execution_count": 58,
     "metadata": {},
     "output_type": "execute_result"
    }
   ],
   "source": [
    "arr = np.array([345234, 876362.12, 0, -1000, 99999999], dtype=np.float16)\n",
    "arr"
   ]
  },
  {
   "cell_type": "code",
   "execution_count": 57,
   "id": "3d162807",
   "metadata": {},
   "outputs": [
    {
     "data": {
      "text/plain": [
       "array([ 3.452340e+05,  8.763621e+05,  0.000000e+00, -1.000000e+03,\n",
       "        1.000000e+08], dtype=float32)"
      ]
     },
     "execution_count": 57,
     "metadata": {},
     "output_type": "execute_result"
    }
   ],
   "source": [
    "arr = np.array([345234, 876362.12, 0, -1000, 99999999], dtype=np.float32)\n",
    "arr"
   ]
  },
  {
   "cell_type": "code",
   "execution_count": 55,
   "id": "9b94c457",
   "metadata": {},
   "outputs": [
    {
     "data": {
      "text/plain": [
       "array([ 3.4523400e+05,  8.7636212e+05,  0.0000000e+00, -1.0000000e+03,\n",
       "        9.9999999e+07])"
      ]
     },
     "execution_count": 55,
     "metadata": {},
     "output_type": "execute_result"
    }
   ],
   "source": [
    "arr = np.array([345234, 876362.12, 0, -1000, 99999999], dtype=np.float64)\n",
    "arr"
   ]
  },
  {
   "cell_type": "markdown",
   "id": "a5bd8535",
   "metadata": {},
   "source": [
    "## СВОЙСТВА NUMPY-МАССИВОВ\n",
    "\n",
    "Вы уже узнали, как получить тип данных, который хранится в массиве. Сделать это можно с помощью атрибута dtype. Есть и другие свойства массивов, которые будет полезно узнать.\n",
    "\n",
    "Будем тренироваться на массивах arr и nd_arr:"
   ]
  },
  {
   "cell_type": "code",
   "execution_count": 59,
   "id": "dba5d38e",
   "metadata": {},
   "outputs": [],
   "source": [
    "arr = np.array([1,5,2,9,10], dtype=np.int8)\n",
    "nd_arr = np.array([[12, 45, 78],\n",
    "                  [34, 56, 13],\n",
    "                  [12, 98, 76]\n",
    "                  ], dtype=np.int16)"
   ]
  },
  {
   "cell_type": "markdown",
   "id": "06c0893d",
   "metadata": {},
   "source": [
    "1. Узнать размерность массива можно с помощью .ndim:"
   ]
  },
  {
   "cell_type": "code",
   "execution_count": 61,
   "id": "f0edd9e0",
   "metadata": {},
   "outputs": [
    {
     "data": {
      "text/plain": [
       "1"
      ]
     },
     "execution_count": 61,
     "metadata": {},
     "output_type": "execute_result"
    }
   ],
   "source": [
    "arr.ndim"
   ]
  },
  {
   "cell_type": "code",
   "execution_count": 62,
   "id": "f9eaf6e9",
   "metadata": {},
   "outputs": [
    {
     "data": {
      "text/plain": [
       "2"
      ]
     },
     "execution_count": 62,
     "metadata": {},
     "output_type": "execute_result"
    }
   ],
   "source": [
    "nd_arr.ndim"
   ]
  },
  {
   "cell_type": "markdown",
   "id": "d4f8154c",
   "metadata": {},
   "source": [
    "В самом деле, мы создали arr одномерным, а nd_arr — двумерным.\n",
    "\n",
    "2. Узнать общее число элементов в массиве можно с помощью .size:"
   ]
  },
  {
   "cell_type": "code",
   "execution_count": 63,
   "id": "79a8ab0d",
   "metadata": {},
   "outputs": [
    {
     "data": {
      "text/plain": [
       "5"
      ]
     },
     "execution_count": 63,
     "metadata": {},
     "output_type": "execute_result"
    }
   ],
   "source": [
    "arr.size"
   ]
  },
  {
   "cell_type": "code",
   "execution_count": 64,
   "id": "ccd59411",
   "metadata": {},
   "outputs": [
    {
     "data": {
      "text/plain": [
       "9"
      ]
     },
     "execution_count": 64,
     "metadata": {},
     "output_type": "execute_result"
    }
   ],
   "source": [
    "nd_arr.size"
   ]
  },
  {
   "cell_type": "markdown",
   "id": "51cca318",
   "metadata": {},
   "source": [
    "3. Форма или структура массива хранится в атрибуте .shape:"
   ]
  },
  {
   "cell_type": "code",
   "execution_count": 65,
   "id": "659b859e",
   "metadata": {},
   "outputs": [
    {
     "data": {
      "text/plain": [
       "(5,)"
      ]
     },
     "execution_count": 65,
     "metadata": {},
     "output_type": "execute_result"
    }
   ],
   "source": [
    "arr.shape"
   ]
  },
  {
   "cell_type": "code",
   "execution_count": 66,
   "id": "fc94f7f9",
   "metadata": {},
   "outputs": [
    {
     "data": {
      "text/plain": [
       "(3, 3)"
      ]
     },
     "execution_count": 66,
     "metadata": {},
     "output_type": "execute_result"
    }
   ],
   "source": [
    "nd_arr.shape"
   ]
  },
  {
   "cell_type": "markdown",
   "id": "a8045cdf",
   "metadata": {},
   "source": [
    "Форма массива хранится в виде кортежа с числом элементов, равным размерности массива. Соответственно, для одномерного массива напечатан кортеж длины 1. Обратите внимание, что для двумерного массива вначале было напечатано число «строк», а затем число «столбцов». Это так только отчасти. На самом деле массив как бы состоит из внешних и внутренних массивов: вспомните, что мы передавали список, состоящий из трёх списков, длина каждого из которых равнялась трём. Форма массива определяется от длины внешнего массива (3) к внутреннему (3).\n",
    "\n",
    "4. Наконец, узнать, сколько «весит» каждый элемент массива в байтах позволяет .itemsize:"
   ]
  },
  {
   "cell_type": "code",
   "execution_count": 67,
   "id": "f38774c2",
   "metadata": {},
   "outputs": [
    {
     "data": {
      "text/plain": [
       "1"
      ]
     },
     "execution_count": 67,
     "metadata": {},
     "output_type": "execute_result"
    }
   ],
   "source": [
    "arr.itemsize"
   ]
  },
  {
   "cell_type": "code",
   "execution_count": 68,
   "id": "e1e58782",
   "metadata": {},
   "outputs": [
    {
     "data": {
      "text/plain": [
       "2"
      ]
     },
     "execution_count": 68,
     "metadata": {},
     "output_type": "execute_result"
    }
   ],
   "source": [
    "nd_arr.itemsize"
   ]
  },
  {
   "cell_type": "markdown",
   "id": "dd027e60",
   "metadata": {},
   "source": [
    "Действительно, в arr хранятся числа в виде int8 (8 бит => 1 байт), а в nd_arr — в виде int16 (16 бит => 2 байта)."
   ]
  },
  {
   "cell_type": "markdown",
   "id": "6137ebeb",
   "metadata": {},
   "source": [
    "## ЗАПОЛНЕНИЕ НОВЫХ МАССИВОВ\n",
    "\n",
    "→ Не всегда значения, которые будут храниться в массиве, уже доступны, а иметь для них массив уже хочется.\n",
    "\n",
    "Можно заранее подготовить массив заданной размерности, заполненный нулями, а потом загружать в него реальные данные по мере необходимости.\n",
    "\n",
    "Массив из нулей создаётся функцией np.zeros. Она принимает аргументы shape (обязательный) — форма массива (одно число или кортеж) и dtype (необязательный) — тип данных, который будет храниться в массиве.\n",
    "\n",
    "Создадим одномерный массив из пяти элементов:"
   ]
  },
  {
   "cell_type": "code",
   "execution_count": 69,
   "id": "74f87fa0",
   "metadata": {},
   "outputs": [
    {
     "data": {
      "text/plain": [
       "array([0., 0., 0., 0., 0.])"
      ]
     },
     "execution_count": 69,
     "metadata": {},
     "output_type": "execute_result"
    }
   ],
   "source": [
    "zeros_1d = np.zeros(5)\n",
    "zeros_1d"
   ]
  },
  {
   "cell_type": "markdown",
   "id": "a8af40cc",
   "metadata": {},
   "source": [
    "Создадим трёхмерный массив с формой 5x4x3 и типом float32:"
   ]
  },
  {
   "cell_type": "code",
   "execution_count": 70,
   "id": "d8f80836",
   "metadata": {},
   "outputs": [
    {
     "name": "stdout",
     "output_type": "stream",
     "text": [
      "(5, 4, 3)\n"
     ]
    }
   ],
   "source": [
    "zeros_3d = np.zeros((5,4,3), dtype=np.float32)\n",
    "print(zeros_3d.shape)"
   ]
  },
  {
   "cell_type": "markdown",
   "id": "277b53fc",
   "metadata": {},
   "source": [
    "Ещё одной удобной функцией для создания одномерных массивов является arange. Она аналогична встроенной функции range, но обладает рядом особенностей. Вот её сигнатура: arange([start,] stop, [step,], dtype=None).\n",
    "\n",
    "Аргументы start (по умолчанию 0), step (по умолчанию 1) и dtype (определяется автоматически) являются необязательными:\n",
    "\n",
    "* start (входит в диапазон возвращаемых значений) задаёт начальное число;\n",
    "* stop (не входит в диапазон возвращаемых значений, как и при использовании range) задаёт правую границу диапазона;\n",
    "* step задаёт шаг, с которым в массив добавляются новые значения.\n",
    "\n",
    "В отличие от range, в функции arange все перечисленные параметры могут иметь тип float.\n",
    "\n",
    "Поэкспериментируем. Создадим массив из пяти чисел от 0 до 4:"
   ]
  },
  {
   "cell_type": "code",
   "execution_count": 71,
   "id": "69302ecd",
   "metadata": {},
   "outputs": [
    {
     "data": {
      "text/plain": [
       "array([0, 1, 2, 3, 4])"
      ]
     },
     "execution_count": 71,
     "metadata": {},
     "output_type": "execute_result"
    }
   ],
   "source": [
    "np.arange(5)"
   ]
  },
  {
   "cell_type": "markdown",
   "id": "1299e3be",
   "metadata": {},
   "source": [
    "Создадим массив от 2.5 до 5:"
   ]
  },
  {
   "cell_type": "code",
   "execution_count": 72,
   "id": "c009514f",
   "metadata": {},
   "outputs": [
    {
     "data": {
      "text/plain": [
       "array([2.5, 3.5, 4.5])"
      ]
     },
     "execution_count": 72,
     "metadata": {},
     "output_type": "execute_result"
    }
   ],
   "source": [
    "np.arange(2.5, 5)"
   ]
  },
  {
   "cell_type": "markdown",
   "id": "c4ddb022",
   "metadata": {},
   "source": [
    "Создадим массив от 2.5 до 5 с шагом 0.5:"
   ]
  },
  {
   "cell_type": "code",
   "execution_count": 73,
   "id": "ddce6304",
   "metadata": {},
   "outputs": [
    {
     "data": {
      "text/plain": [
       "array([2.5, 3. , 3.5, 4. , 4.5])"
      ]
     },
     "execution_count": 73,
     "metadata": {},
     "output_type": "execute_result"
    }
   ],
   "source": [
    "np.arange(2.5, 5, 0.5)"
   ]
  },
  {
   "cell_type": "markdown",
   "id": "b16df2ea",
   "metadata": {},
   "source": [
    "Создадим массив от 2.5 до 5 с шагом 0.5 и с типом float16:"
   ]
  },
  {
   "cell_type": "code",
   "execution_count": 74,
   "id": "0f60e0fb",
   "metadata": {},
   "outputs": [
    {
     "data": {
      "text/plain": [
       "array([2.5, 3. , 3.5, 4. , 4.5], dtype=float16)"
      ]
     },
     "execution_count": 74,
     "metadata": {},
     "output_type": "execute_result"
    }
   ],
   "source": [
    "np.arange(2.5, 5, 0.5, dtype=np.float16)"
   ]
  },
  {
   "cell_type": "markdown",
   "id": "bf4584a3",
   "metadata": {},
   "source": [
    "На самом деле операции с плавающей точкой не всегда бывают предсказуемыми из-за особенностей хранения таких чисел в памяти компьютера. Поэтому для работы с дробными параметрами start, stop и step лучше использовать функцию linspace (англ. linear space — линейное пространство). Она тоже возвращает одномерный массив из чисел, расположенных на равном удалении друг от друга между началом и концом диапазона, но обладает немного другим поведением и сигнатурой:\n",
    "\n",
    "np.linspace(start, stop, num=50, endpoint=True, retstep=False, dtype=None)\n",
    "\n",
    "* start и stop являются обязательными параметрами, задающими начало и конец возвращаемого диапазона;\n",
    "* num — параметр, задающий число элементов, которое должно оказаться в массиве (по умолчанию 50);\n",
    "* endpoint — включён или исключён конец диапазона (по умолчанию включён);\n",
    "* retstep (по умолчанию False) позволяет указать, возвращать ли использованный шаг между значениями, помимо самого массива;\n",
    "* dtype — уже хорошо знакомый нам параметр, задающий тип данных (если не задан, определяется автоматически).\n",
    "\n",
    "Давайте потренируемся. Создадим массив из десяти чисел между 1 и 2:"
   ]
  },
  {
   "cell_type": "code",
   "execution_count": 75,
   "id": "8f1f9917",
   "metadata": {},
   "outputs": [
    {
     "data": {
      "text/plain": [
       "array([1.        , 1.11111111, 1.22222222, 1.33333333, 1.44444444,\n",
       "       1.55555556, 1.66666667, 1.77777778, 1.88888889, 2.        ])"
      ]
     },
     "execution_count": 75,
     "metadata": {},
     "output_type": "execute_result"
    }
   ],
   "source": [
    "arr = np.linspace(1, 2, 10)\n",
    "arr"
   ]
  },
  {
   "cell_type": "markdown",
   "id": "cf55600a",
   "metadata": {},
   "source": [
    "Создадим массив из десяти чисел между 1 и 2, не включая 2:"
   ]
  },
  {
   "cell_type": "code",
   "execution_count": 76,
   "id": "e4bf0cdb",
   "metadata": {},
   "outputs": [
    {
     "data": {
      "text/plain": [
       "array([1. , 1.1, 1.2, 1.3, 1.4, 1.5, 1.6, 1.7, 1.8, 1.9])"
      ]
     },
     "execution_count": 76,
     "metadata": {},
     "output_type": "execute_result"
    }
   ],
   "source": [
    "arr = np.linspace(1, 2, 10, endpoint=False)\n",
    "arr"
   ]
  },
  {
   "cell_type": "markdown",
   "id": "9e61dc47",
   "metadata": {},
   "source": [
    "Узнаем, какой шаг был использован для создания массива из десяти чисел между 1 и 2, где 2 включалось и не включалось:"
   ]
  },
  {
   "cell_type": "code",
   "execution_count": 77,
   "id": "9ab8c18b",
   "metadata": {},
   "outputs": [
    {
     "name": "stdout",
     "output_type": "stream",
     "text": [
      "0.1111111111111111\n"
     ]
    }
   ],
   "source": [
    "arr, step = np.linspace(1, 2, 10, endpoint=True, retstep=True)\n",
    "print(step)"
   ]
  },
  {
   "cell_type": "code",
   "execution_count": 78,
   "id": "66909f66",
   "metadata": {},
   "outputs": [
    {
     "name": "stdout",
     "output_type": "stream",
     "text": [
      "0.1\n"
     ]
    }
   ],
   "source": [
    "arr, step = np.linspace(1, 2, 10, endpoint=False, retstep=True)\n",
    "print(step)"
   ]
  },
  {
   "cell_type": "markdown",
   "id": "1ac968df",
   "metadata": {},
   "source": [
    "→ Функцию linspace очень удобно использовать при построении графиков различных функций, поскольку она позволяет получить равномерный массив чисел, к которому можно применить исследуемую функцию и показать результат на графике. Вы научитесь это делать в модуле, посвящённом визуализации.\n",
    "\n",
    "## Задание 6.6\n",
    "\n",
    "С каким шагом сгенерируется массив из 60 чисел от -6 до 21 включительно? Ответ округлите до двух знаков после точки."
   ]
  },
  {
   "cell_type": "code",
   "execution_count": 81,
   "id": "9c9923eb",
   "metadata": {},
   "outputs": [
    {
     "name": "stdout",
     "output_type": "stream",
     "text": [
      "0.4576271186440678\n"
     ]
    }
   ],
   "source": [
    "mass, step = np.linspace(-6, 21, 60, endpoint=True, retstep=True)\n",
    "print(step)"
   ]
  },
  {
   "cell_type": "markdown",
   "id": "c01b74e7",
   "metadata": {},
   "source": [
    "## Задание 6.7\n",
    "\n",
    "С каким шагом сгенерируется массив из 60 чисел от -6 (включительно) до 21 (не включительно)? Ответ округлите до 2 знаков после точки."
   ]
  },
  {
   "cell_type": "code",
   "execution_count": 82,
   "id": "577cdb6b",
   "metadata": {},
   "outputs": [
    {
     "name": "stdout",
     "output_type": "stream",
     "text": [
      "0.45\n"
     ]
    }
   ],
   "source": [
    "mass, step = np.linspace(-6, 21, 60, endpoint=False, retstep=True)\n",
    "print(step)"
   ]
  },
  {
   "cell_type": "markdown",
   "id": "c8d9ef46",
   "metadata": {},
   "source": [
    "## Задание 6.8\n",
    "\n",
    "Узнайте размерность массива mystery."
   ]
  },
  {
   "cell_type": "markdown",
   "id": "6bed1c7f",
   "metadata": {},
   "source": [
    "# ДЕЙСТВИЯ С МАССИВАМИ\n",
    "\n",
    "## ИЗМЕНЕНИЕ ФОРМЫ МАССИВА\n",
    "\n",
    "В предыдущем юните вы научились получать одномерные массивы из чисел с помощью функции arange. В NumPy существуют функции, которые позволяют менять форму массива.\n",
    "\n",
    "Создадим массив из восьми чисел:"
   ]
  },
  {
   "cell_type": "code",
   "execution_count": 85,
   "id": "6bc298e7",
   "metadata": {},
   "outputs": [
    {
     "data": {
      "text/plain": [
       "array([0, 1, 2, 3, 4, 5, 6, 7])"
      ]
     },
     "execution_count": 85,
     "metadata": {},
     "output_type": "execute_result"
    }
   ],
   "source": [
    "import numpy as np\n",
    "\n",
    "arr = np.arange(8)\n",
    "arr"
   ]
  },
  {
   "cell_type": "markdown",
   "id": "b7c22b20",
   "metadata": {},
   "source": [
    "Поменять форму массива arr можно с помощью присвоения атрибуту shape кортежа с желаемой формой:"
   ]
  },
  {
   "cell_type": "code",
   "execution_count": 86,
   "id": "de7c6f3e",
   "metadata": {},
   "outputs": [
    {
     "data": {
      "text/plain": [
       "array([[0, 1, 2, 3],\n",
       "       [4, 5, 6, 7]])"
      ]
     },
     "execution_count": 86,
     "metadata": {},
     "output_type": "execute_result"
    }
   ],
   "source": [
    "arr.shape = (2, 4)\n",
    "arr"
   ]
  },
  {
   "cell_type": "markdown",
   "id": "3fafd2cf",
   "metadata": {},
   "source": [
    "Как и принято в NumPy, первое число задало число строк, а второе — число столбцов.\n",
    "\n",
    "Присвоение нового значения атрибуту shape изменяет тот массив, с которым производится действие.\n",
    "\n",
    "Чтобы оставить исходный массив без изменений и дополнительно получить новый массив новой формы, нужно использовать функцию reshape. Она также принимает в качестве аргумента кортеж из чисел для формы, но возвращает новый массив, а не изменяет исходный:"
   ]
  },
  {
   "cell_type": "code",
   "execution_count": 87,
   "id": "d83dc788",
   "metadata": {},
   "outputs": [
    {
     "data": {
      "text/plain": [
       "array([[0, 1, 2, 3],\n",
       "       [4, 5, 6, 7]])"
      ]
     },
     "execution_count": 87,
     "metadata": {},
     "output_type": "execute_result"
    }
   ],
   "source": [
    "arr = np.arange(8)\n",
    "arr_new = arr.reshape((2, 4))\n",
    "arr_new"
   ]
  },
  {
   "cell_type": "markdown",
   "id": "921a4d0b",
   "metadata": {},
   "source": [
    "У функции reshape есть дополнительный именованный аргумент order. Он задаёт принцип, по которому элементы заполняют массив новой формы. Если order='C' (по умолчанию), массив заполняется по строкам, как в примере выше. Если order='F', массив заполняется числами по столбцам:"
   ]
  },
  {
   "cell_type": "code",
   "execution_count": 88,
   "id": "b8fc2da8",
   "metadata": {},
   "outputs": [
    {
     "data": {
      "text/plain": [
       "array([[0, 2, 4, 6],\n",
       "       [1, 3, 5, 7]])"
      ]
     },
     "execution_count": 88,
     "metadata": {},
     "output_type": "execute_result"
    }
   ],
   "source": [
    "arr = np.arange(8)\n",
    "arr_new = arr.reshape((2, 4), order='F')\n",
    "arr_new"
   ]
  },
  {
   "cell_type": "markdown",
   "id": "5efcbc76",
   "metadata": {},
   "source": [
    "Ещё одной часто используемой операцией с формой массива (особенно двумерного) является транспонирование. Эта операция меняет строки и столбцы массива местами. В NumPy эту операцию совершает функция transpose.\n",
    "\n",
    "Будем работать с двумерным массивом:"
   ]
  },
  {
   "cell_type": "code",
   "execution_count": 90,
   "id": "46bfdbcb",
   "metadata": {},
   "outputs": [
    {
     "data": {
      "text/plain": [
       "array([[0, 1, 2, 3],\n",
       "       [4, 5, 6, 7]])"
      ]
     },
     "execution_count": 90,
     "metadata": {},
     "output_type": "execute_result"
    }
   ],
   "source": [
    "arr = np.arange(8)\n",
    "arr.shape = (2, 4)\n",
    "arr"
   ]
  },
  {
   "cell_type": "markdown",
   "id": "ca7b07a3",
   "metadata": {},
   "source": [
    "Транспонируем его:"
   ]
  },
  {
   "cell_type": "code",
   "execution_count": 91,
   "id": "f6876543",
   "metadata": {},
   "outputs": [
    {
     "data": {
      "text/plain": [
       "array([[0, 4],\n",
       "       [1, 5],\n",
       "       [2, 6],\n",
       "       [3, 7]])"
      ]
     },
     "execution_count": 91,
     "metadata": {},
     "output_type": "execute_result"
    }
   ],
   "source": [
    "arr_trans = arr.transpose()\n",
    "arr_trans"
   ]
  },
  {
   "cell_type": "markdown",
   "id": "60122d39",
   "metadata": {},
   "source": [
    "При транспонировании одномерного массива его форма не меняется:"
   ]
  },
  {
   "cell_type": "code",
   "execution_count": 92,
   "id": "1f86011a",
   "metadata": {},
   "outputs": [
    {
     "name": "stdout",
     "output_type": "stream",
     "text": [
      "(3,)\n",
      "(3,)\n"
     ]
    }
   ],
   "source": [
    "arr = np.arange(3)\n",
    "print(arr.shape)\n",
    "arr_trans = arr.transpose()\n",
    "print(arr_trans.shape)"
   ]
  },
  {
   "cell_type": "markdown",
   "id": "45ccd7ed",
   "metadata": {},
   "source": [
    "## ИНДЕКСЫ И СРЕЗЫ В МАССИВАХ\n",
    "\n",
    "В определении массива указано, что он позволяет быстро получать элементы по индексу. Как же это происходит?\n",
    "\n",
    "Создадим массив из шести чисел:"
   ]
  },
  {
   "cell_type": "code",
   "execution_count": 93,
   "id": "536f3eb7",
   "metadata": {},
   "outputs": [
    {
     "data": {
      "text/plain": [
       "array([1. , 1.2, 1.4, 1.6, 1.8, 2. ])"
      ]
     },
     "execution_count": 93,
     "metadata": {},
     "output_type": "execute_result"
    }
   ],
   "source": [
    "arr = np.linspace(1, 2, 6)\n",
    "arr"
   ]
  },
  {
   "cell_type": "markdown",
   "id": "87ab206e",
   "metadata": {},
   "source": [
    "Обратиться к его элементу по индексу можно так же, как и к списку:"
   ]
  },
  {
   "cell_type": "code",
   "execution_count": 94,
   "id": "30108ac8",
   "metadata": {},
   "outputs": [
    {
     "name": "stdout",
     "output_type": "stream",
     "text": [
      "1.4\n"
     ]
    }
   ],
   "source": [
    "print(arr[2])"
   ]
  },
  {
   "cell_type": "markdown",
   "id": "63a1bc8e",
   "metadata": {},
   "source": [
    "Привычная запись для срезов работает и для одномерных массивов:"
   ]
  },
  {
   "cell_type": "code",
   "execution_count": 95,
   "id": "573a6b8f",
   "metadata": {},
   "outputs": [
    {
     "name": "stdout",
     "output_type": "stream",
     "text": [
      "[1.4 1.6]\n"
     ]
    }
   ],
   "source": [
    "print(arr[2:4])"
   ]
  },
  {
   "cell_type": "markdown",
   "id": "e71a1486",
   "metadata": {},
   "source": [
    "Наконец, напечатать массив в обратном порядке можно с помощью привычной конструкции [::-1]:"
   ]
  },
  {
   "cell_type": "code",
   "execution_count": 96,
   "id": "3e59d629",
   "metadata": {},
   "outputs": [
    {
     "name": "stdout",
     "output_type": "stream",
     "text": [
      "[2.  1.8 1.6 1.4 1.2 1. ]\n"
     ]
    }
   ],
   "source": [
    "print(arr[::-1])"
   ]
  },
  {
   "cell_type": "markdown",
   "id": "641e6045",
   "metadata": {},
   "source": [
    "С многомерными массивами работать немного интереснее. Создадим двумерный массив из одномерного:"
   ]
  },
  {
   "cell_type": "code",
   "execution_count": 97,
   "id": "5d84fcf5",
   "metadata": {},
   "outputs": [
    {
     "data": {
      "text/plain": [
       "array([[0. , 0.5, 1. , 1.5],\n",
       "       [2. , 2.5, 3. , 3.5],\n",
       "       [4. , 4.5, 5. , 5.5]])"
      ]
     },
     "execution_count": 97,
     "metadata": {},
     "output_type": "execute_result"
    }
   ],
   "source": [
    "nd_array = np.linspace(0, 6, 12, endpoint=False).reshape(3,4)\n",
    "nd_array"
   ]
  },
  {
   "cell_type": "markdown",
   "id": "70d07bf8",
   "metadata": {},
   "source": [
    "Можно воспользоваться привычной записью нескольких индексов в нескольких квадратных скобках:"
   ]
  },
  {
   "cell_type": "code",
   "execution_count": 98,
   "id": "058b3d1d",
   "metadata": {},
   "outputs": [
    {
     "data": {
      "text/plain": [
       "3.0"
      ]
     },
     "execution_count": 98,
     "metadata": {},
     "output_type": "execute_result"
    }
   ],
   "source": [
    "nd_array[1][2]"
   ]
  },
  {
   "cell_type": "markdown",
   "id": "a4525007",
   "metadata": {},
   "source": [
    "Мы получили число из второй строки и третьего столбца массива.\n",
    "\n",
    "Мы бы так и делали, если бы приходилось работать со списком из списков. Однако проводить индексацию по массиву в NumPy можно проще: достаточно в одних и тех же квадратных скобках перечислить индексы через запятую. Вот так:"
   ]
  },
  {
   "cell_type": "code",
   "execution_count": 100,
   "id": "09b59081",
   "metadata": {},
   "outputs": [
    {
     "data": {
      "text/plain": [
       "3.0"
      ]
     },
     "execution_count": 100,
     "metadata": {},
     "output_type": "execute_result"
    }
   ],
   "source": [
    "nd_array[1, 2]"
   ]
  },
  {
   "cell_type": "markdown",
   "id": "14823b37",
   "metadata": {},
   "source": [
    "Как видите, получилось то же самое число. Также через запятую можно передавать срезы или даже их комбинации с индексами. Например, получим все элементы из колонки 3 для первых двух строк:"
   ]
  },
  {
   "cell_type": "code",
   "execution_count": 101,
   "id": "64eba42d",
   "metadata": {},
   "outputs": [
    {
     "data": {
      "text/plain": [
       "array([1., 3.])"
      ]
     },
     "execution_count": 101,
     "metadata": {},
     "output_type": "execute_result"
    }
   ],
   "source": [
    "nd_array[:2, 2]"
   ]
  },
  {
   "cell_type": "markdown",
   "id": "411db80b",
   "metadata": {},
   "source": [
    "Несмотря на то что в массиве этот срез является столбцом, вместо него мы получили одномерный массив в виде строки.\n",
    "\n",
    "Можно применять срезы сразу и к строкам, и к столбцам:"
   ]
  },
  {
   "cell_type": "code",
   "execution_count": 103,
   "id": "c391d022",
   "metadata": {},
   "outputs": [
    {
     "data": {
      "text/plain": [
       "array([[3. , 3.5],\n",
       "       [5. , 5.5]])"
      ]
     },
     "execution_count": 103,
     "metadata": {},
     "output_type": "execute_result"
    }
   ],
   "source": [
    "nd_array[1:, 2:4] #[строка, столбец]"
   ]
  },
  {
   "cell_type": "markdown",
   "id": "52ed9dfa",
   "metadata": {},
   "source": [
    "Чтобы получить все значения из какой-то оси, можно оставить на её месте двоеточие. Например, из всех строк получим срез с третьего по четвёртый столбцы:"
   ]
  },
  {
   "cell_type": "code",
   "execution_count": 161,
   "id": "06b08ee8",
   "metadata": {},
   "outputs": [
    {
     "data": {
      "text/plain": [
       "array([[1. , 1.5],\n",
       "       [3. , 3.5],\n",
       "       [5. , 5.5]])"
      ]
     },
     "execution_count": 161,
     "metadata": {},
     "output_type": "execute_result"
    }
   ],
   "source": [
    "nd_array[:, 2:4]"
   ]
  },
  {
   "cell_type": "markdown",
   "id": "3152d4d9",
   "metadata": {},
   "source": [
    "Чтобы получить самую последнюю ось (в данном случае все столбцы), двоеточие писать необязательно. Строки будут получены целиком по умолчанию:"
   ]
  },
  {
   "cell_type": "code",
   "execution_count": 105,
   "id": "ee76dbd2",
   "metadata": {},
   "outputs": [
    {
     "data": {
      "text/plain": [
       "array([[0. , 0.5, 1. , 1.5],\n",
       "       [2. , 2.5, 3. , 3.5]])"
      ]
     },
     "execution_count": 105,
     "metadata": {},
     "output_type": "execute_result"
    }
   ],
   "source": [
    "nd_array[:2]"
   ]
  },
  {
   "cell_type": "markdown",
   "id": "33134ac1",
   "metadata": {},
   "source": [
    "## Задание 7.2\n",
    "\n",
    "Выполните все действия, указанные в комментариях в файле main.py.\n",
    "\n",
    "Нумерация в заданиях начинается с нуля.\n",
    "\n",
    "Пожалуйста, не меняйте названия переменных, в которых должны появиться ответы."
   ]
  },
  {
   "cell_type": "code",
   "execution_count": 145,
   "id": "3b08dab8",
   "metadata": {},
   "outputs": [
    {
     "data": {
      "text/plain": [
       "array([2. , 2.5, 3. , 3.5])"
      ]
     },
     "execution_count": 145,
     "metadata": {},
     "output_type": "execute_result"
    }
   ],
   "source": [
    "nd_array[1]"
   ]
  },
  {
   "cell_type": "markdown",
   "id": "600b00a2",
   "metadata": {},
   "source": [
    "## СОРТИРОВКА ОДНОМЕРНЫХ МАССИВОВ\n",
    "\n",
    "Иногда возникает задача по сортировке значений в массиве. Для её решения существуют встроенная в NumPy функция sort. Она обладает дополнительными параметрами, в том числе возможностью сортировки многомерных массивов, однако пока что это нам не потребуется. Применять функцию можно двумя способами.\n",
    "\n",
    "**Способ 1**. Функция np.sort(<массив>) возвращает новый отсортированный массив:"
   ]
  },
  {
   "cell_type": "code",
   "execution_count": 146,
   "id": "ad15c953",
   "metadata": {},
   "outputs": [
    {
     "name": "stdout",
     "output_type": "stream",
     "text": [
      "[23 12 45 12 23  4 15  3]\n"
     ]
    }
   ],
   "source": [
    "arr = np.array([23,12,45,12,23,4,15,3])\n",
    "arr_new = np.sort(arr)\n",
    "print(arr)"
   ]
  },
  {
   "cell_type": "code",
   "execution_count": 147,
   "id": "3d615ca8",
   "metadata": {},
   "outputs": [
    {
     "name": "stdout",
     "output_type": "stream",
     "text": [
      "[ 3  4 12 12 15 23 23 45]\n"
     ]
    }
   ],
   "source": [
    "print(arr_new)"
   ]
  },
  {
   "cell_type": "markdown",
   "id": "96b2709e",
   "metadata": {},
   "source": [
    "**Способ 2**. Функция <массив>.sort() сортирует исходный массив и возвращает None:"
   ]
  },
  {
   "cell_type": "code",
   "execution_count": 148,
   "id": "927f4626",
   "metadata": {},
   "outputs": [
    {
     "name": "stdout",
     "output_type": "stream",
     "text": [
      "None\n",
      "[ 3  4 12 12 15 23 23 45]\n"
     ]
    }
   ],
   "source": [
    "arr = np.array([23,12,45,12,23,4,15,3])\n",
    "print(arr.sort())\n",
    "print(arr)"
   ]
  },
  {
   "cell_type": "markdown",
   "id": "14062ebe",
   "metadata": {},
   "source": [
    "## РАБОТА С ПРОПУЩЕННЫМИ ДАННЫМИ\n",
    "\n",
    "Начнём с примера — создадим массив:"
   ]
  },
  {
   "cell_type": "code",
   "execution_count": 149,
   "id": "b0f7fb15",
   "metadata": {},
   "outputs": [],
   "source": [
    "data = np.array([4, 9, -4, 3])\n"
   ]
  },
  {
   "cell_type": "markdown",
   "id": "0080cbdd",
   "metadata": {},
   "source": [
    "Воспользуемся встроенной в NumPy функцией sqrt, чтобы посчитать квадратные корни из элементов."
   ]
  },
  {
   "cell_type": "code",
   "execution_count": 150,
   "id": "a70fee18",
   "metadata": {},
   "outputs": [
    {
     "name": "stderr",
     "output_type": "stream",
     "text": [
      "C:\\Users\\кролик\\AppData\\Local\\Temp\\ipykernel_11900\\3752651322.py:1: RuntimeWarning: invalid value encountered in sqrt\n",
      "  roots = np.sqrt(data)\n"
     ]
    },
    {
     "data": {
      "text/plain": [
       "array([2.        , 3.        ,        nan, 1.73205081])"
      ]
     },
     "execution_count": 150,
     "metadata": {},
     "output_type": "execute_result"
    }
   ],
   "source": [
    "roots = np.sqrt(data)\n",
    "roots"
   ]
  },
  {
   "cell_type": "markdown",
   "id": "b7d77240",
   "metadata": {},
   "source": [
    "NumPy выдал предупреждение о том, что в функцию sqrt попало некорректное значение. Это было число -4, а как вы помните, корень из отрицательного числа в действительных числах не берётся. Однако программа не сломалась окончательно, а продолжила работу. На том месте, где должен был оказаться корень из -4, теперь присутствует объект nan. Он расшифровывается как Not a number (не число). Этот объект аналогичен встроенному типу None, но имеет несколько отличий:\n",
    "\n",
    "**Отличие 1**. None является отдельным объектом типа NoneType. np.nan — это отдельный представитель класса float:"
   ]
  },
  {
   "cell_type": "code",
   "execution_count": 151,
   "id": "18df991d",
   "metadata": {},
   "outputs": [
    {
     "name": "stdout",
     "output_type": "stream",
     "text": [
      "<class 'NoneType'>\n",
      "<class 'float'>\n"
     ]
    }
   ],
   "source": [
    "print(type(None))\n",
    "print(type(np.nan))"
   ]
  },
  {
   "cell_type": "markdown",
   "id": "6f796773",
   "metadata": {},
   "source": [
    "**Отличие 2**. None могут быть равны друг другу, а np.nan — нет:\n",
    "\n",
    "Как вы помните, чтобы грамотно сравнить что-либо с None, необходимо использовать оператор is. Это ещё более актуально для np.nan. Однако None даже через is не является эквивалентным np.nan:"
   ]
  },
  {
   "cell_type": "code",
   "execution_count": 152,
   "id": "28f6b3ff",
   "metadata": {},
   "outputs": [
    {
     "name": "stdout",
     "output_type": "stream",
     "text": [
      "True\n",
      "False\n"
     ]
    }
   ],
   "source": [
    "print(None == None)\n",
    "print(np.nan == np.nan)"
   ]
  },
  {
   "cell_type": "code",
   "execution_count": 153,
   "id": "0e589d4d",
   "metadata": {},
   "outputs": [
    {
     "name": "stdout",
     "output_type": "stream",
     "text": [
      "True\n",
      "True\n",
      "False\n"
     ]
    }
   ],
   "source": [
    "print(None is None)\n",
    "print(np.nan is np.nan)\n",
    "print(np.nan is None)"
   ]
  },
  {
   "cell_type": "markdown",
   "id": "c4016623",
   "metadata": {},
   "source": [
    "Иногда работать с отсутствующими данными всё же нужно. Они могут возникнуть не только потому, что мы применили функцию к некорректному аргументу. Например, при анализе вакансий на сайте для некоторых из них может быть не указана зарплата, но при этом нам необходимо проанализировать статистику по зарплатам на сайте. Если попробовать посчитать сумму массива, который содержит np.nan, в итоге получится nan:"
   ]
  },
  {
   "cell_type": "code",
   "execution_count": 154,
   "id": "f964aa00",
   "metadata": {},
   "outputs": [
    {
     "data": {
      "text/plain": [
       "nan"
      ]
     },
     "execution_count": 154,
     "metadata": {},
     "output_type": "execute_result"
    }
   ],
   "source": [
    "sum(roots)"
   ]
  },
  {
   "cell_type": "markdown",
   "id": "137e85e1",
   "metadata": {},
   "source": [
    "Что же делать?\n",
    "\n",
    "Можно заполнить пропущенные значения, например, нулями. Для этого с помощью функции np.isnan(<массив>) узнаем, на каких местах в массиве находятся «не числа»:"
   ]
  },
  {
   "cell_type": "code",
   "execution_count": 155,
   "id": "7e00f277",
   "metadata": {},
   "outputs": [
    {
     "data": {
      "text/plain": [
       "array([False, False,  True, False])"
      ]
     },
     "execution_count": 155,
     "metadata": {},
     "output_type": "execute_result"
    }
   ],
   "source": [
    "np.isnan(roots)"
   ]
  },
  {
   "cell_type": "markdown",
   "id": "c45f90ac",
   "metadata": {},
   "source": [
    "Можно использовать полученный массив из True и False для извлечения элементов из массива roots, на месте которых в булевом массиве указано True. Таким способом можно узнать сами элементы, которые удовлетворяют условию np.isnan:"
   ]
  },
  {
   "cell_type": "code",
   "execution_count": 156,
   "id": "89438da2",
   "metadata": {},
   "outputs": [
    {
     "data": {
      "text/plain": [
       "array([nan])"
      ]
     },
     "execution_count": 156,
     "metadata": {},
     "output_type": "execute_result"
    }
   ],
   "source": [
    "roots[np.isnan(roots)]"
   ]
  },
  {
   "cell_type": "markdown",
   "id": "cb698dc2",
   "metadata": {},
   "source": [
    "Этим элементам можно присвоить новые значения, например 0:"
   ]
  },
  {
   "cell_type": "code",
   "execution_count": 157,
   "id": "98f821da",
   "metadata": {},
   "outputs": [
    {
     "data": {
      "text/plain": [
       "array([2.        , 3.        , 0.        , 1.73205081])"
      ]
     },
     "execution_count": 157,
     "metadata": {},
     "output_type": "execute_result"
    }
   ],
   "source": [
    "roots[np.isnan(roots)] = 0\n",
    "roots"
   ]
  },
  {
   "cell_type": "markdown",
   "id": "fa6a875f",
   "metadata": {},
   "source": [
    "После этого, если пропущенных значений больше нет, можем подсчитать сумму элементов массива"
   ]
  },
  {
   "cell_type": "code",
   "execution_count": 158,
   "id": "57378023",
   "metadata": {},
   "outputs": [
    {
     "data": {
      "text/plain": [
       "6.732050807568877"
      ]
     },
     "execution_count": 158,
     "metadata": {},
     "output_type": "execute_result"
    }
   ],
   "source": [
    "sum(roots)"
   ]
  },
  {
   "cell_type": "markdown",
   "id": "32fa7f21",
   "metadata": {},
   "source": [
    "Ранее проблема при подсчёте суммы элементов в массиве roots возникала из-за того, что отсутствовало значение для квадратного корня из -4 — вместо него было указано np.nan. Сумма элементов массива, содержащего nan, также является nan. Поэтому приходится заменить nan, например, на 0, чтобы подсчитать сумму элементов массива."
   ]
  },
  {
   "cell_type": "markdown",
   "id": "26371c3a",
   "metadata": {},
   "source": [
    "# ВЕКТОРЫ В NUMPY И АРИФМЕТИКА\n",
    "\n",
    "С векторами в NumPy можно производить арифметические операции: складывать, вычитать, умножать друг на друга, возводить один вектор в степень другого и т. д.\n",
    "\n",
    "Операция, применённая к двум векторам, на самом деле применяется поэлементно. То есть при сложении двух векторов первым элементом нового вектора будет сумма первых элементов исходных векторов, вторым — сумма вторых элементов и т. д.\n",
    "\n",
    "Рассмотрим примеры ↓\n",
    "\n",
    "Произведём сложение двух векторов:"
   ]
  },
  {
   "cell_type": "code",
   "execution_count": 163,
   "id": "01704bb6",
   "metadata": {},
   "outputs": [
    {
     "data": {
      "text/plain": [
       "array([14. , 10. , 10.6, 15.5])"
      ]
     },
     "execution_count": 163,
     "metadata": {},
     "output_type": "execute_result"
    }
   ],
   "source": [
    "import numpy as np\n",
    "vec1 = np.array([2, 4, 7, 2.5])\n",
    "vec2 = np.array([12, 6, 3.6, 13])\n",
    "vec1 + vec2"
   ]
  },
  {
   "cell_type": "markdown",
   "id": "d94965ea",
   "metadata": {},
   "source": [
    "Что бы произошло при сложении двух списков? Их элементы просто объединились бы в один список:"
   ]
  },
  {
   "cell_type": "code",
   "execution_count": 164,
   "id": "8218ddbc",
   "metadata": {},
   "outputs": [
    {
     "data": {
      "text/plain": [
       "[2, 4, 7, 2.5, 12, 6, 3.6, 13]"
      ]
     },
     "execution_count": 164,
     "metadata": {},
     "output_type": "execute_result"
    }
   ],
   "source": [
    "list1 = [2, 4, 7, 2.5]\n",
    "list2 = [12, 6, 3.6, 13]\n",
    "list1 + list2"
   ]
  },
  {
   "cell_type": "markdown",
   "id": "971d1dcc",
   "metadata": {},
   "source": [
    "Чтобы сложить два этих списка поэлементно, нам пришлось бы написать списочное сокращение с применением функции zip():"
   ]
  },
  {
   "cell_type": "code",
   "execution_count": 165,
   "id": "a3a1d528",
   "metadata": {},
   "outputs": [
    {
     "data": {
      "text/plain": [
       "[14, 10, 10.6, 15.5]"
      ]
     },
     "execution_count": 165,
     "metadata": {},
     "output_type": "execute_result"
    }
   ],
   "source": [
    "[x + y for x, y in zip(list1, list2)]"
   ]
  },
  {
   "cell_type": "markdown",
   "id": "0a48a7fa",
   "metadata": {},
   "source": [
    "Для совершения арифметических операций с векторами они должны быть одинаковой длины.\n",
    "\n",
    "Поэлементно умножим два вектора одинаковой длины:"
   ]
  },
  {
   "cell_type": "code",
   "execution_count": 166,
   "id": "be010566",
   "metadata": {},
   "outputs": [
    {
     "data": {
      "text/plain": [
       "array([24. , 24. , 25.2, 32.5])"
      ]
     },
     "execution_count": 166,
     "metadata": {},
     "output_type": "execute_result"
    }
   ],
   "source": [
    "vec1 = np.array([2, 4, 7, 2.5])\n",
    "vec2 = np.array([12, 6, 3.6, 13])\n",
    "vec1 * vec2"
   ]
  },
  {
   "cell_type": "markdown",
   "id": "5a2e52dd",
   "metadata": {},
   "source": [
    "А теперь создадим vec2, который будет на один элемент короче, чем vec1:"
   ]
  },
  {
   "cell_type": "code",
   "execution_count": 167,
   "id": "eba6c556",
   "metadata": {},
   "outputs": [
    {
     "ename": "ValueError",
     "evalue": "operands could not be broadcast together with shapes (4,) (3,) ",
     "output_type": "error",
     "traceback": [
      "\u001b[1;31m----------------------------------------------------------------\u001b[0m",
      "\u001b[1;31mValueError\u001b[0m                     Traceback (most recent call last)",
      "Input \u001b[1;32mIn [167]\u001b[0m, in \u001b[0;36m<cell line: 3>\u001b[1;34m()\u001b[0m\n\u001b[0;32m      1\u001b[0m vec1 \u001b[38;5;241m=\u001b[39m np\u001b[38;5;241m.\u001b[39marray([\u001b[38;5;241m2\u001b[39m, \u001b[38;5;241m4\u001b[39m, \u001b[38;5;241m7\u001b[39m, \u001b[38;5;241m2.5\u001b[39m])\n\u001b[0;32m      2\u001b[0m vec2 \u001b[38;5;241m=\u001b[39m np\u001b[38;5;241m.\u001b[39marray([\u001b[38;5;241m12\u001b[39m, \u001b[38;5;241m6\u001b[39m, \u001b[38;5;241m3.6\u001b[39m])\n\u001b[1;32m----> 3\u001b[0m \u001b[43mvec1\u001b[49m\u001b[43m \u001b[49m\u001b[38;5;241;43m*\u001b[39;49m\u001b[43m \u001b[49m\u001b[43mvec2\u001b[49m\n",
      "\u001b[1;31mValueError\u001b[0m: operands could not be broadcast together with shapes (4,) (3,) "
     ]
    }
   ],
   "source": [
    "vec1 = np.array([2, 4, 7, 2.5])\n",
    "vec2 = np.array([12, 6, 3.6])\n",
    "vec1 * vec2"
   ]
  },
  {
   "cell_type": "markdown",
   "id": "f01b38f2",
   "metadata": {},
   "source": [
    "Исключением является случай, когда операция происходит с вектором и одним числом. Например, вектор целиком можно умножить на число или возвести в степень этого числа:"
   ]
  },
  {
   "cell_type": "code",
   "execution_count": 171,
   "id": "5f2fed1d",
   "metadata": {},
   "outputs": [
    {
     "name": "stdout",
     "output_type": "stream",
     "text": [
      "[ 0 10 20 30 40]\n"
     ]
    },
    {
     "data": {
      "text/plain": [
       "array([ 0,  1,  4,  9, 16])"
      ]
     },
     "execution_count": 171,
     "metadata": {},
     "output_type": "execute_result"
    }
   ],
   "source": [
    "vec = np.arange(5)\n",
    "print(vec * 10)\n",
    "vec ** 2"
   ]
  },
  {
   "cell_type": "markdown",
   "id": "27a76354",
   "metadata": {},
   "source": [
    "Также векторы можно сравнивать друг с другом поэлементно:"
   ]
  },
  {
   "cell_type": "code",
   "execution_count": 172,
   "id": "3c00c1ab",
   "metadata": {},
   "outputs": [
    {
     "data": {
      "text/plain": [
       "array([False, False,  True, False])"
      ]
     },
     "execution_count": 172,
     "metadata": {},
     "output_type": "execute_result"
    }
   ],
   "source": [
    "vec1 = np.array([2, 4, 7, 2.5])\n",
    "vec2 = np.array([12, 6, 3.6, 13])\n",
    "\n",
    "vec1 > vec2"
   ]
  },
  {
   "cell_type": "markdown",
   "id": "c86edc61",
   "metadata": {},
   "source": [
    "В результате получаем вектор исходной длины из булевых переменных, которые соответствуют результату поэлементного сравнения чисел из двух векторов.\n",
    "\n",
    "Аналогично можно сравнивать вектор с числом:"
   ]
  },
  {
   "cell_type": "code",
   "execution_count": 173,
   "id": "b55dc9b4",
   "metadata": {},
   "outputs": [
    {
     "data": {
      "text/plain": [
       "array([ True,  True,  True,  True, False,  True, False])"
      ]
     },
     "execution_count": 173,
     "metadata": {},
     "output_type": "execute_result"
    }
   ],
   "source": [
    "vec = np.array([14, 15, 9, 26, 53, 5, 89])\n",
    "vec <= 26"
   ]
  },
  {
   "cell_type": "markdown",
   "id": "54d50d8f",
   "metadata": {},
   "source": [
    "# ПРОДВИНУТЫЕ ОПЕРАЦИИ С ВЕКТОРАМИ\n",
    "\n",
    " курсе алгебры проходят в том числе следующие действия с векторами: вычисление длины (нормы) вектора, нахождение расстояния между векторами, вычисление скалярного произведения. Некоторые из них очень часто используются в машинном обучении, алгоритмах кластеризации и построении математических моделей. Как специалистам в Data Science вам предстоит с этим работать.\n",
    "\n",
    "Например, ключевые черты лица человека можно представить в виде вектора из чисел. Допустим, что у нас есть база данных всех существующих лиц, представленных в виде векторов. Тогда в идеальном случае, когда мы получим новый вектор с чертами лица, нам будет достаточно найти тот вектор из базы данных, расстояние до которого минимально, чтобы определить человека по лицу.\n",
    "\n",
    "**Длина вектора**, то есть расстояние между его началом и концом, [в евклидовом пространстве] вычисляется как квадратный корень из суммы квадратов всех его координат. Для вектора из n чисел x1, x2 … xn верна формула:\n",
    "\n",
    "length = sqrt(x1 ** 2 + x2 ** 2 + ... + xn ** 2)\n",
    "\n",
    "Посчитаем длину следующего вектора:"
   ]
  },
  {
   "cell_type": "code",
   "execution_count": 174,
   "id": "428efd0b",
   "metadata": {},
   "outputs": [],
   "source": [
    "vec = np.array([3, 4])"
   ]
  },
  {
   "cell_type": "markdown",
   "id": "49b2145d",
   "metadata": {},
   "source": [
    "Для начала воспользуемся формулой: возведём все элементы в квадрат, посчитаем их сумму, а затем найдём квадратный корень. Найдите все перечисленные операции в данном коде:"
   ]
  },
  {
   "cell_type": "code",
   "execution_count": 175,
   "id": "8c95c63d",
   "metadata": {},
   "outputs": [
    {
     "name": "stdout",
     "output_type": "stream",
     "text": [
      "5.0\n"
     ]
    }
   ],
   "source": [
    "length = np.sqrt(np.sum(vec ** 2))\n",
    "print(length)"
   ]
  },
  {
   "cell_type": "markdown",
   "id": "f97928c0",
   "metadata": {},
   "source": [
    "Но можно было поступить проще. В NumPy есть специальный подмодуль linalg, который позволяет производить операции из линейной алгебры.\n",
    "\n",
    "Для вычисления длины вектора нам потребуется функция norm:"
   ]
  },
  {
   "cell_type": "code",
   "execution_count": 176,
   "id": "6eb82075",
   "metadata": {},
   "outputs": [
    {
     "name": "stdout",
     "output_type": "stream",
     "text": [
      "5.0\n"
     ]
    }
   ],
   "source": [
    "length = np.linalg.norm(vec)\n",
    "print(length)"
   ]
  },
  {
   "cell_type": "markdown",
   "id": "22c4201d",
   "metadata": {},
   "source": [
    "**Расстояние** между двумя векторами, то есть расстояние между их концами, [в евклидовом пространстве] вычисляется как квадратный корень из суммы квадратов разностей соответствующих координат. Звучит сложно, поэтому лучше посмотрите на формулу (считаем расстояние между векторами x и y):\n",
    "\n",
    "distance = sqrt((x1 - y1) ** 2 + (x2 - y2) ** 2 + ... + (xn - yn) ** 2)"
   ]
  },
  {
   "cell_type": "markdown",
   "id": "15706210",
   "metadata": {},
   "source": [
    "→ По сути, расстояние между векторами — это длина такого вектора, который является разностью этих векторов. В самом деле, при вычитании двух векторов вычитаются их соответствующие координаты.\n",
    "\n",
    "Реализуем вычисление расстояния в коде. Сначала — «сложным» способом напрямую из формулы:"
   ]
  },
  {
   "cell_type": "code",
   "execution_count": 178,
   "id": "7a169736",
   "metadata": {},
   "outputs": [
    {
     "data": {
      "text/plain": [
       "12.206555615733702"
      ]
     },
     "execution_count": 178,
     "metadata": {},
     "output_type": "execute_result"
    }
   ],
   "source": [
    "vec1 = np.array([0, 3, 5])\n",
    "vec2 = np.array([12, 4, 7])\n",
    "distance = np.sqrt(np.sum((vec1 - vec2) ** 2))\n",
    "distance"
   ]
  },
  {
   "cell_type": "markdown",
   "id": "8c7866a6",
   "metadata": {},
   "source": [
    "А теперь применим более простой способ — используем уже известную нам функцию np.linalg.norm:"
   ]
  },
  {
   "cell_type": "code",
   "execution_count": 180,
   "id": "1b878249",
   "metadata": {},
   "outputs": [
    {
     "data": {
      "text/plain": [
       "12.206555615733702"
      ]
     },
     "execution_count": 180,
     "metadata": {},
     "output_type": "execute_result"
    }
   ],
   "source": [
    "distance = np.linalg.norm(vec1 - vec2)\n",
    "distance"
   ]
  },
  {
   "cell_type": "markdown",
   "id": "5f1b8832",
   "metadata": {},
   "source": [
    "Наконец, скалярным произведением двух векторов называют сумму произведений их соответствующих координат. Вот формула для скалярного произведения векторов x и y из n координат:\n",
    "\n",
    "x * y = x1 * y1 + x2 * y2 + ... + xn * yn \n",
    "Откуда такое странное название? Слово «скаляр» — синоним слова «число». То есть результатом вычисления скалярного произведения векторов является число — скаляр. Дело в том, что существуют и другие произведения векторов, не все из которых дают на выходе число.\n",
    "\n",
    "Реализуем это в коде (по-английски скалярное произведение называют dot — точечный — или scalar product, отсюда и такое название переменной):"
   ]
  },
  {
   "cell_type": "code",
   "execution_count": 181,
   "id": "735fdfcd",
   "metadata": {},
   "outputs": [
    {
     "data": {
      "text/plain": [
       "250.0"
      ]
     },
     "execution_count": 181,
     "metadata": {},
     "output_type": "execute_result"
    }
   ],
   "source": [
    "vec1 = np.arange(1, 6)\n",
    "vec2 = np.linspace(10, 20, 5)\n",
    "scalar_product = np.sum(vec1 * vec2)\n",
    "scalar_product"
   ]
  },
  {
   "cell_type": "markdown",
   "id": "a32e8fe3",
   "metadata": {},
   "source": [
    "Наверное, вы уже догадались, что в NumPy есть множество встроенных функций, поэтому возник резонный вопрос: можно ли проще и вообще без формул?\n",
    "\n",
    "Да! Для этого используют функцию np.dot(x, y):"
   ]
  },
  {
   "cell_type": "code",
   "execution_count": 182,
   "id": "044626fa",
   "metadata": {},
   "outputs": [
    {
     "data": {
      "text/plain": [
       "250.0"
      ]
     },
     "execution_count": 182,
     "metadata": {},
     "output_type": "execute_result"
    }
   ],
   "source": [
    "scalar_product = np.dot(vec1, vec2)\n",
    "scalar_product"
   ]
  },
  {
   "cell_type": "markdown",
   "id": "851eaa5a",
   "metadata": {},
   "source": [
    "Скалярное произведение также имеет широкое применение в математике и других операциях с векторами. В частности, равенство скалярного произведения нулю означает перпендикулярность рассматриваемых векторов:"
   ]
  },
  {
   "cell_type": "code",
   "execution_count": 183,
   "id": "5c0071fa",
   "metadata": {},
   "outputs": [
    {
     "data": {
      "text/plain": [
       "0"
      ]
     },
     "execution_count": 183,
     "metadata": {},
     "output_type": "execute_result"
    }
   ],
   "source": [
    "x = np.array([25, 0])\n",
    "y = np.array([0, 10])\n",
    "np.dot(x, y)"
   ]
  },
  {
   "cell_type": "markdown",
   "id": "714e0f2b",
   "metadata": {},
   "source": [
    "Здесь были специально заданы векторы, параллельные осям x и y (так как одна из координат в них равна нулю). Они перпендикулярны, как перпендикулярны соответствующие оси, а скалярное произведение действительно равно нулю.\n",
    "\n",
    "В целом, скалярное произведение часто используется для определения угла между векторами.\n",
    "\n",
    "Зачем это может пригодиться специалисту в Data Science?\n",
    "\n",
    "→ Вам ещё обязательно предстоит работать с векторами не только при изучении теории линейной алгебры, но и при освоении машинного обучения на практике. Например, есть специальные преобразования, которые позволяют превратить слова в тексте в числовые векторы. Затем с помощью определения направлений полученных векторов можно находить слова-синонимы и антонимы, а также оценивать общую эмоциональную окраску текста. Такие алгоритмы для анализа данных используются, чтобы автоматически по отзывам определять степень удовлетворённости клиентов продуктом.\n",
    "\n",
    "## Задание 8.4\n",
    "\n",
    "найдите пару сонаправленных векторов.\n",
    "\n",
    " сумма длин сонаправленных векторов должна быть равной длине суммы двух векторов."
   ]
  },
  {
   "cell_type": "code",
   "execution_count": 191,
   "id": "c6fb1854",
   "metadata": {},
   "outputs": [
    {
     "name": "stdout",
     "output_type": "stream",
     "text": [
      "False\n",
      "False\n",
      "True\n"
     ]
    }
   ],
   "source": [
    "a = np.array([23, 34, 27])\n",
    "b = np.array([-54, 1,  46])\n",
    "c = np.array([46, 68, 54])\n",
    "\n",
    "len_a = np.linalg.norm(a)\n",
    "len_b = np.linalg.norm(b)\n",
    "len_c = np.linalg.norm(c)\n",
    "\n",
    "x = np.linalg.norm(a + b)\n",
    "y =  np.linalg.norm(b + c)\n",
    "z = np.linalg.norm(c + a)\n",
    "\n",
    "print(len_a + len_b == x)\n",
    "print(len_b + len_c == y)\n",
    "print(len_c + len_a == z)"
   ]
  },
  {
   "cell_type": "markdown",
   "id": "312b06df",
   "metadata": {},
   "source": [
    "## Задание 8.5\n",
    "\n",
    "Найдите пару векторов, расстояние между которыми больше 100."
   ]
  },
  {
   "cell_type": "code",
   "execution_count": 193,
   "id": "dbda6b5c",
   "metadata": {},
   "outputs": [
    {
     "name": "stdout",
     "output_type": "stream",
     "text": [
      "85.901105930017 49.13247398615299 120.6358155772986\n"
     ]
    }
   ],
   "source": [
    "dis1 = np.linalg.norm(a - b)\n",
    "dis2 = np.linalg.norm(a - c)\n",
    "dis3 = np.linalg.norm(b - c)\n",
    "\n",
    "print(dis1, dis2, dis3)"
   ]
  },
  {
   "cell_type": "markdown",
   "id": "94057333",
   "metadata": {},
   "source": [
    "## Задание 8.6\n",
    "\n",
    "Найдите пару перпендикулярных векторов с помощью скалярного произведения (оно должно быть равно нулю)."
   ]
  },
  {
   "cell_type": "code",
   "execution_count": 195,
   "id": "92645034",
   "metadata": {},
   "outputs": [
    {
     "name": "stdout",
     "output_type": "stream",
     "text": [
      "34 4828 68\n"
     ]
    }
   ],
   "source": [
    "scal1 = np.dot(a, b)\n",
    "scal2 = np.dot(a, c)\n",
    "scal3 = np.dot(b, c)\n",
    "\n",
    "print(scal1, scal2, scal3)"
   ]
  },
  {
   "cell_type": "markdown",
   "id": "00707d62",
   "metadata": {},
   "source": [
    "# БАЗОВЫЕ СТАТИСТИЧЕСКИЕ ФУНКЦИИ ДЛЯ ВЕКТОРОВ\n",
    "\n",
    "После теоретического экскурса в линейную алгебру давайте изучим несколько удобных функций, которые позволяют быстро получать статистику о векторе.\n",
    "\n",
    "→ Функции np.min и np.max позволяют находить максимальное и минимальное значение в векторе. Их можно записывать как в виде np.min(<vector>), так и в виде <vector>.min():"
   ]
  },
  {
   "cell_type": "code",
   "execution_count": 199,
   "id": "14578319",
   "metadata": {},
   "outputs": [
    {
     "name": "stdout",
     "output_type": "stream",
     "text": [
      "1\n"
     ]
    },
    {
     "data": {
      "text/plain": [
       "28"
      ]
     },
     "execution_count": 199,
     "metadata": {},
     "output_type": "execute_result"
    }
   ],
   "source": [
    "vec = np.array([2, 7, 18, 28, 18, 1, 8, 4])\n",
    "print(vec.min())\n",
    "\n",
    "np.max(vec)"
   ]
  },
  {
   "cell_type": "markdown",
   "id": "b20232c2",
   "metadata": {},
   "source": [
    "→\n",
    "Функция mean позволяет посчитать среднее значение. Больше не требуется реализовывать её «руками»!"
   ]
  },
  {
   "cell_type": "code",
   "execution_count": 200,
   "id": "c37521b4",
   "metadata": {},
   "outputs": [
    {
     "data": {
      "text/plain": [
       "10.75"
      ]
     },
     "execution_count": 200,
     "metadata": {},
     "output_type": "execute_result"
    }
   ],
   "source": [
    "vec.mean()"
   ]
  },
  {
   "cell_type": "markdown",
   "id": "3cef1b1b",
   "metadata": {},
   "source": [
    "Существует множество дополнительных функций для получения статистических данных о векторе. Уделять им всем внимание сейчас не требуется, к тому же у вас пока не было модуля по статистике.\n",
    "\n",
    "Однако если вам вдруг потребуется какая-либо базовая статистическая функция, она, скорее всего, уже реализована в NumPy.\n",
    "\n",
    "### ДОПОЛНИТЕЛЬНО\n",
    "\n",
    "На данном русскоязычном сайте (https://pyprog.pro/statistics_functions/statistics_function.html) представлены доступные в NumPy статистические функции. Все функции, перечисленные там, снабжены ссылками, по которым приведены подробные описания и примеры. А ещё в верхнем меню есть пункт «Справочное руководство», который позволяет узнать и о других функциях для работы с массивами. Их гораздо больше, чем тот минимум, который изучен в данном модуле и необходим чаще всего."
   ]
  },
  {
   "cell_type": "markdown",
   "id": "178b64f0",
   "metadata": {},
   "source": [
    "# СЛУЧАЙНЫЕ ЧИСЛА В NUMPY\n",
    "\n",
    "## ГЕНЕРАЦИЯ FLOAT\n",
    "\n",
    "Для генерации псевдослучайных чисел в NumPy существует подмодуль random.\n",
    "\n",
    "Самой «базовой» функцией в нём можно считать функцию rand. По умолчанию она генерирует число с плавающей точкой между 0 (включительно) и 1 (не включительно):"
   ]
  },
  {
   "cell_type": "code",
   "execution_count": 201,
   "id": "ae2aff35",
   "metadata": {},
   "outputs": [
    {
     "data": {
      "text/plain": [
       "0.3511584780557322"
      ]
     },
     "execution_count": 201,
     "metadata": {},
     "output_type": "execute_result"
    }
   ],
   "source": [
    "import numpy as np\n",
    "\n",
    "np.random.rand()"
   ]
  },
  {
   "cell_type": "markdown",
   "id": "19445099",
   "metadata": {},
   "source": [
    "→ Поскольку теперь мы работаем со случайными числами, не удивляйтесь, что вывод кода в примерах и на вашем компьютере может не совпадать.\n",
    "\n",
    "Чтобы получить случайное число в диапазоне, например, от 0 до 100, достаточно просто умножить генерируемое число на 100:"
   ]
  },
  {
   "cell_type": "code",
   "execution_count": 203,
   "id": "bbe818ed",
   "metadata": {},
   "outputs": [
    {
     "data": {
      "text/plain": [
       "20.235998468361792"
      ]
     },
     "execution_count": 203,
     "metadata": {},
     "output_type": "execute_result"
    }
   ],
   "source": [
    "np.random.rand() * 100"
   ]
  },
  {
   "cell_type": "markdown",
   "id": "b6778c1c",
   "metadata": {},
   "source": [
    "На самом деле rand умеет генерировать не только отдельные числа — функция принимает в качестве аргументов через запятую целые числа, которые задают форму генерируемого массива. Например, получим массив из пяти случайных чисел:"
   ]
  },
  {
   "cell_type": "code",
   "execution_count": 204,
   "id": "c13dd96f",
   "metadata": {},
   "outputs": [
    {
     "data": {
      "text/plain": [
       "array([0.86946858, 0.74453961, 0.46369774, 0.24409792, 0.28143632])"
      ]
     },
     "execution_count": 204,
     "metadata": {},
     "output_type": "execute_result"
    }
   ],
   "source": [
    "np.random.rand(5)"
   ]
  },
  {
   "cell_type": "markdown",
   "id": "b0f60094",
   "metadata": {},
   "source": [
    "Массив из двух случайных строк и трёх столбцов:"
   ]
  },
  {
   "cell_type": "code",
   "execution_count": 205,
   "id": "aa516c34",
   "metadata": {},
   "outputs": [
    {
     "data": {
      "text/plain": [
       "array([[0.10815136, 0.90618767, 0.0376077 ],\n",
       "       [0.19948043, 0.07181903, 0.35907884]])"
      ]
     },
     "execution_count": 205,
     "metadata": {},
     "output_type": "execute_result"
    }
   ],
   "source": [
    "np.random.rand(2, 3)"
   ]
  },
  {
   "cell_type": "markdown",
   "id": "8d9dd926",
   "metadata": {},
   "source": [
    "Функция rand может принимать неограниченное число целых чисел для задания формы массива:"
   ]
  },
  {
   "cell_type": "code",
   "execution_count": 206,
   "id": "fcbf591a",
   "metadata": {},
   "outputs": [
    {
     "data": {
      "text/plain": [
       "array([[[[[[4.44500454e-01, 2.49111062e-01, 2.89836157e-01, ...,\n",
       "            5.42740261e-01, 5.98302607e-01, 8.29520199e-01],\n",
       "           [1.01337274e-01, 5.21554496e-02, 7.33138078e-01, ...,\n",
       "            3.71338245e-02, 7.97917093e-01, 1.38781504e-01],\n",
       "           [2.06900556e-01, 8.73937020e-01, 9.92048204e-02, ...,\n",
       "            6.22784444e-01, 1.77837544e-01, 7.57142628e-01],\n",
       "           ...,\n",
       "           [1.57982288e-01, 5.56646324e-02, 5.17058512e-01, ...,\n",
       "            1.83709285e-01, 5.79885317e-02, 7.12024751e-01],\n",
       "           [7.82456230e-01, 4.58070329e-01, 8.27248921e-01, ...,\n",
       "            5.64257256e-01, 6.61710369e-02, 6.28992885e-01],\n",
       "           [2.11480501e-01, 6.34454763e-01, 7.53212171e-01, ...,\n",
       "            1.05402353e-01, 6.27822867e-01, 8.58718512e-01]],\n",
       "\n",
       "          [[7.30868328e-01, 7.26858191e-01, 5.52689224e-01, ...,\n",
       "            4.30748080e-01, 7.16136306e-01, 2.04336703e-01],\n",
       "           [7.96281740e-01, 3.03858882e-01, 5.86312139e-01, ...,\n",
       "            6.22276702e-01, 1.36404349e-01, 8.40221933e-02],\n",
       "           [3.44817819e-01, 6.64362411e-01, 3.34237110e-01, ...,\n",
       "            9.79830847e-01, 8.47665461e-01, 4.15655222e-01],\n",
       "           ...,\n",
       "           [9.21760088e-01, 5.90423422e-01, 7.00455252e-01, ...,\n",
       "            2.19068928e-01, 7.23692444e-01, 4.77159761e-01],\n",
       "           [2.79940692e-01, 3.38069065e-01, 2.51899330e-01, ...,\n",
       "            1.21061714e-01, 7.31273583e-01, 9.53279615e-01],\n",
       "           [5.94472251e-01, 7.62273293e-01, 2.03059931e-01, ...,\n",
       "            9.22877779e-01, 2.14368460e-02, 2.12519869e-01]],\n",
       "\n",
       "          [[9.83750880e-01, 9.32071744e-01, 8.99298790e-01, ...,\n",
       "            5.03019143e-01, 8.90774373e-01, 2.16770258e-01],\n",
       "           [3.59372052e-01, 5.05701210e-02, 8.13790384e-01, ...,\n",
       "            6.56324788e-01, 2.53337935e-01, 3.85169937e-01],\n",
       "           [2.73823534e-01, 5.91351926e-01, 3.89423929e-01, ...,\n",
       "            7.92418321e-02, 1.74459977e-01, 4.87581054e-01],\n",
       "           ...,\n",
       "           [8.98317847e-01, 3.45621198e-01, 7.02010884e-01, ...,\n",
       "            6.99638885e-01, 2.53275062e-01, 8.57255040e-02],\n",
       "           [5.88578095e-01, 7.00482490e-01, 5.49953678e-01, ...,\n",
       "            4.86478903e-01, 8.90181563e-01, 6.79595896e-01],\n",
       "           [3.26627671e-01, 5.00263881e-01, 7.72303118e-01, ...,\n",
       "            9.10355427e-01, 5.57573772e-01, 7.31705011e-02]],\n",
       "\n",
       "          ...,\n",
       "\n",
       "          [[4.48674275e-01, 7.20075734e-03, 3.77830838e-01, ...,\n",
       "            7.44038190e-01, 4.90456936e-02, 8.92902509e-01],\n",
       "           [1.23290864e-01, 1.82259634e-01, 2.60274312e-01, ...,\n",
       "            8.82424654e-01, 1.11177100e-01, 4.49277241e-01],\n",
       "           [7.45319626e-01, 3.96714251e-01, 1.30148559e-01, ...,\n",
       "            6.97958673e-01, 6.34275534e-01, 7.88350477e-01],\n",
       "           ...,\n",
       "           [8.25035547e-01, 7.79588407e-02, 2.65333008e-01, ...,\n",
       "            4.17630986e-01, 5.47509954e-01, 7.40925792e-01],\n",
       "           [5.26139234e-02, 3.56346653e-01, 7.31787135e-01, ...,\n",
       "            3.89799273e-01, 7.48344372e-01, 2.57433800e-01],\n",
       "           [4.67398158e-01, 3.71032602e-02, 3.29864395e-02, ...,\n",
       "            9.79954047e-01, 4.51423095e-01, 4.39822374e-01]],\n",
       "\n",
       "          [[9.08595165e-01, 5.21902442e-01, 2.07523826e-01, ...,\n",
       "            4.32365877e-01, 5.42571273e-01, 5.18556802e-02],\n",
       "           [4.29246218e-01, 9.67343693e-01, 2.66216884e-01, ...,\n",
       "            3.99404843e-01, 1.01685700e-01, 6.01158027e-01],\n",
       "           [9.49705867e-01, 2.22563593e-01, 3.62021327e-01, ...,\n",
       "            8.04879940e-01, 6.51182476e-01, 3.10686470e-01],\n",
       "           ...,\n",
       "           [5.51269242e-01, 5.51616818e-01, 8.27704725e-01, ...,\n",
       "            1.60614231e-01, 9.43451948e-02, 1.78861004e-01],\n",
       "           [1.30850375e-02, 8.86804239e-01, 5.38467140e-01, ...,\n",
       "            2.85983702e-01, 3.66401001e-01, 1.72010122e-01],\n",
       "           [2.69879790e-01, 4.06046765e-01, 9.21701362e-01, ...,\n",
       "            6.89451921e-01, 2.30358221e-01, 8.90521931e-01]],\n",
       "\n",
       "          [[8.07282503e-01, 1.77436310e-01, 7.40676493e-01, ...,\n",
       "            3.91652908e-01, 1.29549595e-02, 7.71154944e-01],\n",
       "           [2.40757783e-01, 8.64091230e-01, 3.33438741e-01, ...,\n",
       "            7.15390189e-01, 7.52391051e-01, 6.34096691e-02],\n",
       "           [8.35930611e-01, 7.97331710e-01, 7.38590515e-01, ...,\n",
       "            6.19859214e-01, 1.21076417e-01, 6.16592290e-01],\n",
       "           ...,\n",
       "           [6.29789373e-01, 2.66868891e-01, 7.10532068e-01, ...,\n",
       "            4.04480273e-01, 4.44294056e-01, 5.93396560e-01],\n",
       "           [4.64742089e-01, 2.70339457e-01, 6.56520481e-01, ...,\n",
       "            7.07414764e-01, 4.21121332e-01, 7.57870319e-01],\n",
       "           [3.55359599e-01, 9.45686881e-01, 3.26945223e-01, ...,\n",
       "            7.56734579e-01, 9.17504821e-01, 5.07560801e-01]]],\n",
       "\n",
       "\n",
       "         [[[5.92957691e-01, 5.79934595e-01, 2.34094178e-01, ...,\n",
       "            4.54866856e-01, 6.69052040e-02, 8.93184136e-03],\n",
       "           [3.46467596e-01, 8.89572686e-01, 7.26739903e-01, ...,\n",
       "            7.34796671e-02, 1.79846853e-01, 2.84864439e-01],\n",
       "           [7.11011509e-01, 5.08268644e-01, 6.37396379e-01, ...,\n",
       "            2.19883290e-01, 2.28967575e-01, 8.60981351e-01],\n",
       "           ...,\n",
       "           [8.55679469e-01, 8.98660069e-01, 8.59646657e-01, ...,\n",
       "            2.96028135e-01, 2.44630190e-01, 6.44579839e-01],\n",
       "           [2.33582861e-01, 1.42891543e-01, 5.77566601e-01, ...,\n",
       "            7.84103879e-01, 5.81533086e-01, 7.62631428e-01],\n",
       "           [2.76660249e-02, 9.79524842e-01, 8.53610958e-02, ...,\n",
       "            8.81982582e-01, 5.51633885e-01, 8.22516355e-01]],\n",
       "\n",
       "          [[6.06906745e-01, 1.47930450e-01, 2.15676599e-01, ...,\n",
       "            8.15640230e-01, 4.92318286e-01, 4.68349632e-01],\n",
       "           [1.56811723e-01, 5.96283492e-01, 8.04423560e-02, ...,\n",
       "            8.52668723e-01, 2.28824268e-01, 2.22091310e-01],\n",
       "           [1.47980492e-01, 2.76293385e-01, 2.83632227e-01, ...,\n",
       "            2.73318593e-01, 6.31323025e-01, 9.21376435e-01],\n",
       "           ...,\n",
       "           [9.85665506e-01, 9.55564655e-01, 9.16392716e-01, ...,\n",
       "            8.35975637e-01, 4.96709955e-02, 4.01044247e-01],\n",
       "           [3.34888738e-01, 4.34821566e-01, 3.38545048e-01, ...,\n",
       "            6.16471400e-01, 4.40612612e-01, 2.25915624e-01],\n",
       "           [1.10974879e-01, 8.56355994e-01, 6.49102739e-01, ...,\n",
       "            2.56758550e-01, 9.00784198e-02, 4.57606661e-01]],\n",
       "\n",
       "          [[5.95803086e-01, 5.62839188e-01, 6.32552383e-01, ...,\n",
       "            3.54211473e-01, 4.06129471e-01, 8.95692936e-01],\n",
       "           [1.11067241e-01, 6.63467251e-01, 3.42536868e-01, ...,\n",
       "            5.08127326e-01, 9.39707392e-01, 1.25710049e-01],\n",
       "           [3.44626331e-01, 3.72885072e-01, 3.88253819e-01, ...,\n",
       "            6.27728972e-01, 6.48934578e-01, 3.64526915e-01],\n",
       "           ...,\n",
       "           [2.96312328e-01, 2.42556912e-01, 9.60632658e-01, ...,\n",
       "            8.16761382e-01, 9.04844958e-01, 3.85392251e-01],\n",
       "           [6.79008272e-01, 9.70829996e-01, 8.83338926e-01, ...,\n",
       "            3.75325891e-01, 9.35823298e-01, 7.70774417e-01],\n",
       "           [5.01344435e-01, 3.42262176e-01, 5.85155030e-02, ...,\n",
       "            3.47018486e-02, 7.20233380e-01, 2.51681264e-01]],\n",
       "\n",
       "          ...,\n",
       "\n",
       "          [[3.34876764e-02, 7.71626274e-01, 4.13609873e-01, ...,\n",
       "            9.71853935e-01, 8.72284240e-01, 5.20067961e-01],\n",
       "           [8.42460465e-02, 8.58844785e-01, 2.90498887e-01, ...,\n",
       "            4.95032043e-02, 1.95154927e-02, 8.23536438e-01],\n",
       "           [3.74654199e-01, 2.39607777e-01, 7.18150622e-02, ...,\n",
       "            2.06549023e-01, 9.97741202e-03, 6.88425954e-01],\n",
       "           ...,\n",
       "           [9.20391176e-01, 2.76516990e-01, 1.67551290e-02, ...,\n",
       "            7.28473721e-01, 2.31560542e-01, 8.27030085e-01],\n",
       "           [1.36161703e-02, 2.43553293e-01, 8.07580886e-01, ...,\n",
       "            1.40192419e-01, 6.22314274e-01, 7.87397801e-01],\n",
       "           [8.45834012e-01, 7.39273527e-01, 7.14000434e-01, ...,\n",
       "            6.65030366e-02, 3.30087200e-01, 9.54823254e-01]],\n",
       "\n",
       "          [[1.98893686e-01, 6.00111124e-01, 5.66478733e-01, ...,\n",
       "            7.64621311e-01, 2.79443887e-02, 6.34821170e-01],\n",
       "           [6.47114633e-01, 2.83479661e-01, 9.31587498e-01, ...,\n",
       "            1.29838048e-01, 2.59827885e-01, 9.42878715e-01],\n",
       "           [6.21349161e-01, 4.01809140e-01, 8.15537486e-01, ...,\n",
       "            8.22917572e-01, 8.55225493e-01, 2.39328161e-01],\n",
       "           ...,\n",
       "           [9.62744120e-01, 3.59380486e-01, 4.65696400e-01, ...,\n",
       "            7.22253190e-01, 1.12663962e-02, 3.69432880e-01],\n",
       "           [4.03975721e-01, 8.51210878e-01, 5.83065014e-01, ...,\n",
       "            8.53044068e-01, 8.16265893e-01, 4.12753544e-01],\n",
       "           [3.91936958e-01, 3.46955352e-01, 5.76916738e-01, ...,\n",
       "            8.85691369e-01, 2.53821772e-01, 9.61136061e-01]],\n",
       "\n",
       "          [[4.49165114e-01, 5.80626841e-01, 2.47429538e-01, ...,\n",
       "            9.94085356e-01, 8.13368714e-01, 3.91899995e-01],\n",
       "           [8.28867350e-01, 8.62887128e-01, 7.47937919e-01, ...,\n",
       "            1.96739474e-01, 4.87810630e-01, 3.28492095e-01],\n",
       "           [7.43625691e-01, 9.36632813e-01, 8.13586874e-01, ...,\n",
       "            5.06447047e-01, 1.83501213e-01, 7.29968352e-01],\n",
       "           ...,\n",
       "           [4.57360871e-01, 8.03516742e-02, 3.69478014e-01, ...,\n",
       "            4.91931051e-01, 8.01685109e-01, 8.07294834e-01],\n",
       "           [1.98848351e-01, 6.91165921e-01, 4.63002832e-01, ...,\n",
       "            2.68851128e-01, 7.21930475e-01, 5.83846577e-01],\n",
       "           [2.49724807e-01, 9.95879113e-01, 5.66894887e-01, ...,\n",
       "            1.45599223e-01, 8.23900351e-01, 2.05476897e-01]]],\n",
       "\n",
       "\n",
       "         [[[5.96980975e-01, 3.46242848e-01, 7.83043803e-01, ...,\n",
       "            8.86690777e-01, 1.79721563e-01, 5.06257389e-01],\n",
       "           [5.56922561e-01, 5.12338205e-01, 4.04739895e-01, ...,\n",
       "            8.14595480e-01, 4.09683214e-01, 6.28729985e-01],\n",
       "           [4.46091447e-01, 5.36417027e-01, 7.35277627e-01, ...,\n",
       "            3.95621165e-01, 5.84543148e-01, 7.22307318e-02],\n",
       "           ...,\n",
       "           [3.98172745e-01, 8.40595395e-03, 3.81138076e-01, ...,\n",
       "            1.40982860e-01, 2.59343321e-01, 9.33417028e-01],\n",
       "           [9.39937282e-01, 5.89763196e-01, 5.39659079e-01, ...,\n",
       "            4.38178783e-01, 9.06598242e-01, 6.89385769e-01],\n",
       "           [7.46345018e-01, 8.59678782e-01, 5.62091189e-01, ...,\n",
       "            4.71210423e-01, 6.15536312e-01, 5.23880584e-01]],\n",
       "\n",
       "          [[9.58991084e-01, 3.14861022e-01, 3.72045779e-01, ...,\n",
       "            2.48723420e-03, 8.69162979e-01, 8.33812297e-01],\n",
       "           [1.83809455e-02, 1.24096066e-01, 3.97897004e-01, ...,\n",
       "            9.56560400e-01, 1.85624606e-01, 4.09845378e-01],\n",
       "           [6.17646724e-01, 5.22916896e-01, 1.65099443e-01, ...,\n",
       "            2.21151158e-01, 4.98855326e-01, 8.32945559e-01],\n",
       "           ...,\n",
       "           [8.43850111e-02, 2.73142716e-02, 5.17165068e-01, ...,\n",
       "            3.19301445e-01, 4.41200262e-01, 8.10846882e-01],\n",
       "           [6.72373639e-01, 5.17209476e-01, 6.93735809e-03, ...,\n",
       "            4.54105434e-01, 1.18917229e-01, 4.29959246e-01],\n",
       "           [9.32822415e-01, 8.23169051e-01, 5.96571128e-01, ...,\n",
       "            8.24969505e-01, 9.63600635e-01, 2.19681265e-01]],\n",
       "\n",
       "          [[2.01306230e-01, 3.77904902e-01, 5.54134722e-02, ...,\n",
       "            4.28380002e-03, 7.00952562e-02, 2.25260705e-01],\n",
       "           [7.15860684e-01, 3.29694517e-01, 2.46106686e-01, ...,\n",
       "            4.26949841e-01, 1.14114008e-01, 8.72893475e-01],\n",
       "           [2.31892149e-01, 9.18013884e-01, 5.98969173e-01, ...,\n",
       "            2.93924777e-01, 4.80256895e-01, 5.18981253e-01],\n",
       "           ...,\n",
       "           [9.80302063e-01, 4.79381742e-01, 3.17590337e-01, ...,\n",
       "            4.52396396e-01, 1.26873073e-01, 3.12941823e-01],\n",
       "           [3.01823774e-01, 9.50896889e-01, 3.33678287e-01, ...,\n",
       "            1.86196016e-01, 9.63757507e-01, 5.24141915e-01],\n",
       "           [4.26449723e-01, 5.57898988e-01, 6.53617135e-01, ...,\n",
       "            5.01418887e-01, 3.78700824e-01, 4.04586888e-01]],\n",
       "\n",
       "          ...,\n",
       "\n",
       "          [[2.28285285e-01, 4.14877066e-01, 5.40306586e-01, ...,\n",
       "            1.66032793e-01, 1.27573883e-01, 1.12630779e-01],\n",
       "           [1.28607939e-01, 9.44401538e-01, 4.92754419e-01, ...,\n",
       "            6.53212468e-01, 4.98766138e-01, 1.96155324e-02],\n",
       "           [2.69507253e-01, 6.46896500e-01, 7.35863891e-01, ...,\n",
       "            8.14145305e-01, 8.39389383e-01, 8.99047387e-01],\n",
       "           ...,\n",
       "           [8.27975579e-02, 2.00615235e-01, 2.44627898e-01, ...,\n",
       "            8.66188669e-01, 5.30828340e-02, 1.48690807e-01],\n",
       "           [7.70099811e-01, 7.07329269e-01, 1.56152157e-01, ...,\n",
       "            9.34977130e-01, 4.85688028e-01, 4.48555964e-01],\n",
       "           [7.29475148e-01, 8.62284854e-02, 6.95775420e-01, ...,\n",
       "            4.89551122e-02, 4.57122965e-01, 4.49184805e-01]],\n",
       "\n",
       "          [[9.64677507e-01, 1.53582447e-01, 5.76998890e-01, ...,\n",
       "            1.19944617e-01, 5.34767669e-01, 3.54173915e-01],\n",
       "           [3.59372346e-01, 7.01430763e-01, 4.57489920e-01, ...,\n",
       "            8.82846427e-01, 4.63311772e-01, 4.87640667e-02],\n",
       "           [9.89844293e-01, 9.25798295e-01, 2.67208510e-01, ...,\n",
       "            8.09740859e-01, 8.09889271e-01, 8.62052759e-01],\n",
       "           ...,\n",
       "           [6.84277200e-01, 5.02928277e-02, 4.75827369e-01, ...,\n",
       "            9.21158887e-02, 3.33028170e-01, 1.67459600e-01],\n",
       "           [2.11063804e-01, 9.27348362e-01, 4.70236097e-01, ...,\n",
       "            6.40670227e-01, 5.15816374e-03, 3.97895037e-01],\n",
       "           [6.52689481e-01, 1.71759615e-02, 8.23914317e-01, ...,\n",
       "            4.74565033e-01, 5.82404970e-01, 7.34947173e-01]],\n",
       "\n",
       "          [[1.41247514e-01, 3.40180970e-01, 7.47381180e-01, ...,\n",
       "            3.94788730e-01, 7.38306733e-01, 9.23837471e-01],\n",
       "           [3.09560239e-01, 3.90894835e-01, 7.46552326e-01, ...,\n",
       "            4.05252197e-01, 1.76327952e-01, 3.43126423e-01],\n",
       "           [1.15609318e-01, 7.71172100e-01, 6.15985562e-01, ...,\n",
       "            2.18411053e-01, 2.94220787e-01, 3.17074184e-01],\n",
       "           ...,\n",
       "           [5.42906201e-02, 5.68005003e-01, 7.03690580e-01, ...,\n",
       "            7.18548891e-01, 2.46524417e-01, 7.43052827e-01],\n",
       "           [9.92860750e-01, 6.87887172e-01, 7.62634583e-01, ...,\n",
       "            7.90615938e-01, 7.28810655e-01, 4.82566450e-01],\n",
       "           [4.06735455e-01, 6.34710824e-02, 5.37754160e-01, ...,\n",
       "            6.40844710e-01, 9.84433337e-01, 5.74226928e-01]]],\n",
       "\n",
       "\n",
       "         [[[6.66366310e-01, 2.21731367e-01, 5.99312140e-01, ...,\n",
       "            6.95610864e-01, 9.78646932e-01, 1.07162233e-01],\n",
       "           [4.20220018e-01, 4.34116446e-01, 6.35481055e-01, ...,\n",
       "            4.91158706e-01, 2.28310237e-01, 8.08688376e-01],\n",
       "           [7.63701808e-01, 8.87293855e-01, 5.16202252e-01, ...,\n",
       "            7.57669918e-01, 7.68949200e-02, 9.88735935e-01],\n",
       "           ...,\n",
       "           [1.39626961e-01, 1.62744006e-02, 7.75984177e-01, ...,\n",
       "            9.80956688e-01, 4.35503794e-01, 5.76283643e-01],\n",
       "           [6.33142081e-01, 6.48145526e-01, 1.04170207e-01, ...,\n",
       "            5.98846921e-01, 9.15428495e-01, 9.65691297e-01],\n",
       "           [3.28740346e-01, 5.33759381e-01, 4.73371348e-02, ...,\n",
       "            3.44486102e-02, 7.76225352e-01, 2.33988502e-01]],\n",
       "\n",
       "          [[6.76224905e-02, 2.99125960e-01, 8.88895298e-01, ...,\n",
       "            5.10632195e-01, 9.96910223e-01, 4.60732403e-01],\n",
       "           [8.16860404e-01, 3.87354272e-01, 6.57428378e-01, ...,\n",
       "            5.65437883e-01, 6.18430042e-01, 5.95102634e-01],\n",
       "           [9.76749880e-01, 5.65542108e-01, 7.73380389e-01, ...,\n",
       "            7.05922117e-01, 5.13688187e-01, 6.44596654e-01],\n",
       "           ...,\n",
       "           [4.17191698e-01, 9.85546021e-01, 9.50687569e-01, ...,\n",
       "            8.16201413e-01, 4.41965605e-01, 5.58188895e-01],\n",
       "           [6.63394037e-01, 1.65755381e-01, 6.84218318e-01, ...,\n",
       "            3.76689694e-01, 3.34003731e-01, 9.50029816e-01],\n",
       "           [8.90683288e-01, 5.69275692e-01, 2.03247709e-02, ...,\n",
       "            3.53463330e-02, 6.81758467e-01, 2.54678022e-01]],\n",
       "\n",
       "          [[6.72986187e-01, 9.41941590e-01, 3.14174564e-01, ...,\n",
       "            8.72779268e-01, 5.77755375e-01, 8.91372063e-01],\n",
       "           [8.57208777e-01, 7.38790560e-01, 2.93146380e-02, ...,\n",
       "            4.47371495e-01, 2.72434813e-01, 2.11458294e-01],\n",
       "           [9.31052844e-01, 2.54620713e-01, 5.84825600e-01, ...,\n",
       "            2.67148932e-01, 9.84258841e-02, 4.27227764e-01],\n",
       "           ...,\n",
       "           [3.18014672e-01, 6.76670043e-02, 1.83542816e-02, ...,\n",
       "            7.95411228e-01, 4.03849677e-01, 5.06552532e-02],\n",
       "           [2.39832803e-01, 2.31104971e-01, 2.60902768e-01, ...,\n",
       "            9.55466691e-01, 3.73409557e-01, 1.85572553e-01],\n",
       "           [9.29298761e-02, 7.47302797e-01, 3.11099104e-01, ...,\n",
       "            9.30440376e-01, 4.26172872e-02, 5.89405478e-02]],\n",
       "\n",
       "          ...,\n",
       "\n",
       "          [[1.08614011e-01, 6.34373405e-01, 7.64137086e-02, ...,\n",
       "            7.84069989e-02, 3.23880595e-01, 6.90669720e-01],\n",
       "           [4.35945090e-01, 9.20922163e-01, 3.55135688e-01, ...,\n",
       "            5.54056750e-02, 6.69130800e-01, 6.41160951e-01],\n",
       "           [7.92814719e-01, 2.26864369e-01, 5.20503852e-01, ...,\n",
       "            9.36853861e-01, 2.07209150e-01, 8.74644500e-01],\n",
       "           ...,\n",
       "           [1.28327698e-01, 2.23169869e-02, 1.17429681e-01, ...,\n",
       "            9.03683911e-01, 3.84581476e-01, 3.72584430e-01],\n",
       "           [1.03430174e-01, 1.94367072e-01, 8.55687668e-01, ...,\n",
       "            5.07020105e-01, 4.95428952e-01, 6.95709619e-02],\n",
       "           [4.38601328e-01, 1.40276469e-01, 1.31804051e-01, ...,\n",
       "            7.64318090e-01, 6.76726479e-01, 7.27179911e-01]],\n",
       "\n",
       "          [[1.80274489e-03, 2.96388039e-01, 7.11718157e-01, ...,\n",
       "            3.31896105e-02, 7.96640328e-01, 2.55947995e-01],\n",
       "           [1.48648965e-01, 5.58826967e-02, 3.51891303e-01, ...,\n",
       "            9.52748103e-02, 1.81630858e-01, 1.44474527e-01],\n",
       "           [6.70177017e-01, 5.66158971e-01, 7.10098618e-01, ...,\n",
       "            4.40784734e-01, 9.29903684e-01, 9.67712477e-01],\n",
       "           ...,\n",
       "           [5.84700532e-01, 5.69224914e-01, 8.90626913e-01, ...,\n",
       "            2.30457073e-01, 6.77157540e-01, 4.59566109e-01],\n",
       "           [3.16816468e-01, 4.66296171e-01, 7.28114847e-01, ...,\n",
       "            5.49509700e-01, 5.40585911e-01, 8.17277572e-01],\n",
       "           [5.57226373e-01, 8.64231250e-01, 6.04580350e-01, ...,\n",
       "            3.45430831e-01, 5.39953263e-03, 2.33845493e-01]],\n",
       "\n",
       "          [[9.56872481e-01, 3.81833978e-01, 2.28679384e-01, ...,\n",
       "            6.65570222e-01, 9.84554684e-01, 5.20890824e-01],\n",
       "           [1.01147729e-01, 6.20787659e-01, 3.53622590e-02, ...,\n",
       "            6.52734594e-01, 5.54488749e-01, 3.61720819e-01],\n",
       "           [7.02169819e-01, 7.21118944e-01, 7.53810016e-01, ...,\n",
       "            5.13163192e-01, 3.66895693e-01, 1.84387508e-02],\n",
       "           ...,\n",
       "           [5.50767795e-01, 7.90458369e-01, 6.75274420e-01, ...,\n",
       "            8.84692667e-01, 5.32616544e-01, 6.87214861e-01],\n",
       "           [6.20870233e-01, 7.61467443e-01, 4.29237320e-01, ...,\n",
       "            5.76703601e-01, 6.54763331e-01, 3.01684697e-01],\n",
       "           [7.94284134e-01, 3.28824679e-01, 7.91509881e-01, ...,\n",
       "            1.10455290e-01, 4.09458906e-01, 5.34822602e-01]]]],\n",
       "\n",
       "\n",
       "\n",
       "        [[[[7.88401073e-01, 5.04742052e-02, 2.89281015e-01, ...,\n",
       "            9.29589975e-01, 1.66049876e-02, 8.30951714e-01],\n",
       "           [2.76428740e-02, 4.07840496e-01, 7.92104559e-01, ...,\n",
       "            7.64942037e-01, 2.49085945e-01, 1.82185454e-01],\n",
       "           [9.45904659e-02, 1.32978098e-01, 1.56734335e-01, ...,\n",
       "            6.77762866e-01, 5.44578305e-01, 2.34525168e-01],\n",
       "           ...,\n",
       "           [3.53207897e-01, 1.46603302e-02, 7.25692807e-01, ...,\n",
       "            1.88167167e-01, 6.96277767e-01, 8.05827748e-01],\n",
       "           [3.72047331e-01, 3.17437349e-01, 3.80825157e-01, ...,\n",
       "            2.50607640e-01, 2.76359817e-01, 4.82181920e-01],\n",
       "           [6.12792681e-01, 2.61684808e-01, 4.71813326e-01, ...,\n",
       "            4.38754370e-01, 9.58921983e-01, 1.11381824e-01]],\n",
       "\n",
       "          [[7.91742624e-01, 6.31599887e-01, 2.06399462e-01, ...,\n",
       "            5.23373314e-01, 6.14109884e-01, 6.78132737e-01],\n",
       "           [9.84746968e-01, 3.57559171e-01, 2.38516012e-02, ...,\n",
       "            7.52602490e-01, 9.48774356e-01, 3.77547212e-02],\n",
       "           [9.39861165e-02, 4.95383279e-01, 3.88268029e-01, ...,\n",
       "            1.79034476e-02, 7.09129138e-01, 5.46328489e-02],\n",
       "           ...,\n",
       "           [5.30150216e-01, 8.99757384e-01, 1.91165926e-01, ...,\n",
       "            5.93348757e-01, 5.68249829e-02, 2.18116667e-01],\n",
       "           [6.39137083e-01, 7.10102409e-01, 5.18194764e-02, ...,\n",
       "            2.35895015e-01, 1.00599157e-01, 6.57587299e-01],\n",
       "           [2.84132644e-01, 3.58803611e-01, 6.94067714e-01, ...,\n",
       "            3.56615285e-01, 9.97008048e-01, 3.73043567e-01]],\n",
       "\n",
       "          [[6.88780647e-02, 5.73005257e-01, 2.38102178e-01, ...,\n",
       "            2.82014339e-01, 6.57195817e-01, 6.20669505e-01],\n",
       "           [6.43854690e-01, 6.52951226e-01, 3.66583121e-01, ...,\n",
       "            8.95077724e-01, 4.60506723e-01, 6.35918560e-01],\n",
       "           [6.25392360e-01, 5.27022413e-01, 3.71870937e-01, ...,\n",
       "            3.16544625e-01, 8.21984131e-02, 5.64847371e-01],\n",
       "           ...,\n",
       "           [5.44254641e-01, 2.67024667e-01, 3.14937653e-01, ...,\n",
       "            4.19062860e-01, 4.80602225e-01, 7.55988028e-01],\n",
       "           [5.36297775e-01, 4.16527011e-01, 6.46598609e-01, ...,\n",
       "            8.72859386e-01, 4.14513686e-02, 8.55952354e-01],\n",
       "           [1.34826190e-01, 9.71250373e-03, 3.54210414e-02, ...,\n",
       "            9.60168158e-01, 2.14737045e-01, 6.94363205e-01]],\n",
       "\n",
       "          ...,\n",
       "\n",
       "          [[2.79049975e-02, 9.37462949e-01, 7.77652717e-02, ...,\n",
       "            9.38842275e-01, 2.63510705e-01, 3.83701242e-01],\n",
       "           [6.99336978e-01, 3.29975174e-01, 9.99042334e-01, ...,\n",
       "            9.15358386e-01, 9.00490121e-01, 3.68818455e-02],\n",
       "           [2.86049703e-01, 6.16963510e-01, 5.78912017e-01, ...,\n",
       "            9.00372058e-01, 8.74309445e-02, 3.25384930e-01],\n",
       "           ...,\n",
       "           [5.30080242e-01, 8.67333732e-01, 1.64184576e-01, ...,\n",
       "            5.88395535e-01, 2.77953741e-01, 2.18320839e-01],\n",
       "           [2.83408659e-01, 7.99891517e-01, 1.40300536e-01, ...,\n",
       "            3.13205710e-01, 1.64934764e-01, 9.35447558e-01],\n",
       "           [9.12185703e-01, 8.92059671e-01, 4.19263059e-02, ...,\n",
       "            8.34562918e-01, 8.07842458e-01, 4.15113462e-01]],\n",
       "\n",
       "          [[6.29035703e-01, 1.13538254e-01, 4.34102982e-02, ...,\n",
       "            3.06136194e-01, 2.69333454e-01, 6.89519462e-01],\n",
       "           [9.02081829e-01, 3.65945652e-01, 3.81729282e-01, ...,\n",
       "            3.16688851e-01, 7.35509227e-01, 8.26115436e-01],\n",
       "           [9.53255552e-02, 1.46898291e-01, 1.78151779e-01, ...,\n",
       "            2.80860821e-01, 8.60657145e-01, 3.61232993e-01],\n",
       "           ...,\n",
       "           [3.14920605e-01, 5.86018961e-01, 9.93294796e-01, ...,\n",
       "            4.75228492e-01, 9.64466896e-01, 4.62631084e-01],\n",
       "           [2.83977749e-01, 5.79956439e-01, 6.94974095e-01, ...,\n",
       "            8.68692361e-01, 2.45559834e-01, 3.82567766e-01],\n",
       "           [1.27324606e-01, 6.98938510e-01, 2.33348546e-01, ...,\n",
       "            9.58071387e-02, 9.25317393e-01, 1.53188186e-01]],\n",
       "\n",
       "          [[7.23120527e-01, 5.53849043e-01, 7.49690976e-01, ...,\n",
       "            1.33091293e-01, 9.61113642e-01, 9.36895958e-01],\n",
       "           [3.43623117e-02, 9.82164463e-02, 2.75164110e-01, ...,\n",
       "            5.47293399e-01, 8.26466153e-01, 7.83690125e-01],\n",
       "           [2.74216349e-02, 7.95549126e-01, 7.45591958e-01, ...,\n",
       "            3.77192298e-01, 4.94995131e-01, 7.33368593e-01],\n",
       "           ...,\n",
       "           [9.33807548e-01, 7.00593896e-01, 1.07513678e-01, ...,\n",
       "            7.63741067e-01, 2.01421971e-01, 2.52697214e-01],\n",
       "           [8.52496322e-01, 9.33704685e-01, 4.51744193e-01, ...,\n",
       "            8.99544526e-01, 5.56434200e-01, 1.72228413e-01],\n",
       "           [8.20010858e-01, 7.75800780e-02, 3.30490877e-01, ...,\n",
       "            8.47083007e-01, 4.24812360e-01, 3.64885792e-01]]],\n",
       "\n",
       "\n",
       "         [[[8.43805526e-01, 7.16034481e-01, 6.14715548e-01, ...,\n",
       "            9.61112562e-01, 5.67268600e-01, 5.04694720e-02],\n",
       "           [9.49509911e-01, 6.67864968e-01, 7.95475616e-01, ...,\n",
       "            4.46910333e-01, 8.81123807e-01, 2.94239539e-01],\n",
       "           [9.36414001e-01, 5.37079516e-01, 2.79896413e-01, ...,\n",
       "            7.78906628e-01, 8.44153307e-01, 9.65169556e-01],\n",
       "           ...,\n",
       "           [8.10919346e-01, 6.21148486e-01, 7.49526453e-01, ...,\n",
       "            3.37207065e-01, 8.42781897e-01, 7.80198212e-01],\n",
       "           [6.66210531e-01, 2.89230545e-01, 3.31617067e-01, ...,\n",
       "            5.39169666e-01, 4.44485180e-01, 9.36254733e-01],\n",
       "           [4.37918249e-01, 6.31459236e-01, 5.41394681e-01, ...,\n",
       "            1.87053674e-01, 8.56976047e-01, 3.44921550e-02]],\n",
       "\n",
       "          [[3.69372684e-01, 7.37031198e-02, 2.73659851e-01, ...,\n",
       "            5.37129070e-01, 2.60964255e-01, 4.70924577e-01],\n",
       "           [4.93941537e-02, 1.79280379e-01, 9.06306683e-01, ...,\n",
       "            4.43039431e-01, 5.55134885e-01, 3.62876136e-01],\n",
       "           [4.16169710e-01, 1.93568604e-01, 6.04981183e-01, ...,\n",
       "            2.94183413e-01, 4.96038541e-01, 4.50632887e-01],\n",
       "           ...,\n",
       "           [6.90637313e-01, 7.47302439e-01, 4.56929525e-01, ...,\n",
       "            6.28503745e-01, 2.91760804e-01, 6.21134090e-01],\n",
       "           [1.59946321e-01, 6.38556370e-01, 4.20663470e-02, ...,\n",
       "            8.04295993e-01, 6.73671585e-01, 3.63748162e-01],\n",
       "           [4.75249514e-01, 6.69011737e-01, 6.33911705e-01, ...,\n",
       "            6.67473728e-01, 2.28561273e-01, 4.80780899e-02]],\n",
       "\n",
       "          [[8.81927834e-01, 4.91420385e-01, 4.94276335e-01, ...,\n",
       "            8.62677085e-01, 3.51550458e-01, 9.61434246e-01],\n",
       "           [4.97542284e-01, 2.21416602e-01, 1.31557356e-01, ...,\n",
       "            6.28346493e-01, 7.58632134e-01, 5.78504125e-01],\n",
       "           [7.39287949e-01, 4.62762274e-01, 2.76354395e-01, ...,\n",
       "            7.25481513e-01, 3.98943108e-01, 2.89328754e-02],\n",
       "           ...,\n",
       "           [3.47385062e-01, 1.82702653e-01, 8.48413814e-01, ...,\n",
       "            4.08275689e-01, 2.72920876e-03, 2.15087838e-01],\n",
       "           [8.81312255e-01, 3.45729545e-01, 8.80944445e-01, ...,\n",
       "            8.53681880e-01, 1.92455651e-01, 3.36445703e-01],\n",
       "           [7.08728774e-01, 9.79060702e-01, 1.45550518e-01, ...,\n",
       "            8.18660167e-01, 4.67748278e-01, 9.44699241e-01]],\n",
       "\n",
       "          ...,\n",
       "\n",
       "          [[5.85731500e-01, 1.62692874e-02, 8.52403923e-01, ...,\n",
       "            9.50070203e-01, 8.34785182e-01, 9.52036465e-01],\n",
       "           [8.54411824e-01, 2.40117260e-01, 5.62613024e-01, ...,\n",
       "            6.49717797e-01, 9.65881550e-01, 3.28062294e-01],\n",
       "           [8.57657818e-01, 6.24605741e-01, 4.88053271e-01, ...,\n",
       "            8.61338243e-01, 2.06534055e-02, 9.42632524e-01],\n",
       "           ...,\n",
       "           [9.99283270e-01, 5.81387237e-01, 1.69263133e-01, ...,\n",
       "            4.04975119e-01, 4.16817339e-01, 6.68704714e-01],\n",
       "           [6.41261125e-01, 8.66460051e-01, 6.49695423e-01, ...,\n",
       "            3.95333675e-01, 3.92704326e-01, 3.28371099e-01],\n",
       "           [9.37666629e-01, 2.97358284e-01, 5.64350622e-01, ...,\n",
       "            2.70310406e-01, 4.81580273e-01, 7.37362807e-01]],\n",
       "\n",
       "          [[4.78124319e-02, 5.48343117e-01, 3.79751603e-01, ...,\n",
       "            2.76785622e-01, 9.99485419e-01, 4.83503973e-01],\n",
       "           [5.19933945e-01, 6.60935306e-01, 6.75500179e-01, ...,\n",
       "            9.79278094e-01, 4.97170700e-01, 4.16372167e-01],\n",
       "           [4.22555892e-01, 3.53229184e-01, 8.84588831e-01, ...,\n",
       "            3.59544312e-01, 5.96427179e-01, 2.37343576e-01],\n",
       "           ...,\n",
       "           [4.41100224e-01, 8.33479491e-01, 8.31966065e-01, ...,\n",
       "            2.34972532e-01, 9.32964838e-02, 2.73309571e-01],\n",
       "           [7.49246771e-01, 3.92476440e-02, 2.93595912e-01, ...,\n",
       "            7.86412841e-01, 3.20953135e-01, 3.28030697e-01],\n",
       "           [3.80483655e-01, 8.43796492e-01, 8.72150518e-01, ...,\n",
       "            6.13590064e-01, 5.25680335e-01, 8.97487318e-01]],\n",
       "\n",
       "          [[4.68131176e-01, 6.53485221e-01, 7.71412078e-01, ...,\n",
       "            8.07113028e-02, 9.63377409e-01, 2.22520189e-01],\n",
       "           [7.92917272e-01, 7.79445124e-01, 6.21895431e-01, ...,\n",
       "            6.98472990e-01, 7.58198453e-01, 7.83700177e-01],\n",
       "           [2.24329315e-01, 3.59148144e-01, 3.79853998e-01, ...,\n",
       "            7.62384276e-01, 9.40081900e-01, 8.99790242e-01],\n",
       "           ...,\n",
       "           [7.04616956e-01, 6.56659728e-01, 9.83889035e-02, ...,\n",
       "            4.71774964e-01, 8.60218555e-01, 9.08013162e-01],\n",
       "           [7.03024775e-01, 9.90047376e-01, 8.02679877e-01, ...,\n",
       "            9.89811721e-01, 3.72775049e-01, 4.66811273e-01],\n",
       "           [7.83309496e-01, 4.58880363e-01, 8.20109287e-01, ...,\n",
       "            6.20719809e-01, 8.67086759e-01, 3.11364403e-01]]],\n",
       "\n",
       "\n",
       "         [[[2.94283674e-01, 6.17171145e-02, 1.43323391e-01, ...,\n",
       "            6.62010033e-01, 2.38880592e-01, 1.59795765e-01],\n",
       "           [3.20088627e-01, 3.38013921e-01, 2.49108441e-01, ...,\n",
       "            9.40867481e-01, 2.40815961e-02, 9.61930435e-01],\n",
       "           [2.81029579e-01, 3.66193546e-01, 5.22539865e-01, ...,\n",
       "            4.51672351e-01, 7.88940827e-01, 2.92111230e-01],\n",
       "           ...,\n",
       "           [7.89687084e-01, 8.01877683e-02, 3.66737356e-01, ...,\n",
       "            3.95854364e-01, 7.12994765e-01, 3.17182334e-01],\n",
       "           [9.69301156e-01, 3.33685447e-01, 6.87537633e-01, ...,\n",
       "            1.73134175e-01, 7.57763030e-01, 9.06948907e-01],\n",
       "           [9.53450048e-01, 5.09816084e-01, 1.81736145e-01, ...,\n",
       "            7.19357319e-01, 4.92195011e-01, 2.80346275e-01]],\n",
       "\n",
       "          [[7.22831291e-01, 2.79970518e-01, 3.17314454e-01, ...,\n",
       "            8.00691830e-01, 4.40817497e-01, 7.15868574e-02],\n",
       "           [3.29640968e-01, 3.46313208e-01, 1.19226215e-01, ...,\n",
       "            7.16170206e-01, 9.62065163e-01, 7.47240890e-01],\n",
       "           [4.88901502e-01, 2.33824098e-01, 6.03591973e-02, ...,\n",
       "            1.70964824e-01, 5.62200456e-02, 1.01056985e-02],\n",
       "           ...,\n",
       "           [1.46718747e-01, 4.03897048e-01, 4.28999069e-01, ...,\n",
       "            7.30488383e-01, 7.81752613e-01, 2.11598532e-02],\n",
       "           [1.72994372e-01, 9.82661951e-01, 4.28635636e-01, ...,\n",
       "            4.51604555e-01, 9.36009633e-02, 1.26053701e-01],\n",
       "           [1.46771183e-01, 1.46551028e-01, 1.90689982e-01, ...,\n",
       "            3.20294586e-01, 3.60634481e-01, 2.90277759e-01]],\n",
       "\n",
       "          [[7.81468739e-01, 9.84387667e-01, 3.14097128e-01, ...,\n",
       "            2.52724090e-01, 7.11614444e-01, 6.91965906e-01],\n",
       "           [9.59350660e-01, 1.10152366e-01, 8.99322929e-01, ...,\n",
       "            3.67284317e-01, 3.83466453e-02, 3.61466905e-01],\n",
       "           [2.14269855e-01, 4.05557898e-01, 1.86406865e-01, ...,\n",
       "            9.49703848e-01, 7.90872915e-01, 3.53136000e-01],\n",
       "           ...,\n",
       "           [8.16979757e-01, 3.51429002e-01, 6.83165261e-01, ...,\n",
       "            1.53217863e-01, 6.57838380e-01, 5.86572188e-01],\n",
       "           [5.97916263e-01, 9.32951589e-01, 4.37677093e-01, ...,\n",
       "            5.60284493e-01, 5.86708681e-01, 3.68845407e-01],\n",
       "           [5.69342787e-01, 9.85141813e-01, 6.44917652e-01, ...,\n",
       "            7.74301553e-01, 3.86399028e-01, 5.88577983e-01]],\n",
       "\n",
       "          ...,\n",
       "\n",
       "          [[2.68216281e-01, 6.63517425e-01, 8.70280573e-01, ...,\n",
       "            1.22723724e-01, 5.90921359e-01, 8.44253675e-01],\n",
       "           [4.69556905e-03, 4.97066976e-02, 4.37520322e-01, ...,\n",
       "            3.14774691e-01, 3.19060533e-01, 7.04696053e-01],\n",
       "           [8.52737690e-01, 3.36467621e-01, 1.21048360e-02, ...,\n",
       "            2.87613314e-01, 8.26635391e-01, 3.28650417e-02],\n",
       "           ...,\n",
       "           [3.33189574e-01, 5.34998558e-01, 9.47101792e-01, ...,\n",
       "            8.34957394e-02, 9.60054323e-01, 2.07992157e-01],\n",
       "           [2.99068146e-01, 3.79349623e-01, 6.36593123e-01, ...,\n",
       "            7.81324813e-02, 7.58084085e-01, 8.62529382e-01],\n",
       "           [7.98694308e-01, 1.77939422e-01, 6.74729616e-02, ...,\n",
       "            2.89989927e-01, 5.82386459e-01, 8.41760261e-03]],\n",
       "\n",
       "          [[3.66489458e-01, 7.09100144e-01, 3.89479410e-01, ...,\n",
       "            9.33089033e-01, 8.32548821e-01, 3.96410053e-01],\n",
       "           [7.37419427e-01, 3.59019072e-01, 2.41309466e-01, ...,\n",
       "            8.69815702e-01, 2.25572935e-01, 9.60770909e-01],\n",
       "           [7.14664196e-02, 3.88868528e-01, 8.43465419e-01, ...,\n",
       "            2.86497363e-01, 5.54493522e-01, 6.40731794e-01],\n",
       "           ...,\n",
       "           [2.45054378e-01, 9.44969811e-02, 4.12606659e-02, ...,\n",
       "            4.22797900e-01, 3.87526168e-01, 3.75962519e-01],\n",
       "           [2.90748069e-01, 3.65370410e-01, 7.16348751e-02, ...,\n",
       "            6.77676522e-01, 4.85916021e-01, 3.24418498e-01],\n",
       "           [1.82313919e-01, 2.92887354e-01, 2.29623887e-01, ...,\n",
       "            6.02600142e-01, 5.95600795e-01, 7.07939185e-02]],\n",
       "\n",
       "          [[2.72016603e-01, 3.87225819e-01, 6.18424763e-01, ...,\n",
       "            7.05146753e-01, 6.82393141e-01, 5.17099206e-01],\n",
       "           [3.01232287e-01, 4.03696350e-01, 2.57503965e-01, ...,\n",
       "            7.50163342e-01, 2.06519545e-01, 4.42675113e-01],\n",
       "           [5.80936415e-01, 1.44764422e-01, 5.70815645e-01, ...,\n",
       "            5.55652722e-01, 6.05337719e-01, 5.15619024e-01],\n",
       "           ...,\n",
       "           [5.24390103e-01, 2.86037763e-01, 1.49148356e-01, ...,\n",
       "            9.38832801e-01, 2.15086354e-01, 1.11735082e-01],\n",
       "           [3.03278429e-01, 8.37649880e-01, 9.53932817e-01, ...,\n",
       "            2.95860894e-01, 2.64944878e-01, 2.59148796e-01],\n",
       "           [7.33653443e-01, 8.66156524e-01, 2.04162881e-01, ...,\n",
       "            8.60458641e-01, 9.30438090e-01, 5.06667197e-01]]],\n",
       "\n",
       "\n",
       "         [[[6.82778653e-01, 5.61705733e-01, 6.85287007e-01, ...,\n",
       "            8.29256046e-01, 2.89440439e-01, 3.57038415e-01],\n",
       "           [2.20155150e-01, 6.75247025e-01, 2.89005999e-01, ...,\n",
       "            2.71651841e-01, 8.65212105e-01, 2.29080498e-01],\n",
       "           [1.27913844e-01, 7.63327791e-01, 2.09909131e-01, ...,\n",
       "            6.32079169e-01, 7.69407032e-01, 4.59816036e-01],\n",
       "           ...,\n",
       "           [5.24447867e-02, 7.09424907e-01, 1.00201570e-01, ...,\n",
       "            7.59665088e-02, 9.30273286e-01, 4.38353955e-02],\n",
       "           [2.75499553e-01, 4.22207370e-01, 6.67324657e-01, ...,\n",
       "            7.29908026e-01, 8.70320420e-01, 4.95844873e-01],\n",
       "           [7.59250834e-01, 7.00787761e-01, 4.81825941e-01, ...,\n",
       "            3.51756543e-01, 5.69726486e-01, 3.33331737e-01]],\n",
       "\n",
       "          [[7.23738775e-01, 7.00019868e-01, 8.29679319e-01, ...,\n",
       "            9.79034767e-01, 2.41941412e-01, 1.72183640e-01],\n",
       "           [9.62918586e-01, 4.48824667e-01, 2.48727027e-02, ...,\n",
       "            6.91062235e-01, 5.43367866e-01, 9.33321877e-01],\n",
       "           [7.64697015e-01, 8.30508390e-01, 3.38676825e-01, ...,\n",
       "            8.93007995e-01, 2.69236750e-01, 2.63841592e-02],\n",
       "           ...,\n",
       "           [2.39213912e-01, 8.95524709e-01, 3.68048883e-01, ...,\n",
       "            7.99932549e-01, 3.81079785e-01, 8.62346576e-01],\n",
       "           [4.46256421e-01, 8.71772044e-01, 9.43201924e-01, ...,\n",
       "            6.64234686e-01, 3.26000597e-01, 9.92990319e-01],\n",
       "           [8.13258196e-02, 1.35494608e-01, 8.96005453e-01, ...,\n",
       "            7.45307610e-01, 1.08488513e-01, 4.06266234e-01]],\n",
       "\n",
       "          [[1.79871338e-01, 7.43439608e-01, 1.02217640e-01, ...,\n",
       "            1.22191041e-01, 3.99382561e-01, 1.77686727e-01],\n",
       "           [3.67122375e-02, 7.10916041e-01, 8.71015602e-01, ...,\n",
       "            9.33614611e-01, 4.88739375e-01, 1.68703441e-02],\n",
       "           [3.17994784e-02, 5.16565461e-01, 8.20641472e-01, ...,\n",
       "            3.40210435e-02, 9.94708085e-01, 3.41789551e-01],\n",
       "           ...,\n",
       "           [7.75427665e-01, 7.25562349e-01, 2.45291307e-01, ...,\n",
       "            2.19733634e-01, 6.34617738e-01, 3.19776891e-01],\n",
       "           [5.86997591e-01, 7.26512329e-01, 8.52586855e-01, ...,\n",
       "            3.96897617e-01, 4.20735099e-01, 2.97202483e-01],\n",
       "           [5.77561170e-01, 1.51482740e-01, 1.49753904e-01, ...,\n",
       "            3.71325625e-01, 9.41891996e-02, 6.61545995e-01]],\n",
       "\n",
       "          ...,\n",
       "\n",
       "          [[7.17350909e-01, 7.32712478e-01, 4.99984825e-03, ...,\n",
       "            1.47750607e-01, 8.33957820e-01, 3.92361866e-01],\n",
       "           [3.58510676e-01, 1.28582079e-02, 7.21292272e-01, ...,\n",
       "            5.86707141e-01, 5.58293883e-01, 5.57158407e-02],\n",
       "           [5.80076972e-02, 5.52371103e-01, 5.49414078e-01, ...,\n",
       "            8.05725461e-01, 1.68647783e-01, 4.78394384e-01],\n",
       "           ...,\n",
       "           [1.21121179e-01, 7.98835062e-01, 1.17306286e-01, ...,\n",
       "            2.36739598e-01, 4.36399851e-01, 3.86707541e-01],\n",
       "           [1.14750619e-01, 9.31966727e-01, 6.70768167e-01, ...,\n",
       "            8.27808146e-01, 2.15485439e-01, 4.03618488e-01],\n",
       "           [6.32238665e-01, 6.01050095e-01, 6.07767853e-01, ...,\n",
       "            9.60625997e-03, 7.96392210e-01, 6.14578238e-01]],\n",
       "\n",
       "          [[3.84059773e-01, 6.47049426e-01, 5.10814865e-01, ...,\n",
       "            1.94505495e-02, 7.96765874e-01, 9.74263071e-02],\n",
       "           [9.71134091e-01, 1.03512252e-01, 8.60344608e-01, ...,\n",
       "            7.04768537e-02, 1.00208761e-01, 8.07993191e-01],\n",
       "           [2.23589501e-01, 1.32878629e-01, 1.06349570e-01, ...,\n",
       "            7.66514557e-02, 9.04356371e-01, 3.29904702e-01],\n",
       "           ...,\n",
       "           [9.86457907e-01, 3.31646356e-01, 3.82435467e-01, ...,\n",
       "            5.85695669e-01, 3.69271326e-01, 9.31036737e-01],\n",
       "           [3.23591553e-01, 7.71749808e-01, 8.12627303e-01, ...,\n",
       "            9.63144915e-01, 3.95813932e-01, 8.43829018e-01],\n",
       "           [4.97604448e-01, 8.05312969e-01, 4.43469555e-01, ...,\n",
       "            6.69156464e-01, 8.71085101e-02, 2.25317995e-01]],\n",
       "\n",
       "          [[6.27485790e-01, 8.72334782e-01, 6.25737359e-01, ...,\n",
       "            3.71739213e-01, 7.98818841e-02, 7.31245673e-01],\n",
       "           [2.39494475e-01, 3.79251795e-01, 6.39511331e-01, ...,\n",
       "            2.34491459e-01, 7.98646208e-01, 9.86065580e-01],\n",
       "           [6.25271750e-01, 8.88146290e-01, 5.82864927e-02, ...,\n",
       "            2.88253240e-01, 1.39599607e-01, 7.63116848e-01],\n",
       "           ...,\n",
       "           [3.73649666e-01, 4.08383032e-01, 4.62823840e-01, ...,\n",
       "            9.22715145e-01, 9.48058975e-01, 4.97342644e-01],\n",
       "           [3.19232296e-01, 9.07875956e-01, 4.07650045e-01, ...,\n",
       "            6.96894205e-01, 3.63731643e-01, 7.10123375e-01],\n",
       "           [6.88071982e-01, 9.71326982e-01, 2.69290471e-01, ...,\n",
       "            9.74801971e-01, 9.63834066e-01, 4.66294450e-03]]]],\n",
       "\n",
       "\n",
       "\n",
       "        [[[[8.18678635e-01, 1.38939337e-01, 8.72320389e-01, ...,\n",
       "            9.74848360e-01, 8.54680023e-01, 1.33005960e-01],\n",
       "           [9.09309360e-01, 7.28160959e-01, 4.80774062e-01, ...,\n",
       "            5.36958792e-01, 5.66910068e-01, 5.00080923e-01],\n",
       "           [6.92936304e-01, 1.76617982e-01, 5.16974070e-01, ...,\n",
       "            5.62932201e-01, 2.11022325e-01, 5.39074768e-01],\n",
       "           ...,\n",
       "           [6.10739517e-01, 2.09217159e-01, 3.76004906e-01, ...,\n",
       "            2.94274894e-01, 1.77884125e-01, 8.16641277e-01],\n",
       "           [5.52383976e-01, 8.28983425e-01, 2.37242311e-01, ...,\n",
       "            3.34616722e-01, 7.94497992e-01, 9.94931234e-02],\n",
       "           [7.11456856e-01, 2.35727304e-01, 1.63061908e-01, ...,\n",
       "            6.12479672e-01, 7.43968287e-01, 3.51198195e-02]],\n",
       "\n",
       "          [[8.51522922e-02, 3.72093979e-01, 6.70002856e-01, ...,\n",
       "            4.79608510e-01, 1.22353279e-01, 7.44621495e-01],\n",
       "           [8.36654836e-01, 6.14441653e-01, 7.17424690e-01, ...,\n",
       "            2.42149999e-01, 8.83228376e-01, 8.89993348e-01],\n",
       "           [5.32088608e-01, 4.13486635e-01, 5.37580725e-01, ...,\n",
       "            2.08164659e-02, 1.80679498e-01, 7.35021506e-01],\n",
       "           ...,\n",
       "           [5.59973488e-01, 5.70514875e-01, 7.67082324e-01, ...,\n",
       "            9.68867032e-01, 7.71278909e-01, 3.69141065e-01],\n",
       "           [8.21455627e-01, 4.12018255e-01, 4.10311107e-01, ...,\n",
       "            8.42379629e-01, 7.48480309e-01, 4.16798666e-01],\n",
       "           [2.90513800e-01, 3.25349813e-01, 9.40924497e-02, ...,\n",
       "            2.71932308e-02, 9.19060222e-01, 3.75035517e-01]],\n",
       "\n",
       "          [[5.97333948e-01, 1.35351855e-01, 7.54925887e-02, ...,\n",
       "            4.90851651e-01, 4.69469733e-01, 3.77931669e-01],\n",
       "           [4.98013283e-03, 3.75484289e-01, 2.22961117e-01, ...,\n",
       "            5.45775226e-01, 3.70440616e-01, 8.22828098e-01],\n",
       "           [4.02212440e-01, 3.64103872e-01, 8.21813998e-01, ...,\n",
       "            6.55306676e-01, 3.49237619e-01, 7.35351455e-01],\n",
       "           ...,\n",
       "           [7.86721474e-01, 2.44833201e-01, 6.09448214e-01, ...,\n",
       "            4.25538627e-03, 7.04968945e-01, 2.95682889e-01],\n",
       "           [4.13883747e-01, 7.96960364e-01, 4.65626638e-02, ...,\n",
       "            2.60453153e-01, 9.16314179e-01, 2.56878905e-01],\n",
       "           [2.51528443e-02, 3.73785452e-02, 8.47184265e-01, ...,\n",
       "            8.28973483e-01, 6.00429207e-01, 1.99626525e-01]],\n",
       "\n",
       "          ...,\n",
       "\n",
       "          [[1.92291226e-01, 6.49380288e-01, 2.99811916e-02, ...,\n",
       "            6.02423515e-01, 1.66788796e-01, 5.48152313e-01],\n",
       "           [6.18623009e-01, 1.95739635e-01, 9.76668597e-01, ...,\n",
       "            1.75974800e-01, 7.24218380e-01, 5.63222184e-01],\n",
       "           [9.12039416e-01, 1.44814049e-01, 5.28779732e-01, ...,\n",
       "            7.17421259e-01, 2.76854253e-01, 9.60224326e-03],\n",
       "           ...,\n",
       "           [7.21840449e-02, 3.00292601e-01, 3.42193383e-01, ...,\n",
       "            8.28942150e-02, 3.33909956e-01, 6.16205885e-01],\n",
       "           [5.27317450e-02, 9.78943772e-01, 8.82692758e-01, ...,\n",
       "            7.04078852e-01, 9.38145702e-01, 2.82119339e-01],\n",
       "           [3.79850123e-01, 9.98714534e-01, 5.80286515e-01, ...,\n",
       "            2.77858067e-01, 4.58265265e-01, 1.17408213e-01]],\n",
       "\n",
       "          [[7.82519289e-01, 5.65585844e-01, 3.24741527e-01, ...,\n",
       "            4.63370003e-01, 6.95866643e-01, 1.53806942e-01],\n",
       "           [7.49259897e-01, 8.47158778e-01, 4.35414903e-02, ...,\n",
       "            4.18452061e-01, 5.26198942e-01, 5.11466140e-01],\n",
       "           [3.62617572e-01, 5.19827157e-01, 4.54563130e-01, ...,\n",
       "            3.45210740e-01, 2.82346438e-02, 6.04671465e-01],\n",
       "           ...,\n",
       "           [2.54911163e-01, 6.82807398e-03, 7.78124819e-01, ...,\n",
       "            1.60100909e-01, 7.77280731e-01, 3.65226550e-01],\n",
       "           [1.96652185e-01, 5.53779719e-01, 7.21260812e-01, ...,\n",
       "            1.57065641e-01, 5.79064191e-01, 4.34486953e-01],\n",
       "           [8.77292509e-01, 3.06928925e-01, 4.65893375e-01, ...,\n",
       "            4.35817232e-01, 6.13527757e-02, 4.65534525e-01]],\n",
       "\n",
       "          [[9.53716499e-01, 8.05572267e-01, 2.04143906e-02, ...,\n",
       "            9.18278493e-01, 1.68478142e-01, 2.80229019e-01],\n",
       "           [1.85472958e-02, 2.74565729e-01, 7.97176162e-01, ...,\n",
       "            1.74119334e-01, 7.20419305e-01, 2.92258635e-01],\n",
       "           [6.92142968e-01, 8.37439749e-01, 3.45134412e-01, ...,\n",
       "            9.62456792e-01, 4.41909644e-01, 2.87851353e-01],\n",
       "           ...,\n",
       "           [3.50084278e-01, 9.63553976e-01, 7.61942887e-01, ...,\n",
       "            6.45962989e-01, 9.03864721e-01, 1.56705874e-01],\n",
       "           [9.65490827e-01, 4.52486306e-01, 5.88432709e-01, ...,\n",
       "            6.98909283e-01, 4.38543038e-01, 2.53554617e-01],\n",
       "           [3.76795563e-01, 8.54835849e-01, 9.62927878e-02, ...,\n",
       "            3.84623131e-01, 7.01395852e-01, 9.72935983e-01]]],\n",
       "\n",
       "\n",
       "         [[[5.13999197e-01, 6.20524641e-01, 7.05623984e-01, ...,\n",
       "            6.43053005e-01, 3.19422189e-02, 8.79306271e-01],\n",
       "           [4.02631072e-01, 9.37754333e-01, 2.42593564e-02, ...,\n",
       "            3.84091426e-01, 3.16486475e-01, 6.60320583e-01],\n",
       "           [8.35503313e-01, 6.85697172e-01, 8.00025104e-01, ...,\n",
       "            1.80850841e-02, 4.51172342e-01, 5.97480743e-01],\n",
       "           ...,\n",
       "           [1.82182254e-01, 6.05419341e-02, 5.68418151e-01, ...,\n",
       "            5.42935513e-02, 9.87291290e-01, 8.56268332e-01],\n",
       "           [3.72959668e-02, 4.90613144e-01, 5.31633111e-01, ...,\n",
       "            1.36085634e-01, 3.30270363e-01, 2.66438274e-01],\n",
       "           [4.46891469e-01, 5.93033616e-01, 5.42003766e-01, ...,\n",
       "            8.38247829e-01, 3.36878486e-01, 1.77790143e-01]],\n",
       "\n",
       "          [[2.64636539e-01, 5.01267444e-01, 1.04547755e-01, ...,\n",
       "            7.80709163e-01, 9.52471503e-01, 1.51943593e-01],\n",
       "           [5.64960063e-01, 8.18232248e-01, 4.56789651e-01, ...,\n",
       "            4.80591583e-01, 5.62387360e-01, 1.65920183e-01],\n",
       "           [4.37326782e-01, 5.98315781e-01, 6.19531411e-01, ...,\n",
       "            7.77480738e-01, 8.13810246e-01, 8.28657654e-01],\n",
       "           ...,\n",
       "           [1.24120532e-02, 2.94414836e-01, 5.05639548e-02, ...,\n",
       "            1.24810959e-01, 1.18304541e-01, 5.60321845e-01],\n",
       "           [4.59261626e-01, 1.17617325e-01, 7.84376500e-01, ...,\n",
       "            1.21240051e-01, 8.82526806e-01, 3.78286999e-01],\n",
       "           [8.58293431e-01, 3.28527482e-01, 6.09668258e-01, ...,\n",
       "            3.84120657e-01, 5.08399003e-01, 2.65253492e-01]],\n",
       "\n",
       "          [[2.46267554e-02, 5.05680662e-01, 4.65769427e-01, ...,\n",
       "            8.57343755e-01, 2.33096664e-01, 6.97324733e-01],\n",
       "           [7.77828938e-01, 6.61268323e-01, 9.37472421e-01, ...,\n",
       "            4.19160135e-01, 6.07710408e-01, 7.07202446e-01],\n",
       "           [5.25664591e-01, 9.50742546e-01, 2.20621651e-01, ...,\n",
       "            5.03857690e-01, 4.80015039e-01, 6.84143752e-01],\n",
       "           ...,\n",
       "           [1.19310526e-01, 7.16647217e-01, 5.10092462e-01, ...,\n",
       "            8.53060139e-01, 4.57357397e-01, 8.78029933e-01],\n",
       "           [3.47184191e-01, 2.49974748e-01, 3.84855384e-01, ...,\n",
       "            6.80845450e-01, 3.95084005e-01, 2.49930665e-01],\n",
       "           [5.89140904e-01, 5.86523737e-01, 3.83868179e-01, ...,\n",
       "            4.83004222e-01, 8.07873174e-01, 5.79549635e-01]],\n",
       "\n",
       "          ...,\n",
       "\n",
       "          [[4.58096697e-01, 1.03167935e-01, 3.28103727e-01, ...,\n",
       "            2.96293259e-01, 6.23891952e-01, 5.52120447e-01],\n",
       "           [6.17577711e-01, 8.88206516e-02, 6.87269468e-01, ...,\n",
       "            1.07881225e-01, 7.37265312e-03, 2.09092215e-01],\n",
       "           [2.81654713e-01, 6.29935794e-01, 5.47426186e-02, ...,\n",
       "            2.57919493e-01, 2.01172855e-01, 2.09469231e-01],\n",
       "           ...,\n",
       "           [7.13274320e-01, 8.29146838e-01, 1.17601519e-01, ...,\n",
       "            9.63733459e-01, 2.92751241e-01, 9.10217984e-01],\n",
       "           [9.83619272e-02, 1.36742894e-01, 9.59891823e-01, ...,\n",
       "            4.38006245e-01, 2.49744055e-01, 2.70913336e-01],\n",
       "           [9.38214548e-01, 6.93819641e-02, 6.53113237e-02, ...,\n",
       "            4.59971986e-01, 4.16561612e-01, 2.23687789e-01]],\n",
       "\n",
       "          [[9.81478486e-01, 5.70216014e-01, 9.65079851e-01, ...,\n",
       "            8.59751780e-01, 9.68492967e-02, 9.17214407e-01],\n",
       "           [2.88814872e-01, 4.56568519e-01, 1.02953526e-01, ...,\n",
       "            7.36028381e-02, 7.56306641e-01, 3.91212585e-01],\n",
       "           [2.67667921e-01, 9.10724118e-01, 6.52600739e-01, ...,\n",
       "            5.74339847e-02, 3.02782313e-01, 2.51352876e-01],\n",
       "           ...,\n",
       "           [2.93026464e-01, 6.38060027e-01, 2.55107312e-01, ...,\n",
       "            6.72628390e-01, 2.51657661e-01, 2.65554614e-01],\n",
       "           [8.11396899e-01, 5.68465736e-01, 3.21284343e-01, ...,\n",
       "            2.04488625e-01, 8.39586786e-01, 9.41108900e-01],\n",
       "           [4.97004110e-01, 4.17678812e-01, 6.55359735e-01, ...,\n",
       "            9.95098421e-01, 4.43737100e-01, 8.08235604e-01]],\n",
       "\n",
       "          [[2.62276534e-02, 5.05954731e-01, 9.73370256e-01, ...,\n",
       "            5.37817715e-01, 3.07982486e-01, 2.03629096e-01],\n",
       "           [5.03580514e-01, 8.42492975e-01, 2.04329110e-01, ...,\n",
       "            7.69622493e-01, 9.53475233e-01, 1.19823074e-01],\n",
       "           [8.40790079e-01, 7.02406918e-01, 3.53336274e-02, ...,\n",
       "            7.60774101e-01, 5.36994814e-01, 6.74444017e-01],\n",
       "           ...,\n",
       "           [4.39318724e-01, 7.96296179e-01, 5.06633882e-01, ...,\n",
       "            3.65034814e-01, 7.48971483e-02, 8.35143949e-01],\n",
       "           [2.74727953e-01, 1.59898176e-01, 6.51307855e-01, ...,\n",
       "            2.60157732e-01, 1.86816961e-01, 6.90580468e-02],\n",
       "           [5.34527644e-01, 8.00846974e-01, 3.69410389e-01, ...,\n",
       "            8.76189342e-01, 7.10807242e-01, 7.56248257e-01]]],\n",
       "\n",
       "\n",
       "         [[[5.87452797e-01, 3.59957209e-01, 8.01153761e-02, ...,\n",
       "            8.11274031e-01, 9.16500114e-01, 3.73155774e-02],\n",
       "           [8.51339831e-01, 4.62144429e-01, 1.35186681e-01, ...,\n",
       "            6.50410933e-02, 5.86697576e-01, 6.49991341e-01],\n",
       "           [8.09755083e-01, 7.10713884e-01, 9.77923158e-01, ...,\n",
       "            7.53201055e-01, 6.37798894e-01, 7.94481417e-01],\n",
       "           ...,\n",
       "           [1.42959367e-01, 3.27070202e-01, 6.00846825e-01, ...,\n",
       "            9.95657894e-01, 5.69338515e-01, 5.68211177e-01],\n",
       "           [7.95747886e-01, 4.48118974e-01, 8.48344631e-01, ...,\n",
       "            5.03092382e-01, 2.64160319e-01, 3.10036333e-01],\n",
       "           [7.70823505e-01, 9.74369269e-02, 7.78919176e-01, ...,\n",
       "            4.86596894e-01, 1.82730826e-01, 1.09575412e-01]],\n",
       "\n",
       "          [[9.52008499e-01, 1.67591437e-01, 2.27306450e-01, ...,\n",
       "            4.08395959e-01, 4.02175864e-01, 9.16117420e-01],\n",
       "           [1.44135394e-01, 9.82086628e-01, 8.36077823e-01, ...,\n",
       "            8.77803054e-01, 7.74405501e-01, 8.63477450e-01],\n",
       "           [1.08023077e-01, 6.43459009e-01, 1.45056757e-01, ...,\n",
       "            7.69378644e-01, 7.79739837e-01, 8.53460275e-01],\n",
       "           ...,\n",
       "           [6.77715536e-01, 8.50108881e-01, 5.20039258e-01, ...,\n",
       "            3.14837373e-01, 8.67696892e-01, 2.07057049e-01],\n",
       "           [7.24893329e-01, 6.17946161e-01, 6.71986184e-01, ...,\n",
       "            4.44256666e-01, 8.02944746e-01, 5.84584183e-01],\n",
       "           [5.32294278e-01, 3.55289544e-01, 8.50022822e-01, ...,\n",
       "            9.22488069e-01, 5.79053179e-01, 4.73672771e-02]],\n",
       "\n",
       "          [[9.54680176e-01, 6.78613898e-01, 1.06966324e-01, ...,\n",
       "            1.80463087e-01, 3.70481242e-01, 2.76872087e-01],\n",
       "           [9.28193352e-01, 9.34076061e-01, 8.94871574e-01, ...,\n",
       "            3.90708128e-01, 4.68940241e-01, 9.06646059e-01],\n",
       "           [4.07216000e-01, 8.70616936e-02, 4.18528977e-01, ...,\n",
       "            1.23954587e-01, 1.86284216e-01, 2.47119253e-01],\n",
       "           ...,\n",
       "           [2.68452547e-01, 6.55639028e-01, 3.34267804e-01, ...,\n",
       "            5.31996277e-01, 9.46196970e-01, 3.65147028e-01],\n",
       "           [6.24891934e-02, 9.55923698e-01, 7.87108239e-01, ...,\n",
       "            5.71660483e-01, 6.10681758e-01, 7.75410953e-01],\n",
       "           [8.12509947e-01, 6.31596022e-03, 6.00860837e-01, ...,\n",
       "            8.40536833e-01, 4.03286554e-01, 9.80431298e-01]],\n",
       "\n",
       "          ...,\n",
       "\n",
       "          [[7.85117854e-01, 9.16164675e-01, 2.40905736e-01, ...,\n",
       "            7.21304645e-01, 3.37694484e-01, 2.75804995e-01],\n",
       "           [2.30480708e-01, 1.23462720e-01, 4.38280194e-01, ...,\n",
       "            1.63961658e-01, 4.51019572e-01, 3.49118300e-01],\n",
       "           [7.21399058e-01, 3.64018332e-01, 3.40094062e-01, ...,\n",
       "            2.25977765e-01, 1.71695536e-01, 9.03901108e-01],\n",
       "           ...,\n",
       "           [6.61383962e-02, 8.88532961e-01, 8.95728243e-02, ...,\n",
       "            2.39212637e-01, 7.92625617e-01, 8.22812609e-01],\n",
       "           [5.45674475e-02, 4.38550995e-01, 3.01396766e-01, ...,\n",
       "            9.93539903e-01, 3.57262062e-01, 7.33538375e-01],\n",
       "           [5.20430658e-02, 1.06233035e-01, 9.82797828e-01, ...,\n",
       "            3.30531758e-02, 7.49379543e-01, 2.35271481e-01]],\n",
       "\n",
       "          [[7.50536216e-01, 1.01949503e-01, 1.48827054e-01, ...,\n",
       "            8.23546072e-01, 6.56087438e-01, 7.43514363e-02],\n",
       "           [5.52036939e-01, 7.10742174e-01, 5.48222898e-01, ...,\n",
       "            9.50158997e-01, 1.12841265e-01, 9.67429136e-01],\n",
       "           [7.98658300e-01, 2.51596906e-01, 6.23079794e-01, ...,\n",
       "            8.86200731e-01, 7.92306641e-01, 2.27615007e-02],\n",
       "           ...,\n",
       "           [4.69968714e-01, 6.55483579e-01, 6.45086074e-02, ...,\n",
       "            3.02300948e-01, 5.68949386e-01, 9.78657025e-01],\n",
       "           [9.18783720e-01, 5.49979325e-01, 8.20593871e-01, ...,\n",
       "            3.95881499e-01, 7.67172992e-01, 5.82814131e-01],\n",
       "           [5.45347306e-01, 7.58429184e-01, 3.07161452e-02, ...,\n",
       "            5.63326631e-01, 4.03793355e-02, 2.90674251e-01]],\n",
       "\n",
       "          [[8.00689190e-01, 3.81025565e-01, 2.31395492e-01, ...,\n",
       "            9.98604480e-01, 3.97816050e-01, 6.46696035e-01],\n",
       "           [4.80378345e-02, 9.01788035e-01, 1.93650569e-01, ...,\n",
       "            7.54314668e-01, 6.93623015e-01, 8.77202959e-01],\n",
       "           [7.35425656e-01, 2.43589863e-01, 3.10149110e-01, ...,\n",
       "            8.51581784e-02, 6.69153837e-01, 4.65022925e-01],\n",
       "           ...,\n",
       "           [7.03097143e-01, 9.79778321e-01, 1.41826636e-01, ...,\n",
       "            6.98105363e-01, 8.18134381e-02, 5.70088147e-01],\n",
       "           [5.26788556e-01, 7.66899184e-01, 3.34485259e-01, ...,\n",
       "            6.79307147e-02, 1.27326875e-01, 5.50016820e-01],\n",
       "           [5.26769393e-02, 3.07758724e-01, 7.32534125e-01, ...,\n",
       "            7.27815834e-01, 4.61586476e-01, 5.10138076e-01]]],\n",
       "\n",
       "\n",
       "         [[[5.04297077e-01, 7.73093090e-01, 7.26302881e-02, ...,\n",
       "            9.91338003e-01, 2.24572628e-01, 7.92797101e-01],\n",
       "           [1.49497939e-01, 9.21580666e-01, 5.30789280e-01, ...,\n",
       "            6.22224963e-01, 6.84452954e-01, 7.54131516e-01],\n",
       "           [6.24307617e-01, 2.78616314e-01, 9.47156828e-01, ...,\n",
       "            8.22520345e-01, 3.20184279e-01, 1.90951047e-01],\n",
       "           ...,\n",
       "           [6.02320817e-01, 7.30538700e-01, 5.18810044e-01, ...,\n",
       "            6.31207968e-01, 1.55129638e-01, 3.75953726e-01],\n",
       "           [4.56591098e-01, 8.72739934e-01, 2.23022670e-01, ...,\n",
       "            7.38736837e-02, 3.52735900e-01, 7.80391647e-01],\n",
       "           [6.91722665e-01, 6.43436335e-01, 2.05463284e-01, ...,\n",
       "            4.29074997e-01, 7.08339413e-01, 8.45795348e-01]],\n",
       "\n",
       "          [[6.20395956e-01, 1.31967249e-01, 1.41985508e-01, ...,\n",
       "            7.42540933e-01, 9.28250825e-01, 4.56831358e-03],\n",
       "           [2.67835448e-01, 2.81690403e-01, 4.84200772e-01, ...,\n",
       "            5.99114219e-01, 7.37546538e-01, 3.92691058e-01],\n",
       "           [4.44926314e-01, 6.32480365e-01, 4.40150675e-01, ...,\n",
       "            4.60021583e-01, 4.79684043e-01, 9.51856701e-02],\n",
       "           ...,\n",
       "           [7.11946122e-01, 8.12996921e-01, 2.96528424e-01, ...,\n",
       "            8.16767962e-01, 9.73981813e-01, 1.10575809e-01],\n",
       "           [2.55195236e-01, 4.12222478e-01, 9.68838947e-01, ...,\n",
       "            2.11493394e-01, 3.75793794e-01, 2.08853697e-01],\n",
       "           [8.19100066e-01, 4.18026474e-01, 6.61949734e-01, ...,\n",
       "            6.14978840e-01, 8.89544753e-01, 1.74739221e-01]],\n",
       "\n",
       "          [[1.32364234e-01, 9.28754210e-01, 8.95317282e-01, ...,\n",
       "            1.65463893e-01, 6.60332331e-02, 2.01365796e-01],\n",
       "           [8.77014282e-01, 4.75386496e-01, 3.61282971e-01, ...,\n",
       "            6.13084273e-01, 2.77971622e-01, 4.47549778e-01],\n",
       "           [3.30461858e-01, 4.83342387e-01, 7.36196669e-01, ...,\n",
       "            9.09025715e-02, 9.32054202e-01, 3.20310191e-01],\n",
       "           ...,\n",
       "           [6.30239909e-01, 7.89296071e-01, 3.23435594e-01, ...,\n",
       "            8.83501665e-01, 6.52011217e-02, 7.34015968e-01],\n",
       "           [8.47341146e-01, 7.96882630e-01, 9.61835715e-01, ...,\n",
       "            4.50074729e-01, 3.05482403e-01, 2.44421206e-01],\n",
       "           [5.34245970e-01, 5.04241274e-01, 4.64714371e-01, ...,\n",
       "            2.89847215e-02, 6.14210732e-01, 1.64140483e-01]],\n",
       "\n",
       "          ...,\n",
       "\n",
       "          [[4.20963932e-01, 3.91874188e-01, 7.12475652e-02, ...,\n",
       "            4.22357999e-01, 4.64838155e-01, 5.57521806e-01],\n",
       "           [1.47978371e-01, 3.45210690e-01, 9.90331745e-01, ...,\n",
       "            7.03811231e-01, 3.51349008e-01, 4.03486447e-01],\n",
       "           [5.32431017e-01, 7.04092711e-01, 2.07177928e-01, ...,\n",
       "            2.36682428e-01, 9.12219987e-01, 2.61001142e-01],\n",
       "           ...,\n",
       "           [8.65234516e-01, 3.36235667e-01, 7.24159734e-01, ...,\n",
       "            2.18585420e-01, 9.59308762e-01, 8.00505240e-01],\n",
       "           [1.42333683e-01, 1.92408329e-01, 8.55098715e-01, ...,\n",
       "            5.46329658e-02, 4.89523944e-01, 6.50779696e-01],\n",
       "           [8.86706564e-01, 3.16713161e-01, 6.04494924e-01, ...,\n",
       "            9.69288600e-01, 1.68542002e-01, 9.72311197e-01]],\n",
       "\n",
       "          [[7.08938745e-01, 6.24742164e-01, 8.88892067e-01, ...,\n",
       "            9.04795487e-01, 1.47421584e-01, 4.25500317e-01],\n",
       "           [5.66370177e-01, 7.46209980e-01, 7.80542422e-01, ...,\n",
       "            2.95966825e-02, 9.43434193e-01, 4.58835664e-01],\n",
       "           [7.45294504e-01, 2.00991425e-01, 7.06874473e-02, ...,\n",
       "            1.63987244e-02, 3.36465035e-01, 5.72426114e-01],\n",
       "           ...,\n",
       "           [8.71396718e-01, 3.09841396e-01, 7.91283106e-01, ...,\n",
       "            3.70090211e-01, 4.23624485e-02, 9.87593457e-01],\n",
       "           [6.82366066e-01, 6.82579318e-01, 1.79823610e-01, ...,\n",
       "            4.84617534e-03, 8.41019388e-01, 9.83861006e-02],\n",
       "           [4.82023156e-01, 7.38572559e-01, 7.67265782e-01, ...,\n",
       "            9.87179693e-02, 5.15473608e-01, 1.05417123e-01]],\n",
       "\n",
       "          [[6.93958014e-01, 6.11637789e-01, 6.23329880e-01, ...,\n",
       "            2.71517996e-01, 1.30968747e-02, 4.73678366e-01],\n",
       "           [9.75985480e-01, 6.99518672e-01, 2.58091888e-01, ...,\n",
       "            8.62587871e-01, 3.96248062e-01, 3.83302514e-01],\n",
       "           [7.89629135e-01, 4.43325671e-01, 6.10191563e-01, ...,\n",
       "            1.86638585e-01, 3.56612721e-01, 5.16509190e-02],\n",
       "           ...,\n",
       "           [8.65783606e-01, 1.96227095e-01, 6.73371957e-01, ...,\n",
       "            1.44166632e-01, 9.22575268e-02, 1.79751230e-02],\n",
       "           [9.89466223e-01, 8.83176889e-01, 7.93829971e-01, ...,\n",
       "            7.42139982e-02, 4.77525154e-01, 3.82786132e-01],\n",
       "           [4.93932260e-01, 4.55661884e-01, 7.60786161e-02, ...,\n",
       "            9.01351553e-01, 4.28964460e-01, 1.15020342e-01]]]]],\n",
       "\n",
       "\n",
       "\n",
       "\n",
       "       [[[[[3.36583974e-01, 9.92467847e-02, 2.41140054e-01, ...,\n",
       "            5.74246707e-01, 3.51681978e-01, 7.69475195e-01],\n",
       "           [5.74140707e-02, 2.01153988e-01, 5.87656060e-01, ...,\n",
       "            7.19410443e-01, 8.44049375e-01, 1.91975270e-01],\n",
       "           [5.14971452e-01, 7.93838443e-01, 7.36670075e-01, ...,\n",
       "            8.60283621e-01, 4.05956475e-01, 8.44962954e-01],\n",
       "           ...,\n",
       "           [3.20702641e-02, 4.77181560e-01, 2.34653455e-01, ...,\n",
       "            3.38571729e-01, 7.78592069e-01, 1.68824083e-01],\n",
       "           [8.03310483e-01, 1.90366240e-01, 1.68193104e-02, ...,\n",
       "            1.15731472e-01, 4.00674727e-01, 3.32009456e-01],\n",
       "           [3.20591725e-01, 2.14848751e-01, 3.84202126e-01, ...,\n",
       "            9.27237637e-01, 7.06273976e-01, 7.21029664e-01]],\n",
       "\n",
       "          [[9.04290512e-01, 5.16589076e-01, 5.68645802e-01, ...,\n",
       "            1.77429704e-01, 2.28075293e-01, 4.31909359e-01],\n",
       "           [4.16625406e-01, 8.22105329e-01, 3.08949793e-01, ...,\n",
       "            2.18077181e-01, 8.08489800e-01, 5.60478888e-01],\n",
       "           [8.06309374e-01, 2.16001620e-01, 4.81976764e-01, ...,\n",
       "            7.33706074e-02, 9.49897957e-01, 2.12235958e-01],\n",
       "           ...,\n",
       "           [3.84150865e-01, 9.13908398e-01, 3.21098568e-01, ...,\n",
       "            4.32222958e-01, 6.23573692e-01, 1.78143967e-02],\n",
       "           [9.07429880e-01, 9.11551785e-01, 2.40525643e-01, ...,\n",
       "            6.80378415e-01, 8.07826500e-01, 9.85560983e-01],\n",
       "           [4.18041536e-01, 7.66496789e-01, 4.01580103e-01, ...,\n",
       "            7.92960732e-01, 9.28367280e-01, 1.81991676e-01]],\n",
       "\n",
       "          [[4.70805352e-01, 4.68304563e-01, 6.46952579e-01, ...,\n",
       "            9.27067574e-01, 5.50151935e-01, 6.24712327e-01],\n",
       "           [4.12525519e-01, 7.60835859e-01, 6.42148325e-01, ...,\n",
       "            2.66698945e-01, 7.08180327e-01, 4.01728539e-01],\n",
       "           [7.03350424e-01, 6.63348892e-01, 2.71906296e-01, ...,\n",
       "            2.65788352e-01, 3.35662989e-01, 8.54909614e-01],\n",
       "           ...,\n",
       "           [1.85898777e-01, 2.66780420e-01, 5.04471427e-01, ...,\n",
       "            7.25155265e-01, 3.69555494e-02, 6.21403151e-01],\n",
       "           [5.64417663e-01, 9.07439333e-01, 5.48493039e-01, ...,\n",
       "            8.23729779e-01, 5.73741767e-01, 7.67576094e-01],\n",
       "           [7.22836871e-01, 2.29961886e-01, 3.45367410e-01, ...,\n",
       "            3.15949780e-01, 3.04193559e-01, 8.77763193e-01]],\n",
       "\n",
       "          ...,\n",
       "\n",
       "          [[5.59920944e-01, 7.47424205e-02, 7.92590902e-01, ...,\n",
       "            5.52724085e-01, 4.56202534e-01, 2.64841777e-01],\n",
       "           [6.03534881e-01, 7.26524416e-01, 9.96635813e-01, ...,\n",
       "            4.25097511e-01, 3.23058776e-01, 8.69281074e-01],\n",
       "           [1.69024684e-01, 7.55406707e-01, 8.78286243e-01, ...,\n",
       "            2.50155468e-01, 7.66463804e-01, 2.83334070e-01],\n",
       "           ...,\n",
       "           [4.00259939e-01, 9.56310718e-01, 9.28530074e-02, ...,\n",
       "            5.20913598e-01, 5.23969432e-01, 1.86225078e-01],\n",
       "           [1.14081850e-01, 9.18144303e-01, 5.57022100e-01, ...,\n",
       "            3.90635213e-01, 8.17511715e-02, 9.62716587e-01],\n",
       "           [5.56289206e-01, 2.65259214e-01, 1.98494040e-01, ...,\n",
       "            6.27485299e-01, 6.35589165e-01, 8.36821710e-02]],\n",
       "\n",
       "          [[5.33332818e-02, 2.25310429e-01, 4.96276927e-01, ...,\n",
       "            7.09697770e-01, 7.28373365e-01, 1.29797146e-01],\n",
       "           [6.51041112e-02, 3.51612250e-01, 4.91557806e-01, ...,\n",
       "            7.09998011e-01, 8.29026660e-01, 9.87687573e-01],\n",
       "           [4.57842530e-01, 5.43983504e-01, 3.54156804e-01, ...,\n",
       "            9.56647925e-01, 1.18416569e-01, 7.75004641e-02],\n",
       "           ...,\n",
       "           [3.60396463e-01, 2.67931131e-01, 7.19836822e-01, ...,\n",
       "            7.40855367e-01, 7.12500297e-01, 8.03732429e-01],\n",
       "           [8.64476553e-01, 2.76435689e-01, 8.15331875e-01, ...,\n",
       "            7.84080728e-01, 2.03568593e-01, 6.35213168e-01],\n",
       "           [4.22968310e-01, 5.59295155e-01, 6.87071162e-02, ...,\n",
       "            6.15178329e-02, 2.87490801e-01, 8.23152253e-01]],\n",
       "\n",
       "          [[1.11701920e-01, 1.19877417e-01, 5.00292022e-01, ...,\n",
       "            7.23945227e-01, 5.52394307e-01, 1.01589024e-01],\n",
       "           [3.37490886e-01, 6.01115357e-01, 6.56991759e-01, ...,\n",
       "            7.39157578e-01, 5.10126124e-01, 1.49222720e-01],\n",
       "           [9.71823866e-01, 2.05580528e-01, 4.57618069e-01, ...,\n",
       "            4.50007966e-01, 4.27743442e-01, 3.61851137e-01],\n",
       "           ...,\n",
       "           [6.98603299e-01, 8.01021590e-01, 1.37565933e-01, ...,\n",
       "            4.05325219e-01, 9.26351525e-01, 9.03764495e-01],\n",
       "           [6.65708468e-01, 7.07493057e-01, 1.58299916e-01, ...,\n",
       "            5.61845214e-01, 6.28407353e-01, 9.71028276e-01],\n",
       "           [7.59077604e-01, 7.41868285e-01, 2.49340262e-02, ...,\n",
       "            9.82420634e-01, 8.35044600e-01, 7.72008096e-01]]],\n",
       "\n",
       "\n",
       "         [[[6.67861986e-01, 1.90843994e-01, 7.04251680e-01, ...,\n",
       "            5.71922871e-01, 3.43663741e-01, 5.07788312e-01],\n",
       "           [3.55776668e-01, 8.59673837e-02, 1.00627037e-01, ...,\n",
       "            9.65775061e-01, 3.42882841e-01, 4.97973938e-01],\n",
       "           [7.40615158e-01, 5.45476758e-01, 9.29676544e-01, ...,\n",
       "            5.94109690e-01, 6.86090702e-01, 8.04132299e-01],\n",
       "           ...,\n",
       "           [5.14538862e-01, 9.24028921e-01, 6.79253067e-02, ...,\n",
       "            9.92757472e-01, 4.33998008e-01, 3.24958457e-01],\n",
       "           [1.52999812e-01, 9.57617479e-01, 9.76130725e-01, ...,\n",
       "            9.71035764e-01, 2.61563479e-01, 6.35799360e-01],\n",
       "           [5.91845391e-02, 9.57575095e-01, 4.79835606e-01, ...,\n",
       "            2.50552966e-01, 5.00067996e-01, 4.01169577e-01]],\n",
       "\n",
       "          [[6.16260715e-01, 4.30802395e-01, 9.47451008e-01, ...,\n",
       "            5.81885153e-01, 8.34687143e-01, 1.90018740e-01],\n",
       "           [9.46636512e-01, 2.15389368e-01, 2.11236442e-01, ...,\n",
       "            7.04139526e-02, 1.68563800e-01, 4.77098045e-01],\n",
       "           [2.37656047e-01, 7.69629215e-01, 1.52051423e-01, ...,\n",
       "            4.26891581e-01, 2.30680573e-01, 1.24869957e-01],\n",
       "           ...,\n",
       "           [8.14989400e-01, 6.37144712e-01, 1.61859384e-02, ...,\n",
       "            4.16923247e-01, 9.93810140e-01, 5.04020071e-01],\n",
       "           [7.10190282e-01, 1.36694346e-01, 6.37626201e-01, ...,\n",
       "            3.12384777e-02, 3.24391649e-01, 7.33376110e-02],\n",
       "           [9.87654168e-01, 1.08552801e-01, 2.27829166e-02, ...,\n",
       "            5.92479802e-03, 5.67667222e-01, 6.37176443e-01]],\n",
       "\n",
       "          [[9.33436430e-01, 6.41540399e-01, 7.69299153e-01, ...,\n",
       "            8.30571271e-01, 5.71828746e-01, 4.03679005e-01],\n",
       "           [4.72431834e-01, 6.96850380e-01, 4.64995449e-01, ...,\n",
       "            2.53851504e-01, 3.33915032e-01, 4.13923588e-01],\n",
       "           [2.00284582e-01, 4.88832731e-01, 7.08752452e-01, ...,\n",
       "            6.03998597e-01, 3.42259747e-01, 7.27962149e-01],\n",
       "           ...,\n",
       "           [9.09302467e-01, 5.60891326e-01, 7.22361130e-01, ...,\n",
       "            9.36269160e-01, 9.05261964e-01, 4.16777417e-01],\n",
       "           [7.87404576e-01, 6.89115476e-02, 9.46443730e-01, ...,\n",
       "            1.62268595e-01, 6.72182690e-01, 5.35728755e-01],\n",
       "           [9.42603818e-01, 5.50251334e-01, 9.68118368e-01, ...,\n",
       "            4.39568273e-01, 3.35065260e-01, 1.61204954e-01]],\n",
       "\n",
       "          ...,\n",
       "\n",
       "          [[2.87769359e-01, 1.93202717e-01, 7.35653747e-01, ...,\n",
       "            2.46075986e-01, 7.18763300e-01, 9.77322817e-01],\n",
       "           [8.19025983e-01, 6.30679822e-02, 2.95218249e-01, ...,\n",
       "            2.21216228e-01, 6.72725249e-01, 4.20945079e-01],\n",
       "           [7.63658455e-01, 7.47358106e-01, 7.63897855e-01, ...,\n",
       "            3.11611254e-01, 1.90641845e-01, 6.02468480e-01],\n",
       "           ...,\n",
       "           [4.77538721e-01, 8.45976309e-01, 8.98196554e-01, ...,\n",
       "            6.00222878e-01, 9.40658830e-01, 4.10203785e-01],\n",
       "           [8.45709985e-01, 1.65760799e-01, 8.44059431e-01, ...,\n",
       "            2.88732768e-01, 9.49586382e-01, 7.62265747e-01],\n",
       "           [3.01915246e-01, 5.36925478e-02, 6.59728517e-03, ...,\n",
       "            5.99876374e-01, 3.84127222e-01, 1.45685492e-01]],\n",
       "\n",
       "          [[7.96764048e-01, 4.53193556e-01, 2.65921173e-01, ...,\n",
       "            5.50997954e-01, 8.51640394e-01, 6.76512472e-01],\n",
       "           [5.88927055e-01, 9.88608349e-01, 3.36937110e-02, ...,\n",
       "            2.64530248e-01, 6.61089499e-01, 8.82046389e-01],\n",
       "           [1.14229126e-01, 2.40572813e-01, 9.24451680e-01, ...,\n",
       "            4.14575442e-02, 3.03754478e-01, 8.19366481e-01],\n",
       "           ...,\n",
       "           [1.94574415e-01, 8.38514905e-02, 6.64116721e-01, ...,\n",
       "            6.00668723e-01, 9.74591568e-01, 1.22677980e-01],\n",
       "           [6.79569577e-01, 8.90840240e-01, 9.61927002e-02, ...,\n",
       "            3.91429186e-01, 3.58465470e-01, 4.95252395e-02],\n",
       "           [1.36694807e-01, 1.52290315e-02, 5.11818721e-01, ...,\n",
       "            1.09263912e-01, 8.40639889e-01, 7.13500429e-01]],\n",
       "\n",
       "          [[2.47912014e-01, 7.02089700e-01, 1.89209203e-01, ...,\n",
       "            3.18043334e-01, 1.07728209e-01, 1.97991861e-01],\n",
       "           [8.60609165e-01, 3.00040861e-01, 8.90064842e-01, ...,\n",
       "            5.64074089e-01, 1.11806412e-01, 7.34735090e-01],\n",
       "           [7.57036043e-01, 1.23405004e-01, 6.27090431e-02, ...,\n",
       "            7.36872784e-03, 1.36173376e-01, 9.77792758e-01],\n",
       "           ...,\n",
       "           [6.82683224e-01, 5.04773594e-01, 1.72961195e-01, ...,\n",
       "            3.89538620e-01, 1.21425763e-01, 3.86605181e-02],\n",
       "           [2.15658097e-01, 3.96105813e-02, 5.50512139e-01, ...,\n",
       "            4.44545097e-01, 4.54212696e-01, 6.98805759e-01],\n",
       "           [4.87267804e-02, 3.86740907e-01, 6.62845181e-01, ...,\n",
       "            6.25752286e-02, 8.61121712e-01, 4.05013867e-01]]],\n",
       "\n",
       "\n",
       "         [[[7.70639245e-01, 6.20038746e-01, 8.20855018e-01, ...,\n",
       "            1.44918289e-01, 5.40501818e-01, 1.97627563e-02],\n",
       "           [8.90833888e-01, 5.85200133e-01, 8.98974467e-01, ...,\n",
       "            2.62048628e-01, 2.93130293e-01, 9.44691740e-01],\n",
       "           [1.89135531e-01, 7.46063232e-01, 6.81385053e-01, ...,\n",
       "            2.14334175e-01, 5.49960878e-01, 3.18143693e-01],\n",
       "           ...,\n",
       "           [7.66061677e-01, 1.47120902e-02, 3.09897104e-01, ...,\n",
       "            3.51446618e-01, 5.38406887e-01, 5.07857713e-01],\n",
       "           [1.83884274e-01, 9.18328674e-01, 5.77548741e-01, ...,\n",
       "            6.57714803e-01, 7.14358639e-01, 8.31973424e-01],\n",
       "           [1.82762356e-01, 5.76819659e-01, 1.04937546e-01, ...,\n",
       "            2.13759920e-03, 9.00178279e-01, 9.62031116e-01]],\n",
       "\n",
       "          [[7.10025832e-01, 4.01957690e-01, 6.41372039e-01, ...,\n",
       "            8.25507322e-01, 2.34645351e-01, 7.87624362e-01],\n",
       "           [2.79213863e-01, 9.83346943e-01, 7.64180360e-02, ...,\n",
       "            5.00518718e-01, 9.11961588e-01, 3.47064543e-04],\n",
       "           [3.85405241e-01, 8.58711922e-02, 1.99156718e-01, ...,\n",
       "            5.72261641e-01, 3.77392160e-01, 3.11141407e-01],\n",
       "           ...,\n",
       "           [2.45522182e-02, 1.98048747e-01, 1.82308826e-01, ...,\n",
       "            9.47668325e-01, 2.57962949e-01, 5.31240855e-01],\n",
       "           [7.60248259e-02, 3.68225562e-01, 6.09288074e-02, ...,\n",
       "            3.74932118e-01, 7.06343574e-01, 4.73543633e-01],\n",
       "           [7.41664374e-01, 7.42011988e-01, 8.09279926e-01, ...,\n",
       "            4.95893535e-01, 3.21472162e-01, 8.12648703e-01]],\n",
       "\n",
       "          [[2.82722963e-01, 7.76308889e-01, 2.25876287e-01, ...,\n",
       "            2.93134544e-01, 1.96288555e-01, 8.35195991e-01],\n",
       "           [2.35530706e-01, 2.35500913e-01, 6.09544868e-01, ...,\n",
       "            7.18552971e-01, 8.20534555e-01, 3.48936670e-01],\n",
       "           [1.53765819e-01, 8.14822219e-01, 7.83564163e-01, ...,\n",
       "            7.60609850e-01, 9.66900430e-01, 8.75125192e-01],\n",
       "           ...,\n",
       "           [7.23010096e-01, 1.24023011e-01, 3.71769690e-01, ...,\n",
       "            4.24786336e-01, 8.15735451e-01, 2.54844104e-01],\n",
       "           [9.13332949e-01, 8.66341366e-01, 5.98332039e-02, ...,\n",
       "            8.91882977e-01, 9.98360140e-01, 5.24635066e-02],\n",
       "           [9.44938354e-01, 3.87756457e-02, 4.32149472e-01, ...,\n",
       "            5.75483551e-01, 1.24338524e-01, 9.23583610e-01]],\n",
       "\n",
       "          ...,\n",
       "\n",
       "          [[2.11193845e-02, 5.73635381e-01, 8.20090011e-02, ...,\n",
       "            5.66710641e-01, 5.87517502e-01, 7.63713012e-01],\n",
       "           [1.96601629e-01, 7.82360795e-01, 6.97673578e-01, ...,\n",
       "            6.92816089e-01, 8.76880353e-01, 1.69728420e-01],\n",
       "           [4.78615351e-01, 4.39645041e-01, 3.28801041e-01, ...,\n",
       "            6.31588398e-01, 5.00237693e-01, 2.36369713e-01],\n",
       "           ...,\n",
       "           [5.26695530e-01, 7.24337105e-01, 3.98787822e-01, ...,\n",
       "            5.65677836e-01, 9.37590653e-01, 2.54519911e-01],\n",
       "           [9.26657165e-01, 9.90094201e-02, 8.29851047e-01, ...,\n",
       "            2.97035935e-01, 2.94393966e-01, 9.71726596e-01],\n",
       "           [6.80262627e-01, 9.54638116e-01, 6.10716388e-01, ...,\n",
       "            4.91891053e-01, 1.97574474e-01, 9.96901318e-01]],\n",
       "\n",
       "          [[6.89290302e-02, 3.73162584e-01, 5.92957452e-01, ...,\n",
       "            8.63838338e-01, 1.84334129e-01, 2.23813354e-01],\n",
       "           [6.80885917e-01, 1.94445557e-01, 5.17294570e-01, ...,\n",
       "            7.22810543e-02, 1.02960332e-02, 1.41668008e-01],\n",
       "           [1.05936617e-01, 4.25712063e-01, 9.09842635e-01, ...,\n",
       "            6.28179619e-01, 5.97716804e-01, 2.46862460e-02],\n",
       "           ...,\n",
       "           [6.95684533e-01, 4.01944602e-01, 4.02214018e-02, ...,\n",
       "            4.61681553e-01, 9.55082574e-01, 5.44105627e-01],\n",
       "           [6.32206343e-01, 9.55578614e-01, 4.35783212e-01, ...,\n",
       "            6.40587508e-01, 7.99772919e-01, 6.21878507e-03],\n",
       "           [7.94558045e-01, 8.78987628e-01, 5.09369176e-01, ...,\n",
       "            3.83904329e-01, 7.03860866e-01, 5.36984392e-01]],\n",
       "\n",
       "          [[4.99985292e-01, 9.44351991e-01, 5.87303195e-01, ...,\n",
       "            9.62540257e-02, 9.96598226e-01, 2.83367401e-01],\n",
       "           [6.77275644e-01, 5.82677738e-01, 3.64255501e-01, ...,\n",
       "            5.48748665e-01, 3.50656903e-01, 7.86788661e-01],\n",
       "           [3.95983439e-01, 4.33259945e-01, 3.40549046e-01, ...,\n",
       "            9.56450117e-01, 3.52688039e-01, 1.20259298e-01],\n",
       "           ...,\n",
       "           [5.61738214e-01, 2.22090704e-01, 4.46008923e-01, ...,\n",
       "            3.18511753e-01, 8.01736989e-01, 1.23300236e-01],\n",
       "           [8.81270077e-01, 6.56555414e-01, 2.03842484e-02, ...,\n",
       "            2.69118936e-01, 7.63658435e-01, 6.46154840e-01],\n",
       "           [8.60873689e-01, 9.23937602e-01, 6.98692143e-01, ...,\n",
       "            4.40584426e-01, 7.92518938e-01, 1.19973372e-01]]],\n",
       "\n",
       "\n",
       "         [[[2.92141822e-01, 7.18278766e-01, 8.06073011e-01, ...,\n",
       "            2.75249839e-01, 6.80234083e-01, 9.48322101e-01],\n",
       "           [5.11750482e-01, 6.07827294e-01, 3.22033315e-01, ...,\n",
       "            3.66769408e-01, 1.41481884e-01, 2.68174635e-01],\n",
       "           [8.65092454e-02, 3.75290154e-01, 1.58984463e-01, ...,\n",
       "            5.51096793e-01, 8.12436881e-01, 8.15456137e-01],\n",
       "           ...,\n",
       "           [1.14999452e-01, 9.40684445e-01, 7.24571954e-01, ...,\n",
       "            8.03419882e-01, 5.27967378e-01, 4.29375775e-01],\n",
       "           [9.11166508e-01, 8.49598901e-01, 4.32808231e-01, ...,\n",
       "            5.50534510e-01, 8.10447640e-01, 9.26753558e-01],\n",
       "           [8.97279050e-01, 2.02232267e-01, 3.84169457e-01, ...,\n",
       "            9.37325461e-01, 5.14518745e-01, 7.16309727e-01]],\n",
       "\n",
       "          [[5.67139847e-01, 9.60927237e-01, 8.48308748e-01, ...,\n",
       "            5.96180433e-02, 6.39225853e-02, 3.92690580e-01],\n",
       "           [8.21355933e-01, 2.50628814e-01, 6.07119047e-01, ...,\n",
       "            3.06093551e-01, 8.86360403e-02, 2.70242692e-01],\n",
       "           [5.00368944e-01, 1.50981473e-01, 6.82758886e-01, ...,\n",
       "            4.75737907e-01, 8.76807509e-01, 1.44541991e-01],\n",
       "           ...,\n",
       "           [7.27033351e-01, 6.33481238e-01, 9.11577691e-01, ...,\n",
       "            3.12774454e-01, 7.29832698e-01, 7.35117108e-01],\n",
       "           [1.98575299e-01, 1.66032586e-01, 9.72476217e-01, ...,\n",
       "            4.46001728e-01, 9.74893685e-01, 1.54213819e-01],\n",
       "           [8.18179447e-01, 8.94130044e-01, 1.00363307e-01, ...,\n",
       "            3.48612292e-02, 8.80359124e-01, 5.54736932e-01]],\n",
       "\n",
       "          [[3.97656514e-01, 1.52165351e-01, 3.45968807e-01, ...,\n",
       "            5.47845169e-02, 1.82415717e-01, 4.70994252e-01],\n",
       "           [5.84725823e-01, 6.50071747e-01, 4.90741340e-01, ...,\n",
       "            8.00100317e-01, 9.18181544e-01, 5.84658353e-01],\n",
       "           [8.48710579e-01, 9.17861424e-01, 2.43306087e-01, ...,\n",
       "            5.51791669e-01, 6.53908621e-01, 1.39491394e-01],\n",
       "           ...,\n",
       "           [3.92735117e-02, 5.11891541e-01, 2.94251234e-01, ...,\n",
       "            7.09943042e-01, 1.60103987e-01, 4.25397805e-01],\n",
       "           [1.87528256e-01, 5.83702700e-01, 1.53575814e-01, ...,\n",
       "            9.14257392e-01, 7.60252166e-01, 2.34837470e-01],\n",
       "           [6.47790594e-01, 1.18680679e-01, 8.30705141e-01, ...,\n",
       "            8.37861540e-01, 7.12884804e-01, 3.51170578e-01]],\n",
       "\n",
       "          ...,\n",
       "\n",
       "          [[4.16662609e-01, 8.18708791e-01, 1.78062251e-01, ...,\n",
       "            9.31531612e-01, 2.84668040e-01, 6.31921231e-01],\n",
       "           [3.21493515e-01, 5.76203366e-01, 3.73897283e-02, ...,\n",
       "            2.80541831e-01, 4.28660982e-01, 7.25993029e-01],\n",
       "           [4.12387976e-01, 2.43142170e-01, 5.85898250e-01, ...,\n",
       "            2.94614835e-01, 2.03210122e-01, 4.37531370e-01],\n",
       "           ...,\n",
       "           [3.11321631e-01, 1.19972108e-01, 9.73504943e-01, ...,\n",
       "            2.56660935e-01, 8.99513470e-01, 4.03641583e-01],\n",
       "           [6.57447556e-01, 5.74224611e-01, 1.34733375e-01, ...,\n",
       "            3.76807238e-01, 8.49395877e-02, 6.61800040e-01],\n",
       "           [7.21630249e-01, 4.04861714e-01, 4.47621007e-01, ...,\n",
       "            4.60671600e-01, 6.41761244e-01, 2.10967066e-01]],\n",
       "\n",
       "          [[1.30572544e-01, 8.21857424e-01, 3.99964185e-02, ...,\n",
       "            6.54069234e-01, 6.87960673e-01, 4.27177800e-01],\n",
       "           [2.84057503e-01, 1.56928190e-01, 1.79729450e-01, ...,\n",
       "            1.65527193e-01, 4.79723720e-01, 7.45031296e-02],\n",
       "           [3.00380233e-02, 7.55147567e-02, 8.34296184e-01, ...,\n",
       "            2.86634900e-01, 7.08303123e-01, 2.75681271e-02],\n",
       "           ...,\n",
       "           [8.45206394e-01, 3.70051040e-01, 1.18617720e-01, ...,\n",
       "            5.12841529e-01, 9.21601249e-01, 7.60237476e-01],\n",
       "           [1.43933637e-01, 5.41333125e-02, 5.45386082e-02, ...,\n",
       "            8.52013911e-01, 9.15042651e-02, 3.54130082e-01],\n",
       "           [3.62263204e-01, 4.98599620e-01, 4.80935196e-01, ...,\n",
       "            3.59493613e-01, 2.71767442e-01, 4.91966744e-01]],\n",
       "\n",
       "          [[5.68652452e-03, 2.82973374e-01, 2.26962304e-01, ...,\n",
       "            9.71794089e-01, 6.28764857e-01, 3.64979990e-01],\n",
       "           [2.30367073e-01, 9.96281146e-01, 9.81907712e-01, ...,\n",
       "            6.43418855e-01, 5.27715205e-01, 2.62642097e-01],\n",
       "           [7.53444363e-02, 2.02828264e-01, 7.69732276e-01, ...,\n",
       "            4.45629970e-01, 3.59795596e-01, 2.94612215e-01],\n",
       "           ...,\n",
       "           [5.10299069e-01, 6.60436532e-01, 2.49357937e-01, ...,\n",
       "            2.38942042e-01, 3.25517089e-02, 7.97035711e-01],\n",
       "           [1.46668325e-01, 7.32363444e-01, 1.98128093e-01, ...,\n",
       "            5.17773251e-01, 6.80220649e-01, 7.22513719e-01],\n",
       "           [3.97427258e-01, 6.89018424e-01, 3.65949551e-01, ...,\n",
       "            4.66063431e-01, 4.98922652e-01, 6.20958700e-01]]]],\n",
       "\n",
       "\n",
       "\n",
       "        [[[[7.20489430e-01, 9.93183585e-01, 6.25747198e-01, ...,\n",
       "            9.43894641e-01, 4.58091014e-02, 5.15952603e-01],\n",
       "           [9.89599111e-01, 9.71034563e-02, 4.41855381e-01, ...,\n",
       "            6.15714868e-01, 8.30220275e-02, 4.99690438e-01],\n",
       "           [2.42008174e-01, 1.99002518e-01, 6.60448216e-01, ...,\n",
       "            7.14291431e-01, 9.14614415e-01, 3.34614902e-01],\n",
       "           ...,\n",
       "           [3.03685985e-01, 8.01835864e-01, 6.37453250e-01, ...,\n",
       "            7.81191059e-01, 7.31177202e-01, 7.99158069e-01],\n",
       "           [3.53722079e-02, 7.64759024e-01, 4.59945391e-01, ...,\n",
       "            2.16849365e-01, 9.55969432e-01, 5.29917375e-02],\n",
       "           [6.05053230e-01, 1.12937886e-01, 5.38623134e-01, ...,\n",
       "            1.83991465e-01, 7.61160107e-01, 2.79731472e-01]],\n",
       "\n",
       "          [[8.21464705e-01, 8.79955946e-01, 3.14293738e-01, ...,\n",
       "            4.36787688e-01, 8.26307190e-01, 1.32752067e-01],\n",
       "           [1.47943294e-01, 5.06701732e-03, 6.03303075e-01, ...,\n",
       "            1.88062464e-01, 5.76472263e-01, 3.51325940e-01],\n",
       "           [6.95123073e-01, 9.20284501e-02, 2.19882277e-01, ...,\n",
       "            3.11111742e-01, 2.42169099e-01, 7.22165617e-01],\n",
       "           ...,\n",
       "           [9.30265358e-01, 4.98088104e-01, 5.78507260e-01, ...,\n",
       "            9.81879925e-01, 9.88183358e-01, 2.66963436e-01],\n",
       "           [4.36460199e-01, 4.86126213e-02, 7.23901812e-01, ...,\n",
       "            1.48870070e-01, 5.97971228e-01, 8.17037562e-01],\n",
       "           [9.47268838e-01, 2.02936675e-01, 6.90205486e-01, ...,\n",
       "            1.31919244e-01, 9.79696165e-02, 2.93619733e-02]],\n",
       "\n",
       "          [[3.54695121e-01, 1.11046689e-01, 8.51642064e-01, ...,\n",
       "            6.43874822e-01, 8.93086136e-01, 3.89139538e-01],\n",
       "           [4.92481693e-01, 2.06395236e-01, 4.05906038e-01, ...,\n",
       "            9.69193653e-01, 3.37240066e-01, 6.34136072e-01],\n",
       "           [4.04722999e-01, 8.77049704e-01, 4.54683569e-01, ...,\n",
       "            1.77751033e-02, 2.26948495e-01, 5.96698010e-01],\n",
       "           ...,\n",
       "           [8.82107811e-01, 9.63470245e-01, 5.05211317e-02, ...,\n",
       "            6.36145440e-01, 7.30285010e-01, 3.77379271e-01],\n",
       "           [3.78772739e-01, 7.58879910e-01, 9.98043451e-01, ...,\n",
       "            9.26854638e-01, 7.48332447e-01, 5.32348137e-01],\n",
       "           [9.14775852e-01, 6.44116763e-01, 5.17389916e-01, ...,\n",
       "            6.85720053e-01, 5.11736588e-01, 2.97815902e-01]],\n",
       "\n",
       "          ...,\n",
       "\n",
       "          [[1.83662819e-01, 3.13816823e-02, 4.24710171e-01, ...,\n",
       "            8.74503644e-01, 3.66059096e-01, 6.17444276e-02],\n",
       "           [5.24710593e-01, 1.60432429e-01, 7.29791207e-02, ...,\n",
       "            2.51144140e-01, 2.78129445e-01, 3.57865393e-01],\n",
       "           [5.16830034e-03, 5.59611907e-01, 6.55811290e-01, ...,\n",
       "            6.80575682e-01, 8.27420879e-01, 2.35518023e-01],\n",
       "           ...,\n",
       "           [3.64004315e-01, 5.82660835e-01, 6.29777785e-01, ...,\n",
       "            1.47020295e-01, 3.87720813e-01, 5.50833315e-01],\n",
       "           [5.31715973e-01, 8.58351502e-01, 2.48255248e-01, ...,\n",
       "            2.15364287e-01, 1.92958008e-01, 7.93516964e-01],\n",
       "           [2.54223561e-01, 3.07437437e-02, 1.12928556e-01, ...,\n",
       "            4.07058966e-01, 8.71503884e-01, 7.82352859e-01]],\n",
       "\n",
       "          [[3.86871234e-01, 1.87344321e-01, 9.20241181e-01, ...,\n",
       "            5.74515775e-01, 8.21412827e-01, 7.62630395e-01],\n",
       "           [5.76992613e-01, 7.36219142e-02, 3.42829957e-01, ...,\n",
       "            8.22884132e-01, 9.74170909e-01, 8.15570473e-01],\n",
       "           [1.84182120e-01, 5.97078012e-01, 3.11135379e-01, ...,\n",
       "            6.35577738e-01, 9.69960378e-01, 1.26839667e-01],\n",
       "           ...,\n",
       "           [4.93966841e-02, 8.22677062e-01, 2.27060349e-01, ...,\n",
       "            2.20785967e-01, 1.51328503e-01, 2.71883804e-02],\n",
       "           [7.19111626e-01, 1.07430497e-01, 3.72237540e-02, ...,\n",
       "            1.70060030e-01, 4.37897803e-01, 6.65559306e-01],\n",
       "           [2.21534012e-01, 1.52761062e-02, 8.17488240e-01, ...,\n",
       "            5.12523544e-02, 9.21444911e-01, 5.53575865e-01]],\n",
       "\n",
       "          [[4.32735792e-01, 4.08173374e-01, 8.65504929e-01, ...,\n",
       "            4.70546111e-01, 4.80735773e-01, 9.75604091e-01],\n",
       "           [5.26189195e-01, 2.77128360e-01, 3.55817122e-01, ...,\n",
       "            2.37757112e-01, 5.22617088e-01, 9.18458878e-01],\n",
       "           [7.08261393e-01, 9.82233712e-01, 9.00779198e-01, ...,\n",
       "            5.90801294e-01, 1.76213429e-01, 3.36715347e-01],\n",
       "           ...,\n",
       "           [6.24360022e-01, 2.72158131e-01, 8.05573470e-01, ...,\n",
       "            4.85563976e-01, 7.13745657e-01, 2.41995748e-01],\n",
       "           [3.24306265e-01, 7.08591773e-01, 2.16019339e-01, ...,\n",
       "            6.85564958e-01, 2.65116323e-01, 6.57132391e-01],\n",
       "           [4.33827565e-01, 3.13866719e-01, 9.85184725e-01, ...,\n",
       "            4.89180408e-01, 3.74416392e-01, 3.78865401e-01]]],\n",
       "\n",
       "\n",
       "         [[[2.01323261e-01, 5.51802197e-01, 2.23833518e-01, ...,\n",
       "            1.22061982e-01, 9.69137841e-01, 1.16942016e-01],\n",
       "           [2.90636975e-01, 9.05803154e-01, 5.03855949e-01, ...,\n",
       "            9.05630537e-01, 5.32552024e-01, 3.29130611e-01],\n",
       "           [7.94236766e-01, 1.70565726e-01, 4.46197249e-01, ...,\n",
       "            9.97362419e-01, 2.34990885e-01, 8.10055714e-01],\n",
       "           ...,\n",
       "           [1.34533511e-02, 4.11398232e-01, 7.47436918e-01, ...,\n",
       "            2.87469609e-01, 4.53763613e-01, 3.48220621e-01],\n",
       "           [4.32391330e-01, 2.11484889e-02, 1.52435567e-01, ...,\n",
       "            6.18053783e-01, 8.99278363e-01, 8.57661616e-01],\n",
       "           [4.78589445e-01, 1.17488213e-01, 7.53338797e-01, ...,\n",
       "            5.97255193e-01, 9.15920537e-03, 4.32920411e-01]],\n",
       "\n",
       "          [[9.40851194e-01, 8.53416352e-01, 8.41637732e-01, ...,\n",
       "            1.66751230e-01, 4.31923655e-01, 5.29227346e-01],\n",
       "           [7.26600567e-01, 4.41275381e-01, 2.82765158e-01, ...,\n",
       "            8.77959127e-01, 5.37254206e-01, 2.97507581e-01],\n",
       "           [1.29667054e-01, 9.54878874e-01, 6.51243651e-01, ...,\n",
       "            1.23017559e-01, 6.00383794e-01, 9.65784064e-01],\n",
       "           ...,\n",
       "           [3.34692618e-01, 8.34641877e-01, 7.72845252e-02, ...,\n",
       "            9.04452204e-02, 9.79432612e-01, 2.92403594e-01],\n",
       "           [2.16216912e-01, 9.10131945e-01, 9.70221446e-01, ...,\n",
       "            3.62821538e-01, 3.92353987e-01, 5.32684769e-02],\n",
       "           [3.52576122e-01, 9.37479412e-01, 6.53876542e-01, ...,\n",
       "            4.01420094e-01, 9.49883557e-01, 1.90371421e-01]],\n",
       "\n",
       "          [[6.74411449e-01, 7.45835678e-01, 3.28483319e-01, ...,\n",
       "            2.29858626e-01, 5.22404726e-01, 3.50268582e-01],\n",
       "           [7.99697382e-01, 6.55691570e-02, 3.80069496e-02, ...,\n",
       "            1.87871260e-01, 7.72938452e-01, 5.77235380e-01],\n",
       "           [5.59873973e-01, 5.15093852e-02, 2.41358547e-01, ...,\n",
       "            1.95016452e-01, 8.50400302e-01, 3.52034736e-01],\n",
       "           ...,\n",
       "           [8.23288772e-01, 2.87789132e-01, 9.57406907e-01, ...,\n",
       "            2.37440975e-01, 1.29142162e-01, 1.84245577e-01],\n",
       "           [8.53910533e-01, 3.00776713e-01, 9.13399067e-01, ...,\n",
       "            9.50196941e-01, 2.17514704e-01, 6.91608345e-01],\n",
       "           [2.73990773e-01, 1.23708725e-01, 3.33864208e-01, ...,\n",
       "            9.93065332e-01, 3.21930993e-01, 8.85753378e-01]],\n",
       "\n",
       "          ...,\n",
       "\n",
       "          [[4.66133497e-01, 6.66793649e-02, 2.24344448e-01, ...,\n",
       "            6.55276610e-01, 4.24100889e-01, 1.85440210e-01],\n",
       "           [4.95072486e-01, 4.82379044e-01, 5.46404037e-01, ...,\n",
       "            2.95893613e-01, 4.66997451e-01, 4.92651675e-01],\n",
       "           [5.76550116e-01, 8.75770821e-01, 4.81889379e-01, ...,\n",
       "            5.49813692e-01, 3.36030585e-01, 8.00634910e-01],\n",
       "           ...,\n",
       "           [2.03671953e-01, 1.99403361e-02, 4.04967089e-01, ...,\n",
       "            8.18846764e-01, 4.37861228e-01, 2.95473301e-01],\n",
       "           [1.15829605e-01, 4.74612238e-01, 6.08155200e-01, ...,\n",
       "            4.67240189e-01, 3.06481659e-01, 5.55500971e-01],\n",
       "           [5.50123009e-01, 4.57046005e-01, 3.28301069e-01, ...,\n",
       "            9.05441656e-01, 3.82005835e-01, 2.91000382e-01]],\n",
       "\n",
       "          [[2.05357184e-01, 9.74888612e-01, 8.23054378e-01, ...,\n",
       "            4.26346040e-01, 5.98418769e-01, 3.08633786e-01],\n",
       "           [6.97088096e-01, 5.65846933e-02, 2.91146360e-01, ...,\n",
       "            8.86560149e-02, 7.94364612e-01, 7.81250997e-01],\n",
       "           [6.43963447e-01, 8.26391035e-02, 4.29305529e-01, ...,\n",
       "            3.25029259e-01, 6.68076270e-01, 7.04906745e-01],\n",
       "           ...,\n",
       "           [2.36711901e-01, 5.86168871e-01, 1.71743593e-01, ...,\n",
       "            3.14460469e-01, 1.61689716e-01, 7.00902863e-01],\n",
       "           [3.21499081e-01, 6.07112762e-01, 2.82246028e-01, ...,\n",
       "            8.24482737e-01, 3.92342586e-01, 4.18736320e-02],\n",
       "           [8.42983317e-01, 5.65873624e-01, 1.71159757e-01, ...,\n",
       "            4.03897284e-01, 1.82736236e-01, 3.36751468e-02]],\n",
       "\n",
       "          [[9.08225230e-01, 3.91197469e-01, 8.85593009e-01, ...,\n",
       "            6.76886375e-01, 8.48979768e-01, 2.57095134e-01],\n",
       "           [4.26095274e-01, 7.25238703e-01, 8.90595989e-01, ...,\n",
       "            6.58927693e-01, 9.55587182e-01, 7.70976614e-01],\n",
       "           [9.61307809e-02, 8.43601798e-01, 9.48749932e-01, ...,\n",
       "            2.96315107e-01, 4.43990848e-01, 1.34463405e-01],\n",
       "           ...,\n",
       "           [6.86238133e-01, 6.82319144e-01, 5.83551633e-01, ...,\n",
       "            6.45381137e-01, 8.87035735e-01, 7.81824541e-01],\n",
       "           [4.96370165e-01, 9.44156419e-01, 2.13848676e-01, ...,\n",
       "            4.92483309e-01, 7.91373513e-02, 7.52000791e-01],\n",
       "           [3.14994597e-01, 4.79511780e-01, 1.16412862e-01, ...,\n",
       "            9.37187109e-01, 1.60572107e-01, 1.81827318e-01]]],\n",
       "\n",
       "\n",
       "         [[[6.58904242e-01, 6.25106890e-01, 2.26185062e-01, ...,\n",
       "            5.67467750e-01, 2.43581456e-01, 6.37940383e-03],\n",
       "           [6.22993574e-01, 2.34310793e-01, 2.73732232e-01, ...,\n",
       "            3.00519674e-01, 1.29993989e-01, 3.88735178e-01],\n",
       "           [6.89816026e-02, 8.45606624e-01, 3.23105922e-01, ...,\n",
       "            5.53715518e-01, 7.43755804e-01, 7.83352064e-01],\n",
       "           ...,\n",
       "           [9.09493970e-01, 9.56134241e-01, 9.98361899e-01, ...,\n",
       "            2.58840004e-01, 5.47279117e-02, 3.14856466e-03],\n",
       "           [1.09235857e-01, 2.84414412e-01, 7.77410261e-01, ...,\n",
       "            2.64537062e-01, 9.25082874e-01, 2.23882363e-01],\n",
       "           [4.30475374e-01, 6.24739129e-01, 8.51269678e-01, ...,\n",
       "            1.65255133e-01, 1.08402120e-01, 2.23702790e-01]],\n",
       "\n",
       "          [[7.46227096e-01, 4.55119354e-01, 6.78992693e-01, ...,\n",
       "            5.40505842e-01, 8.92023892e-01, 3.51413261e-01],\n",
       "           [8.95697566e-02, 9.28387117e-01, 5.02741602e-01, ...,\n",
       "            1.20375478e-01, 1.97450071e-01, 5.18220819e-01],\n",
       "           [8.88719170e-01, 9.87201538e-01, 8.46618347e-02, ...,\n",
       "            8.02787828e-01, 4.40849979e-01, 7.66323608e-01],\n",
       "           ...,\n",
       "           [3.07156540e-01, 8.04509208e-01, 5.24935403e-01, ...,\n",
       "            5.01999915e-02, 5.35901467e-02, 3.55756576e-01],\n",
       "           [5.16768611e-01, 6.68107983e-01, 1.57529811e-01, ...,\n",
       "            7.82633240e-01, 5.82531777e-01, 1.18664049e-01],\n",
       "           [3.67962985e-01, 8.17401240e-01, 7.23182811e-01, ...,\n",
       "            8.67734047e-02, 4.28109297e-01, 7.79116255e-02]],\n",
       "\n",
       "          [[1.34103533e-01, 5.63425385e-01, 4.07560025e-01, ...,\n",
       "            1.61850430e-01, 6.24060378e-01, 7.24533898e-01],\n",
       "           [5.08321368e-01, 4.68613766e-01, 2.05313489e-01, ...,\n",
       "            3.11534610e-01, 7.08323352e-01, 5.06173865e-01],\n",
       "           [7.72124400e-01, 6.52622021e-01, 4.78406821e-01, ...,\n",
       "            8.57242287e-02, 2.72892722e-01, 5.80038499e-01],\n",
       "           ...,\n",
       "           [8.49822932e-02, 4.39241209e-01, 7.25884260e-01, ...,\n",
       "            7.21144162e-01, 3.85657460e-01, 6.18598626e-01],\n",
       "           [2.55735845e-01, 6.67750515e-01, 8.01065025e-01, ...,\n",
       "            7.73128034e-01, 4.31421283e-01, 4.23549372e-01],\n",
       "           [1.77994908e-01, 4.84199184e-01, 9.00073531e-02, ...,\n",
       "            9.82573355e-01, 1.16052020e-01, 6.02284652e-01]],\n",
       "\n",
       "          ...,\n",
       "\n",
       "          [[2.94024293e-01, 9.49105041e-01, 3.32262198e-01, ...,\n",
       "            1.15528599e-01, 6.72068058e-01, 4.79837896e-01],\n",
       "           [6.95311484e-01, 6.96144525e-01, 4.59258649e-01, ...,\n",
       "            1.55660898e-01, 5.99453339e-01, 7.73326923e-01],\n",
       "           [5.55612692e-01, 3.54727775e-02, 2.30146017e-03, ...,\n",
       "            9.43495508e-01, 6.94631417e-01, 4.01275980e-01],\n",
       "           ...,\n",
       "           [2.67646709e-01, 7.10521980e-01, 2.12404727e-02, ...,\n",
       "            1.06404003e-01, 6.26933998e-01, 6.21162918e-01],\n",
       "           [9.00522931e-01, 1.62322987e-01, 9.51393068e-01, ...,\n",
       "            6.84978269e-01, 1.88617389e-01, 2.78042695e-01],\n",
       "           [4.68517828e-01, 1.30196370e-01, 5.18531398e-01, ...,\n",
       "            3.20170641e-01, 4.92464245e-01, 8.57598108e-01]],\n",
       "\n",
       "          [[2.68944519e-01, 3.47535572e-01, 2.97454452e-01, ...,\n",
       "            1.88599769e-01, 9.03004503e-01, 7.66963779e-01],\n",
       "           [3.48019771e-01, 6.34278959e-02, 9.73638233e-01, ...,\n",
       "            5.29973075e-01, 2.38105341e-01, 8.33494247e-01],\n",
       "           [1.60012357e-01, 5.15675600e-01, 2.53130209e-01, ...,\n",
       "            7.70772944e-01, 6.27375945e-01, 3.31009290e-01],\n",
       "           ...,\n",
       "           [9.74032342e-01, 2.37709634e-01, 6.74840065e-01, ...,\n",
       "            6.97576114e-01, 7.66795985e-01, 4.34423709e-01],\n",
       "           [3.45985049e-01, 9.33984354e-01, 3.64188326e-01, ...,\n",
       "            3.36101909e-01, 3.83090939e-01, 4.57170403e-01],\n",
       "           [8.05496517e-01, 2.07243589e-01, 4.64813985e-01, ...,\n",
       "            4.43563952e-01, 5.89433313e-01, 9.93650963e-01]],\n",
       "\n",
       "          [[2.03594812e-01, 9.25443708e-01, 3.68023160e-01, ...,\n",
       "            7.67461042e-01, 1.58805592e-01, 2.49008872e-01],\n",
       "           [9.65517349e-01, 4.86928652e-01, 4.32569769e-01, ...,\n",
       "            6.25009776e-02, 3.96716278e-01, 5.35008472e-01],\n",
       "           [7.89355466e-01, 3.48531779e-01, 7.48763286e-01, ...,\n",
       "            8.45559999e-01, 7.11514748e-01, 7.44622640e-01],\n",
       "           ...,\n",
       "           [5.61969546e-01, 1.19203456e-01, 5.95486873e-02, ...,\n",
       "            9.73922475e-01, 5.69953380e-01, 7.54332490e-01],\n",
       "           [1.12029967e-02, 2.05017819e-01, 4.86120118e-01, ...,\n",
       "            6.05026351e-01, 7.17660174e-02, 3.89774085e-01],\n",
       "           [5.94316791e-01, 4.91430939e-01, 6.64285767e-02, ...,\n",
       "            8.39444858e-01, 4.14461185e-01, 7.63147066e-01]]],\n",
       "\n",
       "\n",
       "         [[[3.53871980e-01, 4.84494844e-01, 5.95830190e-01, ...,\n",
       "            9.98408467e-01, 7.36842031e-01, 8.85774234e-01],\n",
       "           [4.98200979e-01, 1.02272932e-01, 7.05063628e-01, ...,\n",
       "            5.46643542e-01, 8.81653317e-01, 1.65815044e-01],\n",
       "           [1.27026411e-01, 9.52445048e-01, 1.89978373e-01, ...,\n",
       "            9.88820367e-01, 5.84317051e-01, 6.41275802e-01],\n",
       "           ...,\n",
       "           [2.16162741e-01, 5.22250230e-01, 8.14249950e-02, ...,\n",
       "            9.41144846e-02, 8.86364605e-01, 5.58063691e-01],\n",
       "           [4.01749650e-01, 6.34475075e-01, 8.97773291e-01, ...,\n",
       "            2.23072522e-01, 2.84785135e-01, 1.90612166e-01],\n",
       "           [4.28570080e-01, 4.59455972e-01, 8.55363983e-02, ...,\n",
       "            7.93110145e-01, 6.67706304e-01, 2.21775060e-01]],\n",
       "\n",
       "          [[5.05524595e-01, 2.53714885e-01, 7.93078087e-01, ...,\n",
       "            8.89015628e-01, 5.86518407e-01, 2.56036642e-01],\n",
       "           [3.77295635e-01, 8.72821424e-01, 5.38544220e-01, ...,\n",
       "            2.90596745e-01, 6.97991098e-01, 9.75574503e-01],\n",
       "           [5.68736569e-01, 3.76694758e-01, 8.93788948e-01, ...,\n",
       "            6.60992778e-01, 1.36861419e-02, 3.79775411e-01],\n",
       "           ...,\n",
       "           [5.88336011e-01, 5.29704209e-03, 1.84015478e-01, ...,\n",
       "            1.73197654e-01, 1.82510110e-01, 4.49003566e-01],\n",
       "           [6.10810459e-01, 5.79631957e-01, 1.13949246e-01, ...,\n",
       "            6.17228416e-01, 4.08496636e-02, 5.96320497e-01],\n",
       "           [6.79157127e-01, 1.81367469e-01, 1.50543037e-02, ...,\n",
       "            7.66464751e-02, 1.84654323e-01, 8.90124534e-01]],\n",
       "\n",
       "          [[5.58293375e-01, 1.13948900e-01, 3.96893142e-01, ...,\n",
       "            5.61698544e-01, 9.43047348e-01, 7.71835063e-01],\n",
       "           [5.42482830e-01, 7.30306821e-01, 6.73936652e-01, ...,\n",
       "            8.33645906e-02, 7.06501080e-01, 2.51859639e-02],\n",
       "           [2.40366529e-01, 4.85341007e-01, 9.14021362e-01, ...,\n",
       "            6.96004832e-01, 7.50791711e-01, 9.34782343e-01],\n",
       "           ...,\n",
       "           [2.27359221e-01, 8.82822493e-01, 2.48832392e-01, ...,\n",
       "            9.90549287e-01, 4.03701978e-01, 2.93060886e-01],\n",
       "           [6.40262387e-01, 7.18476657e-01, 2.36662412e-01, ...,\n",
       "            9.97730337e-01, 2.91611591e-01, 4.64410939e-01],\n",
       "           [8.22650579e-01, 2.95824934e-01, 2.73987150e-01, ...,\n",
       "            7.68241115e-01, 2.69718991e-01, 3.69600608e-01]],\n",
       "\n",
       "          ...,\n",
       "\n",
       "          [[1.55635879e-01, 3.28548684e-01, 8.91712189e-01, ...,\n",
       "            3.49092759e-01, 7.36123872e-02, 7.08177576e-01],\n",
       "           [3.63176992e-01, 7.52573766e-01, 2.34109079e-01, ...,\n",
       "            1.89169474e-01, 6.74134731e-01, 5.63955489e-01],\n",
       "           [9.26572998e-01, 3.58784193e-01, 7.59863054e-01, ...,\n",
       "            4.21870942e-01, 1.81509425e-01, 3.76276387e-01],\n",
       "           ...,\n",
       "           [7.86158598e-01, 5.54116713e-01, 8.85076032e-01, ...,\n",
       "            2.93205663e-01, 8.57433466e-01, 7.46366939e-01],\n",
       "           [7.91422753e-01, 6.26046202e-02, 5.51708070e-01, ...,\n",
       "            7.49951107e-01, 3.28377639e-01, 5.10607917e-01],\n",
       "           [7.10301145e-01, 3.60446195e-01, 8.24729381e-01, ...,\n",
       "            6.70361273e-01, 1.44544818e-01, 9.71768316e-01]],\n",
       "\n",
       "          [[2.92602145e-01, 6.38935505e-01, 9.61436861e-01, ...,\n",
       "            5.79177235e-01, 5.41786020e-01, 3.94068894e-01],\n",
       "           [2.04994735e-01, 5.98417022e-01, 8.05443044e-01, ...,\n",
       "            3.06766604e-01, 2.49079630e-01, 9.41116104e-02],\n",
       "           [1.01048376e-01, 2.91570361e-01, 9.50207366e-01, ...,\n",
       "            1.95914709e-01, 9.49009760e-01, 6.44671052e-01],\n",
       "           ...,\n",
       "           [9.00226602e-01, 7.10273224e-01, 3.98949929e-01, ...,\n",
       "            8.72133193e-01, 8.21749463e-01, 8.54341132e-01],\n",
       "           [9.85280411e-01, 5.99927443e-01, 4.85743374e-01, ...,\n",
       "            8.87756344e-01, 9.18181653e-01, 4.77750883e-01],\n",
       "           [5.04075167e-01, 1.33618065e-01, 2.82153229e-01, ...,\n",
       "            2.09190699e-01, 7.28395653e-01, 9.29558792e-01]],\n",
       "\n",
       "          [[5.83747086e-01, 1.81144098e-02, 4.02724687e-02, ...,\n",
       "            1.15185027e-02, 8.27097117e-02, 3.47326092e-01],\n",
       "           [5.52906242e-01, 5.87895583e-01, 2.26354933e-01, ...,\n",
       "            3.04277290e-01, 3.31624516e-01, 8.83176416e-01],\n",
       "           [8.72286235e-01, 1.80429464e-01, 9.19615936e-01, ...,\n",
       "            5.15170397e-01, 2.59236917e-01, 7.24575017e-01],\n",
       "           ...,\n",
       "           [2.83938110e-01, 3.22469544e-01, 4.02333199e-01, ...,\n",
       "            2.92650827e-01, 6.02169032e-01, 1.44886801e-01],\n",
       "           [8.00145575e-01, 5.73633545e-03, 8.44157114e-01, ...,\n",
       "            7.08151861e-01, 2.91351496e-01, 9.31890000e-01],\n",
       "           [3.11911086e-01, 3.20952507e-01, 1.83154049e-01, ...,\n",
       "            5.16153993e-01, 2.51031942e-01, 8.32326425e-01]]]],\n",
       "\n",
       "\n",
       "\n",
       "        [[[[3.22455532e-01, 5.27684160e-01, 3.32418057e-01, ...,\n",
       "            7.45325734e-01, 6.38255005e-01, 5.50454336e-01],\n",
       "           [5.77238512e-01, 7.58984087e-02, 7.00096194e-02, ...,\n",
       "            9.42417418e-01, 6.88499693e-01, 8.18262679e-01],\n",
       "           [3.17637414e-01, 1.27506299e-01, 6.43408385e-01, ...,\n",
       "            1.50961981e-01, 1.04450289e-01, 4.57281039e-01],\n",
       "           ...,\n",
       "           [2.56672365e-01, 6.63919782e-02, 3.68306707e-01, ...,\n",
       "            4.56397402e-01, 9.24104709e-01, 1.21762589e-01],\n",
       "           [2.74249910e-01, 2.50915272e-01, 8.95009312e-01, ...,\n",
       "            3.78929692e-01, 4.48706815e-01, 2.23326413e-01],\n",
       "           [3.38644296e-02, 7.60568906e-01, 3.66643576e-02, ...,\n",
       "            6.41128741e-01, 2.09194954e-02, 2.11117893e-01]],\n",
       "\n",
       "          [[3.32499472e-01, 8.83779329e-01, 2.01149318e-01, ...,\n",
       "            3.79731933e-01, 3.49012771e-01, 8.99129762e-01],\n",
       "           [2.80960892e-02, 2.20321666e-01, 3.85200045e-02, ...,\n",
       "            8.39811380e-02, 2.93402068e-01, 7.83468935e-02],\n",
       "           [8.61427147e-01, 9.31455634e-01, 2.73155239e-01, ...,\n",
       "            9.34769490e-01, 2.78026668e-01, 8.82396694e-01],\n",
       "           ...,\n",
       "           [5.87636454e-01, 5.85436172e-02, 6.80961984e-01, ...,\n",
       "            7.72516084e-01, 3.83255606e-01, 3.11325468e-02],\n",
       "           [9.61491512e-01, 8.69012780e-01, 1.97801256e-01, ...,\n",
       "            2.44438066e-01, 9.68981410e-01, 1.33365036e-01],\n",
       "           [9.00749254e-01, 5.95520563e-02, 3.05314081e-02, ...,\n",
       "            5.72609391e-01, 6.46971934e-02, 2.77117051e-02]],\n",
       "\n",
       "          [[8.62013491e-01, 7.01373829e-01, 5.34190148e-01, ...,\n",
       "            5.41424351e-01, 8.03202362e-01, 9.89776403e-01],\n",
       "           [6.41041519e-01, 8.94275054e-01, 4.73038920e-01, ...,\n",
       "            1.33619380e-01, 2.99390236e-01, 5.30023398e-01],\n",
       "           [5.58163025e-01, 6.79353699e-01, 3.15217184e-02, ...,\n",
       "            5.60280049e-01, 5.40741632e-01, 8.13955466e-01],\n",
       "           ...,\n",
       "           [2.14598734e-01, 3.22942748e-01, 6.35022542e-01, ...,\n",
       "            9.65316464e-01, 9.44547883e-01, 5.04870484e-01],\n",
       "           [8.93096687e-01, 9.12409643e-01, 4.37109170e-01, ...,\n",
       "            1.28719285e-01, 5.85684548e-01, 6.16743829e-01],\n",
       "           [4.81505158e-01, 7.55494792e-01, 4.33255300e-01, ...,\n",
       "            2.37839315e-01, 1.46583810e-01, 8.08760684e-02]],\n",
       "\n",
       "          ...,\n",
       "\n",
       "          [[5.47737316e-01, 6.11849729e-01, 9.20479265e-01, ...,\n",
       "            8.11331217e-01, 3.59701403e-01, 1.08968224e-01],\n",
       "           [4.54897381e-01, 3.22584390e-01, 3.74740990e-01, ...,\n",
       "            8.75662781e-01, 6.13793329e-01, 8.44065429e-01],\n",
       "           [1.39902372e-01, 5.34304428e-01, 3.91243118e-01, ...,\n",
       "            2.09476585e-01, 7.24116610e-01, 1.33074655e-02],\n",
       "           ...,\n",
       "           [5.76682155e-01, 1.37579711e-01, 5.53943382e-01, ...,\n",
       "            6.37196680e-01, 3.50914190e-01, 7.39621097e-01],\n",
       "           [9.92718575e-02, 7.67556864e-01, 6.47198319e-01, ...,\n",
       "            5.92957206e-01, 4.77437381e-01, 4.78331526e-01],\n",
       "           [7.37522857e-01, 5.95274258e-01, 3.50623812e-01, ...,\n",
       "            8.90718846e-01, 7.43967241e-01, 7.53952254e-01]],\n",
       "\n",
       "          [[5.31843331e-02, 6.61888658e-01, 5.16289159e-01, ...,\n",
       "            3.89722564e-01, 7.71060220e-01, 9.60539388e-01],\n",
       "           [3.56646060e-01, 5.70731011e-01, 1.08483146e-01, ...,\n",
       "            6.52029457e-02, 3.70199629e-01, 7.01626024e-01],\n",
       "           [4.24706379e-01, 5.90417647e-01, 8.74363243e-01, ...,\n",
       "            1.48412056e-01, 1.31181662e-01, 5.74169147e-01],\n",
       "           ...,\n",
       "           [3.30116473e-01, 3.09643054e-01, 6.23182124e-01, ...,\n",
       "            7.29333279e-01, 8.67497060e-01, 9.25093470e-01],\n",
       "           [7.37498202e-01, 5.47624727e-01, 2.37370078e-01, ...,\n",
       "            1.87754822e-01, 2.67620444e-01, 8.46695500e-02],\n",
       "           [3.54659789e-01, 1.55519386e-01, 5.41955216e-01, ...,\n",
       "            3.14396510e-01, 1.73195203e-01, 3.78207231e-01]],\n",
       "\n",
       "          [[5.49434440e-01, 1.07052605e-01, 1.76717756e-01, ...,\n",
       "            5.68386180e-01, 7.06691824e-01, 4.59459827e-01],\n",
       "           [6.95799168e-01, 5.57240133e-01, 8.53462331e-01, ...,\n",
       "            4.59642438e-01, 6.28381122e-01, 6.01749931e-01],\n",
       "           [2.89359655e-03, 2.39200445e-01, 7.77212806e-02, ...,\n",
       "            9.15396339e-01, 7.58282794e-01, 1.88252675e-01],\n",
       "           ...,\n",
       "           [9.38508914e-01, 3.64573400e-01, 2.85069550e-01, ...,\n",
       "            1.14391934e-01, 1.35786547e-01, 7.79190300e-01],\n",
       "           [9.03783314e-01, 1.09418962e-01, 1.39182229e-01, ...,\n",
       "            5.82047624e-01, 8.01247041e-01, 3.72481107e-01],\n",
       "           [4.72822724e-01, 6.24609628e-01, 7.30624825e-01, ...,\n",
       "            4.87923448e-01, 6.93095360e-01, 3.20543959e-01]]],\n",
       "\n",
       "\n",
       "         [[[7.55846775e-02, 6.77440478e-02, 8.79769563e-01, ...,\n",
       "            1.93061164e-01, 8.64852258e-01, 6.82789047e-01],\n",
       "           [3.95902872e-01, 7.50427499e-01, 8.61959122e-01, ...,\n",
       "            2.39473159e-01, 2.09321798e-01, 2.50005845e-01],\n",
       "           [6.59898752e-01, 1.59061372e-01, 3.53973863e-01, ...,\n",
       "            4.68040597e-01, 3.73381493e-02, 3.12918580e-01],\n",
       "           ...,\n",
       "           [3.85892078e-01, 7.22109686e-01, 8.20341613e-01, ...,\n",
       "            3.50103350e-01, 7.41733337e-01, 3.42596698e-01],\n",
       "           [3.89189148e-01, 8.74165102e-02, 5.58419972e-01, ...,\n",
       "            6.50310773e-02, 5.66818811e-01, 6.68686852e-01],\n",
       "           [3.78069370e-01, 5.88960110e-02, 9.84482636e-02, ...,\n",
       "            8.76779396e-01, 1.78391460e-02, 6.04410223e-01]],\n",
       "\n",
       "          [[7.09002204e-01, 3.78770993e-01, 8.08274367e-01, ...,\n",
       "            3.94267910e-01, 9.19778300e-01, 3.13366329e-01],\n",
       "           [8.68191331e-01, 3.93088139e-01, 2.33676900e-01, ...,\n",
       "            1.36822453e-01, 1.15263280e-01, 1.81978482e-01],\n",
       "           [6.46262941e-01, 5.05347202e-01, 6.33626536e-01, ...,\n",
       "            5.11356602e-01, 1.27130795e-01, 7.75582070e-01],\n",
       "           ...,\n",
       "           [5.38958539e-02, 1.04575434e-01, 6.02451811e-01, ...,\n",
       "            5.92581867e-01, 7.38715810e-01, 5.81289208e-01],\n",
       "           [2.79047986e-01, 2.40033069e-01, 2.69695406e-01, ...,\n",
       "            1.98441680e-01, 3.55278404e-01, 9.59663935e-01],\n",
       "           [6.37170207e-01, 6.47157949e-01, 5.44883350e-01, ...,\n",
       "            4.12030384e-01, 8.37111927e-02, 6.69640316e-01]],\n",
       "\n",
       "          [[5.75167556e-01, 3.55784401e-02, 2.09488263e-02, ...,\n",
       "            1.59014670e-01, 5.78843908e-01, 4.60874838e-01],\n",
       "           [8.25487643e-01, 2.04933120e-01, 8.51090138e-01, ...,\n",
       "            3.69683741e-01, 7.73493976e-01, 5.26570124e-01],\n",
       "           [9.26546632e-01, 5.97704041e-01, 5.14142852e-01, ...,\n",
       "            7.92132322e-01, 2.75293867e-01, 2.91313732e-01],\n",
       "           ...,\n",
       "           [9.63412545e-01, 9.04434391e-01, 9.26011809e-01, ...,\n",
       "            8.16987754e-01, 8.87111120e-01, 2.11290003e-01],\n",
       "           [2.65728690e-01, 2.30467494e-01, 3.67189158e-01, ...,\n",
       "            6.20210105e-02, 3.25210462e-01, 3.18745391e-01],\n",
       "           [8.62002764e-01, 4.27699269e-01, 1.22621812e-01, ...,\n",
       "            4.32765675e-01, 4.22585068e-01, 6.31975999e-01]],\n",
       "\n",
       "          ...,\n",
       "\n",
       "          [[1.33510103e-03, 5.62177491e-01, 4.78484109e-01, ...,\n",
       "            4.56039851e-01, 1.50267550e-01, 2.38343381e-01],\n",
       "           [9.37849233e-01, 2.28980425e-01, 7.02570267e-01, ...,\n",
       "            2.21494057e-01, 5.32145571e-01, 6.06597575e-01],\n",
       "           [5.09359965e-01, 4.13925121e-01, 8.88281628e-01, ...,\n",
       "            7.39332334e-01, 6.24020098e-01, 1.68843205e-01],\n",
       "           ...,\n",
       "           [8.30717563e-01, 2.29479467e-01, 2.57484223e-01, ...,\n",
       "            1.36488153e-01, 9.47691953e-02, 4.77430410e-01],\n",
       "           [3.92160259e-01, 2.32781901e-01, 7.65112401e-01, ...,\n",
       "            5.29813559e-01, 5.21136702e-01, 1.18762899e-01],\n",
       "           [8.89172016e-01, 9.12711662e-01, 8.01787491e-01, ...,\n",
       "            5.16610764e-01, 8.90389204e-01, 7.74936683e-01]],\n",
       "\n",
       "          [[1.83431216e-01, 4.05461861e-01, 2.05939508e-01, ...,\n",
       "            5.04781249e-01, 4.58732497e-01, 5.61822936e-01],\n",
       "           [7.64671424e-02, 5.39040080e-01, 2.62588829e-01, ...,\n",
       "            6.85061324e-01, 5.18925874e-01, 6.27033514e-01],\n",
       "           [2.98636270e-01, 9.12110717e-01, 6.87003820e-01, ...,\n",
       "            4.81045233e-01, 6.76504356e-01, 5.48861538e-01],\n",
       "           ...,\n",
       "           [6.78632171e-01, 6.17037042e-01, 7.26820044e-01, ...,\n",
       "            7.67341364e-01, 1.16759187e-01, 9.72929314e-01],\n",
       "           [2.57376238e-01, 3.82987841e-01, 5.04237958e-01, ...,\n",
       "            8.38758378e-01, 1.63631019e-02, 8.86874649e-01],\n",
       "           [9.85846184e-01, 8.99388384e-01, 5.09029237e-01, ...,\n",
       "            5.38073399e-01, 5.25144641e-01, 7.28770171e-01]],\n",
       "\n",
       "          [[8.87217443e-01, 4.71749387e-01, 3.27726589e-01, ...,\n",
       "            5.87918114e-01, 8.79447884e-01, 9.04790187e-01],\n",
       "           [4.83152107e-01, 4.11342856e-01, 5.95556308e-01, ...,\n",
       "            4.54430204e-01, 1.16052820e-01, 9.04576145e-01],\n",
       "           [9.27916140e-01, 6.84221011e-01, 9.65054867e-01, ...,\n",
       "            1.94647529e-01, 5.64871013e-01, 3.11433321e-01],\n",
       "           ...,\n",
       "           [5.50125245e-01, 3.09219267e-01, 5.72705461e-01, ...,\n",
       "            1.24296516e-01, 1.95759074e-01, 5.90400267e-01],\n",
       "           [7.01301379e-01, 4.15432414e-01, 4.06660015e-01, ...,\n",
       "            3.00392670e-01, 5.08030740e-01, 7.50536196e-01],\n",
       "           [1.37222242e-01, 4.59850609e-01, 9.19240369e-01, ...,\n",
       "            6.89108164e-01, 1.39291833e-01, 4.63438549e-01]]],\n",
       "\n",
       "\n",
       "         [[[6.29467047e-01, 1.31830048e-01, 9.82249498e-01, ...,\n",
       "            8.35188779e-01, 1.28393231e-01, 9.12766834e-02],\n",
       "           [6.99514168e-01, 3.05654944e-01, 9.53028430e-01, ...,\n",
       "            4.02597279e-01, 8.56974887e-01, 7.81628067e-01],\n",
       "           [1.77979541e-01, 5.38152576e-01, 3.16848975e-01, ...,\n",
       "            4.82931069e-01, 7.26169366e-01, 5.08630384e-01],\n",
       "           ...,\n",
       "           [6.06038930e-01, 7.47902840e-01, 4.43078675e-01, ...,\n",
       "            2.93793037e-01, 5.10786867e-01, 3.97885406e-02],\n",
       "           [7.29408956e-01, 7.38612295e-01, 6.38771256e-01, ...,\n",
       "            9.78276196e-01, 9.03408333e-01, 6.97301029e-01],\n",
       "           [4.53388453e-01, 9.60255021e-01, 8.54963570e-01, ...,\n",
       "            1.28003726e-03, 7.65946813e-02, 8.74882104e-01]],\n",
       "\n",
       "          [[2.29948952e-01, 3.91787296e-01, 1.92364564e-01, ...,\n",
       "            8.78767194e-01, 3.43742571e-01, 3.80821682e-02],\n",
       "           [2.05726878e-01, 2.88592323e-01, 2.64796908e-02, ...,\n",
       "            3.55158969e-01, 2.59127726e-01, 6.10310860e-01],\n",
       "           [5.48071952e-01, 1.49168002e-01, 1.75222138e-01, ...,\n",
       "            1.77823561e-01, 7.41079326e-01, 5.80043363e-01],\n",
       "           ...,\n",
       "           [7.63709487e-01, 2.60454886e-01, 5.37455434e-01, ...,\n",
       "            4.79023119e-01, 7.57492238e-01, 2.18867238e-01],\n",
       "           [1.76185695e-01, 2.18790915e-01, 9.72028632e-01, ...,\n",
       "            1.98499931e-01, 2.66158557e-01, 2.88354994e-01],\n",
       "           [5.69520832e-01, 8.61923189e-02, 5.64429942e-01, ...,\n",
       "            6.88882356e-01, 9.26695516e-01, 9.99618916e-01]],\n",
       "\n",
       "          [[8.30611717e-01, 6.63676078e-01, 7.32276679e-01, ...,\n",
       "            2.72217794e-01, 2.34546616e-01, 1.87745735e-01],\n",
       "           [5.38024268e-01, 2.80751366e-01, 6.53799004e-01, ...,\n",
       "            6.37937289e-01, 4.78290098e-01, 3.97024628e-01],\n",
       "           [6.42743422e-01, 5.17432244e-02, 1.50506003e-01, ...,\n",
       "            2.05160775e-01, 9.18610437e-01, 8.94458395e-01],\n",
       "           ...,\n",
       "           [6.83659196e-02, 1.80063052e-01, 2.97364568e-01, ...,\n",
       "            5.38198595e-01, 7.67633648e-01, 4.32476449e-01],\n",
       "           [7.62740252e-01, 5.06845097e-02, 3.51254816e-01, ...,\n",
       "            4.21959826e-01, 3.47927810e-01, 3.10941604e-01],\n",
       "           [1.16524883e-01, 6.63065199e-02, 1.96892711e-02, ...,\n",
       "            6.02982288e-01, 1.67254496e-01, 8.83008102e-01]],\n",
       "\n",
       "          ...,\n",
       "\n",
       "          [[4.18733399e-02, 3.82022916e-01, 4.69145703e-03, ...,\n",
       "            9.18205172e-01, 1.43258616e-01, 9.06602000e-01],\n",
       "           [9.61215491e-01, 4.17257262e-01, 3.01599287e-01, ...,\n",
       "            5.95491782e-01, 3.63561527e-01, 4.17866985e-01],\n",
       "           [3.63627882e-01, 4.56111524e-01, 5.72171689e-01, ...,\n",
       "            6.68053373e-01, 3.71674278e-01, 9.55793892e-01],\n",
       "           ...,\n",
       "           [4.00634583e-01, 4.47180322e-01, 7.68045661e-01, ...,\n",
       "            2.06732921e-01, 9.42454591e-01, 2.62680769e-01],\n",
       "           [6.92640975e-01, 3.74742728e-01, 8.54181955e-01, ...,\n",
       "            1.99519337e-01, 5.27217557e-01, 2.55122849e-01],\n",
       "           [4.84517604e-02, 6.13983823e-01, 4.66769353e-03, ...,\n",
       "            7.21076751e-01, 9.46452721e-01, 6.45151692e-01]],\n",
       "\n",
       "          [[3.37286140e-01, 4.07399735e-01, 5.90030299e-01, ...,\n",
       "            6.24375241e-01, 8.81308350e-01, 8.66895686e-01],\n",
       "           [3.44064969e-01, 4.61622221e-01, 7.09431328e-01, ...,\n",
       "            2.20532017e-01, 5.50876610e-01, 8.61968895e-01],\n",
       "           [7.41872636e-02, 5.78309192e-01, 9.56097252e-02, ...,\n",
       "            8.95042856e-01, 6.73191684e-01, 8.22526848e-01],\n",
       "           ...,\n",
       "           [2.74347843e-01, 4.27057673e-01, 6.33686277e-01, ...,\n",
       "            5.44651941e-01, 3.31723039e-01, 2.15082296e-01],\n",
       "           [5.82487034e-01, 7.11185233e-01, 4.75047071e-01, ...,\n",
       "            6.16546250e-01, 5.24460926e-01, 3.99818057e-01],\n",
       "           [4.37334897e-01, 8.12404912e-01, 1.28380922e-01, ...,\n",
       "            1.75366022e-01, 1.97838055e-01, 6.13650722e-01]],\n",
       "\n",
       "          [[4.85484283e-01, 1.01236032e-01, 8.22523491e-01, ...,\n",
       "            4.13604416e-01, 1.29648780e-01, 9.56748487e-01],\n",
       "           [4.66513887e-01, 5.63960972e-01, 6.05139404e-01, ...,\n",
       "            6.27230679e-01, 2.30228173e-01, 3.03743113e-01],\n",
       "           [7.57878611e-01, 3.08337746e-01, 5.26667548e-01, ...,\n",
       "            9.33986854e-01, 6.42709796e-01, 6.23279130e-01],\n",
       "           ...,\n",
       "           [3.75274466e-01, 5.04833433e-01, 8.40243739e-01, ...,\n",
       "            4.48673019e-01, 9.92203683e-01, 8.31276009e-01],\n",
       "           [8.25955559e-01, 9.65416374e-01, 7.16902974e-01, ...,\n",
       "            6.26333797e-01, 7.96222768e-01, 9.48454320e-02],\n",
       "           [2.06734905e-01, 1.02302545e-01, 3.62199225e-01, ...,\n",
       "            6.37313781e-01, 8.33200360e-01, 9.53110375e-01]]],\n",
       "\n",
       "\n",
       "         [[[5.97419616e-01, 3.03105781e-01, 2.08809337e-01, ...,\n",
       "            1.45795803e-01, 7.57839707e-02, 2.49533578e-01],\n",
       "           [9.52404118e-01, 3.89406165e-02, 9.12675557e-01, ...,\n",
       "            3.47310800e-01, 7.51881649e-01, 9.22788952e-01],\n",
       "           [5.80815164e-01, 7.22520075e-01, 6.66850560e-01, ...,\n",
       "            3.22785810e-01, 6.33405649e-01, 2.91949595e-01],\n",
       "           ...,\n",
       "           [7.47302948e-01, 3.85891388e-01, 3.21071945e-01, ...,\n",
       "            9.35006155e-01, 2.75632990e-01, 5.58768450e-01],\n",
       "           [3.87499314e-01, 2.25720144e-01, 6.82551173e-01, ...,\n",
       "            6.98538836e-02, 2.04515106e-01, 8.58664108e-01],\n",
       "           [4.00514931e-01, 6.60072808e-01, 4.12152196e-01, ...,\n",
       "            2.11211958e-01, 6.04318044e-01, 5.36664077e-01]],\n",
       "\n",
       "          [[9.94931643e-01, 9.33037304e-01, 4.52113736e-01, ...,\n",
       "            8.36827279e-01, 6.55247491e-01, 7.97078768e-01],\n",
       "           [7.35045176e-01, 7.99832154e-02, 8.05669196e-01, ...,\n",
       "            5.01411722e-01, 1.34665096e-01, 2.25306666e-01],\n",
       "           [6.85618933e-01, 8.76709764e-01, 5.71958792e-01, ...,\n",
       "            1.03980595e-01, 8.79728478e-01, 1.08460739e-01],\n",
       "           ...,\n",
       "           [4.08414874e-01, 5.20227374e-02, 9.68909782e-01, ...,\n",
       "            5.69466549e-01, 5.17249159e-01, 1.21689621e-02],\n",
       "           [1.96190717e-01, 4.57893710e-01, 4.28709654e-01, ...,\n",
       "            2.42325067e-01, 6.80112135e-01, 1.65839904e-01],\n",
       "           [5.78718530e-01, 4.87137741e-01, 1.59308133e-01, ...,\n",
       "            8.80638873e-01, 7.02036518e-01, 7.19784912e-01]],\n",
       "\n",
       "          [[1.89927938e-01, 2.44589800e-01, 3.39688287e-01, ...,\n",
       "            5.09174956e-01, 2.17660109e-01, 6.13546802e-01],\n",
       "           [3.25837946e-01, 4.98784488e-01, 9.99757016e-01, ...,\n",
       "            9.09094495e-01, 5.81537405e-01, 3.45322181e-01],\n",
       "           [2.40911965e-01, 4.46033983e-01, 1.67919500e-01, ...,\n",
       "            8.22472147e-02, 5.76321290e-01, 3.13808667e-01],\n",
       "           ...,\n",
       "           [9.10997724e-01, 3.06804998e-01, 8.41851740e-02, ...,\n",
       "            2.32339719e-01, 5.82080121e-01, 5.40765502e-01],\n",
       "           [2.13108875e-01, 3.02039998e-01, 4.39953678e-01, ...,\n",
       "            9.62958444e-01, 4.69516950e-01, 4.34773419e-01],\n",
       "           [9.04834424e-01, 8.83843761e-02, 2.96321989e-01, ...,\n",
       "            8.75945064e-01, 7.40583753e-01, 7.49403502e-02]],\n",
       "\n",
       "          ...,\n",
       "\n",
       "          [[2.06133904e-01, 4.53287720e-01, 2.96871639e-01, ...,\n",
       "            4.95558792e-01, 4.27822839e-01, 5.29979085e-01],\n",
       "           [8.46472053e-01, 6.45429093e-01, 2.14135184e-01, ...,\n",
       "            5.33921054e-01, 2.78736807e-02, 7.29202451e-01],\n",
       "           [3.65008128e-01, 3.60396143e-01, 4.85352294e-01, ...,\n",
       "            4.69068209e-01, 2.29826242e-01, 6.87586527e-01],\n",
       "           ...,\n",
       "           [6.25769024e-01, 4.94631431e-01, 3.00301451e-02, ...,\n",
       "            3.73934709e-01, 2.56885245e-02, 5.11004634e-01],\n",
       "           [8.23894812e-01, 2.25826641e-01, 6.49606986e-01, ...,\n",
       "            6.21742516e-01, 1.41867738e-02, 2.09258772e-01],\n",
       "           [6.06756187e-02, 4.52140966e-01, 7.08415647e-01, ...,\n",
       "            5.38243569e-01, 2.28829780e-01, 5.24813431e-01]],\n",
       "\n",
       "          [[4.71946045e-01, 3.22050978e-01, 3.16321648e-01, ...,\n",
       "            4.53377852e-01, 1.87002346e-01, 6.70030394e-01],\n",
       "           [7.47027984e-01, 2.39087013e-01, 1.52230813e-01, ...,\n",
       "            1.30728975e-03, 2.23011773e-01, 6.32775174e-01],\n",
       "           [8.21493500e-01, 8.82652506e-01, 1.53067451e-01, ...,\n",
       "            8.83024489e-02, 5.42453586e-01, 6.20344946e-01],\n",
       "           ...,\n",
       "           [9.82563073e-01, 8.08227330e-02, 8.53717461e-01, ...,\n",
       "            1.46527606e-01, 8.45298051e-01, 3.99088028e-02],\n",
       "           [7.05023885e-01, 5.78976271e-01, 5.31471891e-02, ...,\n",
       "            3.21076631e-01, 8.72022867e-01, 9.34702826e-01],\n",
       "           [6.18601758e-01, 2.30544732e-01, 1.58449073e-02, ...,\n",
       "            1.58859761e-01, 8.55920467e-01, 9.11760768e-01]],\n",
       "\n",
       "          [[8.05204375e-01, 4.18865651e-01, 8.79736786e-01, ...,\n",
       "            1.81145217e-01, 6.49724846e-01, 9.46243665e-01],\n",
       "           [9.10657191e-01, 4.56186397e-01, 2.21103456e-01, ...,\n",
       "            3.91329522e-01, 5.51154328e-02, 2.47624426e-01],\n",
       "           [7.35124541e-01, 4.37083241e-01, 1.26769107e-01, ...,\n",
       "            6.99109017e-01, 4.70847421e-02, 6.78454417e-01],\n",
       "           ...,\n",
       "           [6.18698589e-01, 7.45966635e-01, 5.37359398e-01, ...,\n",
       "            8.27275598e-02, 7.31852965e-01, 9.32154869e-01],\n",
       "           [1.91101081e-01, 4.42680260e-01, 2.80846371e-01, ...,\n",
       "            9.14647590e-01, 6.22908950e-01, 9.63971382e-01],\n",
       "           [6.26879170e-01, 2.05375958e-01, 2.08077271e-01, ...,\n",
       "            4.34945957e-01, 6.26100833e-01, 8.76250770e-02]]]]]])"
      ]
     },
     "execution_count": 206,
     "metadata": {},
     "output_type": "execute_result"
    }
   ],
   "source": [
    "np.random.rand(2, 3, 4, 10, 12, 23)"
   ]
  },
  {
   "cell_type": "markdown",
   "id": "ac2d0ea6",
   "metadata": {},
   "source": [
    "Обратите внимание, что обычно форму массивов мы задавали в функциях NumPy одним числом или кортежем, а не перечисляли её в виде аргументов через запятую.\n",
    "\n",
    "Если передать в rand кортеж, возникнет ошибка:"
   ]
  },
  {
   "cell_type": "code",
   "execution_count": 207,
   "id": "7cce7e2d",
   "metadata": {},
   "outputs": [
    {
     "ename": "TypeError",
     "evalue": "'tuple' object cannot be interpreted as an integer",
     "output_type": "error",
     "traceback": [
      "\u001b[1;31m----------------------------------------------------------------\u001b[0m",
      "\u001b[1;31mTypeError\u001b[0m                      Traceback (most recent call last)",
      "Input \u001b[1;32mIn [207]\u001b[0m, in \u001b[0;36m<cell line: 2>\u001b[1;34m()\u001b[0m\n\u001b[0;32m      1\u001b[0m shape \u001b[38;5;241m=\u001b[39m (\u001b[38;5;241m3\u001b[39m, \u001b[38;5;241m4\u001b[39m)\n\u001b[1;32m----> 2\u001b[0m \u001b[43mnp\u001b[49m\u001b[38;5;241;43m.\u001b[39;49m\u001b[43mrandom\u001b[49m\u001b[38;5;241;43m.\u001b[39;49m\u001b[43mrand\u001b[49m\u001b[43m(\u001b[49m\u001b[43mshape\u001b[49m\u001b[43m)\u001b[49m\n",
      "File \u001b[1;32mmtrand.pyx:1182\u001b[0m, in \u001b[0;36mnumpy.random.mtrand.RandomState.rand\u001b[1;34m()\u001b[0m\n",
      "File \u001b[1;32mmtrand.pyx:425\u001b[0m, in \u001b[0;36mnumpy.random.mtrand.RandomState.random_sample\u001b[1;34m()\u001b[0m\n",
      "File \u001b[1;32m_common.pyx:307\u001b[0m, in \u001b[0;36mnumpy.random._common.double_fill\u001b[1;34m()\u001b[0m\n",
      "\u001b[1;31mTypeError\u001b[0m: 'tuple' object cannot be interpreted as an integer"
     ]
    }
   ],
   "source": [
    "shape = (3, 4)\n",
    "np.random.rand(shape)"
   ]
  },
  {
   "cell_type": "markdown",
   "id": "cc532a44",
   "metadata": {},
   "source": [
    "Конечно, можно было бы распаковать кортеж, чтобы избавиться от ошибки:"
   ]
  },
  {
   "cell_type": "code",
   "execution_count": 208,
   "id": "3ea54c6b",
   "metadata": {},
   "outputs": [
    {
     "data": {
      "text/plain": [
       "array([[0.21614766, 0.9465136 , 0.43335541, 0.34455736],\n",
       "       [0.96130132, 0.19808667, 0.72387066, 0.58357964],\n",
       "       [0.11105929, 0.19812978, 0.08348042, 0.52780101]])"
      ]
     },
     "execution_count": 208,
     "metadata": {},
     "output_type": "execute_result"
    }
   ],
   "source": [
    "shape = (3, 4)\n",
    "np.random.rand(*shape)"
   ]
  },
  {
   "cell_type": "markdown",
   "id": "84f71013",
   "metadata": {},
   "source": [
    "Но в NumPy есть и другая функция, генерирующая массивы случайных чисел от 0 до 1, которая принимает в качестве аргумента именно кортеж без распаковки. Она называется sample:"
   ]
  },
  {
   "cell_type": "code",
   "execution_count": 209,
   "id": "e2243bb8",
   "metadata": {},
   "outputs": [
    {
     "data": {
      "text/plain": [
       "array([[0.18613667, 0.95765042, 0.14354298, 0.87414489],\n",
       "       [0.6584242 , 0.87476081, 0.66069411, 0.03416029],\n",
       "       [0.39639191, 0.49484752, 0.69922959, 0.97055333]])"
      ]
     },
     "execution_count": 209,
     "metadata": {},
     "output_type": "execute_result"
    }
   ],
   "source": [
    "shape = (3, 4)\n",
    "np.random.sample(shape)"
   ]
  },
  {
   "cell_type": "markdown",
   "id": "dd53ae4d",
   "metadata": {},
   "source": [
    "Возможно, именно функция sample покажется вам удобнее, поскольку информацию о форме массива обычно удобнее хранить в коде в виде кортежа и не задумываться потом о его распаковке. В остальном функция sample не отличается от rand.\n",
    "\n",
    "Не всегда требуются числа в диапазоне именно от 0 до 1. На самом деле с помощью специальных формул можно из диапазона от 0 до 1 получить любой другой желаемый диапазон, однако это не требуется делать самостоятельно — в NumPy доступна функция uniform:"
   ]
  },
  {
   "cell_type": "code",
   "execution_count": 210,
   "id": "cc7ebdf9",
   "metadata": {},
   "outputs": [
    {
     "ename": "NameError",
     "evalue": "name 'uniform' is not defined",
     "output_type": "error",
     "traceback": [
      "\u001b[1;31m----------------------------------------------------------------\u001b[0m",
      "\u001b[1;31mNameError\u001b[0m                      Traceback (most recent call last)",
      "Input \u001b[1;32mIn [210]\u001b[0m, in \u001b[0;36m<cell line: 1>\u001b[1;34m()\u001b[0m\n\u001b[1;32m----> 1\u001b[0m \u001b[43muniform\u001b[49m(low\u001b[38;5;241m=\u001b[39m\u001b[38;5;241m0.0\u001b[39m, high\u001b[38;5;241m=\u001b[39m\u001b[38;5;241m1.0\u001b[39m, size\u001b[38;5;241m=\u001b[39m\u001b[38;5;28;01mNone\u001b[39;00m)\n",
      "\u001b[1;31mNameError\u001b[0m: name 'uniform' is not defined"
     ]
    }
   ],
   "source": [
    "uniform(low=0.0, high=1.0, size=None)"
   ]
  },
  {
   "cell_type": "markdown",
   "id": "c58a8abc",
   "metadata": {},
   "source": [
    "Первые два аргумента — нижняя и верхняя границы диапазона в формате float, третий опциональный аргумент — форма массива (если не задан, возвращается одно число). Форма массива задаётся кортежем или одним числом.\n",
    "\n",
    "Давайте поэкспериментируем ↓\n",
    "\n",
    "Запуск без аргументов эквивалентен работе функций rand или sample:"
   ]
  },
  {
   "cell_type": "code",
   "execution_count": 211,
   "id": "2e7201bd",
   "metadata": {},
   "outputs": [
    {
     "data": {
      "text/plain": [
       "0.7438482679657261"
      ]
     },
     "execution_count": 211,
     "metadata": {},
     "output_type": "execute_result"
    }
   ],
   "source": [
    "np.random.uniform()"
   ]
  },
  {
   "cell_type": "markdown",
   "id": "31b35a7d",
   "metadata": {},
   "source": [
    "Зададим границы диапазона от -30 до 50:"
   ]
  },
  {
   "cell_type": "code",
   "execution_count": 212,
   "id": "3affb4df",
   "metadata": {},
   "outputs": [
    {
     "data": {
      "text/plain": [
       "20.44072730573336"
      ]
     },
     "execution_count": 212,
     "metadata": {},
     "output_type": "execute_result"
    }
   ],
   "source": [
    "np.random.uniform(-30, 50)"
   ]
  },
  {
   "cell_type": "markdown",
   "id": "9705277e",
   "metadata": {},
   "source": [
    "Получим пять чисел в интервале от 0.5 до 0.75:"
   ]
  },
  {
   "cell_type": "code",
   "execution_count": 213,
   "id": "0c0f0e0a",
   "metadata": {},
   "outputs": [
    {
     "data": {
      "text/plain": [
       "array([0.709329  , 0.59116397, 0.67352699, 0.54448237, 0.63640088])"
      ]
     },
     "execution_count": 213,
     "metadata": {},
     "output_type": "execute_result"
    }
   ],
   "source": [
    "np.random.uniform(0.5, 0.75, size=5)"
   ]
  },
  {
   "cell_type": "markdown",
   "id": "b2d9d7f0",
   "metadata": {},
   "source": [
    "Получим массив из двух строк и трёх столбцов из чисел в интервале от -1000 до 500:"
   ]
  },
  {
   "cell_type": "code",
   "execution_count": 214,
   "id": "47e22a57",
   "metadata": {},
   "outputs": [
    {
     "data": {
      "text/plain": [
       "array([[-657.60065051, -200.96688727,  185.44370659],\n",
       "       [-790.06632198, -309.68825077, -377.7825965 ]])"
      ]
     },
     "execution_count": 214,
     "metadata": {},
     "output_type": "execute_result"
    }
   ],
   "source": [
    "np.random.uniform(-1000, 500, size=(2, 3))"
   ]
  },
  {
   "cell_type": "markdown",
   "id": "581b2010",
   "metadata": {},
   "source": [
    "## ГЕНЕРАЦИЯ INT\n",
    "\n",
    "Не всегда требуется генерировать числа с плавающей точкой. Иногда бывает удобно получить целые числа int (например, для поля игры в лото). Для генерации целых чисел используется функция random.randint:"
   ]
  },
  {
   "cell_type": "code",
   "execution_count": null,
   "id": "3a24d510",
   "metadata": {},
   "outputs": [],
   "source": [
    "randint(low, high=None, size=None, dtype=int)"
   ]
  },
  {
   "cell_type": "markdown",
   "id": "122490e5",
   "metadata": {},
   "source": [
    "Функцию randint нельзя запустить совсем без параметров, необходимо указать хотя бы одно число.\n",
    "\n",
    "* Если указан только аргумент low, числа будут генерироваться от 0 до low-1, то есть верхняя граница не включается.\n",
    "* Если задать low и high, числа будут генерироваться от low (включительно) до high (не включительно).\n",
    "* size задаёт форму массива уже привычным для вас образом: одним числом — для одномерного или кортежем — для многомерного.\n",
    "* dtype позволяет задать конкретный тип данных, который должен быть использован в массиве.\n",
    "\n",
    "Сгенерируем таблицу 2x3 от 0 до 3 включительно:"
   ]
  },
  {
   "cell_type": "code",
   "execution_count": 215,
   "id": "34751698",
   "metadata": {},
   "outputs": [
    {
     "data": {
      "text/plain": [
       "array([[3, 3, 3],\n",
       "       [3, 2, 2]])"
      ]
     },
     "execution_count": 215,
     "metadata": {},
     "output_type": "execute_result"
    }
   ],
   "source": [
    "np.random.randint(4, size=(2, 3))"
   ]
  },
  {
   "cell_type": "markdown",
   "id": "49a3a39f",
   "metadata": {},
   "source": [
    "Чтобы задать и нижнюю, и верхнюю границы самостоятельно, передадим два числа, а затем форму:"
   ]
  },
  {
   "cell_type": "code",
   "execution_count": 219,
   "id": "f61c79be",
   "metadata": {},
   "outputs": [
    {
     "data": {
      "text/plain": [
       "array([[ 8,  8,  8],\n",
       "       [ 6,  8, 11],\n",
       "       [ 7,  9,  9]])"
      ]
     },
     "execution_count": 219,
     "metadata": {},
     "output_type": "execute_result"
    }
   ],
   "source": [
    "np.random.randint(6, 12, size=(3, 3))"
   ]
  },
  {
   "cell_type": "markdown",
   "id": "925ab6a5",
   "metadata": {},
   "source": [
    "Как и ожидалось, мы получили случайные числа от 6 до 11. Число 12 при этом никогда не было бы сгенерировано, так как верхняя граница диапазона не включена в генерацию."
   ]
  },
  {
   "cell_type": "markdown",
   "id": "9b7d8b04",
   "metadata": {},
   "source": [
    "## ГЕНЕРАЦИЯ ВЫБОРОК\n",
    "\n",
    "→ Случайные числа можно использовать и для работы с уже существующими данными. Иногда для проверки гипотез о данных бывает удобно перемешать значения, чтобы проверить, является ли наблюдаемая закономерность случайной.\n",
    "\n",
    "→\n",
    "Просто перемешать все числа в массиве позволяет функция random.shuffle.\n",
    "\n",
    "Вспомните, во многих сервисах для прослушивания музыки есть функция shuffle для перемешивания композиций в плейлисте.\n",
    "\n",
    "Возьмём массив из целых чисел от 0 до 5 и перемешаем его:"
   ]
  },
  {
   "cell_type": "code",
   "execution_count": 221,
   "id": "9bac0297",
   "metadata": {},
   "outputs": [
    {
     "name": "stdout",
     "output_type": "stream",
     "text": [
      "[0 1 2 3 4 5]\n",
      "None\n"
     ]
    },
    {
     "data": {
      "text/plain": [
       "array([4, 5, 3, 2, 0, 1])"
      ]
     },
     "execution_count": 221,
     "metadata": {},
     "output_type": "execute_result"
    }
   ],
   "source": [
    "arr = np.arange(6)\n",
    "print(arr)\n",
    "print(np.random.shuffle(arr))\n",
    "arr"
   ]
  },
  {
   "cell_type": "markdown",
   "id": "3365fe32",
   "metadata": {},
   "source": [
    "Функция random.shuffle перемешивает тот массив, к которому применяется, и возвращает None.\n",
    "\n",
    "→\n",
    "Чтобы получить новый перемешанный массив, а исходный оставить без изменений, можно использовать функцию random.permutation. Она принимает на вход один аргумент — или массив целиком, или одно число:"
   ]
  },
  {
   "cell_type": "code",
   "execution_count": 222,
   "id": "3a753b23",
   "metadata": {},
   "outputs": [
    {
     "name": "stdout",
     "output_type": "stream",
     "text": [
      "['The Beatles' 'Pink Floyd' 'Deep Purple' 'ACDC']\n",
      "['The Beatles', 'Pink Floyd', 'ACDC', 'Deep Purple']\n"
     ]
    }
   ],
   "source": [
    "playlist = ['The Beatles', 'Pink Floyd', 'ACDC', 'Deep Purple']\n",
    "shuffled = np.random.permutation(playlist)\n",
    "print(shuffled)\n",
    "print(playlist)"
   ]
  },
  {
   "cell_type": "markdown",
   "id": "e3a7d038",
   "metadata": {},
   "source": [
    "Обратите внимание, что необязательно передавать в функцию сразу массив: в этот раз мы передали в качестве аргумента список и ошибки не возникло. При этом на выходе получился уже NumPy-массив (это заметно по отсутствию запятых при печати массива). Сам список playlist при этом остался без изменений.\n",
    "\n",
    "Перемешать набор чисел от 0 до n-1 можно с помощью записи np.random.permutation(n), где n — верхняя граница, которая бы использовалась для генерации набора чисел функцией arange."
   ]
  },
  {
   "cell_type": "code",
   "execution_count": 223,
   "id": "37713486",
   "metadata": {},
   "outputs": [
    {
     "data": {
      "text/plain": [
       "array([4, 2, 1, 7, 3, 9, 6, 0, 5, 8])"
      ]
     },
     "execution_count": 223,
     "metadata": {},
     "output_type": "execute_result"
    }
   ],
   "source": []
  },
  {
   "cell_type": "markdown",
   "id": "1302d3e4",
   "metadata": {},
   "source": [
    "По сути, вначале создаётся массив из чисел с помощью arange, а затем он перемешивается. С помощью permutation можно избежать совершения этого дополнительного действия.\n",
    "\n",
    "→\n",
    "Чтобы получить случайный набор объектов из массива, используется функция random.choice:"
   ]
  },
  {
   "cell_type": "code",
   "execution_count": null,
   "id": "c989a834",
   "metadata": {},
   "outputs": [],
   "source": [
    "choice(a, size=None, replace=True)"
   ]
  },
  {
   "cell_type": "markdown",
   "id": "b6dc09a2",
   "metadata": {},
   "source": [
    "* a — одномерный массив или число для генерации arange(a);\n",
    "* size — желаемая форма массива (число для получения одномерного массива, кортеж — для многомерного; если параметр не задан, возвращается один объект);\n",
    "* replace — параметр, задающий, могут ли элементы повторяться (по умолчанию могут).\n",
    "\n",
    "Выберем случайным образом из списка двоих человек, которые должны будут выступить с отчётом на этой неделе. Для этого из списка имён (опять же, можно передавать в функцию choice не NumPy-массив, а список) получим два случайных объекта без повторений (логично, что нужно выбрать двух разных людей). Сделать это можно вот так:"
   ]
  },
  {
   "cell_type": "code",
   "execution_count": 226,
   "id": "d11220f0",
   "metadata": {},
   "outputs": [
    {
     "name": "stdout",
     "output_type": "stream",
     "text": [
      "['Kate' 'Nikita']\n"
     ]
    }
   ],
   "source": [
    "workers = ['Ivan', 'Nikita', 'Maria', 'John', 'Kate']\n",
    "choice = np.random.choice(workers, size=2, replace=False)\n",
    "print(choice)"
   ]
  },
  {
   "cell_type": "markdown",
   "id": "3ee52c31",
   "metadata": {},
   "source": [
    "На выходе получили массив из двух имён без повторений. \n",
    "\n",
    "Если попытаться получить без повторений массив большего размера, чем имеется объектов в исходном, возникнет ошибка:"
   ]
  },
  {
   "cell_type": "code",
   "execution_count": 227,
   "id": "868625a3",
   "metadata": {},
   "outputs": [
    {
     "ename": "ValueError",
     "evalue": "Cannot take a larger sample than population when 'replace=False'",
     "output_type": "error",
     "traceback": [
      "\u001b[1;31m----------------------------------------------------------------\u001b[0m",
      "\u001b[1;31mValueError\u001b[0m                     Traceback (most recent call last)",
      "Input \u001b[1;32mIn [227]\u001b[0m, in \u001b[0;36m<cell line: 2>\u001b[1;34m()\u001b[0m\n\u001b[0;32m      1\u001b[0m workers \u001b[38;5;241m=\u001b[39m [\u001b[38;5;124m'\u001b[39m\u001b[38;5;124mIvan\u001b[39m\u001b[38;5;124m'\u001b[39m, \u001b[38;5;124m'\u001b[39m\u001b[38;5;124mNikita\u001b[39m\u001b[38;5;124m'\u001b[39m, \u001b[38;5;124m'\u001b[39m\u001b[38;5;124mMaria\u001b[39m\u001b[38;5;124m'\u001b[39m, \u001b[38;5;124m'\u001b[39m\u001b[38;5;124mJohn\u001b[39m\u001b[38;5;124m'\u001b[39m, \u001b[38;5;124m'\u001b[39m\u001b[38;5;124mKate\u001b[39m\u001b[38;5;124m'\u001b[39m]\n\u001b[1;32m----> 2\u001b[0m choice \u001b[38;5;241m=\u001b[39m \u001b[43mnp\u001b[49m\u001b[38;5;241;43m.\u001b[39;49m\u001b[43mrandom\u001b[49m\u001b[38;5;241;43m.\u001b[39;49m\u001b[43mchoice\u001b[49m\u001b[43m(\u001b[49m\u001b[43mworkers\u001b[49m\u001b[43m,\u001b[49m\u001b[43m \u001b[49m\u001b[43msize\u001b[49m\u001b[38;5;241;43m=\u001b[39;49m\u001b[38;5;241;43m10\u001b[39;49m\u001b[43m,\u001b[49m\u001b[43m \u001b[49m\u001b[43mreplace\u001b[49m\u001b[38;5;241;43m=\u001b[39;49m\u001b[38;5;28;43;01mFalse\u001b[39;49;00m\u001b[43m)\u001b[49m\n\u001b[0;32m      3\u001b[0m \u001b[38;5;28mprint\u001b[39m(choice)\n",
      "File \u001b[1;32mmtrand.pyx:965\u001b[0m, in \u001b[0;36mnumpy.random.mtrand.RandomState.choice\u001b[1;34m()\u001b[0m\n",
      "\u001b[1;31mValueError\u001b[0m: Cannot take a larger sample than population when 'replace=False'"
     ]
    }
   ],
   "source": [
    "workers = ['Ivan', 'Nikita', 'Maria', 'John', 'Kate']\n",
    "choice = np.random.choice(workers, size=10, replace=False)\n",
    "print(choice)"
   ]
  },
  {
   "cell_type": "markdown",
   "id": "6a2752f9",
   "metadata": {},
   "source": [
    "Выборка с повторениями используется по умолчанию. Она применяется в том случае, когда мы допускаем, что объекты могут повторяться.\n",
    "\n",
    "Например, получим случайную последовательность, которая образуется в результате десяти подбрасываний игральной кости:"
   ]
  },
  {
   "cell_type": "code",
   "execution_count": 228,
   "id": "a6e18eed",
   "metadata": {},
   "outputs": [
    {
     "name": "stdout",
     "output_type": "stream",
     "text": [
      "[5 2 2 6 6 1 3 6 2 5]\n"
     ]
    }
   ],
   "source": [
    "choice = np.random.choice([1, 2, 3, 4, 5, 6], size=10)\n",
    "print(choice)"
   ]
  },
  {
   "cell_type": "markdown",
   "id": "da2296ca",
   "metadata": {},
   "source": [
    "## SEED ГЕНЕРАТОРА ПСЕВДОСЛУЧАЙНЫХ ЧИСЕЛ\n",
    "\n",
    "→ Как уже было сказано ранее, NumPy генерирует не истинные случайные числа (такие числа получаются в результате случайных процессов), а псевдослучайные, которые получаются с помощью особых преобразований какого-либо исходного числа. Обычно компьютер берёт это число автоматически, например, из текущего времени в микросекундах (на самом деле используются другие ещё менее предсказуемые числа). Такое число называют seed (от англ. — «зерно»).\n",
    "\n",
    "Иногда бывает необходимо получать одинаковые воспроизводимые последовательности случайных чисел, например чтобы проверить результаты вычислений, для которых использовались случайные числа, на предмет ошибок.\n",
    "\n",
    "Самостоятельно задать seed в NumPy можно с помощью функции np.random.seed(<np.uint32>). Число в скобках должно быть в пределах от 0 до 2 ** 32 - 1 (=4294967295).\n",
    "\n",
    "Зададим seed и посмотрим, что получится:"
   ]
  },
  {
   "cell_type": "code",
   "execution_count": 244,
   "id": "bffc2d6a",
   "metadata": {},
   "outputs": [
    {
     "data": {
      "text/plain": [
       "array([[4, 0, 9, 6],\n",
       "       [2, 4, 1, 5],\n",
       "       [3, 4, 4, 3]])"
      ]
     },
     "execution_count": 244,
     "metadata": {},
     "output_type": "execute_result"
    }
   ],
   "source": [
    "#np.random.seed(23)\n",
    "np.random.randint(10, size=(3,4))"
   ]
  },
  {
   "cell_type": "code",
   "execution_count": 245,
   "id": "81acaebf",
   "metadata": {},
   "outputs": [
    {
     "name": "stdout",
     "output_type": "stream",
     "text": [
      "[7 1 1]\n",
      "[7 7 0]\n",
      "[2 9 9]\n"
     ]
    }
   ],
   "source": [
    "#np.random.seed(100)\n",
    "print(np.random.randint(10, size=3))\n",
    "print(np.random.randint(10, size=3))\n",
    "print(np.random.randint(10, size=3))"
   ]
  },
  {
   "cell_type": "markdown",
   "id": "96990e3f",
   "metadata": {},
   "source": [
    "При этом запуск одной и той же функции генерации случайных чисел несколько  раз после задания seed не приводит к генерации одних и тех же чисел. Однако итоговый результат работы всегда будет одинаковый в совокупности."
   ]
  },
  {
   "cell_type": "markdown",
   "id": "73125a79",
   "metadata": {},
   "source": [
    "## ЗАДАНИЕ 10.6\n",
    "\n",
    "Напишите функцию get_chess, которая принимает на вход длину стороны квадрата a и возвращает двумерный массив формы (a, a), заполненный 0 и 1 в шахматном порядке. В левом верхнем углу всегда должен быть ноль.\n",
    "\n",
    "Примечание: воспользуйтесь функцией zeros из библиотеки numpy, а затем с помощью срезов без циклов задайте необходимым элементам значение 1.\n",
    "\n",
    "Напоминание: в Python для получения каждого второго элемента используется срез [::2]. Подумайте, как грамотно применить этот принцип к двумерному массиву."
   ]
  },
  {
   "cell_type": "code",
   "execution_count": 251,
   "id": "dcff79a5",
   "metadata": {},
   "outputs": [
    {
     "data": {
      "text/plain": [
       "array([[0., 1., 0., 1.],\n",
       "       [1., 0., 1., 0.],\n",
       "       [0., 1., 0., 1.],\n",
       "       [1., 0., 1., 0.]])"
      ]
     },
     "execution_count": 251,
     "metadata": {},
     "output_type": "execute_result"
    }
   ],
   "source": [
    "import numpy as np\n",
    "def get_chess(a):\n",
    "    mass = np.zeros((a, a))\n",
    "    mass[1::2, ::2] = 1\n",
    "    mass[::2, 1::2] = 1\n",
    "    return mass\n",
    "\n",
    "get_chess(4)\n",
    "    "
   ]
  },
  {
   "cell_type": "markdown",
   "id": "e8747415",
   "metadata": {},
   "source": [
    "## ЗАДАНИЕ 10.7\n",
    "\n",
    "Вы разрабатываете приложение для прослушивания музыки. Конечно же, там будет доступна функция перемешивания плейлиста. Пользователю может настолько понравиться перемешанная версия плейлиста, что он захочет сохранить его копию. Однако вы не хотите хранить в памяти новую версию плейлиста, а просто хотите сохранять тот seed, с которым он был сгенерирован.\n",
    "\n",
    "Для этого напишите функцию shuffle_seed(<array>),  которая принимает на вход массив из чисел, генерирует случайное число для seed в диапазоне от 0 до 2**32 - 1 (включительно) и возвращает кортеж: перемешанный с данным seed массив (исходный массив должен оставаться без изменений), а также seed, с которым этот массив был получен."
   ]
  },
  {
   "cell_type": "code",
   "execution_count": 263,
   "id": "7bca4501",
   "metadata": {},
   "outputs": [
    {
     "ename": "ValueError",
     "evalue": "high is out of bounds for int32",
     "output_type": "error",
     "traceback": [
      "\u001b[1;31m----------------------------------------------------------------\u001b[0m",
      "\u001b[1;31mValueError\u001b[0m                     Traceback (most recent call last)",
      "Input \u001b[1;32mIn [263]\u001b[0m, in \u001b[0;36m<cell line: 9>\u001b[1;34m()\u001b[0m\n\u001b[0;32m      6\u001b[0m     \u001b[38;5;28;01mreturn\u001b[39;00m result, seed\n\u001b[0;32m      8\u001b[0m array \u001b[38;5;241m=\u001b[39m [\u001b[38;5;241m1\u001b[39m, \u001b[38;5;241m2\u001b[39m, \u001b[38;5;241m3\u001b[39m, \u001b[38;5;241m4\u001b[39m, \u001b[38;5;241m5\u001b[39m]\n\u001b[1;32m----> 9\u001b[0m \u001b[43mshuffle_seed\u001b[49m\u001b[43m(\u001b[49m\u001b[43marray\u001b[49m\u001b[43m)\u001b[49m\n",
      "Input \u001b[1;32mIn [263]\u001b[0m, in \u001b[0;36mshuffle_seed\u001b[1;34m(array)\u001b[0m\n\u001b[0;32m      2\u001b[0m \u001b[38;5;28;01mdef\u001b[39;00m \u001b[38;5;21mshuffle_seed\u001b[39m(array):\n\u001b[1;32m----> 3\u001b[0m     seed \u001b[38;5;241m=\u001b[39m \u001b[43mnp\u001b[49m\u001b[38;5;241;43m.\u001b[39;49m\u001b[43mrandom\u001b[49m\u001b[38;5;241;43m.\u001b[39;49m\u001b[43mrandint\u001b[49m\u001b[43m(\u001b[49m\u001b[38;5;241;43m2\u001b[39;49m\u001b[43m \u001b[49m\u001b[38;5;241;43m*\u001b[39;49m\u001b[38;5;241;43m*\u001b[39;49m\u001b[43m \u001b[49m\u001b[38;5;241;43m32\u001b[39;49m\u001b[43m)\u001b[49m\n\u001b[0;32m      4\u001b[0m     np\u001b[38;5;241m.\u001b[39mrandom\u001b[38;5;241m.\u001b[39mseed(seed)\n\u001b[0;32m      5\u001b[0m     result \u001b[38;5;241m=\u001b[39m np\u001b[38;5;241m.\u001b[39mrandom\u001b[38;5;241m.\u001b[39mpermutation(array)\n",
      "File \u001b[1;32mmtrand.pyx:746\u001b[0m, in \u001b[0;36mnumpy.random.mtrand.RandomState.randint\u001b[1;34m()\u001b[0m\n",
      "File \u001b[1;32m_bounded_integers.pyx:1336\u001b[0m, in \u001b[0;36mnumpy.random._bounded_integers._rand_int32\u001b[1;34m()\u001b[0m\n",
      "\u001b[1;31mValueError\u001b[0m: high is out of bounds for int32"
     ]
    }
   ],
   "source": [
    "import numpy as np\n",
    "def shuffle_seed(array):\n",
    "    seed = np.random.randint(2 ** 32)\n",
    "    np.random.seed(seed)\n",
    "    result = np.random.permutation(array)\n",
    "    return result, seed\n",
    "\n",
    "array = [1, 2, 3, 4, 5]\n",
    "shuffle_seed(array)"
   ]
  },
  {
   "cell_type": "markdown",
   "id": "3d460c33",
   "metadata": {},
   "source": [
    "## ЗАДАНИЕ 10.8\n",
    "\n",
    "Напишите функцию min_max_dist, которая принимает на вход неограниченное число векторов через запятую. Гарантируется, что все векторы, которые передаются, одинаковой длины.\n",
    "\n",
    "Функция возвращает минимальное и максимальное расстояние между векторами в виде кортежа."
   ]
  },
  {
   "cell_type": "code",
   "execution_count": 265,
   "id": "dc86e044",
   "metadata": {},
   "outputs": [
    {
     "data": {
      "text/plain": [
       "(5.196152422706632, 10.392304845413264)"
      ]
     },
     "execution_count": 265,
     "metadata": {},
     "output_type": "execute_result"
    }
   ],
   "source": [
    "import numpy as np\n",
    "\n",
    "def min_max_dist(*vectors):\n",
    "    dists = list()\n",
    "    for i in range(len(vectors)):\n",
    "        for j in range (i + 1, len(vectors)):\n",
    "            dists.append(np.linalg.norm(vectors[i] - vectors[j]))\n",
    "    return min(dists), max(dists)\n",
    "\n",
    "vec1 = np.array([1,2,3])\n",
    "vec2 = np.array([4,5,6])\n",
    "vec3 = np.array([7, 8, 9])\n",
    " \n",
    "min_max_dist(vec1, vec2, vec3)"
   ]
  },
  {
   "cell_type": "markdown",
   "id": "9d410073",
   "metadata": {},
   "source": [
    "## ЗАДАНИЕ 10.9\n",
    "\n",
    "Напишите функцию any_normal, которая принимает на вход неограниченное число векторов через запятую. Гарантируется, что все векторы, которые передаются, одинаковой длины.\n",
    "\n",
    "Функция возвращает True, если есть хотя бы одна пара перпендикулярных векторов. Иначе возвращает False."
   ]
  },
  {
   "cell_type": "code",
   "execution_count": 267,
   "id": "84bcb6d2",
   "metadata": {},
   "outputs": [
    {
     "name": "stdout",
     "output_type": "stream",
     "text": [
      "True\n"
     ]
    }
   ],
   "source": [
    "import numpy as np\n",
    "\n",
    "def any_normal(*vectors):\n",
    "    for i in range(len(vectors)):\n",
    "        for j in range(i + 1, len(vectors)):\n",
    "            if np.dot(vectors[i], vectors[j]) == 0:\n",
    "                return True\n",
    "            else:\n",
    "                return False\n",
    "            \n",
    "vec1 = np.array([2, 1])\n",
    "vec2 = np.array([-1, 2])\n",
    "vec3 = np.array([3,4])\n",
    "print(any_normal(vec1, vec2, vec3))"
   ]
  },
  {
   "cell_type": "markdown",
   "id": "bc905dea",
   "metadata": {},
   "source": [
    "## ЗАДАНИЕ 10.10\n",
    "\n",
    "Напишите функцию get_loto(num), генерирующую трёхмерный массив случайных целых чисел от 1 до 100 (включительно). Это поля для игры в лото.\n",
    "\n",
    "Трёхмерный массив должен состоять из таблиц чисел формы 5х5, то есть итоговая форма — (num, 5, 5).\n",
    "\n",
    "Функция возвращает полученный массив."
   ]
  },
  {
   "cell_type": "code",
   "execution_count": 268,
   "id": "3813c34b",
   "metadata": {},
   "outputs": [
    {
     "data": {
      "text/plain": [
       "array([[[39, 65, 67, 72, 18],\n",
       "        [73, 63, 45, 29, 20],\n",
       "        [36, 83, 13, 11, 13],\n",
       "        [ 5, 50, 27, 43, 36],\n",
       "        [80,  5, 24, 59, 21]],\n",
       "\n",
       "       [[26, 83, 29,  5, 95],\n",
       "        [63, 69, 33, 68, 13],\n",
       "        [73, 27, 70, 60, 49],\n",
       "        [42, 97, 96, 52, 23],\n",
       "        [30, 34, 53, 56, 19]],\n",
       "\n",
       "       [[ 8, 91,  3,  8, 14],\n",
       "        [94, 85, 93,  1, 35],\n",
       "        [48, 41, 13, 76, 31],\n",
       "        [10, 41, 48, 21, 85],\n",
       "        [58,  7, 55, 52, 48]]])"
      ]
     },
     "execution_count": 268,
     "metadata": {},
     "output_type": "execute_result"
    }
   ],
   "source": [
    "import numpy as np\n",
    "\n",
    "def get_loto(num):\n",
    "    arr = np.random.randint(1, 101, size=(num, 5, 5))\n",
    "    return arr\n",
    "\n",
    "get_loto(3)"
   ]
  },
  {
   "cell_type": "markdown",
   "id": "f1d7f582",
   "metadata": {},
   "source": [
    "## ЗАДАНИЕ 10.11\n",
    "\n",
    "Напишите функцию get_unique_loto(num). Она так же, как и функция в задании 10.10, генерирует num полей для игры в лото, однако теперь на каждом поле 5х5 числа не могут повторяться.\n",
    "\n",
    "Функция также должна возвращать массив формы num x 5 x 5."
   ]
  },
  {
   "cell_type": "code",
   "execution_count": 270,
   "id": "dedc71d6",
   "metadata": {},
   "outputs": [],
   "source": [
    "import numpy as np\n",
    "\n",
    "def get_unique_loto(num):\n",
    "    sample = np.arange(1, 101)\n",
    "    res = list()\n",
    "    for i in range(num):\n",
    "        res.append(np.random.choice(sample, replace=False, size=(5, 5)))              \n",
    "    res = np.array(res)\n",
    "    return res\n",
    "\n"
   ]
  },
  {
   "cell_type": "code",
   "execution_count": null,
   "id": "be2a67bd",
   "metadata": {},
   "outputs": [],
   "source": []
  }
 ],
 "metadata": {
  "kernelspec": {
   "display_name": "Python 3 (ipykernel)",
   "language": "python",
   "name": "python3"
  },
  "language_info": {
   "codemirror_mode": {
    "name": "ipython",
    "version": 3
   },
   "file_extension": ".py",
   "mimetype": "text/x-python",
   "name": "python",
   "nbconvert_exporter": "python",
   "pygments_lexer": "ipython3",
   "version": "3.10.6"
  }
 },
 "nbformat": 4,
 "nbformat_minor": 5
}
