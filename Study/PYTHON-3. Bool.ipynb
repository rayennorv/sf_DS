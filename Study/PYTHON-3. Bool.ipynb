{
 "cells": [
  {
   "cell_type": "code",
   "execution_count": 4,
   "id": "6ea3fdd4",
   "metadata": {},
   "outputs": [
    {
     "name": "stdout",
     "output_type": "stream",
     "text": [
      "Enter Year 2000\n",
      "True\n"
     ]
    }
   ],
   "source": [
    "def is_leap_year(x):\n",
    "    if x % 4 == 0 and x % 100 != 0 or x % 400 == 0:\n",
    "        return True\n",
    "    else:\n",
    "        return False\n",
    "x = int(input('Enter Year '))\n",
    "print(is_leap_year(x))"
   ]
  },
  {
   "cell_type": "code",
   "execution_count": 5,
   "id": "14d1862c",
   "metadata": {},
   "outputs": [
    {
     "name": "stdout",
     "output_type": "stream",
     "text": [
      "False\n"
     ]
    }
   ],
   "source": [
    "string_1 = 'abc'\n",
    "string_2 = 'ABC'\n",
    "print(string_1 == string_2)"
   ]
  },
  {
   "cell_type": "code",
   "execution_count": 6,
   "id": "8be10324",
   "metadata": {},
   "outputs": [
    {
     "name": "stdout",
     "output_type": "stream",
     "text": [
      "True\n"
     ]
    }
   ],
   "source": [
    "x = 10\n",
    "y = 100\n",
    "z = (x % 2 == 0) & (y >= 100)\n",
    "print(z)"
   ]
  },
  {
   "cell_type": "code",
   "execution_count": 11,
   "id": "a624ee6c",
   "metadata": {},
   "outputs": [
    {
     "data": {
      "text/plain": [
       "True"
      ]
     },
     "execution_count": 11,
     "metadata": {},
     "output_type": "execute_result"
    }
   ],
   "source": [
    "#Дано n-значное целое число N. Определите, входят ли в него цифры 3 и 7.\n",
    "\n",
    "N = 1237\n",
    "'3' in str(N) and '7' in str(N)"
   ]
  },
  {
   "cell_type": "code",
   "execution_count": 12,
   "id": "78bec741",
   "metadata": {},
   "outputs": [
    {
     "name": "stdout",
     "output_type": "stream",
     "text": [
      "False\n"
     ]
    }
   ],
   "source": [
    "#Дано n-значное целое число N. Определите, начинается ли оно с четной цифры.\n",
    "#Напишите соответствующее выражение для проверки.\n",
    "\n",
    "N = 123\n",
    "N_str = str(N)\n",
    "first_digit = int(N_str[0])\n",
    "print(first_digit % 2 == 0)"
   ]
  },
  {
   "cell_type": "code",
   "execution_count": 13,
   "id": "d711d385",
   "metadata": {},
   "outputs": [
    {
     "name": "stdout",
     "output_type": "stream",
     "text": [
      "True\n"
     ]
    }
   ],
   "source": [
    "list_1 = [1,2]\n",
    "list_2 = [1,2,3]\n",
    "val = list_2.pop()\n",
    "print(list_1 == list_2)"
   ]
  },
  {
   "cell_type": "code",
   "execution_count": 15,
   "id": "da6483fa",
   "metadata": {},
   "outputs": [
    {
     "name": "stdout",
     "output_type": "stream",
     "text": [
      "False\n"
     ]
    }
   ],
   "source": [
    "list_1 = [1,2]\n",
    "list_2 = [1,2,3]\n",
    "val = list_2.pop()\n",
    "print(id(list_1) == id(list_2))"
   ]
  },
  {
   "cell_type": "code",
   "execution_count": 32,
   "id": "854d0bc6",
   "metadata": {},
   "outputs": [
    {
     "name": "stdout",
     "output_type": "stream",
     "text": [
      "a=F( 16 )\n"
     ]
    }
   ],
   "source": [
    "a = 7\n",
    "b = 9+a\n",
    "print(\"a=F(\",b,\")\")"
   ]
  },
  {
   "cell_type": "code",
   "execution_count": 22,
   "id": "9d91098a",
   "metadata": {},
   "outputs": [
    {
     "name": "stdout",
     "output_type": "stream",
     "text": [
      "b = 30\n"
     ]
    }
   ],
   "source": [
    "a = 16\n",
    "b = 14 + a\n",
    "print('b =',b)"
   ]
  },
  {
   "cell_type": "code",
   "execution_count": 25,
   "id": "4476e730",
   "metadata": {},
   "outputs": [
    {
     "name": "stdout",
     "output_type": "stream",
     "text": [
      "3\n"
     ]
    }
   ],
   "source": [
    "a = 11\n",
    "if a < 6:\n",
    "    a = a + 13\n",
    "else:\n",
    "    a = a - 8\n",
    "print(a)"
   ]
  },
  {
   "cell_type": "code",
   "execution_count": 26,
   "id": "8adb6e4a",
   "metadata": {},
   "outputs": [
    {
     "name": "stdout",
     "output_type": "stream",
     "text": [
      "3\n"
     ]
    }
   ],
   "source": [
    "a = 10\n",
    "if a < 5:\n",
    "    a = a + 12\n",
    "else:\n",
    "    a = a - 7\n",
    "print(a)"
   ]
  },
  {
   "cell_type": "code",
   "execution_count": 27,
   "id": "2788506d",
   "metadata": {},
   "outputs": [
    {
     "name": "stdout",
     "output_type": "stream",
     "text": [
      "24\n"
     ]
    }
   ],
   "source": [
    "a = 11\n",
    "if a > 6:\n",
    "    a = a + 13\n",
    "else:\n",
    "    a = a - 8\n",
    "print(a)"
   ]
  },
  {
   "cell_type": "code",
   "execution_count": 28,
   "id": "fe520b0d",
   "metadata": {},
   "outputs": [
    {
     "name": "stdout",
     "output_type": "stream",
     "text": [
      "10\n"
     ]
    }
   ],
   "source": [
    "a = 15\n",
    "if a > 5:\n",
    "    a = 10\n",
    "print(a)"
   ]
  },
  {
   "cell_type": "code",
   "execution_count": 30,
   "id": "ec5b65eb",
   "metadata": {},
   "outputs": [
    {
     "name": "stdout",
     "output_type": "stream",
     "text": [
      "5\n"
     ]
    }
   ],
   "source": [
    "a = -3\n",
    "if a < 5:\n",
    "    a = 5\n",
    "print(a)"
   ]
  },
  {
   "cell_type": "code",
   "execution_count": 31,
   "id": "49427658",
   "metadata": {},
   "outputs": [
    {
     "name": "stdout",
     "output_type": "stream",
     "text": [
      "7\n"
     ]
    }
   ],
   "source": [
    "a = 15\n",
    "if a > 5:\n",
    "    a = 5\n",
    "a = a + 2\n",
    "print(a)"
   ]
  },
  {
   "cell_type": "code",
   "execution_count": 33,
   "id": "724123b7",
   "metadata": {},
   "outputs": [
    {
     "name": "stdout",
     "output_type": "stream",
     "text": [
      "15\n"
     ]
    }
   ],
   "source": [
    "s = 5\n",
    "a = 10\n",
    "if a > 0:\n",
    "    s = s + a\n",
    "else:\n",
    "    s = s - a\n",
    "print(s)"
   ]
  },
  {
   "cell_type": "code",
   "execution_count": 36,
   "id": "4cce1d7d",
   "metadata": {},
   "outputs": [
    {
     "name": "stdout",
     "output_type": "stream",
     "text": [
      "-5\n",
      "0\n"
     ]
    }
   ],
   "source": [
    "mx = 0\n",
    "s = 0\n",
    "x = -5\n",
    "if x < 0:\n",
    "    s = x\n",
    "if x > mx:\n",
    "    mx = x\n",
    "print(s)\n",
    "print(mx)"
   ]
  },
  {
   "cell_type": "code",
   "execution_count": 38,
   "id": "6e021f2f",
   "metadata": {},
   "outputs": [],
   "source": [
    "#проверить, можно ли делить и является ли делитель нулем, то проверку в явном\n",
    "#виде zero !=0 делать излишне.\n",
    "\n",
    "#if zero:\n",
    "    #print(10/zero)\n",
    "#else:\n",
    "    #print(\"You can't devide by zero\")"
   ]
  },
  {
   "cell_type": "code",
   "execution_count": 41,
   "id": "efa036d8",
   "metadata": {},
   "outputs": [],
   "source": [
    "#Если нужно проверить, пустая строка или нет, то:\n",
    "\n",
    "#if not password:\n",
    "   # print('You forgot to enter a password')\n",
    "#else:\n",
    "    #..."
   ]
  },
  {
   "cell_type": "code",
   "execution_count": 44,
   "id": "c5e88a46",
   "metadata": {},
   "outputs": [
    {
     "name": "stdout",
     "output_type": "stream",
     "text": [
      "Enter a number1\n",
      "1\n",
      "You entered a right number\n",
      "You finally entered a right number\n",
      "Exit\n"
     ]
    }
   ],
   "source": [
    "#Создайте скрипт, который будет принимать строки в input(). \n",
    "#Строки необходимо конвертировать в числа (добавьте для этого try-except).\n",
    "\n",
    "try:\n",
    "    str_1 = str(input('Enter a number'))\n",
    "    int_1 = int(str_1)\n",
    "    print(int_1)\n",
    "except ValueError as e:\n",
    "    print('You entered a wrong number')\n",
    "else:\n",
    "    print('You entered a right number')\n",
    "finally:\n",
    "    print('Exit')"
   ]
  },
  {
   "cell_type": "code",
   "execution_count": null,
   "id": "cd384464",
   "metadata": {},
   "outputs": [],
   "source": []
  }
 ],
 "metadata": {
  "kernelspec": {
   "display_name": "Python 3 (ipykernel)",
   "language": "python",
   "name": "python3"
  },
  "language_info": {
   "codemirror_mode": {
    "name": "ipython",
    "version": 3
   },
   "file_extension": ".py",
   "mimetype": "text/x-python",
   "name": "python",
   "nbconvert_exporter": "python",
   "pygments_lexer": "ipython3",
   "version": "3.9.12"
  }
 },
 "nbformat": 4,
 "nbformat_minor": 5
}
