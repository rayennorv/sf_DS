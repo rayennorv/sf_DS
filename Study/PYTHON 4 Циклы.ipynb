{
 "cells": [
  {
   "cell_type": "code",
   "execution_count": 1,
   "id": "b860c5f0",
   "metadata": {},
   "outputs": [
    {
     "name": "stdout",
     "output_type": "stream",
     "text": [
      "Current income 120\n",
      "Current S 0\n",
      "New S 120\n",
      "\n",
      "Current income 38.5\n",
      "Current S 120\n",
      "New S 158.5\n",
      "\n",
      "Current income 40.5\n",
      "Current S 158.5\n",
      "New S 199.0\n",
      "\n",
      "Current income 80\n",
      "Current S 199.0\n",
      "New S 279.0\n",
      "\n",
      "Answer: s =  279.0\n"
     ]
    }
   ],
   "source": [
    "incomes = [120, 38.5, 40.5, 80]\n",
    "S = 0\n",
    "for income in incomes:\n",
    "    print('Current income', income)\n",
    "    print(\"Current S\", S)\n",
    "    S += income\n",
    "    print('New S', S)\n",
    "    print()\n",
    "print('Answer: s = ', S)"
   ]
  },
  {
   "cell_type": "code",
   "execution_count": 2,
   "id": "a975c403",
   "metadata": {},
   "outputs": [
    {
     "name": "stdout",
     "output_type": "stream",
     "text": [
      "Current e 98\n",
      "Current P 1\n",
      "New P 98\n",
      "\n",
      "Current e 24\n",
      "Current P 98\n",
      "New P 2352\n",
      "\n",
      "Current e 23\n",
      "Current P 2352\n",
      "New P 54096\n",
      "\n",
      "Current e 12\n",
      "Current P 54096\n",
      "New P 649152\n",
      "\n",
      "Current e 3\n",
      "Current P 649152\n",
      "New P 1947456\n",
      "\n",
      "Answer: P=  1947456\n"
     ]
    }
   ],
   "source": [
    "lst = [98,24,23,12,3]\n",
    "P = 1\n",
    "for e in lst:\n",
    "    print('Current e', e)\n",
    "    print('Current P', P)\n",
    "    P *= e\n",
    "    print('New P', P)\n",
    "    print()\n",
    "print('Answer: P= ',P)"
   ]
  },
  {
   "cell_type": "code",
   "execution_count": 3,
   "id": "b57d55b0",
   "metadata": {},
   "outputs": [
    {
     "name": "stdout",
     "output_type": "stream",
     "text": [
      "Current S:  0\n",
      "Current number:  1\n",
      "Sum after addition:  1\n",
      "---\n",
      "Current S:  1\n",
      "Current number:  2\n",
      "Sum after addition:  3\n",
      "---\n",
      "Current S:  3\n",
      "Current number:  3\n",
      "Sum after addition:  6\n",
      "---\n",
      "Current S:  6\n",
      "Current number:  4\n",
      "Sum after addition:  10\n",
      "---\n",
      "Current S:  10\n",
      "Current number:  5\n",
      "Sum after addition:  15\n",
      "---\n",
      "Answer is: sum =  15\n"
     ]
    }
   ],
   "source": [
    "# Найти сумму всех натуральных чисел от 1 до N включительно.\n",
    "\n",
    "S = 0\n",
    "N = 5\n",
    "for i in range(1,N+1): #равносильно выражению for i in [1,2,3,...,N-1,N]\n",
    "    print('Current S: ', S)\n",
    "    print('Current number: ', i)\n",
    "    S += i\n",
    "    print('Sum after addition: ', S)\n",
    "    print('---')\n",
    "print('Answer is: sum = ', S)"
   ]
  },
  {
   "cell_type": "code",
   "execution_count": 5,
   "id": "b4af1d4a",
   "metadata": {},
   "outputs": [
    {
     "name": "stdout",
     "output_type": "stream",
     "text": [
      "Current P  1\n",
      "Current N  5\n",
      "New P  5\n",
      "---\n",
      "Current P  5\n",
      "Current N  5\n",
      "New P  25\n",
      "---\n",
      "Current P  25\n",
      "Current N  5\n",
      "New P  125\n",
      "---\n",
      "Current P  125\n",
      "Current N  5\n",
      "New P  625\n",
      "---\n",
      "Current P  625\n",
      "Current N  5\n",
      "New P  3125\n",
      "---\n",
      "Answer: P=  3125\n"
     ]
    }
   ],
   "source": [
    "P = 1\n",
    "N = 5\n",
    "for i in range(1,N+1):\n",
    "    print('Current P ',P)\n",
    "    print('Current N ',N)\n",
    "    P *= N\n",
    "    print('New P ',P)\n",
    "    print('---')\n",
    "print('Answer: P= ',P)"
   ]
  },
  {
   "cell_type": "code",
   "execution_count": 6,
   "id": "df0ad568",
   "metadata": {},
   "outputs": [
    {
     "name": "stdout",
     "output_type": "stream",
     "text": [
      "*\n",
      "**\n",
      "***\n",
      "****\n",
      "*****\n"
     ]
    }
   ],
   "source": [
    "N = 5\n",
    "for i in range(1,N+1):\n",
    "    print('*'*i)"
   ]
  },
  {
   "cell_type": "code",
   "execution_count": 11,
   "id": "e71712bd",
   "metadata": {},
   "outputs": [
    {
     "name": "stdout",
     "output_type": "stream",
     "text": [
      "Product 1, weight: 10 - passenger car\n",
      "Product 2, weight: 42.4 - passenger car\n",
      "Product 3, weight: 240.1 - truck\n",
      "Product 4, weight: 101.5 - truck\n",
      "Product 5, weight: 98 - passenger car\n",
      "Product 6, weight: 0.4 - passenger car\n",
      "Product 7, weight: 0.3 - passenger car\n",
      "Product 8, weight: 15 - passenger car\n"
     ]
    }
   ],
   "source": [
    "#Согласно нашим данным, товары, которые весят больше 100 килограммов, \n",
    "#необходимо перевозить на грузовой машине, а товары меньшей массы можно \n",
    "#перевести на легковой.\n",
    "\n",
    "#Необходимо написать алгоритм, который распределял бы товары по типам машин.\n",
    "\n",
    "weight_of_products = [10,42.4,240.1,101.5,98,0.4,0.3,15]\n",
    "max_weight = 100 #задаем максимальное значение груза\n",
    "num = 1 #задаем начальный номер груза\n",
    "for weight in weight_of_products:\n",
    "    if weight < max_weight:\n",
    "        print(f'Product {num}, weight: {weight} - passenger car')\n",
    "    else:\n",
    "        print(f'Product {num}, weight: {weight} - truck')\n",
    "    num += 1 "
   ]
  },
  {
   "cell_type": "code",
   "execution_count": 12,
   "id": "166589d8",
   "metadata": {},
   "outputs": [
    {
     "name": "stdout",
     "output_type": "stream",
     "text": [
      "Product 1, weight: 10 - passenger car\n",
      "Product 2, weight: 42.4 - passenger car\n",
      "Product 3, weight: 240.1 - truck\n",
      "Product 4, weight: 101.5 - truck\n",
      "Product 5, weight: 98 - passenger car\n",
      "Product 6, weight: 0.4 - passenger car\n",
      "Product 7, weight: 0.3 - passenger car\n",
      "Product 8, weight: 15 - passenger car\n"
     ]
    }
   ],
   "source": [
    "weight_of_products = [10,42.4,240.1,101.5,98,0.4,0.3,15]\n",
    "max_weight = 100 #задаем максимальное значение груза\n",
    "N = len(weight_of_products) #вычисляем длину списка\n",
    "for i in range(N):\n",
    "    if weight_of_products[i] < max_weight:\n",
    "        print(f'Product {i+1}, weight: {weight_of_products[i]} - passenger car')\n",
    "    else:\n",
    "        print(f'Product {i+1}, weight: {weight_of_products[i]} - truck') "
   ]
  },
  {
   "cell_type": "code",
   "execution_count": 13,
   "id": "d997ccc6",
   "metadata": {},
   "outputs": [
    {
     "name": "stdout",
     "output_type": "stream",
     "text": [
      "['Red Square', 'Swallow Nest', 'Unavailable', 'Unavailable', 'Unavailable', 'Hermitage']\n"
     ]
    }
   ],
   "source": [
    "#Мы разрабатываем новый функционал приложения для туристического агентства \n",
    "#«Ковёр-самолёт». В нашем распоряжении есть список мест places, \n",
    "#которые пользователь хотел бы посетить.\n",
    "#Также есть словарь location, ключи которого — места, \n",
    "#которые пользователь хочет посетить, а значения — названия стран, \n",
    "#где находятся эти места.\n",
    "#По эпидемиологическим причинам пользователь не может посетить места, \n",
    "#которые находятся вне территории России. \n",
    "#Наша задача — заменить заграничные места в списке places \n",
    "#на значение 'Unavailable'.\n",
    "\n",
    "places = [\n",
    "    'Red Square',\n",
    "    'Swallow Nest',\n",
    "    'Niagara Falls',\n",
    "    'Grand Canyon',\n",
    "    'Louvre',\n",
    "    'Hermitage'\n",
    "] \n",
    "location = {\n",
    "    'Red Square': 'Russia',\n",
    "    'Swallow Nest': 'Russia',\n",
    "    'Niagara Falls': 'USA',\n",
    "    'Grand Canyon': 'USA',\n",
    "    'Louvre': 'France',\n",
    "    'Hermitage': 'Russia'\n",
    "}\n",
    "N = len(places)\n",
    "for i in range(N):\n",
    "    country = location[places[i]]\n",
    "    if country != 'Russia':\n",
    "        places[i] = 'Unavailable'\n",
    "print(places)"
   ]
  },
  {
   "cell_type": "code",
   "execution_count": 15,
   "id": "4e984b91",
   "metadata": {},
   "outputs": [
    {
     "name": "stdout",
     "output_type": "stream",
     "text": [
      "[0, 1, 4, 9, 16, 25, 36, 49, 64, 81]\n"
     ]
    }
   ],
   "source": [
    "my_list = []\n",
    "for number in range(0,10):\n",
    "    my_list.append(number**2)\n",
    "print(my_list)"
   ]
  },
  {
   "cell_type": "code",
   "execution_count": 20,
   "id": "14e8974c",
   "metadata": {},
   "outputs": [
    {
     "name": "stdout",
     "output_type": "stream",
     "text": [
      "My name is Darya\n"
     ]
    }
   ],
   "source": [
    "word_list = ['My', 'name', 'is', 'Darya']\n",
    "for i in word_list:\n",
    "    word = ' '.join(word_list)\n",
    "print(word)"
   ]
  },
  {
   "cell_type": "code",
   "execution_count": 25,
   "id": "2b18a0a2",
   "metadata": {},
   "outputs": [
    {
     "name": "stdout",
     "output_type": "stream",
     "text": [
      " My name is Darya\n"
     ]
    }
   ],
   "source": [
    "word_list = ['My', 'name', 'is', 'Darya']\n",
    "sentence = ''\n",
    "for i in word_list:\n",
    "    sentence = sentence + ' ' + i\n",
    "print(sentence)"
   ]
  },
  {
   "cell_type": "code",
   "execution_count": 35,
   "id": "7fcf8f1a",
   "metadata": {},
   "outputs": [
    {
     "name": "stdout",
     "output_type": "stream",
     "text": [
      "[-5, 1, 3, 10]\n"
     ]
    }
   ],
   "source": [
    "num_list = [1,10,3,-5]\n",
    "for i in num_list:\n",
    "    num_list.sort()\n",
    "print(num_list)"
   ]
  },
  {
   "cell_type": "code",
   "execution_count": 49,
   "id": "fed5b817",
   "metadata": {},
   "outputs": [
    {
     "name": "stdout",
     "output_type": "stream",
     "text": [
      "17\n"
     ]
    }
   ],
   "source": [
    "#посчитайте количество чётных элементов в списке\n",
    "\n",
    "my_list = list(range(0,100,3))\n",
    "count = 0\n",
    "for i in my_list:\n",
    "    if i % 2 == 0:\n",
    "        count += 1\n",
    "print(count)"
   ]
  },
  {
   "cell_type": "code",
   "execution_count": 57,
   "id": "ba87e9df",
   "metadata": {},
   "outputs": [
    {
     "name": "stdout",
     "output_type": "stream",
     "text": [
      "3\n"
     ]
    }
   ],
   "source": [
    "#посчитайте количество элементов типа str в списке\n",
    "\n",
    "my_list = [True, 1, -10, 'hello', \n",
    "            False, 'string_1', \n",
    "            123, 2.5, [1, 2], 'another']\n",
    "count = 0\n",
    "for i in my_list:\n",
    "    if type(i) == str:\n",
    "        count += 1\n",
    "print(count)"
   ]
  },
  {
   "cell_type": "markdown",
   "id": "7486fd89",
   "metadata": {},
   "source": [
    "# While\n",
    "\n",
    "Делай, пока не наступит условие (отличие от For)"
   ]
  },
  {
   "cell_type": "code",
   "execution_count": 58,
   "id": "cf7ca34c",
   "metadata": {},
   "outputs": [
    {
     "name": "stdout",
     "output_type": "stream",
     "text": [
      "['b', 'c', 'd', 'e']\n",
      "['c', 'd', 'e']\n",
      "['d', 'e']\n",
      "Result ['d', 'e']\n"
     ]
    }
   ],
   "source": [
    "lst = ['a', 'b', 'c', 'd', 'e']\n",
    "while len(lst) > 2:\n",
    "    lst.pop(0) #обновляем список, удаляя первый элемент в нем\n",
    "    print(lst)\n",
    "print('Result', lst)"
   ]
  },
  {
   "cell_type": "code",
   "execution_count": 59,
   "id": "906d44cf",
   "metadata": {},
   "outputs": [
    {
     "name": "stdout",
     "output_type": "stream",
     "text": [
      "17\n"
     ]
    }
   ],
   "source": [
    "x = 21\n",
    "y = 55\n",
    "count = 0\n",
    "while x < y:\n",
    "    x += 2\n",
    "    count +=1\n",
    "print(count)"
   ]
  },
  {
   "cell_type": "markdown",
   "id": "3cd4fea9",
   "metadata": {},
   "source": [
    "Условие задачи. Пассажирский лифт имеет ограничение на перевозку — не более 400 кг единовременно. Пусть входящие в лифт люди имеют одинаковый вес (weight).\n",
    "\n",
    "Необходимо написать программу, которая должна следить за изменением нагрузки на лифт, сравнивать её с грузоподъёмностью и в случае перевеса выдавать предупреждение 'Overweight N kg'). Например, при перевесе в 15 кг должно быть выведено сообщение 'Overweight 15 kg').\n",
    "\n",
    "Для данного примера вес заходящих людей зададим как weight = 67)."
   ]
  },
  {
   "cell_type": "code",
   "execution_count": 60,
   "id": "5672d830",
   "metadata": {},
   "outputs": [
    {
     "name": "stdout",
     "output_type": "stream",
     "text": [
      "Current sum weight 67\n",
      "Current sum weight 134\n",
      "Current sum weight 201\n",
      "Current sum weight 268\n",
      "Current sum weight 335\n",
      "Current sum weight 402\n",
      "\n",
      "Overweight 2 kg\n"
     ]
    }
   ],
   "source": [
    "weight = 67\n",
    "max_weight = 400\n",
    "S = 0\n",
    "while S < max_weight:\n",
    "    S += weight\n",
    "    print('Current sum weight', S)\n",
    "print()\n",
    "print(f'Overweight {S - max_weight} kg')"
   ]
  },
  {
   "cell_type": "markdown",
   "id": "5aaad5e8",
   "metadata": {},
   "source": [
    "Сосуд вмещает в себя ровно 10 литров жидкости. Каждый раз в него вливается 0.0033 кубических метра жидкости. Понятно, что в какой-то момент сосуд наполнится до краёв, и жидкость начнёт выливаться из сосуда.\n",
    "\n",
    "С помощью цикла while опишите данный процесс и найдите, сколько литров жидкости выльется из сосуда.\n",
    "\n",
    "Учтите, что 1 кубический метр равен 1 000 литрам (0.0033 * 1000 = 3.3)."
   ]
  },
  {
   "cell_type": "code",
   "execution_count": 62,
   "id": "c9c5dea6",
   "metadata": {},
   "outputs": [
    {
     "name": "stdout",
     "output_type": "stream",
     "text": [
      "Current water in bottle 3.3\n",
      "Current water in bottle 6.6\n",
      "Current water in bottle 9.899999999999999\n",
      "Current water in bottle 13.2\n",
      "\n",
      "3.1999999999999993\n"
     ]
    }
   ],
   "source": [
    "m3 = 3.3\n",
    "max_m3 = 10\n",
    "S = 0\n",
    "while S < max_m3:\n",
    "    S += m3\n",
    "    print('Current water in bottle', S)\n",
    "print()\n",
    "print(S - max_m3)"
   ]
  },
  {
   "cell_type": "markdown",
   "id": "87375da3",
   "metadata": {},
   "source": [
    "Условие задачи. Написать цикл, который будет складывать натуральные числа, пока их сумма не превысит 500.\n",
    "\n",
    "Натуральные числа — это числа 1, 2, 3, 4 и т. д."
   ]
  },
  {
   "cell_type": "code",
   "execution_count": 70,
   "id": "18f30e79",
   "metadata": {},
   "outputs": [
    {
     "name": "stdout",
     "output_type": "stream",
     "text": [
      "Sum is:  528\n",
      "Numbers total:  32\n"
     ]
    }
   ],
   "source": [
    "S = 0\n",
    "n = 1\n",
    "while S < 500:\n",
    "    S += n\n",
    "    n +=1\n",
    "print('Sum is: ', S)\n",
    "print('Numbers total: ', n-1)"
   ]
  },
  {
   "cell_type": "markdown",
   "id": "1304c6fb",
   "metadata": {},
   "source": [
    "Напишите цикл while, который находит максимальное натуральное число, квадрат которого меньше 1000."
   ]
  },
  {
   "cell_type": "code",
   "execution_count": 69,
   "id": "0c3bde69",
   "metadata": {},
   "outputs": [
    {
     "name": "stdout",
     "output_type": "stream",
     "text": [
      "31\n"
     ]
    }
   ],
   "source": [
    "n = 1 \n",
    "while n ** 2 < 1000:\n",
    "    n += 1\n",
    "print(n - 1)"
   ]
  },
  {
   "cell_type": "markdown",
   "id": "07f7e5bc",
   "metadata": {},
   "source": [
    "выход из цикла break"
   ]
  },
  {
   "cell_type": "code",
   "execution_count": 71,
   "id": "ecb761d9",
   "metadata": {},
   "outputs": [],
   "source": [
    "n = 1\n",
    "while True:\n",
    "    n += 1\n",
    "    if n > 10:\n",
    "        break"
   ]
  },
  {
   "cell_type": "code",
   "execution_count": null,
   "id": "fca80895",
   "metadata": {},
   "outputs": [],
   "source": [
    "secret_passwords = {\n",
    "    'Enot': 'ulybaka',\n",
    "    'Agent12': '1password1',\n",
    "    'MouseLulu': 'myshkanaruhka'\n",
    "} #база позывных и паролей\n",
    "while True:\n",
    "    name = input('Enter your name: ') #запрашиваем у пользователя позывной\n",
    "    #проверяем, что позывной есть среди ключей словаря\n",
    "    if name in secret_passwords: #если позывной верный\n",
    "        password = input('Enter your password: ') #запрашиваем у пользователя пароль\n",
    "        #проверяем, что введённый пароль совпадает со значением по ключу позывного\n",
    "        if password == secret_passwords[name]: #если пароль верный,\n",
    "            print('Welcome') #выводим приветственное сообщение\n",
    "            break #завершаем цикл\n",
    "        else: #если пароль неверный,\n",
    "            print('Wrong password') #выводим сообщение об ошибке\n",
    "    else: #если позывной неверный,\n",
    "        print('Wrong name') #выводим сообщение об ошибке"
   ]
  },
  {
   "cell_type": "markdown",
   "id": "c213b9dc",
   "metadata": {},
   "source": [
    "Напишите бесконечный цикл while с условием выхода внутри цикла, который находит максимальное натуральное число, квадрат которого меньше 1000."
   ]
  },
  {
   "cell_type": "code",
   "execution_count": 73,
   "id": "0481c072",
   "metadata": {},
   "outputs": [
    {
     "name": "stdout",
     "output_type": "stream",
     "text": [
      "31\n"
     ]
    }
   ],
   "source": [
    "n = 1 \n",
    "while True:\n",
    "    if n ** 2 >= 1000:\n",
    "        print(n-1)\n",
    "        break\n",
    "    n += 1"
   ]
  },
  {
   "cell_type": "code",
   "execution_count": 74,
   "id": "eb8e0bc2",
   "metadata": {},
   "outputs": [
    {
     "name": "stdout",
     "output_type": "stream",
     "text": [
      "5\n"
     ]
    }
   ],
   "source": [
    "i = 0\n",
    "while i < 5:\n",
    "    i += 1\n",
    "print(i)"
   ]
  },
  {
   "cell_type": "code",
   "execution_count": 81,
   "id": "5798e057",
   "metadata": {},
   "outputs": [
    {
     "name": "stdout",
     "output_type": "stream",
     "text": [
      "4\n"
     ]
    }
   ],
   "source": [
    "n = 10\n",
    "i = 1\n",
    "while i ** 2 < n:\n",
    "    i +=1\n",
    "print(i)"
   ]
  },
  {
   "cell_type": "code",
   "execution_count": 82,
   "id": "2e912e57",
   "metadata": {},
   "outputs": [
    {
     "name": "stdout",
     "output_type": "stream",
     "text": [
      "Hello\n",
      "Hello\n",
      "Hello\n",
      "Hello\n",
      "Hello\n",
      "Hello\n",
      "Hello\n",
      "Hello\n",
      "Hello\n",
      "Hello\n"
     ]
    }
   ],
   "source": [
    "n = 10 \n",
    "i = 0\n",
    "while i < n:\n",
    "    i += 1\n",
    "    print('Hello')"
   ]
  },
  {
   "cell_type": "markdown",
   "id": "b7ede7a2",
   "metadata": {},
   "source": [
    "Напишите цикл while, который вычисляет произведение натуральных чисел (1*2*3*4*...). Цикл должен выполняться до тех пор, пока значение произведения не превысит 1 000. В ответ запишите полученное после цикла произведение."
   ]
  },
  {
   "cell_type": "code",
   "execution_count": 88,
   "id": "e1749ab7",
   "metadata": {},
   "outputs": [
    {
     "name": "stdout",
     "output_type": "stream",
     "text": [
      "1\n",
      "2\n",
      "6\n",
      "24\n",
      "120\n",
      "720\n",
      "5040\n",
      "\n",
      "8\n",
      "5040\n"
     ]
    }
   ],
   "source": [
    "n = 1\n",
    "s = 1\n",
    "while s < 1000:\n",
    "    s *= n\n",
    "    n += 1\n",
    "    print(s)\n",
    "print()\n",
    "print(n)\n",
    "print(s)"
   ]
  },
  {
   "cell_type": "code",
   "execution_count": 93,
   "id": "0b61cb52",
   "metadata": {},
   "outputs": [
    {
     "name": "stdout",
     "output_type": "stream",
     "text": [
      "5\n",
      "6\n"
     ]
    }
   ],
   "source": [
    "n = 1\n",
    "iterac = 0\n",
    "while 3 ** n < 1000:\n",
    "    n += 1\n",
    "    iterac += 1\n",
    "print(iterac)\n",
    "print(n)"
   ]
  },
  {
   "cell_type": "markdown",
   "id": "67e02722",
   "metadata": {},
   "source": [
    "Олег положил тысячу рублей в банк под 8% годовых. Через сколько лет у него на счету будет не менее трёх тысяч рублей? Выведите на экран это число и запишите его в ответ."
   ]
  },
  {
   "cell_type": "code",
   "execution_count": 94,
   "id": "2d023ebf",
   "metadata": {},
   "outputs": [
    {
     "name": "stdout",
     "output_type": "stream",
     "text": [
      "1000.0\n",
      "1080.0\n",
      "1166.4\n",
      "1259.7120000000002\n",
      "1360.4889600000004\n",
      "1469.3280768000006\n",
      "1586.8743229440006\n",
      "1713.824268779521\n",
      "1850.9302102818826\n",
      "1999.0046271044332\n",
      "2158.924997272788\n",
      "2331.638997054611\n",
      "2518.17011681898\n",
      "2719.623726164499\n",
      "2937.193624257659\n",
      "3172.169114198272\n",
      "15\n"
     ]
    }
   ],
   "source": [
    "years=0\n",
    "S_1=1000\n",
    "p=0.08\n",
    "S_n=0\n",
    "while True:\n",
    "    S_n=S_1*(1.08**years)\n",
    "    print(S_n)\n",
    "    if S_n>=3000:\n",
    "        print(years)\n",
    "        break\n",
    "    else:\n",
    "        years+=1"
   ]
  },
  {
   "cell_type": "code",
   "execution_count": 97,
   "id": "065150ab",
   "metadata": {},
   "outputs": [
    {
     "name": "stdout",
     "output_type": "stream",
     "text": [
      "There are {5} people in the room\n"
     ]
    }
   ],
   "source": [
    "max_people = 5\n",
    "i = 0\n",
    "while i <max_people:\n",
    "    i += 1\n",
    "print(f'There are', {i}, 'people in the room') "
   ]
  },
  {
   "cell_type": "markdown",
   "id": "d07bdf96",
   "metadata": {},
   "source": [
    "# Вложенные циклы (матрицы)"
   ]
  },
  {
   "cell_type": "markdown",
   "id": "523168ee",
   "metadata": {},
   "source": [
    "## Способ 1. Циклы по строкам и их содержимому"
   ]
  },
  {
   "cell_type": "code",
   "execution_count": 98,
   "id": "73b0e5df",
   "metadata": {},
   "outputs": [
    {
     "name": "stdout",
     "output_type": "stream",
     "text": [
      "Current row [1, 2]\n",
      "Current elem 1\n",
      "Current elem 2\n",
      "\n",
      "Current row [3, 4]\n",
      "Current elem 3\n",
      "Current elem 4\n",
      "\n",
      "Current row [5, 6]\n",
      "Current elem 5\n",
      "Current elem 6\n",
      "\n"
     ]
    }
   ],
   "source": [
    "matrix = [\n",
    "    [1,2],\n",
    "    [3,4],\n",
    "    [5,6]\n",
    "]\n",
    "for row in matrix:\n",
    "    print('Current row',row)\n",
    "    for i in row:\n",
    "        print('Current elem',i)\n",
    "    print()"
   ]
  },
  {
   "cell_type": "markdown",
   "id": "ac48e6f7",
   "metadata": {},
   "source": [
    "## Способ 2. Циклы по индексам строк и столбцов"
   ]
  },
  {
   "cell_type": "code",
   "execution_count": 99,
   "id": "6ea73444",
   "metadata": {},
   "outputs": [
    {
     "name": "stdout",
     "output_type": "stream",
     "text": [
      "Current i 0\n",
      "Current row [1, 2]\n",
      "Current j 0\n",
      "Current elem 1\n",
      "Current j 1\n",
      "Current elem 2\n",
      "\n",
      "Current i 1\n",
      "Current row [3, 4]\n",
      "Current j 0\n",
      "Current elem 3\n",
      "Current j 1\n",
      "Current elem 4\n",
      "\n",
      "Current i 2\n",
      "Current row [5, 6]\n",
      "Current j 0\n",
      "Current elem 5\n",
      "Current j 1\n",
      "Current elem 6\n",
      "\n"
     ]
    }
   ],
   "source": [
    "matrix = [\n",
    "    [1, 2], \n",
    "    [3, 4], \n",
    "    [5, 6]\n",
    "]\n",
    "N = len(matrix) #вычисляем длину внешнего списка\n",
    "M = len(matrix[0]) #вычисляем длину вложенного списка\n",
    "#создаём цикл по последовательности чисел от 0 до N (не включая N)\n",
    "for i in range(N): #i — текущий элемент последовательности (индекс строки)\n",
    "    print('Current i', i) #выводим текущее значение i\n",
    "    print('Current row', matrix[i]) #выводим i-е значение внешнего списка\n",
    "    #создаём цикл по последовательности чисел от 0 до M (не включая M)\n",
    "    for j in range(M):#j — текущий элемент последовательности (индекс столбца)\n",
    "        print('Current j', j) #выводим текущее значение j\n",
    "        print('Current elem', matrix[i][j]) #выводим элемент под индексами i и j\n",
    "    print() #отделяем вывод на экран пустой строкой"
   ]
  },
  {
   "cell_type": "markdown",
   "id": "23cd6a5b",
   "metadata": {},
   "source": [
    "#### Условие задачи. Пользователь даёт нашей умной колонке «Алевтина» задание: поставить будильники особым образом. Будильники должны звонить каждые пять часов, начиная с 10 часов утра. Причём будильник должен прозвенеть дважды в час с перерывом в полчаса. Например, в 15:00 и 15:30.\n",
    "\n",
    "#### Необходимо вывести на экран время в которое прозвенят будильники."
   ]
  },
  {
   "cell_type": "code",
   "execution_count": 101,
   "id": "5ac2e090",
   "metadata": {},
   "outputs": [
    {
     "name": "stdout",
     "output_type": "stream",
     "text": [
      "Alarm is set 10:0\n",
      "Alarm is set 10:30\n",
      "Alarm is set 15:0\n",
      "Alarm is set 15:30\n",
      "Alarm is set 20:0\n",
      "Alarm is set 20:30\n"
     ]
    }
   ],
   "source": [
    "hours = list(range(10, 24, 5)) #создаём список часов\n",
    "minutes = list(range(0, 60, 30)) #создаём список минут\n",
    "#создаём цикл по элементам списка часов\n",
    "for hour in hours: #hour — текущее значение часа (10, 15, 20)\n",
    "    #создаём цикл по элементам списка минут\n",
    "    for minute in minutes: #second — текущее значение минуты\n",
    "        print('Alarm is set {}:{}'.format(hour, minute)) #выводим время"
   ]
  },
  {
   "cell_type": "code",
   "execution_count": 102,
   "id": "ff793df8",
   "metadata": {},
   "outputs": [
    {
     "name": "stdout",
     "output_type": "stream",
     "text": [
      "Alarm is set 9:0\n",
      "Alarm is set 9:15\n",
      "Alarm is set 9:30\n",
      "Alarm is set 9:45\n",
      "Alarm is set 11:0\n",
      "Alarm is set 11:15\n",
      "Alarm is set 11:30\n",
      "Alarm is set 11:45\n",
      "Alarm is set 13:0\n",
      "Alarm is set 13:15\n",
      "Alarm is set 13:30\n",
      "Alarm is set 13:45\n",
      "Alarm is set 15:0\n",
      "Alarm is set 15:15\n",
      "Alarm is set 15:30\n",
      "Alarm is set 15:45\n",
      "Alarm is set 17:0\n",
      "Alarm is set 17:15\n",
      "Alarm is set 17:30\n",
      "Alarm is set 17:45\n",
      "Alarm is set 19:0\n",
      "Alarm is set 19:15\n",
      "Alarm is set 19:30\n",
      "Alarm is set 19:45\n",
      "Alarm is set 21:0\n",
      "Alarm is set 21:15\n",
      "Alarm is set 21:30\n",
      "Alarm is set 21:45\n",
      "Alarm is set 23:0\n",
      "Alarm is set 23:15\n",
      "Alarm is set 23:30\n",
      "Alarm is set 23:45\n"
     ]
    }
   ],
   "source": [
    "hours = list(range(9, 24, 2))\n",
    "minutes = list(range(0,60,15))\n",
    "for hour in hours:\n",
    "    for minute in minutes:\n",
    "        print(f'Alarm is set {hour}:{minute}')"
   ]
  },
  {
   "cell_type": "code",
   "execution_count": 103,
   "id": "52535b58",
   "metadata": {},
   "outputs": [
    {
     "name": "stdout",
     "output_type": "stream",
     "text": [
      "S\n",
      "i\n",
      "m\n",
      "p\n",
      "l\n",
      "e\n",
      " \n",
      "s\n",
      "t\n",
      "r\n",
      "i\n",
      "n\n",
      "g\n"
     ]
    }
   ],
   "source": [
    "simple_string = \"Simple string\"\n",
    "for s in simple_string:\n",
    "    print(s)"
   ]
  },
  {
   "cell_type": "markdown",
   "id": "07f85f72",
   "metadata": {},
   "source": [
    "### Таким образом, строки — это тоже последовательность, по которой можно итерироваться. Можно сказать, что строка — это тоже список, где элементы — это символы, из которых она состоит."
   ]
  },
  {
   "cell_type": "markdown",
   "id": "911462ce",
   "metadata": {},
   "source": [
    "#### Условие задачи. Дан список строк str_list = ['text', 'morning', 'notepad', 'television', 'ornament']. Необходимо подсчитать, сколько всего раз во всех строках списка встречается буква 'e'."
   ]
  },
  {
   "cell_type": "code",
   "execution_count": 104,
   "id": "45a734f4",
   "metadata": {},
   "outputs": [
    {
     "name": "stdout",
     "output_type": "stream",
     "text": [
      "Count symbol 'e': 5\n"
     ]
    }
   ],
   "source": [
    "str_list = ['text', 'morning', 'notepad', 'television', 'ornament'] \n",
    "#заданный список строк\n",
    "count = 0 #задаём начальное количество символов 'e'\n",
    "#создаём цикл по элементам списка str_list\n",
    "for text in str_list: \n",
    "    #создаём цикл по символам в строке text\n",
    "    for symbol in text:\n",
    "        #проверяем условие, что текущий символ == 'e'\n",
    "        if symbol == 'e': #если условие истинно,\n",
    "            count += 1 #увеличиваем количество символов 'e'\n",
    "print(\"Count symbol 'e':\", count) #выводим результат"
   ]
  },
  {
   "cell_type": "code",
   "execution_count": 105,
   "id": "6472b869",
   "metadata": {},
   "outputs": [
    {
     "name": "stdout",
     "output_type": "stream",
     "text": [
      "Count symbol 'e': 5\n"
     ]
    }
   ],
   "source": [
    "str_list = ['text', 'morning', 'notepad', 'television', 'ornament'] \n",
    "#заданный список строк\n",
    "count = 0 #задаём начальное количество символов 'e'\n",
    "#создаём цикл по элементам списка str_list\n",
    "for text in str_list:\n",
    "    #увеличиваем количество символов 'e' \n",
    "    count += text.count('e') #.count() считает, сколько раз символ встречается в строке text\n",
    "print(\"Count symbol 'e':\", count) #выводим результат"
   ]
  },
  {
   "cell_type": "markdown",
   "id": "b7bd5376",
   "metadata": {},
   "source": [
    "### Дан список строк text_list. Посчитайте, сколько раз во всех строках списка встречается буква 'a'.\n",
    "\n",
    "text_list = [\n",
    "    'afbaad',\n",
    "    'faaf',\n",
    "    'afaga',\n",
    "    'agag'\n",
    "]"
   ]
  },
  {
   "cell_type": "code",
   "execution_count": 107,
   "id": "6be6e7cd",
   "metadata": {},
   "outputs": [
    {
     "name": "stdout",
     "output_type": "stream",
     "text": [
      "Count symbol a: 10\n"
     ]
    }
   ],
   "source": [
    "text_list = [\n",
    "    'afbaad',\n",
    "    'faaf',\n",
    "    'afaga',\n",
    "    'agag'\n",
    "]\n",
    "count = 0\n",
    "for text in text_list:\n",
    "    for symbol in text:\n",
    "        if symbol == 'a':\n",
    "            count += 1\n",
    "print('Count symbol a:', count)"
   ]
  },
  {
   "cell_type": "markdown",
   "id": "e6f565ae",
   "metadata": {},
   "source": [
    "### Условие задачи. В теории оптимизации, которую мы с вами будем изучать дальше в курсе, работа с матрицами — привычное явление. Так, в симплекс-методе для решения оптимизационных задач необходимо находить минимальные и максимальные элементы в каждой строке матрицы.\n",
    "\n",
    "Давайте попробуем реализовать такой алгоритм для поиска минимумов.\n",
    "\n",
    "Дана двумерная матрица 3x3 (список списков). Необходимо определить минимумы в каждой её строке.\n",
    "\n",
    "random_matrix = [\n",
    "    [9, 2, 1],\n",
    "    [2, 5, 3],\n",
    "    [4, 8, 5]\n",
    "]"
   ]
  },
  {
   "cell_type": "code",
   "execution_count": 111,
   "id": "46d08b11",
   "metadata": {},
   "outputs": [
    {
     "name": "stdout",
     "output_type": "stream",
     "text": [
      "1\n",
      "[1]\n",
      "2\n",
      "[1, 2]\n",
      "4\n",
      "[1, 2, 4]\n",
      "Minimal elements: [1, 2, 4]\n"
     ]
    }
   ],
   "source": [
    "random_matrix = [\n",
    "    [9, 2, 1],\n",
    "    [2, 5, 3],\n",
    "    [4, 8, 5]\n",
    "] #заданная матрица\n",
    "min_value_rows = [] #задаём пустой список с минимальными значениями строк\n",
    "#создаём цикл по строкам матрицы random_matrix \n",
    "for row in random_matrix: #row — текущая строка таблицы\n",
    "    min_value = row[0] #начальное значение кандидата на минимум\n",
    "    #создаём цикл по элементам списка row\n",
    "    for elem in row: #elem — текущий элемент из списка row\n",
    "        #проверяем условие, что текущий элемент меньше кандидата на минимум\n",
    "        if elem < min_value: #если условие выполняется,\n",
    "            min_value = elem #заменяем кандидата на минимум\n",
    "    min_value_rows.append(min_value) #добавляем полученный минимум строки в список\n",
    "    print(min_value)\n",
    "    print(min_value_rows)\n",
    "print(\"Minimal elements:\", min_value_rows) #выводим минимальные элементы"
   ]
  },
  {
   "cell_type": "markdown",
   "id": "1b42ed1f",
   "metadata": {},
   "source": [
    "### Перепишите алгоритм из примера №3 так, чтобы он искал максимумы в строках таблицы random_matrix.\n",
    "\n",
    "random_matrix = [\n",
    "    [9, 2, 1],\n",
    "    [2, 5, 3],\n",
    "    [4, 8, 5]\n",
    "]"
   ]
  },
  {
   "cell_type": "code",
   "execution_count": 117,
   "id": "1fa95d55",
   "metadata": {},
   "outputs": [
    {
     "name": "stdout",
     "output_type": "stream",
     "text": [
      "Maximum elements: [9, 5, 8]\n"
     ]
    }
   ],
   "source": [
    "random_matrix = [\n",
    "    [9, 2, 1],\n",
    "    [2, 5, 3],\n",
    "    [4, 8, 5]\n",
    "]\n",
    "max_value_rows = []\n",
    "for row in random_matrix:\n",
    "    max_value = row[0]\n",
    "    for elem in row:\n",
    "        if elem > max_value:\n",
    "            max_value = elem\n",
    "    max_value_rows.append(max_value)\n",
    "print(\"Maximum elements:\", max_value_rows)"
   ]
  },
  {
   "cell_type": "markdown",
   "id": "5887d331",
   "metadata": {},
   "source": [
    "### Условие задачи. Нам предоставлены данные о баллах пяти студентов по трём экзаменам. Данные находятся во вложенном списке student_scores.\n",
    "\n",
    "student_scores = [\n",
    "    [56, 90, 80],\n",
    "    [80, 86, 92],\n",
    "    [91, 76, 89],\n",
    "    [91, 42, 60],\n",
    "    [65, 30, 90]\n",
    "]\n",
    "Каждая строка таблицы соответствует номеру студента, а каждый из трёх столбцов соответствует номеру экзамена (первый — математика, второй — информатика, третий — русский язык).\n",
    "\n",
    "Необходимо найти средний балл студентов по каждому из экзаменов и общий средний балл по всем экзаменам."
   ]
  },
  {
   "cell_type": "code",
   "execution_count": 121,
   "id": "ddfc0af6",
   "metadata": {},
   "outputs": [
    {
     "name": "stdout",
     "output_type": "stream",
     "text": [
      "Average math score 56\n",
      "Average info score 90\n",
      "Average rus score 80\n",
      "Average score 56\n",
      "Average score 146\n",
      "Average score 226\n",
      "Average math score 136\n",
      "Average info score 176\n",
      "Average rus score 172\n",
      "Average score 306\n",
      "Average score 392\n",
      "Average score 484\n",
      "Average math score 227\n",
      "Average info score 252\n",
      "Average rus score 261\n",
      "Average score 575\n",
      "Average score 651\n",
      "Average score 740\n",
      "Average math score 318\n",
      "Average info score 294\n",
      "Average rus score 321\n",
      "Average score 831\n",
      "Average score 873\n",
      "Average score 933\n",
      "Average math score 383\n",
      "Average info score 324\n",
      "Average rus score 411\n",
      "Average score 998\n",
      "Average score 1028\n",
      "Average score 1118\n",
      "Average math score 76.6\n",
      "Average info score 64.8\n",
      "Average rus score 82.2\n",
      "Average score 74.53333333333333\n"
     ]
    }
   ],
   "source": [
    "student_scores = [\n",
    "    [56, 90, 80],\n",
    "    [80, 86, 92],\n",
    "    [91, 76, 89],\n",
    "    [91, 42, 60],\n",
    "    [65, 30, 90]\n",
    "] #заданная таблица со студентами\n",
    "N = len(student_scores) #задаём число студентов\n",
    "M = len(student_scores[0]) #задаём число экзаменов\n",
    "summa = 0 #задаём начальное значение общего балла\n",
    "math_sum = 0 #задаём начальное значение общего балла по математике\n",
    "info_sum = 0 #задаём начальное значение общего балла по информатике\n",
    "rus_sum = 0 #задаём начальное значение общего балла по русскому языку\n",
    "#создаём цикл по последовательности от 0 до N (не включая N)\n",
    "for i in range(N): #i — индекс строки\n",
    "    math_sum += student_scores[i][0] #добавляем баллы по математике i-го студента\n",
    "    print('Average math score', math_sum)\n",
    "    info_sum += student_scores[i][1] #добавляем баллы по информатике i-го студента\n",
    "    print('Average info score', info_sum)\n",
    "    rus_sum += student_scores[i][2] #добавляем баллы по русскому i-го студента\n",
    "    print('Average rus score', rus_sum)\n",
    "    #создаём цикл по последовательности от 0 до M (не включая M)\n",
    "    for j in range(M): #j — индекс столбца\n",
    "        summa += student_scores[i][j] #добавляем баллы i-го студента по j-му экзамену\n",
    "        print('Average score', summa)\n",
    "print('Average math score', math_sum/N) #выводим средний балл по математике\n",
    "print('Average info score', info_sum/N) #выводим средний балл по информатике\n",
    "print('Average rus score', rus_sum/N) #выводим средний балл по русскому языку\n",
    "print('Average score', summa/(N*M)) #выводим общий средний балл"
   ]
  },
  {
   "cell_type": "markdown",
   "id": "c2adca6b",
   "metadata": {},
   "source": [
    "##### В простом цикле for количество итераций = количество элементов в итерируемой последовательности.\n",
    "\n",
    "Например, вот такой цикл будет выполняться ровно 15 раз (диапазон от 0 до 14):\n",
    "\n",
    "for i in range(15):\n",
    "\t...\n",
    "\n",
    "В то же время количество итераций во вложенном цикле = количество элементов в первой итерируемой последовательности * количество элементов во второй итерируемой последовательности.\n",
    "\n",
    "Например, вот такой цикл будет выполняться 150 раз!\n",
    "\n",
    "for i in range(10):\n",
    "    \n",
    "    for j in range(15):\n",
    "        ..."
   ]
  },
  {
   "cell_type": "markdown",
   "id": "8d635282",
   "metadata": {},
   "source": [
    "### Дан вложенный список:\n",
    "scores = [\n",
    "    [0.5, 0.6, 0.6, 0.65, 0.3],\n",
    "    [0.55, 0.7, 0.9, 0.5, 0.5]\n",
    "]\n",
    "В качестве ответа запишите элемент, который находится на пересечении второй строки и третьего столбца."
   ]
  },
  {
   "cell_type": "code",
   "execution_count": 147,
   "id": "78be106c",
   "metadata": {},
   "outputs": [
    {
     "name": "stdout",
     "output_type": "stream",
     "text": [
      "0.9\n"
     ]
    }
   ],
   "source": [
    "scores = [\n",
    "    [0.5, 0.6, 0.6, 0.65, 0.3],\n",
    "    [0.55, 0.7, 0.9, 0.5, 0.5]\n",
    "]\n",
    "N = len(scores)\n",
    "S = 0\n",
    "for i in range (N):\n",
    "    S = scores[1][2]\n",
    "print(S)"
   ]
  },
  {
   "cell_type": "code",
   "execution_count": 148,
   "id": "d420fc4e",
   "metadata": {},
   "outputs": [
    {
     "name": "stdout",
     "output_type": "stream",
     "text": [
      "20\n"
     ]
    }
   ],
   "source": [
    "count = 0\n",
    "for i in range(5):\n",
    "    for j in range(4):\n",
    "        count += 1\n",
    "print(count)"
   ]
  },
  {
   "cell_type": "code",
   "execution_count": 149,
   "id": "da120ca5",
   "metadata": {},
   "outputs": [
    {
     "name": "stdout",
     "output_type": "stream",
     "text": [
      "[0.5, 0.6, 0.6, 0.65, 0.3, 0.55, 0.7, 0.9, 0.5, 0.5]\n"
     ]
    }
   ],
   "source": [
    "#Чему будет равно значение переменной scores_lst после выполнения следующего кода?\n",
    "scores = [\n",
    "    [0.5, 0.6, 0.6, 0.65, 0.3],\n",
    "    [0.55, 0.7, 0.9, 0.5, 0.5]\n",
    "]\n",
    "scores_lst = []\n",
    "for row in scores:\n",
    "    for score in row:\n",
    "        scores_lst.append(score)\n",
    "print(scores_lst)"
   ]
  },
  {
   "cell_type": "code",
   "execution_count": 150,
   "id": "07eca1e8",
   "metadata": {},
   "outputs": [
    {
     "name": "stdout",
     "output_type": "stream",
     "text": [
      "True\n"
     ]
    }
   ],
   "source": [
    "test_matrix1 = [\n",
    "    [1, 2, 3],\n",
    "    [7, -1, 2],\n",
    "    [123, 2, -1]\n",
    "]\n",
    "N = len(test_matrix1)\n",
    "count = 0\n",
    "for line in test_matrix1:\n",
    "    if len(line) == N:\n",
    "        count += 1\n",
    "print(N == count)"
   ]
  },
  {
   "cell_type": "markdown",
   "id": "3e8394e7",
   "metadata": {},
   "source": [
    "## ENUMERATE"
   ]
  },
  {
   "cell_type": "code",
   "execution_count": 1,
   "id": "4de78717",
   "metadata": {},
   "outputs": [
    {
     "name": "stdout",
     "output_type": "stream",
     "text": [
      "Day 1 : -5\n",
      "Day 2 : 2\n",
      "Day 3 : 4\n",
      "Day 4 : 8\n",
      "Day 5 : 12\n",
      "Day 6 : -7\n",
      "Day 7 : 5\n"
     ]
    }
   ],
   "source": [
    "user_dynamics = [-5, 2, 4, 8, 12, -7, 5] \n",
    "#заданный список динамики пользователей\n",
    "#создаём цикл по индексам и элементам списка \n",
    "for i, dynamic in enumerate(user_dynamics): \n",
    "    # i — индекс текущего элемента, dynamic — текущее значение из списка\n",
    "    print(\"Day {} : {}\".format(i+1, dynamic)) \n",
    "    #выводим номер дня и динамику на этот день"
   ]
  },
  {
   "cell_type": "code",
   "execution_count": 4,
   "id": "e9177edb",
   "metadata": {},
   "outputs": [
    {
     "name": "stdout",
     "output_type": "stream",
     "text": [
      "Churn value -5 : number day 1\n",
      "Churn value -7 : number day 6\n"
     ]
    }
   ],
   "source": [
    "user_dynamics = [-5, 2, 4, 8, 12, -7, 5]\n",
    "for i, dynamic in enumerate(user_dynamics):\n",
    "    if dynamic < 0: #если условие истинно,\n",
    "        print(f'Churn value {dynamic} : number day {i+1}')"
   ]
  },
  {
   "cell_type": "markdown",
   "id": "ae15b7c2",
   "metadata": {},
   "source": [
    "## BREAK"
   ]
  },
  {
   "cell_type": "markdown",
   "id": "7a6576f6",
   "metadata": {},
   "source": [
    "Условие задачи. Мы разрабатываем игру, и в ней предусмотрен инвентарь с ограниченным числом ячеек. Переменная inventory описывает список вещей, которые хранятся у игрока в инвентаре. Пусть изначально инвентарь пуст. У игрока есть только три свободные ячейки инвентаря.\n",
    "\n",
    "Список вещей, которые он хочет положить, хранится в переменной to_inventory.\n",
    "\n",
    "to_inventory = ['Blood Moon Sword', 'Sunset-colored sword', 'Bow of Stars', 'Gain Stone']\n",
    "Необходимо написать программу, которая переносит вещи из списка to_inventory в список inventory, но если количество этих вещей превысит 3, то выводится предупреждение и перенос вещей заканчивается."
   ]
  },
  {
   "cell_type": "code",
   "execution_count": 5,
   "id": "739e0701",
   "metadata": {},
   "outputs": [
    {
     "name": "stdout",
     "output_type": "stream",
     "text": [
      "inventory is full!\n",
      "['Blood Moon Sword', 'Sunset-colored sword', 'Bow of Stars']\n"
     ]
    }
   ],
   "source": [
    "to_inventory = [\n",
    "    'Blood Moon Sword', 'Sunset-colored sword', 'Bow of Stars', 'Gain Stone'\n",
    "]\n",
    "inventory = [] #задаём пустой инвентарь\n",
    "#создаём цикл по элементам списка to_inventory\n",
    "for item in to_inventory: #item — текущий элемент списка\n",
    "    #проверяем условие, что инвентарь уже заполнен\n",
    "    if len(inventory) == 3: #если условие выполняется,\n",
    "        print('inventory is full!') #выводим предупреждение об ошибке\n",
    "        break #завершаем работу цикла\n",
    "    else:#в противном случае\n",
    "        inventory.append(item) #добавляем предмет в инвентарь\n",
    "print(inventory)#выводим результирующий инвентарь"
   ]
  },
  {
   "cell_type": "markdown",
   "id": "d1bad995",
   "metadata": {},
   "source": [
    "Условие задачи. В теории шифрования очень активно используются степени числа. Берётся число и несколько раз возводится в некоторую степень. Для дешифрации нужно определить, какое число было задано изначально.\n",
    "\n",
    "Например, изначально задано простое число 3, его возвели в степень 4 и получили число 81.\n",
    "\n",
    "Необходимо написать программу, которая проверяет, что число n является степенью числа 3."
   ]
  },
  {
   "cell_type": "code",
   "execution_count": 6,
   "id": "352d3b2c",
   "metadata": {},
   "outputs": [
    {
     "name": "stdout",
     "output_type": "stream",
     "text": [
      "n - is the power of the number 3!\n"
     ]
    }
   ],
   "source": [
    "n = 27 #задаём число\n",
    "#создаём бесконечный цикл\n",
    "while True:\n",
    "    #проверяем условие, что остаток от деления на 3 равен 0\n",
    "    if n % 3 == 0: #если условие выполняется,\n",
    "        n = n // 3 #новое число — результат целочисленного деления на 3\n",
    "        if n == 1: #если в результате деления получили 1,\n",
    "            print('n - is the power of the number 3!')\n",
    "            #выводим утвердительное сообщение\n",
    "            break #выходим из цикла\n",
    "    else: #в противном случае\n",
    "        print('n - is not the power of the number 3!')\n",
    "        #выводим сообщение-опровержение\n",
    "        break #выходим из цикла\n",
    "#Будет выведено\n",
    "#n - is the power of the number 3!"
   ]
  },
  {
   "cell_type": "code",
   "execution_count": 8,
   "id": "7ffc2b45",
   "metadata": {},
   "outputs": [
    {
     "name": "stdout",
     "output_type": "stream",
     "text": [
      "11\n"
     ]
    }
   ],
   "source": [
    "i = 0\n",
    "while True:\n",
    "    if i > 10:\n",
    "        break\n",
    "    else:\n",
    "        i += 1\n",
    "print(i)"
   ]
  },
  {
   "cell_type": "markdown",
   "id": "a89ee5a1",
   "metadata": {},
   "source": [
    "Допишите программу, которая проверяет гипотезу Сиракуз. Гипотеза Сиракуз заключается в том, что любое натуральное число можно свести к 1, если повторять над ним следующие действия:\n",
    "\n",
    "если число чётное, разделить его пополам, т. е. n = n // 2;\n",
    "\n",
    "если нечётное — умножить на 3, прибавить 1 и результат разделить на 2, т. е. n = (n * 3 + 1) // 2."
   ]
  },
  {
   "cell_type": "code",
   "execution_count": 10,
   "id": "4534e575",
   "metadata": {},
   "outputs": [
    {
     "name": "stdout",
     "output_type": "stream",
     "text": [
      "Syracuse hypothesis holds\n"
     ]
    }
   ],
   "source": [
    "n = 19 #задаём число\n",
    "#создаём бесконечный цикл\n",
    "while True:\n",
    "    if n % 2 == 0:\n",
    "        n = n // 2\n",
    "    else:\n",
    "        n = (n * 3 + 1) // 2\n",
    "    if n == 1: #если результат равен 1,\n",
    "        print('Syracuse hypothesis holds') #выводим утвердительное сообщение\n",
    "        break"
   ]
  },
  {
   "cell_type": "markdown",
   "id": "c6183a3b",
   "metadata": {},
   "source": [
    "## CONTINUE"
   ]
  },
  {
   "cell_type": "markdown",
   "id": "0a479002",
   "metadata": {},
   "source": [
    "Условие задачи. Дан словарь клиентов и статус их программы скидок. Ключами словаря являются идентификаторы клиентов, а значениями — статусы программы скидок ('yes' — активен, 'no' — неактивен).\n",
    "\n",
    "client_status = {\n",
    "    103303: 'yes', \n",
    "    103044: 'no',\n",
    "    100423: 'yes',\n",
    "    103032: 'no',\n",
    "    103902: 'no'\n",
    "}\n",
    "В честь Нового года магазин хочет отправить подарочные сертификаты всем, у кого активен статус программы скидок.\n",
    "\n",
    "Необходимо написать программу, которая выводит идентификаторы клиентов, которым полагается подарочный сертификат."
   ]
  },
  {
   "cell_type": "code",
   "execution_count": 12,
   "id": "afef885b",
   "metadata": {},
   "outputs": [
    {
     "name": "stdout",
     "output_type": "stream",
     "text": [
      "Send present user 103303\n",
      "Send present user 100423\n"
     ]
    }
   ],
   "source": [
    "client_status = {\n",
    "    103303: 'yes', \n",
    "    103044: 'no',\n",
    "    100423: 'yes',\n",
    "    103032: 'no',\n",
    "    103902: 'no'\n",
    "}\n",
    "#создаём цикл по ключам словаря client_status\n",
    "for user_id in client_status: #user_id — текущий ключ словаря\n",
    "    #если текущий статус == 'no',\n",
    "    if client_status[user_id] == 'no':\n",
    "        continue #переходим на следующую итерацию\n",
    "    else:\n",
    "        print('Send present user', user_id) #выводим сообщение об отправке"
   ]
  },
  {
   "cell_type": "code",
   "execution_count": 13,
   "id": "c4ef9b05",
   "metadata": {},
   "outputs": [
    {
     "name": "stdout",
     "output_type": "stream",
     "text": [
      "a b d e "
     ]
    }
   ],
   "source": [
    "lst=['a', 'b', 'c', 'd', 'e']\n",
    "for elem in lst:\n",
    "    if elem == 'c':\n",
    "        continue\n",
    "    print(elem, end=' ')"
   ]
  },
  {
   "cell_type": "markdown",
   "id": "96bec17e",
   "metadata": {},
   "source": [
    "Дан словарь my_dict. Его значения могут быть как строками (тип str), так и числами (типы int и float). Посчитайте, сколько значений в словаре my_dict являются числами. Используйте в своём коде оператор continue.\n",
    "\n",
    "my_dict = {'a': 15, 'b': 10.5, 'c': '15', 'd': 50, 'e': 15, 'f': '15'}\n",
    "Для того чтобы проверить тип, используйте метод type() и сравните тип данных со str."
   ]
  },
  {
   "cell_type": "code",
   "execution_count": 16,
   "id": "19f74ecd",
   "metadata": {},
   "outputs": [
    {
     "name": "stdout",
     "output_type": "stream",
     "text": [
      "a b d e "
     ]
    }
   ],
   "source": [
    "my_dict = {'a': 15, 'b': 10.5, 'c': '15', 'd': 50, 'e': 15, 'f': '15'}\n",
    "for key in my_dict:\n",
    "    if type(my_dict[key]) is str:\n",
    "        continue\n",
    "    print(key, end=' ')"
   ]
  },
  {
   "cell_type": "markdown",
   "id": "b81c86aa",
   "metadata": {},
   "source": [
    "## ПРАКТИЧЕСКОЕ ИСПОЛЬЗОВАНИЕ ЦИКЛОВ"
   ]
  },
  {
   "cell_type": "markdown",
   "id": "60e57cd5",
   "metadata": {},
   "source": [
    "Условие задачи. Подсчитать количество вхождений каждого символа в заданном тексте. В результате работы программы должен быть сформирован словарь, ключи которого — символы текста, а значения — количество вхождений символа в тексте.\n",
    "\n",
    "text = \"\"\"\n",
    "The rabbit-hole went straight on like a tunnel for some way, and then dipped suddenly down, so suddenly that Alice had not a moment to think about stopping herself before she found herself falling down a very deep well.\n",
    "\n",
    "Either the well was very deep, or she fell very slowly, for she had plenty of time as she went down to look about her and to wonder what was going to happen next. First, she tried to look down and make out what she was coming to, but it was too dark to see anything; then she looked at the sides of the well, and noticed that they were filled with cupboards and book-shelves; here and there she saw maps and pictures hung upon pegs. She took down a jar from one of the shelves as she passed; it was labelled `ORANGE MARMALADE', but to her great disappointment it was empty: she did not like to drop the jar for fear of killing somebody, so managed to put it into one of the cupboards as she fell past it.\n",
    "\n",
    "`Well!' thought Alice to herself, `after such a fall as this, I shall think nothing of tumbling down stairs! How brave they'll all think me at home! Why, I wouldn't say anything about it, even if I fell off the top of the house!' (Which was very likely true.)\n",
    "\"\"\""
   ]
  },
  {
   "cell_type": "code",
   "execution_count": 17,
   "id": "ce9e7eb0",
   "metadata": {},
   "outputs": [
    {
     "name": "stdout",
     "output_type": "stream",
     "text": [
      "{'t': 88, 'h': 63, 'e': 112, 'r': 39, 'a': 70, 'b': 15, 'i': 47, '-': 2, 'o': 80, 'l': 55, 'w': 31, 'n': 57, 's': 60, 'g': 17, 'k': 14, 'u': 22, 'f': 28, 'm': 17, 'y': 18, ',': 13, 'd': 43, 'p': 23, 'c': 9, 'v': 8, '.': 5, 'x': 1, ';': 3, 'j': 2, '`': 3, \"'\": 5, ':': 1, '!': 4, '(': 1, ')': 1}\n"
     ]
    }
   ],
   "source": [
    "text = \"\"\"\n",
    "The rabbit-hole went straight on like a tunnel for some way, and then dipped suddenly down, so suddenly that Alice had not a moment to think about stopping herself before she found herself falling down a very deep well.\n",
    " \n",
    "Either the well was very deep, or she fell very slowly, for she had plenty of time as she went down to look about her and to wonder what was going to happen next. First, she tried to look down and make out what she was coming to, but it was too dark to see anything; then she looked at the sides of the well, and noticed that they were filled with cupboards and book-shelves; here and there she saw maps and pictures hung upon pegs. She took down a jar from one of the shelves as she passed; it was labelled `ORANGE MARMALADE', but to her great disappointment it was empty: she did not like to drop the jar for fear of killing somebody, so managed to put it into one of the cupboards as she fell past it.\n",
    " \n",
    "`Well!' thought Alice to herself, `after such a fall as this, I shall think nothing of tumbling down stairs! How brave they'll all think me at home! Why, I wouldn't say anything about it, even if I fell off the top of the house!' (Which was very likely true.)\n",
    "\"\"\"\n",
    "text = text.lower() #приводим текст к нижнему регистру\n",
    "text = text.replace(\" \", \"\") #заменяем пробелы на пустые строки\n",
    "text = text.replace(\"\\n\", \"\") #заменяем символы переноса строки на пустые строки\n",
    "count_dict = {} #создаём пустой словарь для подсчёта количества символов\n",
    "#создаём цикл по символам в строке text\n",
    "for symbol in text: #symbol — текущий символ в тексте\n",
    "    #проверяем условие, что символа ещё нет среди ключей словаря\n",
    "    if symbol not in count_dict: #если условие выполняется,\n",
    "        count_dict[symbol] = 1 #заносим символ в словарь со значением 1\n",
    "    else: #в противном случае\n",
    "        count_dict[symbol] += 1 #увеличиваем частоту символа\n",
    "print(count_dict) #выводим результирующий словарь"
   ]
  },
  {
   "cell_type": "markdown",
   "id": "55f25983",
   "metadata": {},
   "source": [
    "Попробуйте посчитать частоту каждого символа в следующем тексте:\n",
    "\n",
    "text = \"\"\"\n",
    "She sells sea shells on the sea shore;\n",
    "The shells that she sells are sea shells I am sure.\n",
    "So if she sells sea shells on the sea shore,\n",
    "I am sure that the shells are sea shore shells.\n",
    "\"\"\"\n",
    "Как и в примере №4, предварительно очистите текст от символов переноса строки и пробелов, приведите текст к нижнему регистру.\n",
    "\n",
    "В результате работы вашей программы у вас должен получиться словарь, ключами которого являются символы, а значениями — их частота (количество повторений в тексте)."
   ]
  },
  {
   "cell_type": "code",
   "execution_count": 18,
   "id": "e9bf6e53",
   "metadata": {},
   "outputs": [
    {
     "name": "stdout",
     "output_type": "stream",
     "text": [
      "{'s': 33, 'h': 18, 'e': 29, 'l': 18, 'a': 12, 'o': 6, 'n': 2, 't': 8, 'r': 7, ';': 1, 'i': 3, 'm': 2, 'u': 2, '.': 2, 'f': 1, ',': 1}\n"
     ]
    }
   ],
   "source": [
    "text = \"\"\"\n",
    "She sells sea shells on the sea shore;\n",
    "The shells that she sells are sea shells I am sure.\n",
    "So if she sells sea shells on the sea shore,\n",
    "I am sure that the shells are sea shore shells.\n",
    "\"\"\"\n",
    "text = text.lower() \n",
    "text = text.replace(\" \", \"\")\n",
    "text = text.replace(\"\\n\", \"\")\n",
    "count_dict = {}\n",
    "for symbol in text:\n",
    "    if symbol not in count_dict:\n",
    "        count_dict[symbol] = 1\n",
    "    else:\n",
    "        count_dict[symbol] += 1\n",
    "print(count_dict)"
   ]
  },
  {
   "cell_type": "markdown",
   "id": "d53d1c89",
   "metadata": {},
   "source": [
    "Условие задачи. Подсчитать количество вхождений каждого слова в заданном тексте. В результате работы программы должен быть сформирован словарь, ключи которого — слова текста, а значения — количество вхождений слов в тексте.\n",
    "\n",
    "text = \"\"\"\n",
    "She sells sea shells on the sea shore;\n",
    "The shells that she sells are sea shells I am sure.\n",
    "So if she sells sea shells on the sea shore,\n",
    "I am sure that the shells are sea shore shells.\n",
    "\"\"\""
   ]
  },
  {
   "cell_type": "code",
   "execution_count": 19,
   "id": "1725d39e",
   "metadata": {},
   "outputs": [
    {
     "name": "stdout",
     "output_type": "stream",
     "text": [
      "{'she': 3, 'sells': 3, 'sea': 6, 'shells': 6, 'on': 2, 'the': 4, 'shore': 3, 'that': 2, 'are': 2, 'i': 2, 'am': 2, 'sure': 2, 'so': 1, 'if': 1}\n"
     ]
    }
   ],
   "source": [
    "text = \"\"\"\n",
    "She sells sea shells on the sea shore;\n",
    "The shells that she sells are sea shells I am sure.\n",
    "So if she sells sea shells on the sea shore,\n",
    "I am sure that the shells are sea shore shells.\n",
    "\"\"\"\n",
    "text = text.lower() #приводим текст к нижнему регистру\n",
    "text = text.replace(\"\\n\", \" \") #заменяем символы переноса строки на пробелы\n",
    "text = text.replace(\",\", \"\") #заменяем запятые на пустые строки\n",
    "text = text.replace(\".\", \"\") #заменяем точки на пустые строки\n",
    "text = text.replace(\";\", \"\") #заменяем точки с запятыми на пустые строки\n",
    "word_list = text.split()\n",
    "count_dict = {} #создаём пустой словарь для подсчёта количества слов\n",
    "#создаём цикл по словам в списке word_list\n",
    "for word in word_list: #word — текущее слово из списка word_list\n",
    "    #проверяем условие, что слова ещё нет среди ключей словаря\n",
    "    if word not in count_dict: #если условие выполняется,\n",
    "        count_dict[word] = 1 #заносим слово в словарь со значением 1\n",
    "    else: #в противном случае\n",
    "        count_dict[word] += 1 #увеличиваем частоту слова\n",
    "print(count_dict) #выводим результирующий словарь\n"
   ]
  },
  {
   "cell_type": "code",
   "execution_count": 21,
   "id": "d0613f08",
   "metadata": {},
   "outputs": [
    {
     "name": "stdout",
     "output_type": "stream",
     "text": [
      "[9, 6, 9, 7, 5, 0, 3, 2, 0, 10]\n"
     ]
    }
   ],
   "source": [
    "import random\n",
    "my_list = []\n",
    "for i in range(0, 10):\n",
    "    my_list.append(random.randint(0, 10))\n",
    "print(my_list)"
   ]
  },
  {
   "cell_type": "code",
   "execution_count": 23,
   "id": "6058b30d",
   "metadata": {},
   "outputs": [
    {
     "name": "stdout",
     "output_type": "stream",
     "text": [
      "yes\n"
     ]
    }
   ],
   "source": [
    "my_list=[9, 6, 9, 7, 5, 0, 3, 2, 0, 10]\n",
    "for elem in my_list:\n",
    "    if my_list.count(elem) > 1:\n",
    "        print ('yes')\n",
    "        break\n",
    "    else:\n",
    "        print('no')"
   ]
  },
  {
   "cell_type": "markdown",
   "id": "fdd427f7",
   "metadata": {},
   "source": [
    "Вы играете в компьютерную игру, дошли до схватки с финальным боссом, но вот незадача: ваш компьютер «заглючил», и вы не можете управлять вашим персонажем. Босс атакует и каждую секунду наносит один удар, который отнимает у персонажа 80 единиц здоровья. На схватку с боссом ваш персонаж вышел с 500 единицами здоровья.\n",
    "\n",
    "Создайте цикл, позволяющий понять, через сколько секунд босс убьёт вашего персонажа.\n",
    "\n",
    "Для решения задачи задайте переменную current_health для сохранения текущего уровня здоровья и изменяйте её по ходу цикла, переменную attack = 80 для хранения значения атаки Босса, а также переменную seconds_num для хранения времени схватки (в секундах).\n",
    "\n",
    "В результате работы вашей программы в переменной seconds_num должно быть сохранено количество секунд, в течение которых будет длиться схватка."
   ]
  },
  {
   "cell_type": "code",
   "execution_count": 24,
   "id": "5f023cd1",
   "metadata": {},
   "outputs": [
    {
     "name": "stdout",
     "output_type": "stream",
     "text": [
      "420\n",
      "1\n",
      "340\n",
      "2\n",
      "260\n",
      "3\n",
      "180\n",
      "4\n",
      "100\n",
      "5\n",
      "20\n",
      "6\n",
      "-60\n",
      "7\n"
     ]
    }
   ],
   "source": [
    "current_health = 500 #заданный показатель здоровья\n",
    "attack = 80 #заданная атака босса\n",
    "seconds_num = 0 #задаем начальное время схватки\n",
    "while current_health >= 0:\n",
    "    current_health -= attack\n",
    "    seconds_num += 1\n",
    "    print(current_health)\n",
    "    print(seconds_num)"
   ]
  },
  {
   "cell_type": "code",
   "execution_count": 26,
   "id": "de89b106",
   "metadata": {},
   "outputs": [
    {
     "name": "stdout",
     "output_type": "stream",
     "text": [
      "[[0, 'Hel'], [1, 'my'], [2, 'nam'], [3, 'is'], [4, 'Eze'], [5, 'I'], [6, 'lik'], [7, 'kni']]\n"
     ]
    }
   ],
   "source": [
    "str_list = [\"Hello\", \"my\", \"name\", \"is\", \"Ezeikel\", \"I\", \"like\", \"knitting\"] \n",
    "cut_str_list = []\n",
    "for elem, i in enumerate(str_list):\n",
    "    cut_str_list.append([elem, i[:3]])\n",
    "print(cut_str_list)"
   ]
  },
  {
   "cell_type": "code",
   "execution_count": null,
   "id": "03ecc50d",
   "metadata": {},
   "outputs": [],
   "source": []
  }
 ],
 "metadata": {
  "kernelspec": {
   "display_name": "Python 3 (ipykernel)",
   "language": "python",
   "name": "python3"
  },
  "language_info": {
   "codemirror_mode": {
    "name": "ipython",
    "version": 3
   },
   "file_extension": ".py",
   "mimetype": "text/x-python",
   "name": "python",
   "nbconvert_exporter": "python",
   "pygments_lexer": "ipython3",
   "version": "3.9.12"
  }
 },
 "nbformat": 4,
 "nbformat_minor": 5
}
